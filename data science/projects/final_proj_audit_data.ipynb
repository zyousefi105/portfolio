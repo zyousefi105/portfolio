{
 "cells": [
  {
   "cell_type": "code",
   "execution_count": 159,
   "metadata": {
    "collapsed": true,
    "deletable": true,
    "editable": true
   },
   "outputs": [],
   "source": [
    "import pandas as pd\n",
    "import numpy as np\n",
    "import matplotlib.pyplot as plt\n",
    "import seaborn as sns\n",
    "%matplotlib inline"
   ]
  },
  {
   "cell_type": "code",
   "execution_count": 160,
   "metadata": {
    "collapsed": true,
    "deletable": true,
    "editable": true
   },
   "outputs": [],
   "source": [
    "ds = pd.read_csv('audit_data.csv')"
   ]
  },
  {
   "cell_type": "code",
   "execution_count": 161,
   "metadata": {
    "collapsed": false,
    "deletable": true,
    "editable": true
   },
   "outputs": [
    {
     "data": {
      "text/html": [
       "<div>\n",
       "<table border=\"1\" class=\"dataframe\">\n",
       "  <thead>\n",
       "    <tr style=\"text-align: right;\">\n",
       "      <th></th>\n",
       "      <th>RECORD_ID</th>\n",
       "      <th>USER_NAME</th>\n",
       "      <th>SECURED_TARGET_ID</th>\n",
       "      <th>SECURED_TARGET_NAME</th>\n",
       "      <th>EVENT_TIME</th>\n",
       "      <th>SECURED_TARGET_TYPE</th>\n",
       "      <th>OSUSER_NAME</th>\n",
       "      <th>COMMAND_CLASS</th>\n",
       "      <th>EVENT_STATUS</th>\n",
       "      <th>EVENT_NAME</th>\n",
       "      <th>...</th>\n",
       "      <th>GRAMMAR_VERSION</th>\n",
       "      <th>CLIENT_PROGRAM</th>\n",
       "      <th>COMMAND_TEXT</th>\n",
       "      <th>COMMAND_PARAM</th>\n",
       "      <th>EXTENSION</th>\n",
       "      <th>ORIGINAL_CONTENT</th>\n",
       "      <th>SECURED_TARGET_CLASS</th>\n",
       "      <th>LOCATION</th>\n",
       "      <th>TERMINAL</th>\n",
       "      <th>CLIENT_ID</th>\n",
       "    </tr>\n",
       "  </thead>\n",
       "  <tbody>\n",
       "    <tr>\n",
       "      <th>0</th>\n",
       "      <td>1</td>\n",
       "      <td>AUDITCOLLECTION_UT</td>\n",
       "      <td>26</td>\n",
       "      <td>targetAgentTargetCol9977</td>\n",
       "      <td>24-FEB-17 09.57.53.000000000 AM</td>\n",
       "      <td>Oracle Database</td>\n",
       "      <td>chliang</td>\n",
       "      <td>SELECT</td>\n",
       "      <td>SUCCESS</td>\n",
       "      <td>SELECT</td>\n",
       "      <td>...</td>\n",
       "      <td>0</td>\n",
       "      <td>sqlplus@adc00qwr (TNS V1-V3)</td>\n",
       "      <td>SELECT ID FROM SYS.AUDIT_UT_TEST WHERE ROWNUM = 1</td>\n",
       "      <td>NaN</td>\n",
       "      <td>AUDIT_TYPE=Standard::PROXY_SESSIONID=0::INSTAN...</td>\n",
       "      <td>NaN</td>\n",
       "      <td>Database</td>\n",
       "      <td>Audit Table</td>\n",
       "      <td>NaN</td>\n",
       "      <td>NaN</td>\n",
       "    </tr>\n",
       "    <tr>\n",
       "      <th>1</th>\n",
       "      <td>2</td>\n",
       "      <td>AUDITCOLLECTION_UT</td>\n",
       "      <td>26</td>\n",
       "      <td>targetAgentTargetCol9977</td>\n",
       "      <td>24-FEB-17 09.57.53.000000000 AM</td>\n",
       "      <td>Oracle Database</td>\n",
       "      <td>chliang</td>\n",
       "      <td>SELECT</td>\n",
       "      <td>SUCCESS</td>\n",
       "      <td>SELECT</td>\n",
       "      <td>...</td>\n",
       "      <td>0</td>\n",
       "      <td>sqlplus@adc00qwr (TNS V1-V3)</td>\n",
       "      <td>SELECT ID FROM SYS.AUDIT_UT_TEST WHERE ROWNUM = 1</td>\n",
       "      <td>NaN</td>\n",
       "      <td>AUDIT_TYPE=Standard::PROXY_SESSIONID=0::INSTAN...</td>\n",
       "      <td>NaN</td>\n",
       "      <td>Database</td>\n",
       "      <td>Audit Table</td>\n",
       "      <td>NaN</td>\n",
       "      <td>NaN</td>\n",
       "    </tr>\n",
       "    <tr>\n",
       "      <th>2</th>\n",
       "      <td>3</td>\n",
       "      <td>AUDITCOLLECTION_UT</td>\n",
       "      <td>26</td>\n",
       "      <td>targetAgentTargetCol9977</td>\n",
       "      <td>24-FEB-17 09.57.53.000000000 AM</td>\n",
       "      <td>Oracle Database</td>\n",
       "      <td>chliang</td>\n",
       "      <td>SELECT</td>\n",
       "      <td>SUCCESS</td>\n",
       "      <td>SELECT</td>\n",
       "      <td>...</td>\n",
       "      <td>0</td>\n",
       "      <td>sqlplus@adc00qwr (TNS V1-V3)</td>\n",
       "      <td>SELECT ID FROM SYS.AUDIT_UT_TEST WHERE ROWNUM = 1</td>\n",
       "      <td>NaN</td>\n",
       "      <td>AUDIT_TYPE=Standard::PROXY_SESSIONID=0::INSTAN...</td>\n",
       "      <td>NaN</td>\n",
       "      <td>Database</td>\n",
       "      <td>Audit Table</td>\n",
       "      <td>NaN</td>\n",
       "      <td>NaN</td>\n",
       "    </tr>\n",
       "    <tr>\n",
       "      <th>3</th>\n",
       "      <td>4</td>\n",
       "      <td>AUDITCOLLECTION_UT</td>\n",
       "      <td>26</td>\n",
       "      <td>targetAgentTargetCol9977</td>\n",
       "      <td>24-FEB-17 09.57.53.000000000 AM</td>\n",
       "      <td>Oracle Database</td>\n",
       "      <td>chliang</td>\n",
       "      <td>SELECT</td>\n",
       "      <td>SUCCESS</td>\n",
       "      <td>SELECT</td>\n",
       "      <td>...</td>\n",
       "      <td>0</td>\n",
       "      <td>sqlplus@adc00qwr (TNS V1-V3)</td>\n",
       "      <td>SELECT ID FROM SYS.AUDIT_UT_TEST WHERE ROWNUM = 1</td>\n",
       "      <td>NaN</td>\n",
       "      <td>AUDIT_TYPE=Standard::PROXY_SESSIONID=0::INSTAN...</td>\n",
       "      <td>NaN</td>\n",
       "      <td>Database</td>\n",
       "      <td>Audit Table</td>\n",
       "      <td>NaN</td>\n",
       "      <td>NaN</td>\n",
       "    </tr>\n",
       "    <tr>\n",
       "      <th>4</th>\n",
       "      <td>5</td>\n",
       "      <td>AUDITCOLLECTION_UT</td>\n",
       "      <td>26</td>\n",
       "      <td>targetAgentTargetCol9977</td>\n",
       "      <td>24-FEB-17 09.57.53.000000000 AM</td>\n",
       "      <td>Oracle Database</td>\n",
       "      <td>chliang</td>\n",
       "      <td>SELECT</td>\n",
       "      <td>SUCCESS</td>\n",
       "      <td>SELECT</td>\n",
       "      <td>...</td>\n",
       "      <td>0</td>\n",
       "      <td>sqlplus@adc00qwr (TNS V1-V3)</td>\n",
       "      <td>SELECT ID FROM SYS.AUDIT_UT_TEST WHERE ROWNUM = 1</td>\n",
       "      <td>NaN</td>\n",
       "      <td>AUDIT_TYPE=Standard::PROXY_SESSIONID=0::INSTAN...</td>\n",
       "      <td>NaN</td>\n",
       "      <td>Database</td>\n",
       "      <td>Audit Table</td>\n",
       "      <td>NaN</td>\n",
       "      <td>NaN</td>\n",
       "    </tr>\n",
       "  </tbody>\n",
       "</table>\n",
       "<p>5 rows × 41 columns</p>\n",
       "</div>"
      ],
      "text/plain": [
       "   RECORD_ID           USER_NAME  SECURED_TARGET_ID       SECURED_TARGET_NAME  \\\n",
       "0          1  AUDITCOLLECTION_UT                 26  targetAgentTargetCol9977   \n",
       "1          2  AUDITCOLLECTION_UT                 26  targetAgentTargetCol9977   \n",
       "2          3  AUDITCOLLECTION_UT                 26  targetAgentTargetCol9977   \n",
       "3          4  AUDITCOLLECTION_UT                 26  targetAgentTargetCol9977   \n",
       "4          5  AUDITCOLLECTION_UT                 26  targetAgentTargetCol9977   \n",
       "\n",
       "                        EVENT_TIME SECURED_TARGET_TYPE OSUSER_NAME  \\\n",
       "0  24-FEB-17 09.57.53.000000000 AM     Oracle Database     chliang   \n",
       "1  24-FEB-17 09.57.53.000000000 AM     Oracle Database     chliang   \n",
       "2  24-FEB-17 09.57.53.000000000 AM     Oracle Database     chliang   \n",
       "3  24-FEB-17 09.57.53.000000000 AM     Oracle Database     chliang   \n",
       "4  24-FEB-17 09.57.53.000000000 AM     Oracle Database     chliang   \n",
       "\n",
       "  COMMAND_CLASS EVENT_STATUS EVENT_NAME    ...      GRAMMAR_VERSION  \\\n",
       "0        SELECT      SUCCESS     SELECT    ...                    0   \n",
       "1        SELECT      SUCCESS     SELECT    ...                    0   \n",
       "2        SELECT      SUCCESS     SELECT    ...                    0   \n",
       "3        SELECT      SUCCESS     SELECT    ...                    0   \n",
       "4        SELECT      SUCCESS     SELECT    ...                    0   \n",
       "\n",
       "                 CLIENT_PROGRAM  \\\n",
       "0  sqlplus@adc00qwr (TNS V1-V3)   \n",
       "1  sqlplus@adc00qwr (TNS V1-V3)   \n",
       "2  sqlplus@adc00qwr (TNS V1-V3)   \n",
       "3  sqlplus@adc00qwr (TNS V1-V3)   \n",
       "4  sqlplus@adc00qwr (TNS V1-V3)   \n",
       "\n",
       "                                        COMMAND_TEXT COMMAND_PARAM  \\\n",
       "0  SELECT ID FROM SYS.AUDIT_UT_TEST WHERE ROWNUM = 1           NaN   \n",
       "1  SELECT ID FROM SYS.AUDIT_UT_TEST WHERE ROWNUM = 1           NaN   \n",
       "2  SELECT ID FROM SYS.AUDIT_UT_TEST WHERE ROWNUM = 1           NaN   \n",
       "3  SELECT ID FROM SYS.AUDIT_UT_TEST WHERE ROWNUM = 1           NaN   \n",
       "4  SELECT ID FROM SYS.AUDIT_UT_TEST WHERE ROWNUM = 1           NaN   \n",
       "\n",
       "                                           EXTENSION ORIGINAL_CONTENT  \\\n",
       "0  AUDIT_TYPE=Standard::PROXY_SESSIONID=0::INSTAN...              NaN   \n",
       "1  AUDIT_TYPE=Standard::PROXY_SESSIONID=0::INSTAN...              NaN   \n",
       "2  AUDIT_TYPE=Standard::PROXY_SESSIONID=0::INSTAN...              NaN   \n",
       "3  AUDIT_TYPE=Standard::PROXY_SESSIONID=0::INSTAN...              NaN   \n",
       "4  AUDIT_TYPE=Standard::PROXY_SESSIONID=0::INSTAN...              NaN   \n",
       "\n",
       "  SECURED_TARGET_CLASS     LOCATION  TERMINAL  CLIENT_ID  \n",
       "0             Database  Audit Table       NaN        NaN  \n",
       "1             Database  Audit Table       NaN        NaN  \n",
       "2             Database  Audit Table       NaN        NaN  \n",
       "3             Database  Audit Table       NaN        NaN  \n",
       "4             Database  Audit Table       NaN        NaN  \n",
       "\n",
       "[5 rows x 41 columns]"
      ]
     },
     "execution_count": 161,
     "metadata": {},
     "output_type": "execute_result"
    }
   ],
   "source": [
    "ds.head()"
   ]
  },
  {
   "cell_type": "code",
   "execution_count": 162,
   "metadata": {
    "collapsed": false,
    "deletable": true,
    "editable": true
   },
   "outputs": [
    {
     "name": "stdout",
     "output_type": "stream",
     "text": [
      "<class 'pandas.core.frame.DataFrame'>\n",
      "RangeIndex: 606 entries, 0 to 605\n",
      "Data columns (total 41 columns):\n",
      "RECORD_ID               606 non-null int64\n",
      "USER_NAME               606 non-null object\n",
      "SECURED_TARGET_ID       606 non-null int64\n",
      "SECURED_TARGET_NAME     606 non-null object\n",
      "EVENT_TIME              606 non-null object\n",
      "SECURED_TARGET_TYPE     606 non-null object\n",
      "OSUSER_NAME             606 non-null object\n",
      "COMMAND_CLASS           606 non-null object\n",
      "EVENT_STATUS            606 non-null object\n",
      "EVENT_NAME              606 non-null object\n",
      "ERROR_CODE              13 non-null float64\n",
      "ERROR_MESSAGE           0 non-null float64\n",
      "AV_TIME                 606 non-null object\n",
      "TARGET_TYPE             206 non-null object\n",
      "TARGET_OBJECT           406 non-null object\n",
      "TARGET_OWNER            375 non-null object\n",
      "CLIENT_HOST_NAME        606 non-null object\n",
      "CLIENT_IP               334 non-null object\n",
      "AUDIT_TRAIL_ID          606 non-null int64\n",
      "MONITORING_POINT_ID     0 non-null float64\n",
      "MARKER                  606 non-null object\n",
      "ALERT_RAISED            606 non-null int64\n",
      "ACTION_TAKEN            0 non-null float64\n",
      "NETWORK_CONNECTION      0 non-null float64\n",
      "LOGFILE_ID              606 non-null int64\n",
      "SERVICE_NAME            0 non-null float64\n",
      "POLICY_NAME             0 non-null float64\n",
      "THREAT_SEVERITY         0 non-null float64\n",
      "LOG_CAUSE               0 non-null float64\n",
      "CLUSTER_ID              606 non-null int64\n",
      "CLUSTER_TYPE            606 non-null int64\n",
      "GRAMMAR_VERSION         606 non-null int64\n",
      "CLIENT_PROGRAM          330 non-null object\n",
      "COMMAND_TEXT            321 non-null object\n",
      "COMMAND_PARAM           21 non-null object\n",
      "EXTENSION               606 non-null object\n",
      "ORIGINAL_CONTENT        0 non-null float64\n",
      "SECURED_TARGET_CLASS    606 non-null object\n",
      "LOCATION                606 non-null object\n",
      "TERMINAL                34 non-null object\n",
      "CLIENT_ID               0 non-null float64\n",
      "dtypes: float64(11), int64(8), object(22)\n",
      "memory usage: 194.2+ KB\n"
     ]
    }
   ],
   "source": [
    "ds.info()"
   ]
  },
  {
   "cell_type": "code",
   "execution_count": 163,
   "metadata": {
    "collapsed": false,
    "deletable": true,
    "editable": true
   },
   "outputs": [
    {
     "data": {
      "text/plain": [
       "<matplotlib.axes._subplots.AxesSubplot at 0x126a4f60>"
      ]
     },
     "execution_count": 163,
     "metadata": {},
     "output_type": "execute_result"
    },
    {
     "data": {
      "image/png": "[encoded data removed]",
      "text/plain": [
       "<matplotlib.figure.Figure at 0x124475c0>"
      ]
     },
     "metadata": {},
     "output_type": "display_data"
    }
   ],
   "source": [
    "sns.heatmap(ds.isnull(),yticklabels=False,cbar=False,cmap='viridis')"
   ]
  },
  {
   "cell_type": "code",
   "execution_count": 164,
   "metadata": {
    "collapsed": false,
    "deletable": true,
    "editable": true
   },
   "outputs": [],
   "source": [
    "ds1 = ds[[\"SECURED_TARGET_ID\", \"SECURED_TARGET_TYPE\", \"OSUSER_NAME\", \"COMMAND_CLASS\", \"EVENT_STATUS\", \"EVENT_NAME\", \"TARGET_OBJECT\", \"TARGET_OWNER\", \"CLIENT_IP\", \"AUDIT_TRAIL_ID\", \"ALERT_RAISED\", \"LOGFILE_ID\", \"CLUSTER_ID\", \n",
    "          \"CLUSTER_TYPE\", \"SECURED_TARGET_CLASS\", \"GRAMMAR_VERSION\"]]"
   ]
  },
  {
   "cell_type": "code",
   "execution_count": 165,
   "metadata": {
    "collapsed": false,
    "deletable": true,
    "editable": true
   },
   "outputs": [
    {
     "data": {
      "text/html": [
       "<div>\n",
       "<table border=\"1\" class=\"dataframe\">\n",
       "  <thead>\n",
       "    <tr style=\"text-align: right;\">\n",
       "      <th></th>\n",
       "      <th>SECURED_TARGET_ID</th>\n",
       "      <th>SECURED_TARGET_TYPE</th>\n",
       "      <th>OSUSER_NAME</th>\n",
       "      <th>COMMAND_CLASS</th>\n",
       "      <th>EVENT_STATUS</th>\n",
       "      <th>EVENT_NAME</th>\n",
       "      <th>TARGET_OBJECT</th>\n",
       "      <th>TARGET_OWNER</th>\n",
       "      <th>CLIENT_IP</th>\n",
       "      <th>AUDIT_TRAIL_ID</th>\n",
       "      <th>ALERT_RAISED</th>\n",
       "      <th>LOGFILE_ID</th>\n",
       "      <th>CLUSTER_ID</th>\n",
       "      <th>CLUSTER_TYPE</th>\n",
       "      <th>SECURED_TARGET_CLASS</th>\n",
       "      <th>GRAMMAR_VERSION</th>\n",
       "    </tr>\n",
       "  </thead>\n",
       "  <tbody>\n",
       "    <tr>\n",
       "      <th>0</th>\n",
       "      <td>26</td>\n",
       "      <td>Oracle Database</td>\n",
       "      <td>chliang</td>\n",
       "      <td>SELECT</td>\n",
       "      <td>SUCCESS</td>\n",
       "      <td>SELECT</td>\n",
       "      <td>AUDIT_UT_TEST</td>\n",
       "      <td>SYS</td>\n",
       "      <td>10.232.128.158</td>\n",
       "      <td>23</td>\n",
       "      <td>0</td>\n",
       "      <td>0</td>\n",
       "      <td>0</td>\n",
       "      <td>0</td>\n",
       "      <td>Database</td>\n",
       "      <td>0</td>\n",
       "    </tr>\n",
       "    <tr>\n",
       "      <th>1</th>\n",
       "      <td>26</td>\n",
       "      <td>Oracle Database</td>\n",
       "      <td>chliang</td>\n",
       "      <td>SELECT</td>\n",
       "      <td>SUCCESS</td>\n",
       "      <td>SELECT</td>\n",
       "      <td>AUDIT_UT_TEST</td>\n",
       "      <td>SYS</td>\n",
       "      <td>10.232.128.158</td>\n",
       "      <td>23</td>\n",
       "      <td>0</td>\n",
       "      <td>0</td>\n",
       "      <td>0</td>\n",
       "      <td>0</td>\n",
       "      <td>Database</td>\n",
       "      <td>0</td>\n",
       "    </tr>\n",
       "    <tr>\n",
       "      <th>2</th>\n",
       "      <td>26</td>\n",
       "      <td>Oracle Database</td>\n",
       "      <td>chliang</td>\n",
       "      <td>SELECT</td>\n",
       "      <td>SUCCESS</td>\n",
       "      <td>SELECT</td>\n",
       "      <td>AUDIT_UT_TEST</td>\n",
       "      <td>SYS</td>\n",
       "      <td>10.232.128.158</td>\n",
       "      <td>23</td>\n",
       "      <td>0</td>\n",
       "      <td>0</td>\n",
       "      <td>0</td>\n",
       "      <td>0</td>\n",
       "      <td>Database</td>\n",
       "      <td>0</td>\n",
       "    </tr>\n",
       "    <tr>\n",
       "      <th>3</th>\n",
       "      <td>26</td>\n",
       "      <td>Oracle Database</td>\n",
       "      <td>chliang</td>\n",
       "      <td>SELECT</td>\n",
       "      <td>SUCCESS</td>\n",
       "      <td>SELECT</td>\n",
       "      <td>AUDIT_UT_TEST</td>\n",
       "      <td>SYS</td>\n",
       "      <td>10.232.128.158</td>\n",
       "      <td>23</td>\n",
       "      <td>0</td>\n",
       "      <td>0</td>\n",
       "      <td>0</td>\n",
       "      <td>0</td>\n",
       "      <td>Database</td>\n",
       "      <td>0</td>\n",
       "    </tr>\n",
       "    <tr>\n",
       "      <th>4</th>\n",
       "      <td>26</td>\n",
       "      <td>Oracle Database</td>\n",
       "      <td>chliang</td>\n",
       "      <td>SELECT</td>\n",
       "      <td>SUCCESS</td>\n",
       "      <td>SELECT</td>\n",
       "      <td>AUDIT_UT_TEST</td>\n",
       "      <td>SYS</td>\n",
       "      <td>10.232.128.158</td>\n",
       "      <td>23</td>\n",
       "      <td>0</td>\n",
       "      <td>0</td>\n",
       "      <td>0</td>\n",
       "      <td>0</td>\n",
       "      <td>Database</td>\n",
       "      <td>0</td>\n",
       "    </tr>\n",
       "  </tbody>\n",
       "</table>\n",
       "</div>"
      ],
      "text/plain": [
       "   SECURED_TARGET_ID SECURED_TARGET_TYPE OSUSER_NAME COMMAND_CLASS  \\\n",
       "0                 26     Oracle Database     chliang        SELECT   \n",
       "1                 26     Oracle Database     chliang        SELECT   \n",
       "2                 26     Oracle Database     chliang        SELECT   \n",
       "3                 26     Oracle Database     chliang        SELECT   \n",
       "4                 26     Oracle Database     chliang        SELECT   \n",
       "\n",
       "  EVENT_STATUS EVENT_NAME  TARGET_OBJECT TARGET_OWNER       CLIENT_IP  \\\n",
       "0      SUCCESS     SELECT  AUDIT_UT_TEST          SYS  10.232.128.158   \n",
       "1      SUCCESS     SELECT  AUDIT_UT_TEST          SYS  10.232.128.158   \n",
       "2      SUCCESS     SELECT  AUDIT_UT_TEST          SYS  10.232.128.158   \n",
       "3      SUCCESS     SELECT  AUDIT_UT_TEST          SYS  10.232.128.158   \n",
       "4      SUCCESS     SELECT  AUDIT_UT_TEST          SYS  10.232.128.158   \n",
       "\n",
       "   AUDIT_TRAIL_ID  ALERT_RAISED  LOGFILE_ID  CLUSTER_ID  CLUSTER_TYPE  \\\n",
       "0              23             0           0           0             0   \n",
       "1              23             0           0           0             0   \n",
       "2              23             0           0           0             0   \n",
       "3              23             0           0           0             0   \n",
       "4              23             0           0           0             0   \n",
       "\n",
       "  SECURED_TARGET_CLASS  GRAMMAR_VERSION  \n",
       "0             Database                0  \n",
       "1             Database                0  \n",
       "2             Database                0  \n",
       "3             Database                0  \n",
       "4             Database                0  "
      ]
     },
     "execution_count": 165,
     "metadata": {},
     "output_type": "execute_result"
    }
   ],
   "source": [
    "ds1.head()"
   ]
  },
  {
   "cell_type": "code",
   "execution_count": 166,
   "metadata": {
    "collapsed": true,
    "deletable": true,
    "editable": true
   },
   "outputs": [],
   "source": [
    "#ds.drop([\"RECORD_ID\", \"ERROR_CODE\", \"ERROR_MESSAGE\", \"CLIENT_IP\", \"MONITORING_POINT_ID\", \"ACTION_TAKEN\", \"NETWORK_CONNECTION\", \"SERVICE_NAME\", \"POLICY_NAME\", \"THREAT_SEVERITY\", \"LOG_CAUSE\", \"LOG_CAUSE\", \"COMMAND_PARAM\", \"ORIGINAL_CONTENT\", \"TERMINAL\", \"CLIENT_ID\"], axis=1, inplace=True)"
   ]
  },
  {
   "cell_type": "code",
   "execution_count": 167,
   "metadata": {
    "collapsed": false,
    "deletable": true,
    "editable": true
   },
   "outputs": [
    {
     "data": {
      "text/plain": [
       "<matplotlib.axes._subplots.AxesSubplot at 0x12bc1208>"
      ]
     },
     "execution_count": 167,
     "metadata": {},
     "output_type": "execute_result"
    },
    {
     "data": {
      "image/png": "[encoded data removed]",
      "text/plain": [
       "<matplotlib.figure.Figure at 0x110f3a20>"
      ]
     },
     "metadata": {},
     "output_type": "display_data"
    }
   ],
   "source": [
    "sns.heatmap(ds1.isnull(),yticklabels=False,cbar=False,cmap='viridis')"
   ]
  },
  {
   "cell_type": "code",
   "execution_count": 168,
   "metadata": {
    "collapsed": false,
    "deletable": true,
    "editable": true
   },
   "outputs": [
    {
     "name": "stdout",
     "output_type": "stream",
     "text": [
      "<class 'pandas.core.frame.DataFrame'>\n",
      "RangeIndex: 606 entries, 0 to 605\n",
      "Data columns (total 16 columns):\n",
      "SECURED_TARGET_ID       606 non-null int64\n",
      "SECURED_TARGET_TYPE     606 non-null object\n",
      "OSUSER_NAME             606 non-null object\n",
      "COMMAND_CLASS           606 non-null object\n",
      "EVENT_STATUS            606 non-null object\n",
      "EVENT_NAME              606 non-null object\n",
      "TARGET_OBJECT           406 non-null object\n",
      "TARGET_OWNER            375 non-null object\n",
      "CLIENT_IP               334 non-null object\n",
      "AUDIT_TRAIL_ID          606 non-null int64\n",
      "ALERT_RAISED            606 non-null int64\n",
      "LOGFILE_ID              606 non-null int64\n",
      "CLUSTER_ID              606 non-null int64\n",
      "CLUSTER_TYPE            606 non-null int64\n",
      "SECURED_TARGET_CLASS    606 non-null object\n",
      "GRAMMAR_VERSION         606 non-null int64\n",
      "dtypes: int64(7), object(9)\n",
      "memory usage: 75.8+ KB\n"
     ]
    }
   ],
   "source": [
    "ds1.info()"
   ]
  },
  {
   "cell_type": "code",
   "execution_count": 169,
   "metadata": {
    "collapsed": false,
    "deletable": true,
    "editable": true
   },
   "outputs": [
    {
     "name": "stderr",
     "output_type": "stream",
     "text": [
      "C:\\Users\\zyousefi.ORADEV\\AppData\\Local\\Enthought\\Canopy\\User\\lib\\site-packages\\ipykernel\\__main__.py:1: SettingWithCopyWarning: \n",
      "A value is trying to be set on a copy of a slice from a DataFrame\n",
      "\n",
      "See the caveats in the documentation: http://pandas.pydata.org/pandas-docs/stable/indexing.html#indexing-view-versus-copy\n",
      "  if __name__ == '__main__':\n"
     ]
    }
   ],
   "source": [
    "ds1.dropna(inplace=True)"
   ]
  },
  {
   "cell_type": "code",
   "execution_count": 170,
   "metadata": {
    "collapsed": false,
    "deletable": true,
    "editable": true
   },
   "outputs": [
    {
     "data": {
      "text/plain": [
       "<matplotlib.axes._subplots.AxesSubplot at 0x123ae1d0>"
      ]
     },
     "execution_count": 170,
     "metadata": {},
     "output_type": "execute_result"
    },
    {
     "data": {
      "image/png": "[encoded data removed]",
      "text/plain": [
       "<matplotlib.figure.Figure at 0x12382d68>"
      ]
     },
     "metadata": {},
     "output_type": "display_data"
    }
   ],
   "source": [
    "sns.heatmap(ds1.isnull(),yticklabels=False,cbar=False,cmap='viridis')"
   ]
  },
  {
   "cell_type": "code",
   "execution_count": 171,
   "metadata": {
    "collapsed": false
   },
   "outputs": [
    {
     "data": {
      "text/plain": [
       "<seaborn.axisgrid.FacetGrid at 0x1206a518>"
      ]
     },
     "execution_count": 171,
     "metadata": {},
     "output_type": "execute_result"
    },
    {
     "data": {
      "text/plain": [
       "<matplotlib.figure.Figure at 0x1206a6a0>"
      ]
     },
     "metadata": {},
     "output_type": "display_data"
    },
    {
     "data": {
      "image/png": "[encoded data removed]",
      "text/plain": [
       "<matplotlib.figure.Figure at 0x1235c3c8>"
      ]
     },
     "metadata": {},
     "output_type": "display_data"
    }
   ],
   "source": [
    "plt.figure(figsize=(11,7))\n",
    "sns.lmplot(y='CLUSTER_TYPE',x='AUDIT_TRAIL_ID',data=ds1, hue='EVENT_STATUS',\n",
    "           col='GRAMMAR_VERSION',palette='Set1')"
   ]
  },
  {
   "cell_type": "code",
   "execution_count": 172,
   "metadata": {
    "collapsed": false,
    "deletable": true,
    "editable": true
   },
   "outputs": [
    {
     "data": {
      "text/html": [
       "<div>\n",
       "<table border=\"1\" class=\"dataframe\">\n",
       "  <thead>\n",
       "    <tr style=\"text-align: right;\">\n",
       "      <th></th>\n",
       "      <th>SECURED_TARGET_ID</th>\n",
       "      <th>SECURED_TARGET_TYPE</th>\n",
       "      <th>OSUSER_NAME</th>\n",
       "      <th>COMMAND_CLASS</th>\n",
       "      <th>EVENT_STATUS</th>\n",
       "      <th>EVENT_NAME</th>\n",
       "      <th>TARGET_OBJECT</th>\n",
       "      <th>TARGET_OWNER</th>\n",
       "      <th>CLIENT_IP</th>\n",
       "      <th>AUDIT_TRAIL_ID</th>\n",
       "      <th>ALERT_RAISED</th>\n",
       "      <th>LOGFILE_ID</th>\n",
       "      <th>CLUSTER_ID</th>\n",
       "      <th>CLUSTER_TYPE</th>\n",
       "      <th>SECURED_TARGET_CLASS</th>\n",
       "      <th>GRAMMAR_VERSION</th>\n",
       "    </tr>\n",
       "  </thead>\n",
       "  <tbody>\n",
       "    <tr>\n",
       "      <th>0</th>\n",
       "      <td>26</td>\n",
       "      <td>Oracle Database</td>\n",
       "      <td>chliang</td>\n",
       "      <td>SELECT</td>\n",
       "      <td>SUCCESS</td>\n",
       "      <td>SELECT</td>\n",
       "      <td>AUDIT_UT_TEST</td>\n",
       "      <td>SYS</td>\n",
       "      <td>10.232.128.158</td>\n",
       "      <td>23</td>\n",
       "      <td>0</td>\n",
       "      <td>0</td>\n",
       "      <td>0</td>\n",
       "      <td>0</td>\n",
       "      <td>Database</td>\n",
       "      <td>0</td>\n",
       "    </tr>\n",
       "    <tr>\n",
       "      <th>1</th>\n",
       "      <td>26</td>\n",
       "      <td>Oracle Database</td>\n",
       "      <td>chliang</td>\n",
       "      <td>SELECT</td>\n",
       "      <td>SUCCESS</td>\n",
       "      <td>SELECT</td>\n",
       "      <td>AUDIT_UT_TEST</td>\n",
       "      <td>SYS</td>\n",
       "      <td>10.232.128.158</td>\n",
       "      <td>23</td>\n",
       "      <td>0</td>\n",
       "      <td>0</td>\n",
       "      <td>0</td>\n",
       "      <td>0</td>\n",
       "      <td>Database</td>\n",
       "      <td>0</td>\n",
       "    </tr>\n",
       "    <tr>\n",
       "      <th>2</th>\n",
       "      <td>26</td>\n",
       "      <td>Oracle Database</td>\n",
       "      <td>chliang</td>\n",
       "      <td>SELECT</td>\n",
       "      <td>SUCCESS</td>\n",
       "      <td>SELECT</td>\n",
       "      <td>AUDIT_UT_TEST</td>\n",
       "      <td>SYS</td>\n",
       "      <td>10.232.128.158</td>\n",
       "      <td>23</td>\n",
       "      <td>0</td>\n",
       "      <td>0</td>\n",
       "      <td>0</td>\n",
       "      <td>0</td>\n",
       "      <td>Database</td>\n",
       "      <td>0</td>\n",
       "    </tr>\n",
       "    <tr>\n",
       "      <th>3</th>\n",
       "      <td>26</td>\n",
       "      <td>Oracle Database</td>\n",
       "      <td>chliang</td>\n",
       "      <td>SELECT</td>\n",
       "      <td>SUCCESS</td>\n",
       "      <td>SELECT</td>\n",
       "      <td>AUDIT_UT_TEST</td>\n",
       "      <td>SYS</td>\n",
       "      <td>10.232.128.158</td>\n",
       "      <td>23</td>\n",
       "      <td>0</td>\n",
       "      <td>0</td>\n",
       "      <td>0</td>\n",
       "      <td>0</td>\n",
       "      <td>Database</td>\n",
       "      <td>0</td>\n",
       "    </tr>\n",
       "    <tr>\n",
       "      <th>4</th>\n",
       "      <td>26</td>\n",
       "      <td>Oracle Database</td>\n",
       "      <td>chliang</td>\n",
       "      <td>SELECT</td>\n",
       "      <td>SUCCESS</td>\n",
       "      <td>SELECT</td>\n",
       "      <td>AUDIT_UT_TEST</td>\n",
       "      <td>SYS</td>\n",
       "      <td>10.232.128.158</td>\n",
       "      <td>23</td>\n",
       "      <td>0</td>\n",
       "      <td>0</td>\n",
       "      <td>0</td>\n",
       "      <td>0</td>\n",
       "      <td>Database</td>\n",
       "      <td>0</td>\n",
       "    </tr>\n",
       "  </tbody>\n",
       "</table>\n",
       "</div>"
      ],
      "text/plain": [
       "   SECURED_TARGET_ID SECURED_TARGET_TYPE OSUSER_NAME COMMAND_CLASS  \\\n",
       "0                 26     Oracle Database     chliang        SELECT   \n",
       "1                 26     Oracle Database     chliang        SELECT   \n",
       "2                 26     Oracle Database     chliang        SELECT   \n",
       "3                 26     Oracle Database     chliang        SELECT   \n",
       "4                 26     Oracle Database     chliang        SELECT   \n",
       "\n",
       "  EVENT_STATUS EVENT_NAME  TARGET_OBJECT TARGET_OWNER       CLIENT_IP  \\\n",
       "0      SUCCESS     SELECT  AUDIT_UT_TEST          SYS  10.232.128.158   \n",
       "1      SUCCESS     SELECT  AUDIT_UT_TEST          SYS  10.232.128.158   \n",
       "2      SUCCESS     SELECT  AUDIT_UT_TEST          SYS  10.232.128.158   \n",
       "3      SUCCESS     SELECT  AUDIT_UT_TEST          SYS  10.232.128.158   \n",
       "4      SUCCESS     SELECT  AUDIT_UT_TEST          SYS  10.232.128.158   \n",
       "\n",
       "   AUDIT_TRAIL_ID  ALERT_RAISED  LOGFILE_ID  CLUSTER_ID  CLUSTER_TYPE  \\\n",
       "0              23             0           0           0             0   \n",
       "1              23             0           0           0             0   \n",
       "2              23             0           0           0             0   \n",
       "3              23             0           0           0             0   \n",
       "4              23             0           0           0             0   \n",
       "\n",
       "  SECURED_TARGET_CLASS  GRAMMAR_VERSION  \n",
       "0             Database                0  \n",
       "1             Database                0  \n",
       "2             Database                0  \n",
       "3             Database                0  \n",
       "4             Database                0  "
      ]
     },
     "execution_count": 172,
     "metadata": {},
     "output_type": "execute_result"
    }
   ],
   "source": [
    "ds1.head()"
   ]
  },
  {
   "cell_type": "code",
   "execution_count": 173,
   "metadata": {
    "collapsed": false,
    "deletable": true,
    "editable": true
   },
   "outputs": [],
   "source": [
    "def preprocess_features(X):\n",
    "    ''' Preprocesses the student data and converts non-numeric binary variables into\n",
    "        binary (0/1) variables. Converts categorical variables into dummy variables. '''\n",
    "    \n",
    "    # Initialize new output DataFrame\n",
    "    output = pd.DataFrame(index = X.index)\n",
    "\n",
    "    # Investigate each feature column for the data\n",
    "    for col, col_data in X.iteritems():\n",
    "      \n",
    "        # If data type is categorical, convert to dummy variables\n",
    "        if col_data.dtype == object:\n",
    "            # Example: 'school' => 'school_GP' and 'school_MS'\n",
    "            col_data = pd.get_dummies(col_data, prefix = col)  \n",
    "        \n",
    "        # Collect the revised columns\n",
    "        output = output.join(col_data)\n",
    "    \n",
    "    return output\n",
    "\n",
    "ds1 = preprocess_features(ds1)\n",
    "#print \"Processed feature columns ({} total features):\\n{}\".format(len(ds1.columns), list(ds1.columns))"
   ]
  },
  {
   "cell_type": "code",
   "execution_count": 174,
   "metadata": {
    "collapsed": false,
    "deletable": true,
    "editable": true
   },
   "outputs": [
    {
     "data": {
      "text/html": [
       "<div>\n",
       "<table border=\"1\" class=\"dataframe\">\n",
       "  <thead>\n",
       "    <tr style=\"text-align: right;\">\n",
       "      <th></th>\n",
       "      <th>SECURED_TARGET_ID</th>\n",
       "      <th>SECURED_TARGET_TYPE_Oracle Database</th>\n",
       "      <th>OSUSER_NAME_aime</th>\n",
       "      <th>OSUSER_NAME_arcakuma</th>\n",
       "      <th>OSUSER_NAME_chliang</th>\n",
       "      <th>OSUSER_NAME_sanbhara</th>\n",
       "      <th>OSUSER_NAME_srseshad</th>\n",
       "      <th>OSUSER_NAME_zyousefi</th>\n",
       "      <th>COMMAND_CLASS_EXECUTE</th>\n",
       "      <th>COMMAND_CLASS_SELECT</th>\n",
       "      <th>...</th>\n",
       "      <th>CLIENT_IP_10.241.4.167</th>\n",
       "      <th>CLIENT_IP_10.245.78.17</th>\n",
       "      <th>CLIENT_IP_10.250.89.26</th>\n",
       "      <th>AUDIT_TRAIL_ID</th>\n",
       "      <th>ALERT_RAISED</th>\n",
       "      <th>LOGFILE_ID</th>\n",
       "      <th>CLUSTER_ID</th>\n",
       "      <th>CLUSTER_TYPE</th>\n",
       "      <th>SECURED_TARGET_CLASS_Database</th>\n",
       "      <th>GRAMMAR_VERSION</th>\n",
       "    </tr>\n",
       "  </thead>\n",
       "  <tbody>\n",
       "    <tr>\n",
       "      <th>0</th>\n",
       "      <td>26</td>\n",
       "      <td>1</td>\n",
       "      <td>0</td>\n",
       "      <td>0</td>\n",
       "      <td>1</td>\n",
       "      <td>0</td>\n",
       "      <td>0</td>\n",
       "      <td>0</td>\n",
       "      <td>0</td>\n",
       "      <td>1</td>\n",
       "      <td>...</td>\n",
       "      <td>0</td>\n",
       "      <td>0</td>\n",
       "      <td>0</td>\n",
       "      <td>23</td>\n",
       "      <td>0</td>\n",
       "      <td>0</td>\n",
       "      <td>0</td>\n",
       "      <td>0</td>\n",
       "      <td>1</td>\n",
       "      <td>0</td>\n",
       "    </tr>\n",
       "    <tr>\n",
       "      <th>1</th>\n",
       "      <td>26</td>\n",
       "      <td>1</td>\n",
       "      <td>0</td>\n",
       "      <td>0</td>\n",
       "      <td>1</td>\n",
       "      <td>0</td>\n",
       "      <td>0</td>\n",
       "      <td>0</td>\n",
       "      <td>0</td>\n",
       "      <td>1</td>\n",
       "      <td>...</td>\n",
       "      <td>0</td>\n",
       "      <td>0</td>\n",
       "      <td>0</td>\n",
       "      <td>23</td>\n",
       "      <td>0</td>\n",
       "      <td>0</td>\n",
       "      <td>0</td>\n",
       "      <td>0</td>\n",
       "      <td>1</td>\n",
       "      <td>0</td>\n",
       "    </tr>\n",
       "    <tr>\n",
       "      <th>2</th>\n",
       "      <td>26</td>\n",
       "      <td>1</td>\n",
       "      <td>0</td>\n",
       "      <td>0</td>\n",
       "      <td>1</td>\n",
       "      <td>0</td>\n",
       "      <td>0</td>\n",
       "      <td>0</td>\n",
       "      <td>0</td>\n",
       "      <td>1</td>\n",
       "      <td>...</td>\n",
       "      <td>0</td>\n",
       "      <td>0</td>\n",
       "      <td>0</td>\n",
       "      <td>23</td>\n",
       "      <td>0</td>\n",
       "      <td>0</td>\n",
       "      <td>0</td>\n",
       "      <td>0</td>\n",
       "      <td>1</td>\n",
       "      <td>0</td>\n",
       "    </tr>\n",
       "    <tr>\n",
       "      <th>3</th>\n",
       "      <td>26</td>\n",
       "      <td>1</td>\n",
       "      <td>0</td>\n",
       "      <td>0</td>\n",
       "      <td>1</td>\n",
       "      <td>0</td>\n",
       "      <td>0</td>\n",
       "      <td>0</td>\n",
       "      <td>0</td>\n",
       "      <td>1</td>\n",
       "      <td>...</td>\n",
       "      <td>0</td>\n",
       "      <td>0</td>\n",
       "      <td>0</td>\n",
       "      <td>23</td>\n",
       "      <td>0</td>\n",
       "      <td>0</td>\n",
       "      <td>0</td>\n",
       "      <td>0</td>\n",
       "      <td>1</td>\n",
       "      <td>0</td>\n",
       "    </tr>\n",
       "    <tr>\n",
       "      <th>4</th>\n",
       "      <td>26</td>\n",
       "      <td>1</td>\n",
       "      <td>0</td>\n",
       "      <td>0</td>\n",
       "      <td>1</td>\n",
       "      <td>0</td>\n",
       "      <td>0</td>\n",
       "      <td>0</td>\n",
       "      <td>0</td>\n",
       "      <td>1</td>\n",
       "      <td>...</td>\n",
       "      <td>0</td>\n",
       "      <td>0</td>\n",
       "      <td>0</td>\n",
       "      <td>23</td>\n",
       "      <td>0</td>\n",
       "      <td>0</td>\n",
       "      <td>0</td>\n",
       "      <td>0</td>\n",
       "      <td>1</td>\n",
       "      <td>0</td>\n",
       "    </tr>\n",
       "  </tbody>\n",
       "</table>\n",
       "<p>5 rows × 29 columns</p>\n",
       "</div>"
      ],
      "text/plain": [
       "   SECURED_TARGET_ID  SECURED_TARGET_TYPE_Oracle Database  OSUSER_NAME_aime  \\\n",
       "0                 26                                    1                 0   \n",
       "1                 26                                    1                 0   \n",
       "2                 26                                    1                 0   \n",
       "3                 26                                    1                 0   \n",
       "4                 26                                    1                 0   \n",
       "\n",
       "   OSUSER_NAME_arcakuma  OSUSER_NAME_chliang  OSUSER_NAME_sanbhara  \\\n",
       "0                     0                    1                     0   \n",
       "1                     0                    1                     0   \n",
       "2                     0                    1                     0   \n",
       "3                     0                    1                     0   \n",
       "4                     0                    1                     0   \n",
       "\n",
       "   OSUSER_NAME_srseshad  OSUSER_NAME_zyousefi  COMMAND_CLASS_EXECUTE  \\\n",
       "0                     0                     0                      0   \n",
       "1                     0                     0                      0   \n",
       "2                     0                     0                      0   \n",
       "3                     0                     0                      0   \n",
       "4                     0                     0                      0   \n",
       "\n",
       "   COMMAND_CLASS_SELECT       ...         CLIENT_IP_10.241.4.167  \\\n",
       "0                     1       ...                              0   \n",
       "1                     1       ...                              0   \n",
       "2                     1       ...                              0   \n",
       "3                     1       ...                              0   \n",
       "4                     1       ...                              0   \n",
       "\n",
       "   CLIENT_IP_10.245.78.17  CLIENT_IP_10.250.89.26  AUDIT_TRAIL_ID  \\\n",
       "0                       0                       0              23   \n",
       "1                       0                       0              23   \n",
       "2                       0                       0              23   \n",
       "3                       0                       0              23   \n",
       "4                       0                       0              23   \n",
       "\n",
       "   ALERT_RAISED  LOGFILE_ID  CLUSTER_ID  CLUSTER_TYPE  \\\n",
       "0             0           0           0             0   \n",
       "1             0           0           0             0   \n",
       "2             0           0           0             0   \n",
       "3             0           0           0             0   \n",
       "4             0           0           0             0   \n",
       "\n",
       "   SECURED_TARGET_CLASS_Database  GRAMMAR_VERSION  \n",
       "0                              1                0  \n",
       "1                              1                0  \n",
       "2                              1                0  \n",
       "3                              1                0  \n",
       "4                              1                0  \n",
       "\n",
       "[5 rows x 29 columns]"
      ]
     },
     "execution_count": 174,
     "metadata": {},
     "output_type": "execute_result"
    }
   ],
   "source": [
    "ds1.head()"
   ]
  },
  {
   "cell_type": "code",
   "execution_count": 175,
   "metadata": {
    "collapsed": false,
    "deletable": true,
    "editable": true
   },
   "outputs": [
    {
     "data": {
      "text/plain": [
       "KMeans(algorithm='auto', copy_x=True, init='k-means++', max_iter=300,\n",
       "    n_clusters=10, n_init=10, n_jobs=1, precompute_distances='auto',\n",
       "    random_state=1, tol=0.0001, verbose=0)"
      ]
     },
     "execution_count": 175,
     "metadata": {},
     "output_type": "execute_result"
    }
   ],
   "source": [
    "from sklearn.cluster import KMeans\n",
    "km = KMeans(n_clusters=10, random_state=1)\n",
    "km.fit(ds1)"
   ]
  },
  {
   "cell_type": "code",
   "execution_count": 176,
   "metadata": {
    "collapsed": false,
    "deletable": true,
    "editable": true
   },
   "outputs": [
    {
     "name": "stderr",
     "output_type": "stream",
     "text": [
      "C:\\Users\\zyousefi.ORADEV\\AppData\\Local\\Enthought\\Canopy\\User\\lib\\site-packages\\ipykernel\\__main__.py:2: FutureWarning: sort(columns=....) is deprecated, use sort_values(by=.....)\n",
      "  from ipykernel import kernelapp as app\n"
     ]
    },
    {
     "data": {
      "text/html": [
       "<div>\n",
       "<table border=\"1\" class=\"dataframe\">\n",
       "  <thead>\n",
       "    <tr style=\"text-align: right;\">\n",
       "      <th></th>\n",
       "      <th>SECURED_TARGET_ID</th>\n",
       "      <th>SECURED_TARGET_TYPE_Oracle Database</th>\n",
       "      <th>OSUSER_NAME_aime</th>\n",
       "      <th>OSUSER_NAME_arcakuma</th>\n",
       "      <th>OSUSER_NAME_chliang</th>\n",
       "      <th>OSUSER_NAME_sanbhara</th>\n",
       "      <th>OSUSER_NAME_srseshad</th>\n",
       "      <th>OSUSER_NAME_zyousefi</th>\n",
       "      <th>COMMAND_CLASS_EXECUTE</th>\n",
       "      <th>COMMAND_CLASS_SELECT</th>\n",
       "      <th>...</th>\n",
       "      <th>CLIENT_IP_10.245.78.17</th>\n",
       "      <th>CLIENT_IP_10.250.89.26</th>\n",
       "      <th>AUDIT_TRAIL_ID</th>\n",
       "      <th>ALERT_RAISED</th>\n",
       "      <th>LOGFILE_ID</th>\n",
       "      <th>CLUSTER_ID</th>\n",
       "      <th>CLUSTER_TYPE</th>\n",
       "      <th>SECURED_TARGET_CLASS_Database</th>\n",
       "      <th>GRAMMAR_VERSION</th>\n",
       "      <th>cluster</th>\n",
       "    </tr>\n",
       "  </thead>\n",
       "  <tbody>\n",
       "    <tr>\n",
       "      <th>276</th>\n",
       "      <td>43</td>\n",
       "      <td>1</td>\n",
       "      <td>0</td>\n",
       "      <td>0</td>\n",
       "      <td>1</td>\n",
       "      <td>0</td>\n",
       "      <td>0</td>\n",
       "      <td>0</td>\n",
       "      <td>0</td>\n",
       "      <td>1</td>\n",
       "      <td>...</td>\n",
       "      <td>0</td>\n",
       "      <td>0</td>\n",
       "      <td>31</td>\n",
       "      <td>0</td>\n",
       "      <td>0</td>\n",
       "      <td>0</td>\n",
       "      <td>0</td>\n",
       "      <td>1</td>\n",
       "      <td>0</td>\n",
       "      <td>0</td>\n",
       "    </tr>\n",
       "    <tr>\n",
       "      <th>296</th>\n",
       "      <td>43</td>\n",
       "      <td>1</td>\n",
       "      <td>0</td>\n",
       "      <td>0</td>\n",
       "      <td>1</td>\n",
       "      <td>0</td>\n",
       "      <td>0</td>\n",
       "      <td>0</td>\n",
       "      <td>0</td>\n",
       "      <td>1</td>\n",
       "      <td>...</td>\n",
       "      <td>0</td>\n",
       "      <td>0</td>\n",
       "      <td>31</td>\n",
       "      <td>0</td>\n",
       "      <td>0</td>\n",
       "      <td>0</td>\n",
       "      <td>0</td>\n",
       "      <td>1</td>\n",
       "      <td>0</td>\n",
       "      <td>0</td>\n",
       "    </tr>\n",
       "    <tr>\n",
       "      <th>295</th>\n",
       "      <td>43</td>\n",
       "      <td>1</td>\n",
       "      <td>0</td>\n",
       "      <td>0</td>\n",
       "      <td>1</td>\n",
       "      <td>0</td>\n",
       "      <td>0</td>\n",
       "      <td>0</td>\n",
       "      <td>0</td>\n",
       "      <td>1</td>\n",
       "      <td>...</td>\n",
       "      <td>0</td>\n",
       "      <td>0</td>\n",
       "      <td>31</td>\n",
       "      <td>0</td>\n",
       "      <td>0</td>\n",
       "      <td>0</td>\n",
       "      <td>0</td>\n",
       "      <td>1</td>\n",
       "      <td>0</td>\n",
       "      <td>0</td>\n",
       "    </tr>\n",
       "    <tr>\n",
       "      <th>294</th>\n",
       "      <td>43</td>\n",
       "      <td>1</td>\n",
       "      <td>0</td>\n",
       "      <td>0</td>\n",
       "      <td>1</td>\n",
       "      <td>0</td>\n",
       "      <td>0</td>\n",
       "      <td>0</td>\n",
       "      <td>0</td>\n",
       "      <td>1</td>\n",
       "      <td>...</td>\n",
       "      <td>0</td>\n",
       "      <td>0</td>\n",
       "      <td>31</td>\n",
       "      <td>0</td>\n",
       "      <td>0</td>\n",
       "      <td>0</td>\n",
       "      <td>0</td>\n",
       "      <td>1</td>\n",
       "      <td>0</td>\n",
       "      <td>0</td>\n",
       "    </tr>\n",
       "    <tr>\n",
       "      <th>293</th>\n",
       "      <td>43</td>\n",
       "      <td>1</td>\n",
       "      <td>0</td>\n",
       "      <td>0</td>\n",
       "      <td>1</td>\n",
       "      <td>0</td>\n",
       "      <td>0</td>\n",
       "      <td>0</td>\n",
       "      <td>0</td>\n",
       "      <td>1</td>\n",
       "      <td>...</td>\n",
       "      <td>0</td>\n",
       "      <td>0</td>\n",
       "      <td>31</td>\n",
       "      <td>0</td>\n",
       "      <td>0</td>\n",
       "      <td>0</td>\n",
       "      <td>0</td>\n",
       "      <td>1</td>\n",
       "      <td>0</td>\n",
       "      <td>0</td>\n",
       "    </tr>\n",
       "  </tbody>\n",
       "</table>\n",
       "<p>5 rows × 30 columns</p>\n",
       "</div>"
      ],
      "text/plain": [
       "     SECURED_TARGET_ID  SECURED_TARGET_TYPE_Oracle Database  OSUSER_NAME_aime  \\\n",
       "276                 43                                    1                 0   \n",
       "296                 43                                    1                 0   \n",
       "295                 43                                    1                 0   \n",
       "294                 43                                    1                 0   \n",
       "293                 43                                    1                 0   \n",
       "\n",
       "     OSUSER_NAME_arcakuma  OSUSER_NAME_chliang  OSUSER_NAME_sanbhara  \\\n",
       "276                     0                    1                     0   \n",
       "296                     0                    1                     0   \n",
       "295                     0                    1                     0   \n",
       "294                     0                    1                     0   \n",
       "293                     0                    1                     0   \n",
       "\n",
       "     OSUSER_NAME_srseshad  OSUSER_NAME_zyousefi  COMMAND_CLASS_EXECUTE  \\\n",
       "276                     0                     0                      0   \n",
       "296                     0                     0                      0   \n",
       "295                     0                     0                      0   \n",
       "294                     0                     0                      0   \n",
       "293                     0                     0                      0   \n",
       "\n",
       "     COMMAND_CLASS_SELECT   ...     CLIENT_IP_10.245.78.17  \\\n",
       "276                     1   ...                          0   \n",
       "296                     1   ...                          0   \n",
       "295                     1   ...                          0   \n",
       "294                     1   ...                          0   \n",
       "293                     1   ...                          0   \n",
       "\n",
       "     CLIENT_IP_10.250.89.26  AUDIT_TRAIL_ID  ALERT_RAISED  LOGFILE_ID  \\\n",
       "276                       0              31             0           0   \n",
       "296                       0              31             0           0   \n",
       "295                       0              31             0           0   \n",
       "294                       0              31             0           0   \n",
       "293                       0              31             0           0   \n",
       "\n",
       "     CLUSTER_ID  CLUSTER_TYPE  SECURED_TARGET_CLASS_Database  GRAMMAR_VERSION  \\\n",
       "276           0             0                              1                0   \n",
       "296           0             0                              1                0   \n",
       "295           0             0                              1                0   \n",
       "294           0             0                              1                0   \n",
       "293           0             0                              1                0   \n",
       "\n",
       "     cluster  \n",
       "276        0  \n",
       "296        0  \n",
       "295        0  \n",
       "294        0  \n",
       "293        0  \n",
       "\n",
       "[5 rows x 30 columns]"
      ]
     },
     "execution_count": 176,
     "metadata": {},
     "output_type": "execute_result"
    }
   ],
   "source": [
    "ds1['cluster'] = km.labels_\n",
    "ds1.sort('cluster').head()"
   ]
  },
  {
   "cell_type": "code",
   "execution_count": 177,
   "metadata": {
    "collapsed": false,
    "deletable": true,
    "editable": true
   },
   "outputs": [
    {
     "data": {
      "text/plain": [
       "array([[  4.30000000e+01,   1.00000000e+00,   0.00000000e+00,\n",
       "          0.00000000e+00,   1.00000000e+00,   0.00000000e+00,\n",
       "          6.59194921e-17,   0.00000000e+00,  -8.32667268e-17,\n",
       "          1.00000000e+00,   1.00000000e+00,  -8.32667268e-17,\n",
       "          1.00000000e+00,   1.00000000e+00,  -8.32667268e-17,\n",
       "          1.00000000e+00,   0.00000000e+00,   0.00000000e+00,\n",
       "          1.00000000e+00,   0.00000000e+00,   6.59194921e-17,\n",
       "          0.00000000e+00,   3.10000000e+01,   0.00000000e+00,\n",
       "          0.00000000e+00,   0.00000000e+00,   0.00000000e+00,\n",
       "          1.00000000e+00,   0.00000000e+00],\n",
       "       [  2.60000000e+01,   1.00000000e+00,   0.00000000e+00,\n",
       "          0.00000000e+00,   1.00000000e+00,   0.00000000e+00,\n",
       "          6.59194921e-17,   0.00000000e+00,  -8.32667268e-17,\n",
       "          1.00000000e+00,   1.00000000e+00,  -8.32667268e-17,\n",
       "          1.00000000e+00,   1.00000000e+00,  -8.32667268e-17,\n",
       "          1.00000000e+00,   0.00000000e+00,   0.00000000e+00,\n",
       "          1.00000000e+00,   0.00000000e+00,   6.59194921e-17,\n",
       "          0.00000000e+00,   2.30000000e+01,   0.00000000e+00,\n",
       "          0.00000000e+00,   0.00000000e+00,   0.00000000e+00,\n",
       "          1.00000000e+00,   0.00000000e+00],\n",
       "       [  3.70000000e+01,   1.00000000e+00,   0.00000000e+00,\n",
       "          0.00000000e+00,   1.00000000e+00,   0.00000000e+00,\n",
       "          6.59194921e-17,   0.00000000e+00,  -8.32667268e-17,\n",
       "          1.00000000e+00,   1.00000000e+00,  -8.32667268e-17,\n",
       "          1.00000000e+00,   1.00000000e+00,  -8.32667268e-17,\n",
       "          1.00000000e+00,   0.00000000e+00,   0.00000000e+00,\n",
       "          1.00000000e+00,   0.00000000e+00,   6.59194921e-17,\n",
       "          0.00000000e+00,   2.80000000e+01,   0.00000000e+00,\n",
       "          0.00000000e+00,   0.00000000e+00,   0.00000000e+00,\n",
       "          1.00000000e+00,   0.00000000e+00],\n",
       "       [  2.60000000e+01,   1.00000000e+00,   0.00000000e+00,\n",
       "          0.00000000e+00,   1.11022302e-16,   1.25000000e-01,\n",
       "          8.75000000e-01,   0.00000000e+00,   1.00000000e+00,\n",
       "          1.11022302e-16,   1.00000000e+00,   1.00000000e+00,\n",
       "          1.11022302e-16,   1.11022302e-16,   1.00000000e+00,\n",
       "          1.00000000e+00,   0.00000000e+00,   1.25000000e-01,\n",
       "          1.11022302e-16,   0.00000000e+00,   8.75000000e-01,\n",
       "          0.00000000e+00,   2.30000000e+01,   0.00000000e+00,\n",
       "          0.00000000e+00,   0.00000000e+00,   0.00000000e+00,\n",
       "          1.00000000e+00,   0.00000000e+00],\n",
       "       [  2.60000000e+01,   1.00000000e+00,   1.00000000e+00,\n",
       "          0.00000000e+00,   0.00000000e+00,   0.00000000e+00,\n",
       "          3.46944695e-18,   0.00000000e+00,   1.00000000e+00,\n",
       "          0.00000000e+00,   1.00000000e+00,   1.00000000e+00,\n",
       "          0.00000000e+00,   0.00000000e+00,   1.00000000e+00,\n",
       "          1.00000000e+00,   0.00000000e+00,   0.00000000e+00,\n",
       "          0.00000000e+00,   1.00000000e+00,   3.46944695e-18,\n",
       "          0.00000000e+00,   2.30000000e+01,   0.00000000e+00,\n",
       "          0.00000000e+00,   0.00000000e+00,   0.00000000e+00,\n",
       "          1.00000000e+00,   0.00000000e+00],\n",
       "       [  4.30000000e+01,   1.00000000e+00,   5.00000000e-01,\n",
       "          0.00000000e+00,   0.00000000e+00,   0.00000000e+00,\n",
       "          5.00000000e-01,   0.00000000e+00,   1.00000000e+00,\n",
       "          0.00000000e+00,   1.00000000e+00,   1.00000000e+00,\n",
       "          0.00000000e+00,   0.00000000e+00,   1.00000000e+00,\n",
       "          1.00000000e+00,   0.00000000e+00,   0.00000000e+00,\n",
       "          0.00000000e+00,   5.00000000e-01,   5.00000000e-01,\n",
       "          0.00000000e+00,   3.10000000e+01,   0.00000000e+00,\n",
       "          0.00000000e+00,   0.00000000e+00,   0.00000000e+00,\n",
       "          1.00000000e+00,   0.00000000e+00],\n",
       "       [  3.70000000e+01,   1.00000000e+00,   0.00000000e+00,\n",
       "          0.00000000e+00,   0.00000000e+00,   0.00000000e+00,\n",
       "          5.00000000e-01,   5.00000000e-01,   1.00000000e+00,\n",
       "          0.00000000e+00,   1.00000000e+00,   1.00000000e+00,\n",
       "          0.00000000e+00,   0.00000000e+00,   1.00000000e+00,\n",
       "          1.00000000e+00,   0.00000000e+00,   0.00000000e+00,\n",
       "          0.00000000e+00,   0.00000000e+00,   5.00000000e-01,\n",
       "          5.00000000e-01,   2.80000000e+01,   0.00000000e+00,\n",
       "          0.00000000e+00,   0.00000000e+00,   0.00000000e+00,\n",
       "          1.00000000e+00,   0.00000000e+00],\n",
       "       [  4.30000000e+01,   1.00000000e+00,   0.00000000e+00,\n",
       "          0.00000000e+00,   0.00000000e+00,   0.00000000e+00,\n",
       "          0.00000000e+00,   1.00000000e+00,   1.00000000e+00,\n",
       "          0.00000000e+00,   1.00000000e+00,   1.00000000e+00,\n",
       "          0.00000000e+00,   0.00000000e+00,   1.00000000e+00,\n",
       "          1.00000000e+00,   0.00000000e+00,   0.00000000e+00,\n",
       "          0.00000000e+00,   0.00000000e+00,   0.00000000e+00,\n",
       "          1.00000000e+00,   3.10000000e+01,   0.00000000e+00,\n",
       "          0.00000000e+00,   0.00000000e+00,   0.00000000e+00,\n",
       "          1.00000000e+00,   0.00000000e+00],\n",
       "       [  2.60000000e+01,   1.00000000e+00,   0.00000000e+00,\n",
       "          0.00000000e+00,   0.00000000e+00,   0.00000000e+00,\n",
       "          0.00000000e+00,   1.00000000e+00,   1.00000000e+00,\n",
       "          0.00000000e+00,   1.00000000e+00,   1.00000000e+00,\n",
       "          0.00000000e+00,   0.00000000e+00,   1.00000000e+00,\n",
       "          1.00000000e+00,   0.00000000e+00,   0.00000000e+00,\n",
       "          0.00000000e+00,   0.00000000e+00,   0.00000000e+00,\n",
       "          1.00000000e+00,   2.30000000e+01,   0.00000000e+00,\n",
       "          0.00000000e+00,   0.00000000e+00,   0.00000000e+00,\n",
       "          1.00000000e+00,   0.00000000e+00],\n",
       "       [  2.60000000e+01,   1.00000000e+00,   0.00000000e+00,\n",
       "          1.00000000e+00,   0.00000000e+00,   0.00000000e+00,\n",
       "          0.00000000e+00,   0.00000000e+00,   1.00000000e+00,\n",
       "          0.00000000e+00,   1.00000000e+00,   1.00000000e+00,\n",
       "          0.00000000e+00,   0.00000000e+00,   1.00000000e+00,\n",
       "          1.00000000e+00,   1.00000000e+00,   0.00000000e+00,\n",
       "          0.00000000e+00,   0.00000000e+00,   0.00000000e+00,\n",
       "          0.00000000e+00,   2.30000000e+01,   0.00000000e+00,\n",
       "          0.00000000e+00,   0.00000000e+00,   0.00000000e+00,\n",
       "          1.00000000e+00,   0.00000000e+00]])"
      ]
     },
     "execution_count": 177,
     "metadata": {},
     "output_type": "execute_result"
    }
   ],
   "source": [
    "km.cluster_centers_"
   ]
  },
  {
   "cell_type": "code",
   "execution_count": 178,
   "metadata": {
    "collapsed": false,
    "deletable": true,
    "editable": true
   },
   "outputs": [
    {
     "data": {
      "text/plain": [
       "cluster\n",
       "0    100\n",
       "1    100\n",
       "2    100\n",
       "3      8\n",
       "4      5\n",
       "5      2\n",
       "6      2\n",
       "7      2\n",
       "8      1\n",
       "9      1\n",
       "Name: SECURED_TARGET_ID, dtype: int64"
      ]
     },
     "execution_count": 178,
     "metadata": {},
     "output_type": "execute_result"
    }
   ],
   "source": [
    "ds1.groupby('cluster')['SECURED_TARGET_ID'].count()"
   ]
  },
  {
   "cell_type": "code",
   "execution_count": 179,
   "metadata": {
    "collapsed": true,
    "deletable": true,
    "editable": true
   },
   "outputs": [],
   "source": [
    "centers = ds1.groupby('cluster').mean()"
   ]
  },
  {
   "cell_type": "code",
   "execution_count": 180,
   "metadata": {
    "collapsed": true,
    "deletable": true,
    "editable": true
   },
   "outputs": [],
   "source": [
    "%matplotlib inline\n",
    "import matplotlib.pyplot as plt\n",
    "plt.rcParams['font.size'] = 14"
   ]
  },
  {
   "cell_type": "code",
   "execution_count": 181,
   "metadata": {
    "collapsed": true,
    "deletable": true,
    "editable": true
   },
   "outputs": [],
   "source": [
    "import numpy as np\n",
    "colors = np.array(['red', 'green', 'blue', 'yellow', 'pink', 'black', 'white', 'purple', 'orange','grey'])"
   ]
  },
  {
   "cell_type": "code",
   "execution_count": 182,
   "metadata": {
    "collapsed": false,
    "deletable": true,
    "editable": true
   },
   "outputs": [
    {
     "data": {
      "text/plain": [
       "<matplotlib.text.Text at 0x10d04d30>"
      ]
     },
     "execution_count": 182,
     "metadata": {},
     "output_type": "execute_result"
    },
    {
     "data": {
      "image/png": "[encoded data removed]",
      "text/plain": [
       "<matplotlib.figure.Figure at 0x108fd5f8>"
      ]
     },
     "metadata": {},
     "output_type": "display_data"
    }
   ],
   "source": [
    "# scatter plot of calories versus alcohol, colored by cluster (0=red, 1=green, 2=blue)\n",
    "plt.scatter(ds1.SECURED_TARGET_ID, ds1.COMMAND_CLASS_SELECT, c=colors[list(ds1.cluster)], s=50)\n",
    "\n",
    "# cluster centers, marked by \"+\"\n",
    "plt.scatter(centers.SECURED_TARGET_ID, centers.COMMAND_CLASS_SELECT, linewidths=3, marker='+', s=300, c='black')\n",
    "\n",
    "# add labels\n",
    "plt.xlabel('SECURED_TARGET_ID')\n",
    "plt.ylabel('COMMAND_CLASS_SELECT')"
   ]
  },
  {
   "cell_type": "code",
   "execution_count": 183,
   "metadata": {
    "collapsed": false,
    "deletable": true,
    "editable": true
   },
   "outputs": [
    {
     "data": {
      "text/plain": [
       "0.98134725082577667"
      ]
     },
     "execution_count": 183,
     "metadata": {},
     "output_type": "execute_result"
    }
   ],
   "source": [
    "from sklearn import metrics\n",
    "metrics.silhouette_score(ds1, km.labels_)"
   ]
  },
  {
   "cell_type": "code",
   "execution_count": 184,
   "metadata": {
    "collapsed": true,
    "deletable": true,
    "editable": true
   },
   "outputs": [],
   "source": [
    "k_range = range(2, 20)\n",
    "scores = []\n",
    "for k in k_range:\n",
    "    km = KMeans(n_clusters=k, random_state=1)\n",
    "    km.fit(ds1)\n",
    "    scores.append(metrics.silhouette_score(ds1, km.labels_))"
   ]
  },
  {
   "cell_type": "code",
   "execution_count": 185,
   "metadata": {
    "collapsed": false,
    "deletable": true,
    "editable": true
   },
   "outputs": [
    {
     "data": {
      "image/png": "[encoded data removed]",
      "text/plain": [
       "<matplotlib.figure.Figure at 0x123a8278>"
      ]
     },
     "metadata": {},
     "output_type": "display_data"
    }
   ],
   "source": [
    "# plot the results\n",
    "plt.plot(k_range, scores)\n",
    "plt.xlabel('Number of clusters')\n",
    "plt.ylabel('Silhouette Coefficient')\n",
    "plt.grid(True)"
   ]
  },
  {
   "cell_type": "code",
   "execution_count": 186,
   "metadata": {
    "collapsed": true,
    "deletable": true,
    "editable": true
   },
   "outputs": [],
   "source": [
    "def modify(row):\n",
    "    if row['cluster']>2:\n",
    "        return 1\n",
    "    else:\n",
    "        return 0"
   ]
  },
  {
   "cell_type": "code",
   "execution_count": 187,
   "metadata": {
    "collapsed": false,
    "deletable": true,
    "editable": true
   },
   "outputs": [
    {
     "name": "stderr",
     "output_type": "stream",
     "text": [
      "C:\\Users\\zyousefi.ORADEV\\AppData\\Local\\Enthought\\Canopy\\User\\lib\\site-packages\\ipykernel\\__main__.py:2: FutureWarning: sort(columns=....) is deprecated, use sort_values(by=.....)\n",
      "  from ipykernel import kernelapp as app\n"
     ]
    },
    {
     "data": {
      "text/html": [
       "<div>\n",
       "<table border=\"1\" class=\"dataframe\">\n",
       "  <thead>\n",
       "    <tr style=\"text-align: right;\">\n",
       "      <th></th>\n",
       "      <th>SECURED_TARGET_ID</th>\n",
       "      <th>SECURED_TARGET_TYPE_Oracle Database</th>\n",
       "      <th>OSUSER_NAME_aime</th>\n",
       "      <th>OSUSER_NAME_arcakuma</th>\n",
       "      <th>OSUSER_NAME_chliang</th>\n",
       "      <th>OSUSER_NAME_sanbhara</th>\n",
       "      <th>OSUSER_NAME_srseshad</th>\n",
       "      <th>OSUSER_NAME_zyousefi</th>\n",
       "      <th>COMMAND_CLASS_EXECUTE</th>\n",
       "      <th>COMMAND_CLASS_SELECT</th>\n",
       "      <th>...</th>\n",
       "      <th>CLIENT_IP_10.250.89.26</th>\n",
       "      <th>AUDIT_TRAIL_ID</th>\n",
       "      <th>ALERT_RAISED</th>\n",
       "      <th>LOGFILE_ID</th>\n",
       "      <th>CLUSTER_ID</th>\n",
       "      <th>CLUSTER_TYPE</th>\n",
       "      <th>SECURED_TARGET_CLASS_Database</th>\n",
       "      <th>GRAMMAR_VERSION</th>\n",
       "      <th>cluster</th>\n",
       "      <th>abnormal</th>\n",
       "    </tr>\n",
       "  </thead>\n",
       "  <tbody>\n",
       "    <tr>\n",
       "      <th>90</th>\n",
       "      <td>26</td>\n",
       "      <td>1</td>\n",
       "      <td>0</td>\n",
       "      <td>0</td>\n",
       "      <td>0</td>\n",
       "      <td>0</td>\n",
       "      <td>1</td>\n",
       "      <td>0</td>\n",
       "      <td>1</td>\n",
       "      <td>0</td>\n",
       "      <td>...</td>\n",
       "      <td>0</td>\n",
       "      <td>23</td>\n",
       "      <td>0</td>\n",
       "      <td>0</td>\n",
       "      <td>0</td>\n",
       "      <td>0</td>\n",
       "      <td>1</td>\n",
       "      <td>0</td>\n",
       "      <td>3</td>\n",
       "      <td>1</td>\n",
       "    </tr>\n",
       "    <tr>\n",
       "      <th>92</th>\n",
       "      <td>26</td>\n",
       "      <td>1</td>\n",
       "      <td>0</td>\n",
       "      <td>0</td>\n",
       "      <td>0</td>\n",
       "      <td>0</td>\n",
       "      <td>1</td>\n",
       "      <td>0</td>\n",
       "      <td>1</td>\n",
       "      <td>0</td>\n",
       "      <td>...</td>\n",
       "      <td>0</td>\n",
       "      <td>23</td>\n",
       "      <td>0</td>\n",
       "      <td>0</td>\n",
       "      <td>0</td>\n",
       "      <td>0</td>\n",
       "      <td>1</td>\n",
       "      <td>0</td>\n",
       "      <td>3</td>\n",
       "      <td>1</td>\n",
       "    </tr>\n",
       "    <tr>\n",
       "      <th>93</th>\n",
       "      <td>26</td>\n",
       "      <td>1</td>\n",
       "      <td>0</td>\n",
       "      <td>1</td>\n",
       "      <td>0</td>\n",
       "      <td>0</td>\n",
       "      <td>0</td>\n",
       "      <td>0</td>\n",
       "      <td>1</td>\n",
       "      <td>0</td>\n",
       "      <td>...</td>\n",
       "      <td>0</td>\n",
       "      <td>23</td>\n",
       "      <td>0</td>\n",
       "      <td>0</td>\n",
       "      <td>0</td>\n",
       "      <td>0</td>\n",
       "      <td>1</td>\n",
       "      <td>0</td>\n",
       "      <td>9</td>\n",
       "      <td>1</td>\n",
       "    </tr>\n",
       "    <tr>\n",
       "      <th>94</th>\n",
       "      <td>26</td>\n",
       "      <td>1</td>\n",
       "      <td>0</td>\n",
       "      <td>0</td>\n",
       "      <td>0</td>\n",
       "      <td>0</td>\n",
       "      <td>1</td>\n",
       "      <td>0</td>\n",
       "      <td>1</td>\n",
       "      <td>0</td>\n",
       "      <td>...</td>\n",
       "      <td>0</td>\n",
       "      <td>23</td>\n",
       "      <td>0</td>\n",
       "      <td>0</td>\n",
       "      <td>0</td>\n",
       "      <td>0</td>\n",
       "      <td>1</td>\n",
       "      <td>0</td>\n",
       "      <td>3</td>\n",
       "      <td>1</td>\n",
       "    </tr>\n",
       "    <tr>\n",
       "      <th>95</th>\n",
       "      <td>26</td>\n",
       "      <td>1</td>\n",
       "      <td>0</td>\n",
       "      <td>0</td>\n",
       "      <td>0</td>\n",
       "      <td>0</td>\n",
       "      <td>1</td>\n",
       "      <td>0</td>\n",
       "      <td>1</td>\n",
       "      <td>0</td>\n",
       "      <td>...</td>\n",
       "      <td>0</td>\n",
       "      <td>23</td>\n",
       "      <td>0</td>\n",
       "      <td>0</td>\n",
       "      <td>0</td>\n",
       "      <td>0</td>\n",
       "      <td>1</td>\n",
       "      <td>0</td>\n",
       "      <td>3</td>\n",
       "      <td>1</td>\n",
       "    </tr>\n",
       "  </tbody>\n",
       "</table>\n",
       "<p>5 rows × 31 columns</p>\n",
       "</div>"
      ],
      "text/plain": [
       "    SECURED_TARGET_ID  SECURED_TARGET_TYPE_Oracle Database  OSUSER_NAME_aime  \\\n",
       "90                 26                                    1                 0   \n",
       "92                 26                                    1                 0   \n",
       "93                 26                                    1                 0   \n",
       "94                 26                                    1                 0   \n",
       "95                 26                                    1                 0   \n",
       "\n",
       "    OSUSER_NAME_arcakuma  OSUSER_NAME_chliang  OSUSER_NAME_sanbhara  \\\n",
       "90                     0                    0                     0   \n",
       "92                     0                    0                     0   \n",
       "93                     1                    0                     0   \n",
       "94                     0                    0                     0   \n",
       "95                     0                    0                     0   \n",
       "\n",
       "    OSUSER_NAME_srseshad  OSUSER_NAME_zyousefi  COMMAND_CLASS_EXECUTE  \\\n",
       "90                     1                     0                      1   \n",
       "92                     1                     0                      1   \n",
       "93                     0                     0                      1   \n",
       "94                     1                     0                      1   \n",
       "95                     1                     0                      1   \n",
       "\n",
       "    COMMAND_CLASS_SELECT    ...     CLIENT_IP_10.250.89.26  AUDIT_TRAIL_ID  \\\n",
       "90                     0    ...                          0              23   \n",
       "92                     0    ...                          0              23   \n",
       "93                     0    ...                          0              23   \n",
       "94                     0    ...                          0              23   \n",
       "95                     0    ...                          0              23   \n",
       "\n",
       "    ALERT_RAISED  LOGFILE_ID  CLUSTER_ID  CLUSTER_TYPE  \\\n",
       "90             0           0           0             0   \n",
       "92             0           0           0             0   \n",
       "93             0           0           0             0   \n",
       "94             0           0           0             0   \n",
       "95             0           0           0             0   \n",
       "\n",
       "    SECURED_TARGET_CLASS_Database  GRAMMAR_VERSION  cluster  abnormal  \n",
       "90                              1                0        3         1  \n",
       "92                              1                0        3         1  \n",
       "93                              1                0        9         1  \n",
       "94                              1                0        3         1  \n",
       "95                              1                0        3         1  \n",
       "\n",
       "[5 rows x 31 columns]"
      ]
     },
     "execution_count": 187,
     "metadata": {},
     "output_type": "execute_result"
    }
   ],
   "source": [
    "ds1['abnormal'] = ds1.apply(modify,axis=1)\n",
    "ds1.sort('cluster').head()\n",
    "ds1[ds1['abnormal']==1].head()"
   ]
  },
  {
   "cell_type": "code",
   "execution_count": 192,
   "metadata": {
    "collapsed": false,
    "deletable": true,
    "editable": true
   },
   "outputs": [
    {
     "data": {
      "text/html": [
       "<div>\n",
       "<table border=\"1\" class=\"dataframe\">\n",
       "  <thead>\n",
       "    <tr style=\"text-align: right;\">\n",
       "      <th></th>\n",
       "      <th>SECURED_TARGET_ID</th>\n",
       "      <th>SECURED_TARGET_TYPE_Oracle Database</th>\n",
       "      <th>OSUSER_NAME_aime</th>\n",
       "      <th>OSUSER_NAME_arcakuma</th>\n",
       "      <th>OSUSER_NAME_chliang</th>\n",
       "      <th>OSUSER_NAME_sanbhara</th>\n",
       "      <th>OSUSER_NAME_srseshad</th>\n",
       "      <th>OSUSER_NAME_zyousefi</th>\n",
       "      <th>COMMAND_CLASS_EXECUTE</th>\n",
       "      <th>COMMAND_CLASS_SELECT</th>\n",
       "      <th>...</th>\n",
       "      <th>CLIENT_IP_10.241.4.167</th>\n",
       "      <th>CLIENT_IP_10.245.78.17</th>\n",
       "      <th>CLIENT_IP_10.250.89.26</th>\n",
       "      <th>AUDIT_TRAIL_ID</th>\n",
       "      <th>ALERT_RAISED</th>\n",
       "      <th>LOGFILE_ID</th>\n",
       "      <th>CLUSTER_ID</th>\n",
       "      <th>CLUSTER_TYPE</th>\n",
       "      <th>SECURED_TARGET_CLASS_Database</th>\n",
       "      <th>GRAMMAR_VERSION</th>\n",
       "    </tr>\n",
       "  </thead>\n",
       "  <tbody>\n",
       "    <tr>\n",
       "      <th>0</th>\n",
       "      <td>26</td>\n",
       "      <td>1</td>\n",
       "      <td>0</td>\n",
       "      <td>0</td>\n",
       "      <td>1</td>\n",
       "      <td>0</td>\n",
       "      <td>0</td>\n",
       "      <td>0</td>\n",
       "      <td>0</td>\n",
       "      <td>1</td>\n",
       "      <td>...</td>\n",
       "      <td>0</td>\n",
       "      <td>0</td>\n",
       "      <td>0</td>\n",
       "      <td>23</td>\n",
       "      <td>0</td>\n",
       "      <td>0</td>\n",
       "      <td>0</td>\n",
       "      <td>0</td>\n",
       "      <td>1</td>\n",
       "      <td>0</td>\n",
       "    </tr>\n",
       "    <tr>\n",
       "      <th>1</th>\n",
       "      <td>26</td>\n",
       "      <td>1</td>\n",
       "      <td>0</td>\n",
       "      <td>0</td>\n",
       "      <td>1</td>\n",
       "      <td>0</td>\n",
       "      <td>0</td>\n",
       "      <td>0</td>\n",
       "      <td>0</td>\n",
       "      <td>1</td>\n",
       "      <td>...</td>\n",
       "      <td>0</td>\n",
       "      <td>0</td>\n",
       "      <td>0</td>\n",
       "      <td>23</td>\n",
       "      <td>0</td>\n",
       "      <td>0</td>\n",
       "      <td>0</td>\n",
       "      <td>0</td>\n",
       "      <td>1</td>\n",
       "      <td>0</td>\n",
       "    </tr>\n",
       "    <tr>\n",
       "      <th>2</th>\n",
       "      <td>26</td>\n",
       "      <td>1</td>\n",
       "      <td>0</td>\n",
       "      <td>0</td>\n",
       "      <td>1</td>\n",
       "      <td>0</td>\n",
       "      <td>0</td>\n",
       "      <td>0</td>\n",
       "      <td>0</td>\n",
       "      <td>1</td>\n",
       "      <td>...</td>\n",
       "      <td>0</td>\n",
       "      <td>0</td>\n",
       "      <td>0</td>\n",
       "      <td>23</td>\n",
       "      <td>0</td>\n",
       "      <td>0</td>\n",
       "      <td>0</td>\n",
       "      <td>0</td>\n",
       "      <td>1</td>\n",
       "      <td>0</td>\n",
       "    </tr>\n",
       "    <tr>\n",
       "      <th>3</th>\n",
       "      <td>26</td>\n",
       "      <td>1</td>\n",
       "      <td>0</td>\n",
       "      <td>0</td>\n",
       "      <td>1</td>\n",
       "      <td>0</td>\n",
       "      <td>0</td>\n",
       "      <td>0</td>\n",
       "      <td>0</td>\n",
       "      <td>1</td>\n",
       "      <td>...</td>\n",
       "      <td>0</td>\n",
       "      <td>0</td>\n",
       "      <td>0</td>\n",
       "      <td>23</td>\n",
       "      <td>0</td>\n",
       "      <td>0</td>\n",
       "      <td>0</td>\n",
       "      <td>0</td>\n",
       "      <td>1</td>\n",
       "      <td>0</td>\n",
       "    </tr>\n",
       "    <tr>\n",
       "      <th>4</th>\n",
       "      <td>26</td>\n",
       "      <td>1</td>\n",
       "      <td>0</td>\n",
       "      <td>0</td>\n",
       "      <td>1</td>\n",
       "      <td>0</td>\n",
       "      <td>0</td>\n",
       "      <td>0</td>\n",
       "      <td>0</td>\n",
       "      <td>1</td>\n",
       "      <td>...</td>\n",
       "      <td>0</td>\n",
       "      <td>0</td>\n",
       "      <td>0</td>\n",
       "      <td>23</td>\n",
       "      <td>0</td>\n",
       "      <td>0</td>\n",
       "      <td>0</td>\n",
       "      <td>0</td>\n",
       "      <td>1</td>\n",
       "      <td>0</td>\n",
       "    </tr>\n",
       "  </tbody>\n",
       "</table>\n",
       "<p>5 rows × 29 columns</p>\n",
       "</div>"
      ],
      "text/plain": [
       "   SECURED_TARGET_ID  SECURED_TARGET_TYPE_Oracle Database  OSUSER_NAME_aime  \\\n",
       "0                 26                                    1                 0   \n",
       "1                 26                                    1                 0   \n",
       "2                 26                                    1                 0   \n",
       "3                 26                                    1                 0   \n",
       "4                 26                                    1                 0   \n",
       "\n",
       "   OSUSER_NAME_arcakuma  OSUSER_NAME_chliang  OSUSER_NAME_sanbhara  \\\n",
       "0                     0                    1                     0   \n",
       "1                     0                    1                     0   \n",
       "2                     0                    1                     0   \n",
       "3                     0                    1                     0   \n",
       "4                     0                    1                     0   \n",
       "\n",
       "   OSUSER_NAME_srseshad  OSUSER_NAME_zyousefi  COMMAND_CLASS_EXECUTE  \\\n",
       "0                     0                     0                      0   \n",
       "1                     0                     0                      0   \n",
       "2                     0                     0                      0   \n",
       "3                     0                     0                      0   \n",
       "4                     0                     0                      0   \n",
       "\n",
       "   COMMAND_CLASS_SELECT       ...         CLIENT_IP_10.241.4.167  \\\n",
       "0                     1       ...                              0   \n",
       "1                     1       ...                              0   \n",
       "2                     1       ...                              0   \n",
       "3                     1       ...                              0   \n",
       "4                     1       ...                              0   \n",
       "\n",
       "   CLIENT_IP_10.245.78.17  CLIENT_IP_10.250.89.26  AUDIT_TRAIL_ID  \\\n",
       "0                       0                       0              23   \n",
       "1                       0                       0              23   \n",
       "2                       0                       0              23   \n",
       "3                       0                       0              23   \n",
       "4                       0                       0              23   \n",
       "\n",
       "   ALERT_RAISED  LOGFILE_ID  CLUSTER_ID  CLUSTER_TYPE  \\\n",
       "0             0           0           0             0   \n",
       "1             0           0           0             0   \n",
       "2             0           0           0             0   \n",
       "3             0           0           0             0   \n",
       "4             0           0           0             0   \n",
       "\n",
       "   SECURED_TARGET_CLASS_Database  GRAMMAR_VERSION  \n",
       "0                              1                0  \n",
       "1                              1                0  \n",
       "2                              1                0  \n",
       "3                              1                0  \n",
       "4                              1                0  \n",
       "\n",
       "[5 rows x 29 columns]"
      ]
     },
     "execution_count": 192,
     "metadata": {},
     "output_type": "execute_result"
    }
   ],
   "source": [
    "X = ds1.drop(\"abnormal\", axis=1)\n",
    "X = X.drop(\"cluster\", axis=1)\n",
    "y = ds1.abnormal\n",
    "X.shape\n",
    "X.head()\n",
    "\n"
   ]
  },
  {
   "cell_type": "code",
   "execution_count": 193,
   "metadata": {
    "collapsed": false
   },
   "outputs": [
    {
     "data": {
      "text/plain": [
       "<matplotlib.axes._subplots.AxesSubplot at 0x12201390>"
      ]
     },
     "execution_count": 193,
     "metadata": {},
     "output_type": "execute_result"
    },
    {
     "data": {
      "image/png": "[encoded data removed]",
      "text/plain": [
       "<matplotlib.figure.Figure at 0x130714e0>"
      ]
     },
     "metadata": {},
     "output_type": "display_data"
    }
   ],
   "source": [
    "sns.countplot(x='abnormal',data=ds1)"
   ]
  },
  {
   "cell_type": "code",
   "execution_count": 194,
   "metadata": {
    "collapsed": false
   },
   "outputs": [
    {
     "data": {
      "text/plain": [
       "<seaborn.axisgrid.FacetGrid at 0x10ebd940>"
      ]
     },
     "execution_count": 194,
     "metadata": {},
     "output_type": "execute_result"
    },
    {
     "data": {
      "text/plain": [
       "<matplotlib.figure.Figure at 0x12350278>"
      ]
     },
     "metadata": {},
     "output_type": "display_data"
    },
    {
     "data": {
      "image/png": "[encoded data removed]",
      "text/plain": [
       "<matplotlib.figure.Figure at 0x133847f0>"
      ]
     },
     "metadata": {},
     "output_type": "display_data"
    }
   ],
   "source": [
    "plt.figure(figsize=(11,7))\n",
    "sns.lmplot(y='SECURED_TARGET_ID',x='COMMAND_CLASS_EXECUTE',data=ds1,hue='abnormal',\n",
    "           col='GRAMMAR_VERSION',palette='Set1')"
   ]
  },
  {
   "cell_type": "code",
   "execution_count": null,
   "metadata": {
    "collapsed": true
   },
   "outputs": [],
   "source": []
  },
  {
   "cell_type": "code",
   "execution_count": 195,
   "metadata": {
    "collapsed": false
   },
   "outputs": [
    {
     "data": {
      "text/plain": [
       "<seaborn.axisgrid.JointGrid at 0x135755f8>"
      ]
     },
     "execution_count": 195,
     "metadata": {},
     "output_type": "execute_result"
    },
    {
     "data": {
      "image/png": "[encoded data removed]",
      "text/plain": [
       "<matplotlib.figure.Figure at 0x135752b0>"
      ]
     },
     "metadata": {},
     "output_type": "display_data"
    }
   ],
   "source": [
    "sns.jointplot(x='SECURED_TARGET_ID',y='COMMAND_CLASS_EXECUTE',data=ds1,color='purple')"
   ]
  },
  {
   "cell_type": "code",
   "execution_count": 196,
   "metadata": {
    "collapsed": false,
    "deletable": true,
    "editable": true
   },
   "outputs": [],
   "source": [
    "from sklearn.grid_search import GridSearchCV\n",
    "from sklearn.metrics import make_scorer\n",
    "from sklearn.ensemble import GradientBoostingClassifier\n",
    "from sklearn.model_selection import train_test_split\n",
    "from sklearn.metrics import f1_score"
   ]
  },
  {
   "cell_type": "code",
   "execution_count": 197,
   "metadata": {
    "collapsed": false,
    "deletable": true,
    "editable": true
   },
   "outputs": [],
   "source": [
    "parameters = [{'max_depth': [2,3,4],'n_estimators':[20,50,100,150]},{'learning_rate': [.50, .1,.15]}]\n",
    "\n",
    "X_train, X_test, y_train, y_test = train_test_split(X, y, test_size=0.30, random_state=101)\n",
    "model = GradientBoostingClassifier(random_state=42)\n",
    "#f1_scorer = make_scorer(f1_score)"
   ]
  },
  {
   "cell_type": "code",
   "execution_count": 198,
   "metadata": {
    "collapsed": false,
    "deletable": true,
    "editable": true,
    "scrolled": true
   },
   "outputs": [
    {
     "data": {
      "text/plain": [
       "GradientBoostingClassifier(criterion='friedman_mse', init=None,\n",
       "              learning_rate=0.1, loss='deviance', max_depth=2,\n",
       "              max_features=None, max_leaf_nodes=None,\n",
       "              min_impurity_split=1e-07, min_samples_leaf=1,\n",
       "              min_samples_split=2, min_weight_fraction_leaf=0.0,\n",
       "              n_estimators=20, presort='auto', random_state=42,\n",
       "              subsample=1.0, verbose=0, warm_start=False)"
      ]
     },
     "execution_count": 198,
     "metadata": {},
     "output_type": "execute_result"
    }
   ],
   "source": [
    "grid_obj = GridSearchCV(model, parameters, cv=5, scoring= 'roc_auc')\n",
    "grid_obj.fit(X_train, y_train)\n",
    "best_model = grid_obj.best_estimator_\n",
    "best_model"
   ]
  },
  {
   "cell_type": "code",
   "execution_count": 199,
   "metadata": {
    "collapsed": false,
    "deletable": true,
    "editable": true
   },
   "outputs": [
    {
     "data": {
      "text/plain": [
       "array([0, 0, 0, 0, 1, 0, 0, 0, 0, 0, 0, 0, 0, 0, 0, 1, 1, 0, 0, 0, 0, 0, 0,\n",
       "       0, 0, 0, 0, 0, 1, 0, 0, 0, 0, 0, 0, 0, 0, 0, 0, 1, 0, 0, 0, 0, 0, 0,\n",
       "       0, 0, 0, 0, 0, 0, 0, 0, 0, 0, 0, 0, 0, 0, 0, 0, 0, 0, 0, 0, 0, 0, 0,\n",
       "       0, 0, 0, 0, 0, 0, 0, 0, 0, 0, 0, 0, 0, 0, 0, 0, 0, 0, 0, 0, 0, 0, 0,\n",
       "       0, 0, 0, 0, 0])"
      ]
     },
     "execution_count": 199,
     "metadata": {},
     "output_type": "execute_result"
    }
   ],
   "source": [
    "y_prob_pred = best_model.predict_proba(X_test)\n",
    "threshold_adjusted_preds = np.where(y_prob_pred>=0.7, 1, 0)\n",
    "predictions = threshold_adjusted_preds[:,1]\n",
    "predictions\n",
    "#y_prob_pred"
   ]
  },
  {
   "cell_type": "code",
   "execution_count": null,
   "metadata": {
    "collapsed": false,
    "deletable": true,
    "editable": true
   },
   "outputs": [],
   "source": []
  },
  {
   "cell_type": "code",
   "execution_count": 200,
   "metadata": {
    "collapsed": false,
    "deletable": true,
    "editable": true
   },
   "outputs": [
    {
     "name": "stdout",
     "output_type": "stream",
     "text": [
      "             precision    recall  f1-score   support\n",
      "\n",
      "          0       1.00      1.00      1.00        92\n",
      "          1       1.00      1.00      1.00         5\n",
      "\n",
      "avg / total       1.00      1.00      1.00        97\n",
      "\n"
     ]
    }
   ],
   "source": [
    "from sklearn.metrics import classification_report,confusion_matrix\n",
    "print(classification_report(y_test,predictions))"
   ]
  },
  {
   "cell_type": "code",
   "execution_count": 201,
   "metadata": {
    "collapsed": false,
    "deletable": true,
    "editable": true
   },
   "outputs": [
    {
     "name": "stdout",
     "output_type": "stream",
     "text": [
      "[[92  0]\n",
      " [ 0  5]]\n"
     ]
    }
   ],
   "source": [
    "print(confusion_matrix(y_test,predictions))"
   ]
  },
  {
   "cell_type": "code",
   "execution_count": 202,
   "metadata": {
    "collapsed": false
   },
   "outputs": [
    {
     "data": {
      "text/plain": [
       "1.0"
      ]
     },
     "execution_count": 202,
     "metadata": {},
     "output_type": "execute_result"
    }
   ],
   "source": [
    "from sklearn.metrics import roc_auc_score, roc_curve\n",
    "y_prob_pred = best_model.predict_proba(X_test)[:,1]\n",
    "fpr, tpr, thres = roc_curve(y_test, y_prob_pred)\n",
    "roc_auc_score(y_test, y_prob_pred)\n",
    "#y_prob_pred"
   ]
  },
  {
   "cell_type": "code",
   "execution_count": 203,
   "metadata": {
    "collapsed": false
   },
   "outputs": [
    {
     "data": {
      "image/png": "[encoded data removed]",
      "text/plain": [
       "<matplotlib.figure.Figure at 0x1390f860>"
      ]
     },
     "metadata": {},
     "output_type": "display_data"
    }
   ],
   "source": [
    "plt.plot(fpr, tpr)\n",
    "plt.plot([0,1], [0,1], \"--\")\n",
    "plt.xlabel(\"False Positive Rate\")\n",
    "plt.ylabel(\"True Positive Rate\")\n",
    "plt.show()"
   ]
  },
  {
   "cell_type": "code",
   "execution_count": 204,
   "metadata": {
    "collapsed": false,
    "deletable": true,
    "editable": true
   },
   "outputs": [
    {
     "ename": "ImportError",
     "evalue": "No module named tensorflow",
     "output_type": "error",
     "traceback": [
      "\u001b[1;31m---------------------------------------------------------------------------\u001b[0m",
      "\u001b[1;31mImportError\u001b[0m                               Traceback (most recent call last)",
      "\u001b[1;32m<ipython-input-204-6cda76bab6e0>\u001b[0m in \u001b[0;36m<module>\u001b[1;34m()\u001b[0m\n\u001b[0;32m      1\u001b[0m \u001b[1;31m#Supervised Deep learning - Classification\u001b[0m\u001b[1;33m\u001b[0m\u001b[1;33m\u001b[0m\u001b[0m\n\u001b[0;32m      2\u001b[0m \u001b[1;32mfrom\u001b[0m \u001b[0msklearn\u001b[0m \u001b[1;32mimport\u001b[0m \u001b[0mdatasets\u001b[0m\u001b[1;33m,\u001b[0m \u001b[0mmetrics\u001b[0m\u001b[1;33m\u001b[0m\u001b[0m\n\u001b[1;32m----> 3\u001b[1;33m \u001b[1;32mimport\u001b[0m \u001b[0mtensorflow\u001b[0m \u001b[1;32mas\u001b[0m \u001b[0mtf\u001b[0m\u001b[1;33m\u001b[0m\u001b[0m\n\u001b[0m",
      "\u001b[1;31mImportError\u001b[0m: No module named tensorflow"
     ]
    }
   ],
   "source": [
    "#Supervised Deep learning - Classification\n",
    "from sklearn import datasets, metrics\n",
    "import tensorflow as tf"
   ]
  },
  {
   "cell_type": "code",
   "execution_count": 205,
   "metadata": {
    "collapsed": false,
    "deletable": true,
    "editable": true
   },
   "outputs": [
    {
     "ename": "NameError",
     "evalue": "name 'tf' is not defined",
     "output_type": "error",
     "traceback": [
      "\u001b[1;31m---------------------------------------------------------------------------\u001b[0m",
      "\u001b[1;31mNameError\u001b[0m                                 Traceback (most recent call last)",
      "\u001b[1;32m<ipython-input-205-3c5579af8bf5>\u001b[0m in \u001b[0;36m<module>\u001b[1;34m()\u001b[0m\n\u001b[1;32m----> 1\u001b[1;33m \u001b[0mfeature_columns\u001b[0m \u001b[1;33m=\u001b[0m \u001b[1;33m[\u001b[0m\u001b[0mtf\u001b[0m\u001b[1;33m.\u001b[0m\u001b[0mcontrib\u001b[0m\u001b[1;33m.\u001b[0m\u001b[0mlayers\u001b[0m\u001b[1;33m.\u001b[0m\u001b[0mreal_valued_column\u001b[0m\u001b[1;33m(\u001b[0m\u001b[1;34m\"\"\u001b[0m\u001b[1;33m,\u001b[0m \u001b[0mdimension\u001b[0m\u001b[1;33m=\u001b[0m\u001b[1;36m4\u001b[0m\u001b[1;33m)\u001b[0m\u001b[1;33m]\u001b[0m\u001b[1;33m\u001b[0m\u001b[0m\n\u001b[0m\u001b[0;32m      2\u001b[0m \u001b[1;33m\u001b[0m\u001b[0m\n\u001b[0;32m      3\u001b[0m \u001b[0moptimizer\u001b[0m \u001b[1;33m=\u001b[0m \u001b[0mtf\u001b[0m\u001b[1;33m.\u001b[0m\u001b[0mtrain\u001b[0m\u001b[1;33m.\u001b[0m\u001b[0mGradientDescentOptimizer\u001b[0m\u001b[1;33m(\u001b[0m\u001b[0mlearning_rate\u001b[0m\u001b[1;33m=\u001b[0m\u001b[1;36m.1\u001b[0m\u001b[1;33m)\u001b[0m\u001b[1;33m\u001b[0m\u001b[0m\n\u001b[0;32m      4\u001b[0m \u001b[1;33m\u001b[0m\u001b[0m\n\u001b[0;32m      5\u001b[0m \u001b[1;33m\u001b[0m\u001b[0m\n",
      "\u001b[1;31mNameError\u001b[0m: name 'tf' is not defined"
     ]
    }
   ],
   "source": [
    "feature_columns = [tf.contrib.layers.real_valued_column(\"\", dimension=4)]\n",
    "\n",
    "optimizer = tf.train.GradientDescentOptimizer(learning_rate=.1)\n",
    "\n",
    "\n",
    "# Build 4 layer DNN with 10, 20, 10 units respectively.\n",
    "classifier = tf.contrib.learn.DNNClassifier(feature_columns=feature_columns,\n",
    "                                            hidden_units=[10, 20, 20, 10],\n",
    "                                            optimizer=optimizer,\n",
    "                                            n_classes=2)\n",
    "# Fit model.\n",
    "classifier.fit(x=X_train,\n",
    "               y=y_train,\n",
    "               steps=2000)\n",
    "\n",
    "# Evaluate accuracy.\n",
    "accuracy_score = classifier.evaluate(x=X_test,\n",
    "                                     y=y_test)[\"accuracy\"]\n",
    "print('Accuracy: {0:f}'.format(accuracy_score))\n",
    "\n",
    "predictions = classifier.predict(X_test)\n",
    "print('Predictions: {}'.format(predictions))"
   ]
  },
  {
   "cell_type": "code",
   "execution_count": 388,
   "metadata": {
    "collapsed": true,
    "deletable": true,
    "editable": true
   },
   "outputs": [],
   "source": [
    "from sklearn import datasets, metrics\n",
    "import tensorflow as tf"
   ]
  },
  {
   "cell_type": "code",
   "execution_count": null,
   "metadata": {
    "collapsed": true
   },
   "outputs": [],
   "source": []
  },
  {
   "cell_type": "code",
   "execution_count": null,
   "metadata": {
    "collapsed": true
   },
   "outputs": [],
   "source": []
  },
  {
   "cell_type": "code",
   "execution_count": 406,
   "metadata": {
    "collapsed": false,
    "deletable": true,
    "editable": true
   },
   "outputs": [
    {
     "data": {
      "text/plain": [
       "{'_config': <tensorflow.contrib.learn.python.learn.estimators.run_config.RunConfig at 0x7f94b6a31da0>,\n",
       " '_device_fn': None,\n",
       " '_enable_centered_bias': False,\n",
       " '_feature_columns': (_RealValuedColumn(column_name='', dimension=4, default_value=None, dtype=tf.float32, normalizer=None),),\n",
       " '_feature_engineering_fn': <function tensorflow.contrib.learn.python.learn.estimators.estimator._identity_feature_engineering_fn>,\n",
       " '_features_info': TensorSignature(dtype=tf.float64, shape=TensorShape([Dimension(None), Dimension(30)]), is_sparse=False),\n",
       " '_graph': <tensorflow.python.framework.ops.Graph at 0x7f94b6844c50>,\n",
       " '_hidden_units': [10, 20, 20, 10],\n",
       " '_labels_info': TensorSignature(dtype=tf.int64, shape=TensorShape([Dimension(None)]), is_sparse=False),\n",
       " '_model_dir': '/tmp/tmpz7mix7t2',\n",
       " '_model_fn': <function tensorflow.contrib.learn.python.learn.estimators.dnn._dnn_model_fn>,\n",
       " 'params': {'activation_fn': <function tensorflow.python.ops.gen_nn_ops.relu>,\n",
       "  'dropout': None,\n",
       "  'embedding_lr_multipliers': None,\n",
       "  'feature_columns': (_RealValuedColumn(column_name='', dimension=4, default_value=None, dtype=tf.float32, normalizer=None),),\n",
       "  'gradient_clip_norm': None,\n",
       "  'head': <tensorflow.contrib.learn.python.learn.estimators.head._BinaryLogisticHead at 0x7f94b6a10358>,\n",
       "  'hidden_units': [10, 20, 20, 10],\n",
       "  'input_layer_min_slice_size': None,\n",
       "  'optimizer': <tensorflow.python.training.gradient_descent.GradientDescentOptimizer at 0x7f94b5519cc0>}}"
      ]
     },
     "execution_count": 406,
     "metadata": {},
     "output_type": "execute_result"
    }
   ],
   "source": [
    "classifier.__dict__"
   ]
  },
  {
   "cell_type": "code",
   "execution_count": 40,
   "metadata": {
    "collapsed": false,
    "deletable": true,
    "editable": true
   },
   "outputs": [
    {
     "data": {
      "text/plain": [
       "(30L,)"
      ]
     },
     "execution_count": 40,
     "metadata": {},
     "output_type": "execute_result"
    }
   ],
   "source": [
    "# Neural Network with session\n",
    "X_train.shape\n",
    "X1 = X_train.as_matrix()\n",
    "y1 = y_train.as_matrix()\n",
    "X1.shape\n",
    "\n",
    "X_train.shape\n",
    "X2= np.array([X1[1]])\n",
    "X2.shape\n",
    "X1[0].shape"
   ]
  },
  {
   "cell_type": "code",
   "execution_count": 408,
   "metadata": {
    "collapsed": true
   },
   "outputs": [],
   "source": [
    "# Parameters\n",
    "learning_rate = 0.001\n",
    "training_epochs = 15\n",
    "#batch_size = 100"
   ]
  },
  {
   "cell_type": "code",
   "execution_count": 409,
   "metadata": {
    "collapsed": true
   },
   "outputs": [],
   "source": [
    "# Network Parameters\n",
    "n_hidden_1 = 50 # 1st layer\n",
    "n_hidden_2 = 50 # 2nd layer\n",
    "n_input = 30 #  number of features\n",
    "n_classes = 2 # total classes (0-9 digits)\n",
    "n_samples = 224 # X_train size"
   ]
  },
  {
   "cell_type": "code",
   "execution_count": 410,
   "metadata": {
    "collapsed": false
   },
   "outputs": [
    {
     "data": {
      "text/plain": [
       "TensorShape([Dimension(1), Dimension(30)])"
      ]
     },
     "execution_count": 410,
     "metadata": {},
     "output_type": "execute_result"
    }
   ],
   "source": [
    "x_ = tf.placeholder(\"float\", [1,n_input])\n",
    "y_ = tf.placeholder(\"float\", [1,n_classes])\n",
    "x_.shape"
   ]
  },
  {
   "cell_type": "code",
   "execution_count": 411,
   "metadata": {
    "collapsed": false
   },
   "outputs": [],
   "source": [
    "def multilayer_perceptron(x, weights, biases):\n",
    "    '''\n",
    "    x : Place Holder for Data Input\n",
    "    weights: Dictionary of weights\n",
    "    biases: Dicitionary of biases\n",
    "    '''   \n",
    "    # First Hidden layer with RELU activation\n",
    "    layer_1 = tf.add(tf.matmul(x_, weights['h1']), biases['b1'])\n",
    "    layer_1 = tf.nn.relu(layer_1)\n",
    "    \n",
    "    # Second Hidden layer with RELU activation\n",
    "    layer_2 = tf.add(tf.matmul(layer_1, weights['h2']), biases['b2'])\n",
    "    layer_2 = tf.nn.relu(layer_2)\n",
    "    \n",
    "    # Last Output layer with linear activation\n",
    "    out_layer = tf.matmul(layer_2, weights['out']) + biases['out']\n",
    "    return out_layer"
   ]
  },
  {
   "cell_type": "code",
   "execution_count": 412,
   "metadata": {
    "collapsed": false
   },
   "outputs": [],
   "source": [
    "weights = {\n",
    "    'h1': tf.Variable(tf.random_normal([n_input, n_hidden_1])),\n",
    "    'h2': tf.Variable(tf.random_normal([n_hidden_1, n_hidden_2])),\n",
    "    'out': tf.Variable(tf.random_normal([n_hidden_2, n_classes]))\n",
    "}"
   ]
  },
  {
   "cell_type": "code",
   "execution_count": 413,
   "metadata": {
    "collapsed": true
   },
   "outputs": [],
   "source": [
    "biases = {\n",
    "    'b1': tf.Variable(tf.random_normal([n_hidden_1])),\n",
    "    'b2': tf.Variable(tf.random_normal([n_hidden_2])),\n",
    "    'out': tf.Variable(tf.random_normal([n_classes]))\n",
    "}"
   ]
  },
  {
   "cell_type": "code",
   "execution_count": 414,
   "metadata": {
    "collapsed": false
   },
   "outputs": [
    {
     "name": "stdout",
     "output_type": "stream",
     "text": [
      "Tensor(\"Placeholder_48:0\", shape=(1, 30), dtype=float32)\n",
      "Tensor(\"Variable_180/read:0\", shape=(30, 50), dtype=float32)\n",
      "Tensor(\"Relu_53:0\", shape=(1, 50), dtype=float32)\n",
      "Tensor(\"Variable_181/read:0\", shape=(50, 50), dtype=float32)\n",
      "Tensor(\"Relu_54:0\", shape=(1, 50), dtype=float32)\n",
      "Tensor(\"Variable_182/read:0\", shape=(50, 2), dtype=float32)\n",
      "Tensor(\"add_26:0\", shape=(1, 2), dtype=float32)\n"
     ]
    }
   ],
   "source": [
    "# Construct model\n",
    "print(x_)\n",
    "pred = multilayer_perceptron(x_, weights, biases)"
   ]
  },
  {
   "cell_type": "code",
   "execution_count": 415,
   "metadata": {
    "collapsed": false
   },
   "outputs": [],
   "source": [
    "# Define loss and optimizer\n",
    "cost = tf.reduce_mean(tf.nn.softmax_cross_entropy_with_logits(logits=pred, labels=y_))\n",
    "optimizer = tf.train.AdamOptimizer(learning_rate=learning_rate).minimize(cost)"
   ]
  },
  {
   "cell_type": "code",
   "execution_count": 416,
   "metadata": {
    "collapsed": false
   },
   "outputs": [
    {
     "name": "stdout",
     "output_type": "stream",
     "text": [
      "WARNING:tensorflow:From <ipython-input-416-c70fa5604581>:2: initialize_all_variables (from tensorflow.python.ops.variables) is deprecated and will be removed after 2017-03-02.\n",
      "Instructions for updating:\n",
      "Use `tf.global_variables_initializer` instead.\n"
     ]
    }
   ],
   "source": [
    "# Initializing the variables\n",
    "init = tf.initialize_all_variables()"
   ]
  },
  {
   "cell_type": "code",
   "execution_count": 417,
   "metadata": {
    "collapsed": false
   },
   "outputs": [
    {
     "name": "stdout",
     "output_type": "stream",
     "text": [
      "Epoch: 1 cost=7536.2689\n",
      "Epoch: 2 cost=677.5819\n",
      "Epoch: 3 cost=267.3310\n",
      "Epoch: 4 cost=122.9239\n",
      "Epoch: 5 cost=0.0041\n",
      "Epoch: 6 cost=0.0039\n",
      "Epoch: 7 cost=0.0037\n",
      "Epoch: 8 cost=0.0035\n",
      "Epoch: 9 cost=0.0032\n",
      "Epoch: 10 cost=0.0030\n",
      "Epoch: 11 cost=0.0027\n",
      "Epoch: 12 cost=0.0025\n",
      "Epoch: 13 cost=0.0023\n",
      "Epoch: 14 cost=0.0021\n",
      "Epoch: 15 cost=0.0019\n",
      "Model has completed 15 Epochs of Training\n"
     ]
    }
   ],
   "source": [
    "# Launch the session\n",
    "sess = tf.InteractiveSession()\n",
    "\n",
    "# Intialize all the variables\n",
    "sess.run(init)\n",
    "\n",
    "# Training Epochs\n",
    "# Essentially the max amount of loops possible before we stop\n",
    "# May stop earlier if cost/loss limit was set\n",
    "for epoch in range(training_epochs):\n",
    "\n",
    "    # Start with cost = 0.0\n",
    "    avg_cost = 0.0\n",
    "\n",
    "    # Loop over all samples\n",
    "    for i in range(n_samples):\n",
    "\n",
    "        # Feed dictionary for optimization and loss value\n",
    "        # Returns a tuple, but we only need 'c' the cost\n",
    "        # So we set an underscore as a \"throwaway\"\n",
    "        X2= np.array([X1[i]])\n",
    "        y2= np.array([y1[i]])\n",
    "        if(y1[i]==0):\n",
    "            y2= np.array([[1,0]])\n",
    "        else:\n",
    "            y2= np.array([[0,1]])\n",
    "            \n",
    "        _, c = sess.run([optimizer, cost], feed_dict={x_: X2, y_: y2})\n",
    "\n",
    "        # Compute average loss\n",
    "        avg_cost += c\n",
    "\n",
    "    print(\"Epoch: {} cost={:.4f}\".format(epoch+1,avg_cost))\n",
    "\n",
    "print(\"Model has completed {} Epochs of Training\".format(training_epochs))"
   ]
  },
  {
   "cell_type": "code",
   "execution_count": 418,
   "metadata": {
    "collapsed": false
   },
   "outputs": [
    {
     "name": "stdout",
     "output_type": "stream",
     "text": [
      "Tensor(\"add_26:0\", shape=(1, 2), dtype=float32)\n"
     ]
    }
   ],
   "source": [
    "print(pred)"
   ]
  },
  {
   "cell_type": "code",
   "execution_count": 419,
   "metadata": {
    "collapsed": true
   },
   "outputs": [],
   "source": [
    "# Test model\n",
    "correct_predictions = tf.equal(tf.argmax(pred, 1), tf.argmax(y_, 1))"
   ]
  },
  {
   "cell_type": "code",
   "execution_count": 420,
   "metadata": {
    "collapsed": false
   },
   "outputs": [
    {
     "name": "stdout",
     "output_type": "stream",
     "text": [
      "Tensor(\"strided_slice_5:0\", shape=(), dtype=bool)\n"
     ]
    }
   ],
   "source": [
    "print(correct_predictions[0])"
   ]
  },
  {
   "cell_type": "code",
   "execution_count": 421,
   "metadata": {
    "collapsed": true
   },
   "outputs": [],
   "source": [
    "correct_predictions = tf.cast(correct_predictions, \"float\")"
   ]
  },
  {
   "cell_type": "code",
   "execution_count": 422,
   "metadata": {
    "collapsed": false
   },
   "outputs": [
    {
     "name": "stdout",
     "output_type": "stream",
     "text": [
      "Tensor(\"strided_slice_6:0\", shape=(), dtype=float32)\n"
     ]
    }
   ],
   "source": [
    "print(correct_predictions[0])"
   ]
  },
  {
   "cell_type": "code",
   "execution_count": 423,
   "metadata": {
    "collapsed": false
   },
   "outputs": [
    {
     "data": {
      "text/plain": [
       "<tf.Tensor 'Mean_23:0' shape=() dtype=float32>"
      ]
     },
     "execution_count": 423,
     "metadata": {},
     "output_type": "execute_result"
    }
   ],
   "source": [
    "accuracy = tf.reduce_mean(correct_predictions)\n",
    "accuracy"
   ]
  },
  {
   "cell_type": "code",
   "execution_count": 424,
   "metadata": {
    "collapsed": false
   },
   "outputs": [],
   "source": [
    "sess = tf.Session()\n",
    "#sess.run(accuracy)"
   ]
  },
  {
   "cell_type": "code",
   "execution_count": 425,
   "metadata": {
    "collapsed": false
   },
   "outputs": [],
   "source": [
    "#print(\"Accuracy:\", accuracy.eval({x: X_test, y: y_test}))"
   ]
  },
  {
   "cell_type": "code",
   "execution_count": null,
   "metadata": {
    "collapsed": true
   },
   "outputs": [],
   "source": [
    "X_test.shape\n",
    "X11 = X_test.as_matrix()\n",
    "y11 = y_test.as_matrix()\n",
    "X11.shape\n",
    "\n",
    "X1[11].shape\n",
    "X_test.shape\n",
    "\n",
    "X22= np.array([X11[1]])\n",
    "X22.shape\n",
    "\n",
    "y11.shape"
   ]
  },
  {
   "cell_type": "code",
   "execution_count": null,
   "metadata": {
    "collapsed": true
   },
   "outputs": [],
   "source": []
  }
 ],
 "metadata": {
  "kernelspec": {
   "display_name": "Python 2",
   "language": "python",
   "name": "python2"
  },
  "language_info": {
   "codemirror_mode": {
    "name": "ipython",
    "version": 2
   },
   "file_extension": ".py",
   "mimetype": "text/x-python",
   "name": "python",
   "nbconvert_exporter": "python",
   "pygments_lexer": "ipython2",
   "version": "2.7.11"
  }
 },
 "nbformat": 4,
 "nbformat_minor": 0
}
