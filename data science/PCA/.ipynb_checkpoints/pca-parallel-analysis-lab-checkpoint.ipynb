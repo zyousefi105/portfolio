{
 "cells": [
  {
   "cell_type": "markdown",
   "metadata": {},
   "source": [
    "# PCA and Horn's Parallel Analysis Lab\n",
    "\n",
    "In this lab you'll practice using PCA on two datasets: heptathalon performance \n",
    "Horn's Parallel Analysis is a way to determine how many components you should keep after using a PCA on your data. Essentially it will tell you which of your components are likely noise which can be discarded.\n",
    "\n",
    "---\n",
    "\n",
    "### Load packages and heptathalon data"
   ]
  },
  {
   "cell_type": "code",
   "execution_count": 23,
   "metadata": {
    "collapsed": true
   },
   "outputs": [],
   "source": [
    "import matplotlib.pyplot as plt\n",
    "import numpy as np\n",
    "import pandas as pd\n",
    "import seaborn as sns\n",
    "\n",
    "plt.style.use('fivethirtyeight')\n",
    "\n",
    "from ipywidgets import *\n",
    "from IPython.display import display\n",
    "\n",
    "%matplotlib inline\n",
    "%config InlineBackend.figure_format = 'retina'"
   ]
  },
  {
   "cell_type": "code",
   "execution_count": 24,
   "metadata": {
    "collapsed": false
   },
   "outputs": [],
   "source": [
    "hep = pd.read_csv('heptathlon.csv')"
   ]
  },
  {
   "cell_type": "code",
   "execution_count": 25,
   "metadata": {
    "collapsed": false
   },
   "outputs": [
    {
     "data": {
      "text/plain": [
       "Index([u'hurdles', u'highjump', u'shot', u'run200m', u'longjump', u'javelin',\n",
       "       u'run800m', u'score'],\n",
       "      dtype='object')"
      ]
     },
     "execution_count": 25,
     "metadata": {},
     "output_type": "execute_result"
    }
   ],
   "source": [
    "hep.columns[1:]"
   ]
  },
  {
   "cell_type": "code",
   "execution_count": 26,
   "metadata": {
    "collapsed": true
   },
   "outputs": [],
   "source": [
    "hep.columns = ['athlete'] + hep.columns[1:].tolist()"
   ]
  },
  {
   "cell_type": "code",
   "execution_count": 27,
   "metadata": {
    "collapsed": false
   },
   "outputs": [
    {
     "data": {
      "text/html": [
       "<div>\n",
       "<table border=\"1\" class=\"dataframe\">\n",
       "  <thead>\n",
       "    <tr style=\"text-align: right;\">\n",
       "      <th></th>\n",
       "      <th>athlete</th>\n",
       "      <th>hurdles</th>\n",
       "      <th>highjump</th>\n",
       "      <th>shot</th>\n",
       "      <th>run200m</th>\n",
       "      <th>longjump</th>\n",
       "      <th>javelin</th>\n",
       "      <th>run800m</th>\n",
       "      <th>score</th>\n",
       "    </tr>\n",
       "  </thead>\n",
       "  <tbody>\n",
       "    <tr>\n",
       "      <th>0</th>\n",
       "      <td>Joyner-Kersee (USA)</td>\n",
       "      <td>12.69</td>\n",
       "      <td>1.86</td>\n",
       "      <td>15.80</td>\n",
       "      <td>22.56</td>\n",
       "      <td>7.27</td>\n",
       "      <td>45.66</td>\n",
       "      <td>128.51</td>\n",
       "      <td>7291</td>\n",
       "    </tr>\n",
       "    <tr>\n",
       "      <th>1</th>\n",
       "      <td>John (GDR)</td>\n",
       "      <td>12.85</td>\n",
       "      <td>1.80</td>\n",
       "      <td>16.23</td>\n",
       "      <td>23.65</td>\n",
       "      <td>6.71</td>\n",
       "      <td>42.56</td>\n",
       "      <td>126.12</td>\n",
       "      <td>6897</td>\n",
       "    </tr>\n",
       "    <tr>\n",
       "      <th>2</th>\n",
       "      <td>Behmer (GDR)</td>\n",
       "      <td>13.20</td>\n",
       "      <td>1.83</td>\n",
       "      <td>14.20</td>\n",
       "      <td>23.10</td>\n",
       "      <td>6.68</td>\n",
       "      <td>44.54</td>\n",
       "      <td>124.20</td>\n",
       "      <td>6858</td>\n",
       "    </tr>\n",
       "  </tbody>\n",
       "</table>\n",
       "</div>"
      ],
      "text/plain": [
       "               athlete  hurdles  highjump   shot  run200m  longjump  javelin  \\\n",
       "0  Joyner-Kersee (USA)    12.69      1.86  15.80    22.56      7.27    45.66   \n",
       "1           John (GDR)    12.85      1.80  16.23    23.65      6.71    42.56   \n",
       "2         Behmer (GDR)    13.20      1.83  14.20    23.10      6.68    44.54   \n",
       "\n",
       "   run800m  score  \n",
       "0   128.51   7291  \n",
       "1   126.12   6897  \n",
       "2   124.20   6858  "
      ]
     },
     "execution_count": 27,
     "metadata": {},
     "output_type": "execute_result"
    }
   ],
   "source": [
    "hep.head(3)"
   ]
  },
  {
   "cell_type": "code",
   "execution_count": 28,
   "metadata": {
    "collapsed": false
   },
   "outputs": [
    {
     "data": {
      "text/html": [
       "<div>\n",
       "<table border=\"1\" class=\"dataframe\">\n",
       "  <thead>\n",
       "    <tr style=\"text-align: right;\">\n",
       "      <th></th>\n",
       "      <th>hurdles</th>\n",
       "      <th>highjump</th>\n",
       "      <th>shot</th>\n",
       "      <th>run200m</th>\n",
       "      <th>longjump</th>\n",
       "      <th>javelin</th>\n",
       "      <th>run800m</th>\n",
       "      <th>score</th>\n",
       "    </tr>\n",
       "  </thead>\n",
       "  <tbody>\n",
       "    <tr>\n",
       "      <th>hurdles</th>\n",
       "      <td>1.000000</td>\n",
       "      <td>-0.811403</td>\n",
       "      <td>-0.651335</td>\n",
       "      <td>0.773721</td>\n",
       "      <td>-0.912134</td>\n",
       "      <td>-0.007763</td>\n",
       "      <td>0.779257</td>\n",
       "      <td>-0.923198</td>\n",
       "    </tr>\n",
       "    <tr>\n",
       "      <th>highjump</th>\n",
       "      <td>-0.811403</td>\n",
       "      <td>1.000000</td>\n",
       "      <td>0.440786</td>\n",
       "      <td>-0.487664</td>\n",
       "      <td>0.782442</td>\n",
       "      <td>0.002153</td>\n",
       "      <td>-0.591163</td>\n",
       "      <td>0.767359</td>\n",
       "    </tr>\n",
       "    <tr>\n",
       "      <th>shot</th>\n",
       "      <td>-0.651335</td>\n",
       "      <td>0.440786</td>\n",
       "      <td>1.000000</td>\n",
       "      <td>-0.682670</td>\n",
       "      <td>0.743073</td>\n",
       "      <td>0.268989</td>\n",
       "      <td>-0.419620</td>\n",
       "      <td>0.799699</td>\n",
       "    </tr>\n",
       "    <tr>\n",
       "      <th>run200m</th>\n",
       "      <td>0.773721</td>\n",
       "      <td>-0.487664</td>\n",
       "      <td>-0.682670</td>\n",
       "      <td>1.000000</td>\n",
       "      <td>-0.817205</td>\n",
       "      <td>-0.333043</td>\n",
       "      <td>0.616810</td>\n",
       "      <td>-0.864883</td>\n",
       "    </tr>\n",
       "    <tr>\n",
       "      <th>longjump</th>\n",
       "      <td>-0.912134</td>\n",
       "      <td>0.782442</td>\n",
       "      <td>0.743073</td>\n",
       "      <td>-0.817205</td>\n",
       "      <td>1.000000</td>\n",
       "      <td>0.067108</td>\n",
       "      <td>-0.699511</td>\n",
       "      <td>0.950437</td>\n",
       "    </tr>\n",
       "    <tr>\n",
       "      <th>javelin</th>\n",
       "      <td>-0.007763</td>\n",
       "      <td>0.002153</td>\n",
       "      <td>0.268989</td>\n",
       "      <td>-0.333043</td>\n",
       "      <td>0.067108</td>\n",
       "      <td>1.000000</td>\n",
       "      <td>0.020049</td>\n",
       "      <td>0.253147</td>\n",
       "    </tr>\n",
       "    <tr>\n",
       "      <th>run800m</th>\n",
       "      <td>0.779257</td>\n",
       "      <td>-0.591163</td>\n",
       "      <td>-0.419620</td>\n",
       "      <td>0.616810</td>\n",
       "      <td>-0.699511</td>\n",
       "      <td>0.020049</td>\n",
       "      <td>1.000000</td>\n",
       "      <td>-0.772776</td>\n",
       "    </tr>\n",
       "    <tr>\n",
       "      <th>score</th>\n",
       "      <td>-0.923198</td>\n",
       "      <td>0.767359</td>\n",
       "      <td>0.799699</td>\n",
       "      <td>-0.864883</td>\n",
       "      <td>0.950437</td>\n",
       "      <td>0.253147</td>\n",
       "      <td>-0.772776</td>\n",
       "      <td>1.000000</td>\n",
       "    </tr>\n",
       "  </tbody>\n",
       "</table>\n",
       "</div>"
      ],
      "text/plain": [
       "           hurdles  highjump      shot   run200m  longjump   javelin  \\\n",
       "hurdles   1.000000 -0.811403 -0.651335  0.773721 -0.912134 -0.007763   \n",
       "highjump -0.811403  1.000000  0.440786 -0.487664  0.782442  0.002153   \n",
       "shot     -0.651335  0.440786  1.000000 -0.682670  0.743073  0.268989   \n",
       "run200m   0.773721 -0.487664 -0.682670  1.000000 -0.817205 -0.333043   \n",
       "longjump -0.912134  0.782442  0.743073 -0.817205  1.000000  0.067108   \n",
       "javelin  -0.007763  0.002153  0.268989 -0.333043  0.067108  1.000000   \n",
       "run800m   0.779257 -0.591163 -0.419620  0.616810 -0.699511  0.020049   \n",
       "score    -0.923198  0.767359  0.799699 -0.864883  0.950437  0.253147   \n",
       "\n",
       "           run800m     score  \n",
       "hurdles   0.779257 -0.923198  \n",
       "highjump -0.591163  0.767359  \n",
       "shot     -0.419620  0.799699  \n",
       "run200m   0.616810 -0.864883  \n",
       "longjump -0.699511  0.950437  \n",
       "javelin   0.020049  0.253147  \n",
       "run800m   1.000000 -0.772776  \n",
       "score    -0.772776  1.000000  "
      ]
     },
     "execution_count": 28,
     "metadata": {},
     "output_type": "execute_result"
    }
   ],
   "source": [
    "hep.iloc[:,1:].corr()"
   ]
  },
  {
   "cell_type": "code",
   "execution_count": 29,
   "metadata": {
    "collapsed": true
   },
   "outputs": [],
   "source": [
    "from sklearn.decomposition import PCA"
   ]
  },
  {
   "cell_type": "code",
   "execution_count": 30,
   "metadata": {
    "collapsed": true
   },
   "outputs": [],
   "source": [
    "from sklearn.preprocessing import StandardScaler\n",
    "hep_n = StandardScaler().fit_transform(hep.iloc[:,1:-1])\n",
    "hep_n[:,[0,3,6]] *= -1\n"
   ]
  },
  {
   "cell_type": "code",
   "execution_count": 31,
   "metadata": {
    "collapsed": true
   },
   "outputs": [],
   "source": [
    "pca = PCA().fit(hep_n)"
   ]
  },
  {
   "cell_type": "code",
   "execution_count": 32,
   "metadata": {
    "collapsed": false
   },
   "outputs": [
    {
     "data": {
      "text/plain": [
       "array([[-0.45287105, -0.37719923, -0.3630725 , -0.40789504, -0.45623185,\n",
       "        -0.075409  , -0.37495938],\n",
       "       [-0.15792058, -0.24807386,  0.28940743,  0.26038545, -0.05587394,\n",
       "         0.84169212, -0.22448984],\n",
       "       [ 0.04514996,  0.36777902, -0.67618919, -0.08359211, -0.13931653,\n",
       "         0.47156016,  0.39585671],\n",
       "       [ 0.02653873,  0.67999172,  0.12431725, -0.3610658 ,  0.11129249,\n",
       "         0.12079924, -0.6034113 ],\n",
       "       [ 0.09494792, -0.01879888, -0.51165201,  0.64983404,  0.1842981 ,\n",
       "        -0.13510669, -0.50432116],\n",
       "       [ 0.78334101, -0.09939981,  0.05085983, -0.02495639, -0.59020972,\n",
       "         0.02724076, -0.1555552 ],\n",
       "       [ 0.38024707, -0.43393114, -0.21762491, -0.45338483,  0.61206388,\n",
       "         0.17294667, -0.09830963]])"
      ]
     },
     "execution_count": 32,
     "metadata": {},
     "output_type": "execute_result"
    }
   ],
   "source": [
    "pca.components_"
   ]
  },
  {
   "cell_type": "code",
   "execution_count": 33,
   "metadata": {
    "collapsed": false
   },
   "outputs": [
    {
     "name": "stdout",
     "output_type": "stream",
     "text": [
      "hurdles -0.452871046493\n",
      "highjump -0.377199230356\n",
      "shot -0.363072497179\n",
      "run200m -0.407895041255\n",
      "longjump -0.456231849776\n",
      "javelin -0.0754089953116\n",
      "run800m -0.374959378673\n"
     ]
    }
   ],
   "source": [
    "pca1_evec = pca.components_[0]\n",
    "for weight, event in zip(pca1_evec, hep.iloc[:,1:-1].columns):\n",
    "    print event, weight"
   ]
  },
  {
   "cell_type": "code",
   "execution_count": 34,
   "metadata": {
    "collapsed": false
   },
   "outputs": [
    {
     "name": "stdout",
     "output_type": "stream",
     "text": [
      "hurdles 0.0451499646706\n",
      "highjump 0.367779024656\n",
      "shot -0.676189188799\n",
      "run200m -0.0835921094786\n",
      "longjump -0.139316525161\n",
      "javelin 0.471560156559\n",
      "run800m 0.395856709505\n"
     ]
    }
   ],
   "source": [
    "pca2_evec = pca.components_[2]\n",
    "for weight, event in zip(pca2_evec, hep.iloc[:,1:-1].columns):\n",
    "    print event, weight"
   ]
  },
  {
   "cell_type": "markdown",
   "metadata": {},
   "source": [
    "---\n",
    "\n",
    "### Create dataframe excluding athlete and score"
   ]
  },
  {
   "cell_type": "code",
   "execution_count": 37,
   "metadata": {
    "collapsed": false
   },
   "outputs": [
    {
     "data": {
      "text/html": [
       "<div>\n",
       "<table border=\"1\" class=\"dataframe\">\n",
       "  <thead>\n",
       "    <tr style=\"text-align: right;\">\n",
       "      <th></th>\n",
       "      <th>hurdles</th>\n",
       "      <th>highjump</th>\n",
       "      <th>shot</th>\n",
       "      <th>run200m</th>\n",
       "      <th>longjump</th>\n",
       "      <th>javelin</th>\n",
       "      <th>run800m</th>\n",
       "    </tr>\n",
       "  </thead>\n",
       "  <tbody>\n",
       "    <tr>\n",
       "      <th>0</th>\n",
       "      <td>12.69</td>\n",
       "      <td>1.86</td>\n",
       "      <td>15.80</td>\n",
       "      <td>22.56</td>\n",
       "      <td>7.27</td>\n",
       "      <td>45.66</td>\n",
       "      <td>128.51</td>\n",
       "    </tr>\n",
       "    <tr>\n",
       "      <th>1</th>\n",
       "      <td>12.85</td>\n",
       "      <td>1.80</td>\n",
       "      <td>16.23</td>\n",
       "      <td>23.65</td>\n",
       "      <td>6.71</td>\n",
       "      <td>42.56</td>\n",
       "      <td>126.12</td>\n",
       "    </tr>\n",
       "    <tr>\n",
       "      <th>2</th>\n",
       "      <td>13.20</td>\n",
       "      <td>1.83</td>\n",
       "      <td>14.20</td>\n",
       "      <td>23.10</td>\n",
       "      <td>6.68</td>\n",
       "      <td>44.54</td>\n",
       "      <td>124.20</td>\n",
       "    </tr>\n",
       "    <tr>\n",
       "      <th>3</th>\n",
       "      <td>13.61</td>\n",
       "      <td>1.80</td>\n",
       "      <td>15.23</td>\n",
       "      <td>23.92</td>\n",
       "      <td>6.25</td>\n",
       "      <td>42.78</td>\n",
       "      <td>132.24</td>\n",
       "    </tr>\n",
       "    <tr>\n",
       "      <th>4</th>\n",
       "      <td>13.51</td>\n",
       "      <td>1.74</td>\n",
       "      <td>14.76</td>\n",
       "      <td>23.93</td>\n",
       "      <td>6.32</td>\n",
       "      <td>47.46</td>\n",
       "      <td>127.90</td>\n",
       "    </tr>\n",
       "    <tr>\n",
       "      <th>5</th>\n",
       "      <td>13.75</td>\n",
       "      <td>1.83</td>\n",
       "      <td>13.50</td>\n",
       "      <td>24.65</td>\n",
       "      <td>6.33</td>\n",
       "      <td>42.82</td>\n",
       "      <td>125.79</td>\n",
       "    </tr>\n",
       "    <tr>\n",
       "      <th>6</th>\n",
       "      <td>13.38</td>\n",
       "      <td>1.80</td>\n",
       "      <td>12.88</td>\n",
       "      <td>23.59</td>\n",
       "      <td>6.37</td>\n",
       "      <td>40.28</td>\n",
       "      <td>132.54</td>\n",
       "    </tr>\n",
       "    <tr>\n",
       "      <th>7</th>\n",
       "      <td>13.55</td>\n",
       "      <td>1.80</td>\n",
       "      <td>14.13</td>\n",
       "      <td>24.48</td>\n",
       "      <td>6.47</td>\n",
       "      <td>38.00</td>\n",
       "      <td>133.65</td>\n",
       "    </tr>\n",
       "    <tr>\n",
       "      <th>8</th>\n",
       "      <td>13.63</td>\n",
       "      <td>1.83</td>\n",
       "      <td>14.28</td>\n",
       "      <td>24.86</td>\n",
       "      <td>6.11</td>\n",
       "      <td>42.20</td>\n",
       "      <td>136.05</td>\n",
       "    </tr>\n",
       "    <tr>\n",
       "      <th>9</th>\n",
       "      <td>13.25</td>\n",
       "      <td>1.77</td>\n",
       "      <td>12.62</td>\n",
       "      <td>23.59</td>\n",
       "      <td>6.28</td>\n",
       "      <td>39.06</td>\n",
       "      <td>134.74</td>\n",
       "    </tr>\n",
       "    <tr>\n",
       "      <th>10</th>\n",
       "      <td>13.75</td>\n",
       "      <td>1.86</td>\n",
       "      <td>13.01</td>\n",
       "      <td>25.03</td>\n",
       "      <td>6.34</td>\n",
       "      <td>37.86</td>\n",
       "      <td>131.49</td>\n",
       "    </tr>\n",
       "    <tr>\n",
       "      <th>11</th>\n",
       "      <td>13.24</td>\n",
       "      <td>1.80</td>\n",
       "      <td>12.88</td>\n",
       "      <td>23.59</td>\n",
       "      <td>6.37</td>\n",
       "      <td>40.28</td>\n",
       "      <td>132.54</td>\n",
       "    </tr>\n",
       "    <tr>\n",
       "      <th>12</th>\n",
       "      <td>13.85</td>\n",
       "      <td>1.86</td>\n",
       "      <td>11.58</td>\n",
       "      <td>24.87</td>\n",
       "      <td>6.05</td>\n",
       "      <td>47.50</td>\n",
       "      <td>134.93</td>\n",
       "    </tr>\n",
       "    <tr>\n",
       "      <th>13</th>\n",
       "      <td>13.71</td>\n",
       "      <td>1.83</td>\n",
       "      <td>13.16</td>\n",
       "      <td>24.78</td>\n",
       "      <td>6.12</td>\n",
       "      <td>44.58</td>\n",
       "      <td>142.82</td>\n",
       "    </tr>\n",
       "    <tr>\n",
       "      <th>14</th>\n",
       "      <td>13.79</td>\n",
       "      <td>1.80</td>\n",
       "      <td>12.32</td>\n",
       "      <td>24.61</td>\n",
       "      <td>6.08</td>\n",
       "      <td>45.44</td>\n",
       "      <td>137.06</td>\n",
       "    </tr>\n",
       "    <tr>\n",
       "      <th>15</th>\n",
       "      <td>13.93</td>\n",
       "      <td>1.86</td>\n",
       "      <td>14.21</td>\n",
       "      <td>25.00</td>\n",
       "      <td>6.40</td>\n",
       "      <td>38.60</td>\n",
       "      <td>146.67</td>\n",
       "    </tr>\n",
       "    <tr>\n",
       "      <th>16</th>\n",
       "      <td>13.47</td>\n",
       "      <td>1.80</td>\n",
       "      <td>12.75</td>\n",
       "      <td>25.47</td>\n",
       "      <td>6.34</td>\n",
       "      <td>35.76</td>\n",
       "      <td>138.48</td>\n",
       "    </tr>\n",
       "    <tr>\n",
       "      <th>17</th>\n",
       "      <td>14.07</td>\n",
       "      <td>1.83</td>\n",
       "      <td>12.69</td>\n",
       "      <td>24.83</td>\n",
       "      <td>6.13</td>\n",
       "      <td>44.34</td>\n",
       "      <td>146.43</td>\n",
       "    </tr>\n",
       "    <tr>\n",
       "      <th>18</th>\n",
       "      <td>14.39</td>\n",
       "      <td>1.71</td>\n",
       "      <td>12.68</td>\n",
       "      <td>24.92</td>\n",
       "      <td>6.10</td>\n",
       "      <td>37.76</td>\n",
       "      <td>138.02</td>\n",
       "    </tr>\n",
       "    <tr>\n",
       "      <th>19</th>\n",
       "      <td>14.04</td>\n",
       "      <td>1.77</td>\n",
       "      <td>11.81</td>\n",
       "      <td>25.61</td>\n",
       "      <td>5.99</td>\n",
       "      <td>35.68</td>\n",
       "      <td>133.90</td>\n",
       "    </tr>\n",
       "    <tr>\n",
       "      <th>20</th>\n",
       "      <td>14.31</td>\n",
       "      <td>1.77</td>\n",
       "      <td>11.66</td>\n",
       "      <td>25.69</td>\n",
       "      <td>5.75</td>\n",
       "      <td>39.48</td>\n",
       "      <td>133.35</td>\n",
       "    </tr>\n",
       "    <tr>\n",
       "      <th>21</th>\n",
       "      <td>14.23</td>\n",
       "      <td>1.71</td>\n",
       "      <td>12.95</td>\n",
       "      <td>25.50</td>\n",
       "      <td>5.50</td>\n",
       "      <td>39.64</td>\n",
       "      <td>144.02</td>\n",
       "    </tr>\n",
       "    <tr>\n",
       "      <th>22</th>\n",
       "      <td>14.85</td>\n",
       "      <td>1.68</td>\n",
       "      <td>10.00</td>\n",
       "      <td>25.23</td>\n",
       "      <td>5.47</td>\n",
       "      <td>39.14</td>\n",
       "      <td>137.30</td>\n",
       "    </tr>\n",
       "    <tr>\n",
       "      <th>23</th>\n",
       "      <td>14.53</td>\n",
       "      <td>1.71</td>\n",
       "      <td>10.83</td>\n",
       "      <td>26.61</td>\n",
       "      <td>5.50</td>\n",
       "      <td>39.26</td>\n",
       "      <td>139.17</td>\n",
       "    </tr>\n",
       "    <tr>\n",
       "      <th>24</th>\n",
       "      <td>16.42</td>\n",
       "      <td>1.50</td>\n",
       "      <td>11.78</td>\n",
       "      <td>26.16</td>\n",
       "      <td>4.88</td>\n",
       "      <td>46.38</td>\n",
       "      <td>163.43</td>\n",
       "    </tr>\n",
       "  </tbody>\n",
       "</table>\n",
       "</div>"
      ],
      "text/plain": [
       "    hurdles  highjump   shot  run200m  longjump  javelin  run800m\n",
       "0     12.69      1.86  15.80    22.56      7.27    45.66   128.51\n",
       "1     12.85      1.80  16.23    23.65      6.71    42.56   126.12\n",
       "2     13.20      1.83  14.20    23.10      6.68    44.54   124.20\n",
       "3     13.61      1.80  15.23    23.92      6.25    42.78   132.24\n",
       "4     13.51      1.74  14.76    23.93      6.32    47.46   127.90\n",
       "5     13.75      1.83  13.50    24.65      6.33    42.82   125.79\n",
       "6     13.38      1.80  12.88    23.59      6.37    40.28   132.54\n",
       "7     13.55      1.80  14.13    24.48      6.47    38.00   133.65\n",
       "8     13.63      1.83  14.28    24.86      6.11    42.20   136.05\n",
       "9     13.25      1.77  12.62    23.59      6.28    39.06   134.74\n",
       "10    13.75      1.86  13.01    25.03      6.34    37.86   131.49\n",
       "11    13.24      1.80  12.88    23.59      6.37    40.28   132.54\n",
       "12    13.85      1.86  11.58    24.87      6.05    47.50   134.93\n",
       "13    13.71      1.83  13.16    24.78      6.12    44.58   142.82\n",
       "14    13.79      1.80  12.32    24.61      6.08    45.44   137.06\n",
       "15    13.93      1.86  14.21    25.00      6.40    38.60   146.67\n",
       "16    13.47      1.80  12.75    25.47      6.34    35.76   138.48\n",
       "17    14.07      1.83  12.69    24.83      6.13    44.34   146.43\n",
       "18    14.39      1.71  12.68    24.92      6.10    37.76   138.02\n",
       "19    14.04      1.77  11.81    25.61      5.99    35.68   133.90\n",
       "20    14.31      1.77  11.66    25.69      5.75    39.48   133.35\n",
       "21    14.23      1.71  12.95    25.50      5.50    39.64   144.02\n",
       "22    14.85      1.68  10.00    25.23      5.47    39.14   137.30\n",
       "23    14.53      1.71  10.83    26.61      5.50    39.26   139.17\n",
       "24    16.42      1.50  11.78    26.16      4.88    46.38   163.43"
      ]
     },
     "execution_count": 37,
     "metadata": {},
     "output_type": "execute_result"
    }
   ],
   "source": [
    "dt = hep.drop(['athlete','score'],axis=1)\n",
    "dt"
   ]
  },
  {
   "cell_type": "markdown",
   "metadata": {},
   "source": [
    "---\n",
    "\n",
    "### Examine the correlation between the different events\n",
    "\n",
    "Plot a heatmap if you want to get fancy. What does the correlation matrix tell you?"
   ]
  },
  {
   "cell_type": "code",
   "execution_count": 38,
   "metadata": {
    "collapsed": false
   },
   "outputs": [
    {
     "data": {
      "text/html": [
       "<div>\n",
       "<table border=\"1\" class=\"dataframe\">\n",
       "  <thead>\n",
       "    <tr style=\"text-align: right;\">\n",
       "      <th></th>\n",
       "      <th>hurdles</th>\n",
       "      <th>highjump</th>\n",
       "      <th>shot</th>\n",
       "      <th>run200m</th>\n",
       "      <th>longjump</th>\n",
       "      <th>javelin</th>\n",
       "      <th>run800m</th>\n",
       "    </tr>\n",
       "  </thead>\n",
       "  <tbody>\n",
       "    <tr>\n",
       "      <th>hurdles</th>\n",
       "      <td>1.000000</td>\n",
       "      <td>-0.811403</td>\n",
       "      <td>-0.651335</td>\n",
       "      <td>0.773721</td>\n",
       "      <td>-0.912134</td>\n",
       "      <td>-0.007763</td>\n",
       "      <td>0.779257</td>\n",
       "    </tr>\n",
       "    <tr>\n",
       "      <th>highjump</th>\n",
       "      <td>-0.811403</td>\n",
       "      <td>1.000000</td>\n",
       "      <td>0.440786</td>\n",
       "      <td>-0.487664</td>\n",
       "      <td>0.782442</td>\n",
       "      <td>0.002153</td>\n",
       "      <td>-0.591163</td>\n",
       "    </tr>\n",
       "    <tr>\n",
       "      <th>shot</th>\n",
       "      <td>-0.651335</td>\n",
       "      <td>0.440786</td>\n",
       "      <td>1.000000</td>\n",
       "      <td>-0.682670</td>\n",
       "      <td>0.743073</td>\n",
       "      <td>0.268989</td>\n",
       "      <td>-0.419620</td>\n",
       "    </tr>\n",
       "    <tr>\n",
       "      <th>run200m</th>\n",
       "      <td>0.773721</td>\n",
       "      <td>-0.487664</td>\n",
       "      <td>-0.682670</td>\n",
       "      <td>1.000000</td>\n",
       "      <td>-0.817205</td>\n",
       "      <td>-0.333043</td>\n",
       "      <td>0.616810</td>\n",
       "    </tr>\n",
       "    <tr>\n",
       "      <th>longjump</th>\n",
       "      <td>-0.912134</td>\n",
       "      <td>0.782442</td>\n",
       "      <td>0.743073</td>\n",
       "      <td>-0.817205</td>\n",
       "      <td>1.000000</td>\n",
       "      <td>0.067108</td>\n",
       "      <td>-0.699511</td>\n",
       "    </tr>\n",
       "    <tr>\n",
       "      <th>javelin</th>\n",
       "      <td>-0.007763</td>\n",
       "      <td>0.002153</td>\n",
       "      <td>0.268989</td>\n",
       "      <td>-0.333043</td>\n",
       "      <td>0.067108</td>\n",
       "      <td>1.000000</td>\n",
       "      <td>0.020049</td>\n",
       "    </tr>\n",
       "    <tr>\n",
       "      <th>run800m</th>\n",
       "      <td>0.779257</td>\n",
       "      <td>-0.591163</td>\n",
       "      <td>-0.419620</td>\n",
       "      <td>0.616810</td>\n",
       "      <td>-0.699511</td>\n",
       "      <td>0.020049</td>\n",
       "      <td>1.000000</td>\n",
       "    </tr>\n",
       "  </tbody>\n",
       "</table>\n",
       "</div>"
      ],
      "text/plain": [
       "           hurdles  highjump      shot   run200m  longjump   javelin   run800m\n",
       "hurdles   1.000000 -0.811403 -0.651335  0.773721 -0.912134 -0.007763  0.779257\n",
       "highjump -0.811403  1.000000  0.440786 -0.487664  0.782442  0.002153 -0.591163\n",
       "shot     -0.651335  0.440786  1.000000 -0.682670  0.743073  0.268989 -0.419620\n",
       "run200m   0.773721 -0.487664 -0.682670  1.000000 -0.817205 -0.333043  0.616810\n",
       "longjump -0.912134  0.782442  0.743073 -0.817205  1.000000  0.067108 -0.699511\n",
       "javelin  -0.007763  0.002153  0.268989 -0.333043  0.067108  1.000000  0.020049\n",
       "run800m   0.779257 -0.591163 -0.419620  0.616810 -0.699511  0.020049  1.000000"
      ]
     },
     "execution_count": 38,
     "metadata": {},
     "output_type": "execute_result"
    }
   ],
   "source": [
    "dt.corr()"
   ]
  },
  {
   "cell_type": "markdown",
   "metadata": {},
   "source": [
    "---\n",
    "\n",
    "### Standardize the data"
   ]
  },
  {
   "cell_type": "code",
   "execution_count": 39,
   "metadata": {
    "collapsed": true
   },
   "outputs": [],
   "source": [
    "from sklearn.preprocessing import StandardScaler\n",
    "\n",
    "\n"
   ]
  },
  {
   "cell_type": "markdown",
   "metadata": {},
   "source": [
    "---\n",
    "\n",
    "### Fit a PCA on the standardized data using sklearn"
   ]
  },
  {
   "cell_type": "code",
   "execution_count": 40,
   "metadata": {
    "collapsed": true
   },
   "outputs": [],
   "source": [
    "hep_pca = PCA()\n",
    "hep_pca.fit(dt)\n",
    "stats_pcs = hep_pca.transform(dt)"
   ]
  },
  {
   "cell_type": "markdown",
   "metadata": {},
   "source": [
    "---\n",
    "\n",
    "### Create a DataFrame with the principal components\n",
    "\n",
    "Add back in the athelete and score columns from the original data."
   ]
  },
  {
   "cell_type": "code",
   "execution_count": 41,
   "metadata": {
    "collapsed": false
   },
   "outputs": [],
   "source": [
    "stats_pcs = pd.DataFrame(stats_pcs, columns=['PC'+str(i) for i in range(1,8)])\n",
    "stats_pcs['PCA1'] = hep.iloc[:,0]\n",
    "stats_pcs['PCA2'] = hep.score"
   ]
  },
  {
   "cell_type": "code",
   "execution_count": 42,
   "metadata": {
    "collapsed": false
   },
   "outputs": [
    {
     "data": {
      "text/plain": [
       "array([[  6.95086924e-02,  -5.56978060e-03,  -7.79060896e-02,\n",
       "          7.29675448e-02,  -4.03692989e-02,   6.68558370e-03,\n",
       "          9.90994208e-01],\n",
       "       [ -9.48914170e-03,   5.64714749e-04,   1.35928233e-01,\n",
       "         -1.01200427e-01,   1.48845034e-02,   9.85295451e-01,\n",
       "          1.27652701e-02],\n",
       "       [  2.21808290e-01,  -1.45140493e-02,  -8.83740455e-01,\n",
       "          3.10057000e-01,  -1.84943194e-01,   1.60212685e-01,\n",
       "         -1.16558146e-01],\n",
       "       [ -3.27376739e-01,   2.12385605e-02,  -4.25006542e-01,\n",
       "         -8.15852202e-01,   2.04198278e-01,  -3.21690666e-02,\n",
       "          5.82772002e-02],\n",
       "       [  8.07029319e-01,  -1.40138230e-01,   1.04422071e-01,\n",
       "         -4.61786801e-01,  -3.18993151e-01,  -4.88038779e-02,\n",
       "         -2.78475644e-02],\n",
       "       [ -4.24850883e-01,  -9.83735676e-02,   5.17448016e-02,\n",
       "         -8.24862444e-02,  -8.94592570e-01,  -6.17043752e-03,\n",
       "          2.98704278e-03],\n",
       "       [ -8.31231453e-02,  -9.84881131e-01,  -1.56496439e-02,\n",
       "          5.13129737e-02,   1.42110352e-01,   5.03300452e-03,\n",
       "          1.04145084e-03]])"
      ]
     },
     "execution_count": 42,
     "metadata": {},
     "output_type": "execute_result"
    }
   ],
   "source": [
    "hep_pca.components_"
   ]
  },
  {
   "cell_type": "markdown",
   "metadata": {},
   "source": [
    "---\n",
    "\n",
    "### Plot the variance explained (ratio) of your components\n",
    "\n",
    "Explain what this chart tells you about your components."
   ]
  },
  {
   "cell_type": "code",
   "execution_count": 44,
   "metadata": {
    "collapsed": false
   },
   "outputs": [
    {
     "ename": "AttributeError",
     "evalue": "'PCA' object has no attribute 'explained_'",
     "output_type": "error",
     "traceback": [
      "\u001b[1;31m---------------------------------------------------------------------------\u001b[0m",
      "\u001b[1;31mAttributeError\u001b[0m                            Traceback (most recent call last)",
      "\u001b[1;32m<ipython-input-44-6249812643bd>\u001b[0m in \u001b[0;36m<module>\u001b[1;34m()\u001b[0m\n\u001b[1;32m----> 1\u001b[1;33m \u001b[0mhep_pca\u001b[0m\u001b[1;33m.\u001b[0m\u001b[0mexplained_\u001b[0m \u001b[1;31m#............????\u001b[0m\u001b[1;33m\u001b[0m\u001b[0m\n\u001b[0m",
      "\u001b[1;31mAttributeError\u001b[0m: 'PCA' object has no attribute 'explained_'"
     ]
    }
   ],
   "source": [
    "hep_pca.explained_variance_ #............????"
   ]
  },
  {
   "cell_type": "code",
   "execution_count": null,
   "metadata": {
    "collapsed": false
   },
   "outputs": [],
   "source": [
    "fig, ax = plt.subplots(figsize=(8,6))\n",
    "ax.plot(range(1, stats.shape[1]+1), hep_pca.explained_variance_ratio_, lw=2)\n",
    "ax.scatter(range(1, stats.shape[1]+1), hep_pca.explained_variance_ratio_, s=100)\n",
    "ax.set_title('explained variance of components')\n",
    "ax.set_xlabel('principal component')\n",
    "ax.set_ylabel('explained variance')\n",
    "plt.show()"
   ]
  },
  {
   "cell_type": "markdown",
   "metadata": {},
   "source": [
    "---\n",
    "\n",
    "### Print out the weights/eigenvectors (.components_ ) with their corresponding variables for PC1 and PC2\n",
    "\n",
    "Based on how the original variables are weighted to calculate the components, how would you describe PC1 and PC2?"
   ]
  },
  {
   "cell_type": "code",
   "execution_count": null,
   "metadata": {
    "collapsed": false
   },
   "outputs": [],
   "source": [
    "for col, comp in zip(stats.columns, hep_pca.components_[??]):\n",
    "    print col, comp"
   ]
  },
  {
   "cell_type": "code",
   "execution_count": null,
   "metadata": {
    "collapsed": false
   },
   "outputs": [],
   "source": [
    "for col, comp in zip(stats.columns, hep_pca.components_[??]):\n",
    "    print col, comp"
   ]
  },
  {
   "cell_type": "code",
   "execution_count": null,
   "metadata": {
    "collapsed": false
   },
   "outputs": [],
   "source": [
    "stats_pcs.head()"
   ]
  },
  {
   "cell_type": "markdown",
   "metadata": {},
   "source": [
    "---\n",
    "\n",
    "### Plot PC1 vs. PC2. Which athletes are notable on each component?"
   ]
  },
  {
   "cell_type": "code",
   "execution_count": null,
   "metadata": {
    "collapsed": false
   },
   "outputs": [],
   "source": [
    "fig, ax = plt.subplots(figsize=(10,8))\n",
    "ax.scatter(stats_pcs.PC1.values, stats_pcs.PC2.values, s=0)\n",
    "\n",
    "for i, txt in enumerate(stats_pcs.athlete.values):\n",
    "    ax.annotate(txt, (0, 0), (stats_pcs.PC1.values[i], stats_pcs.PC2.values[i]),\n",
    "            arrowprops=dict(arrowstyle='<-', color='black', linewidth=1.5),\n",
    "            xycoords='data', textcoords='data', fontsize=12, color=\"black\")\n",
    "\n",
    "ax.set_title('PC1 (run) vs. PC2 (javelin/shot)')\n",
    "ax.set_xlabel('principal component 1 (run)')\n",
    "ax.set_ylabel('principal component 2 (javelin/shot)')\n",
    "plt.show()"
   ]
  },
  {
   "cell_type": "markdown",
   "metadata": {},
   "source": [
    "---\n",
    "\n",
    "### Plot PC1 vs. score and PC2 vs. score. What does this tell you about the relationship between the events and the score?"
   ]
  },
  {
   "cell_type": "code",
   "execution_count": null,
   "metadata": {
    "collapsed": false
   },
   "outputs": [],
   "source": [
    "fig, ax = plt.subplots(figsize=(8,7))\n",
    "ax.scatter(stats_pcs.???.????, stats_pcs.???.??, s=100)\n",
    "\n",
    "ax.set_title('PC1 (run) vs. score')\n",
    "ax.set_xlabel('principal component 1 (run)')\n",
    "ax.set_ylabel('score')\n",
    "plt.show()"
   ]
  },
  {
   "cell_type": "code",
   "execution_count": null,
   "metadata": {
    "collapsed": false
   },
   "outputs": [],
   "source": [
    "fig, ax = plt.subplots(figsize=(8,7))\n",
    "ax.scatter(??, ???, s=100, c='darkred')\n",
    "\n",
    "ax.set_title('PC2 (shot/javelin) vs. score')\n",
    "ax.set_xlabel('principal component 2 (shot/javelin)')\n",
    "ax.set_ylabel('score')\n",
    "plt.show()"
   ]
  },
  {
   "cell_type": "markdown",
   "metadata": {},
   "source": [
    "---\n",
    "\n",
    "### Horn's parallel analysis\n",
    "\n",
    "You can determine the appropriate number of components to keep by using a bootstrapping procedure known as Horn's Parallel Analysis. This is (as far as I know) the gold standard in determining which components aren't noise.\n",
    "\n",
    "How to do the parallel analysis (pseudocode):\n",
    "\n",
    "    for n iterations:\n",
    "        create normally distributed random data the same shape as your data\n",
    "        fit a PCA on the random data\n",
    "        pull out the eigenvalues\n",
    "    select a percentile of the eigenvalues as your threshold (0.5 = median, 0.95 = 95% confidence, etc.)\n",
    "    plot the random component eigenvalues at that percentile against your data's pca eigenvalues\n",
    "    components above the selected percentile are not noise, those under are\n",
    "    \n",
    "    \n",
    "Write a function to perform the parallel analysis."
   ]
  },
  {
   "cell_type": "code",
   "execution_count": null,
   "metadata": {
    "collapsed": true
   },
   "outputs": [],
   "source": [
    "def horn_parallel_analysis(shape, iters=1000, percentile=95):\n",
    "    pca = PCA(n_components=shape[1])\n",
    "    eigenvals = []\n",
    "    for i in range(iters):\n",
    "        rdata = np.random.normal(0,1,size=shape)\n",
    "        pca.fit(rdata)\n",
    "        eigenvals.append(pca.explained_variance_)\n",
    "    eigenvals = np.array(eigenvals)\n",
    "    return np.percentile(eigenvals, percentile, axis=0)"
   ]
  },
  {
   "cell_type": "markdown",
   "metadata": {},
   "source": [
    "---\n",
    "\n",
    "### Run parallel analysis for the data"
   ]
  },
  {
   "cell_type": "code",
   "execution_count": null,
   "metadata": {
    "collapsed": false
   },
   "outputs": [],
   "source": [
    "hep_pa = horn_parallel_analysis(hep.iloc[:,1:-1].shape, percentile=95)"
   ]
  },
  {
   "cell_type": "markdown",
   "metadata": {},
   "source": [
    "---\n",
    "\n",
    "### Plot the wine eigenvalues (`.variance_explained_`) against the parallel analysis random eigenvalue cutoffs\n",
    "\n",
    "How many components are not noise, based on the chart?"
   ]
  },
  {
   "cell_type": "code",
   "execution_count": null,
   "metadata": {
    "collapsed": false
   },
   "outputs": [],
   "source": [
    "fig, ax = plt.subplots(figsize=(8,6))\n",
    "\n",
    "ax.plot(range(1, hep.iloc[:,1:-1].shape[1]+1), hep_pca.explained_variance_, lw=2)\n",
    "ax.scatter(range(1, hep.iloc[:,1:-1].shape[1]+1), hep_pca.explained_variance_, s=50)\n",
    "\n",
    "ax.plot(range(1, len(hep_pa)+1), hep_pa, lw=2, color='darkred')\n",
    "ax.scatter(range(1, len(hep_pa)+1), hep_pa, s=40, color='darkred')\n",
    "\n",
    "\n",
    "ax.set_title('Horns parallel analysis on hep data components')\n",
    "ax.set_xlabel('principal component')\n",
    "ax.set_ylabel('eigenvalue')\n",
    "plt.show()"
   ]
  },
  {
   "cell_type": "code",
   "execution_count": null,
   "metadata": {
    "collapsed": true
   },
   "outputs": [],
   "source": []
  }
 ],
 "metadata": {
  "anaconda-cloud": {},
  "kernelspec": {
   "display_name": "Python 2",
   "language": "python",
   "name": "python2"
  },
  "language_info": {
   "codemirror_mode": {
    "name": "ipython",
    "version": 2
   },
   "file_extension": ".py",
   "mimetype": "text/x-python",
   "name": "python",
   "nbconvert_exporter": "python",
   "pygments_lexer": "ipython2",
   "version": "2.7.11"
  }
 },
 "nbformat": 4,
 "nbformat_minor": 0
}
