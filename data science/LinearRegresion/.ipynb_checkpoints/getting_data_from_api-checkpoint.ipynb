{
 "cells": [
  {
   "cell_type": "code",
   "execution_count": 1,
   "metadata": {
    "collapsed": false
   },
   "outputs": [
    {
     "data": {
      "text/plain": [
       "'\\nCLASS: Getting Data from APIs\\n\\nWhat is an API?\\n- Application Programming Interface\\n- Structured way to expose specific functionality and data access to users\\n- Web APIs usually follow the \"REST\" standard\\n\\nHow to interact with an API:\\n- Make a \"request\" to a specific URL (an \"endpoint\"), and get the data back in a \"response\"\\n- Most relevant request method for us is GET (other methods: POST, PUT, DELETE)\\n- Response is often JSON format\\n- Web console is sometimes available (allows you to explore an API)\\n'"
      ]
     },
     "execution_count": 1,
     "metadata": {},
     "output_type": "execute_result"
    }
   ],
   "source": [
    "'''\n",
    "CLASS: Getting Data from APIs\n",
    "\n",
    "What is an API?\n",
    "- Application Programming Interface\n",
    "- Structured way to expose specific functionality and data access to users\n",
    "- Web APIs usually follow the \"REST\" standard\n",
    "\n",
    "How to interact with an API:\n",
    "- Make a \"request\" to a specific URL (an \"endpoint\"), and get the data back in a \"response\"\n",
    "- Most relevant request method for us is GET (other methods: POST, PUT, DELETE)\n",
    "- Response is often JSON format\n",
    "- Web console is sometimes available (allows you to explore an API)\n",
    "'''"
   ]
  },
  {
   "cell_type": "code",
   "execution_count": 1,
   "metadata": {
    "collapsed": false
   },
   "outputs": [],
   "source": [
    "import pandas as pd\n",
    "import requests"
   ]
  },
  {
   "cell_type": "code",
   "execution_count": 2,
   "metadata": {
    "collapsed": false
   },
   "outputs": [
    {
     "ename": "IOError",
     "evalue": "File imdb_1000.csv does not exist",
     "output_type": "error",
     "traceback": [
      "\u001b[1;31m---------------------------------------------------------------------------\u001b[0m",
      "\u001b[1;31mIOError\u001b[0m                                   Traceback (most recent call last)",
      "\u001b[1;32m<ipython-input-2-30b8417614b6>\u001b[0m in \u001b[0;36m<module>\u001b[1;34m()\u001b[0m\n\u001b[0;32m      1\u001b[0m \u001b[1;31m# read IMDb data into a DataFrame: we want a year column!\u001b[0m\u001b[1;33m\u001b[0m\u001b[1;33m\u001b[0m\u001b[0m\n\u001b[1;32m----> 2\u001b[1;33m \u001b[0mmovies\u001b[0m \u001b[1;33m=\u001b[0m \u001b[0mpd\u001b[0m\u001b[1;33m.\u001b[0m\u001b[0mread_csv\u001b[0m\u001b[1;33m(\u001b[0m\u001b[1;34m'imdb_1000.csv'\u001b[0m\u001b[1;33m)\u001b[0m\u001b[1;33m\u001b[0m\u001b[0m\n\u001b[0m\u001b[0;32m      3\u001b[0m \u001b[0mmovies\u001b[0m\u001b[1;33m.\u001b[0m\u001b[0mhead\u001b[0m\u001b[1;33m(\u001b[0m\u001b[1;33m)\u001b[0m\u001b[1;33m\u001b[0m\u001b[0m\n",
      "\u001b[1;32mC:\\Users\\zyousefi.ORADEV\\AppData\\Local\\Enthought\\Canopy\\User\\lib\\site-packages\\pandas\\io\\parsers.pyc\u001b[0m in \u001b[0;36mparser_f\u001b[1;34m(filepath_or_buffer, sep, delimiter, header, names, index_col, usecols, squeeze, prefix, mangle_dupe_cols, dtype, engine, converters, true_values, false_values, skipinitialspace, skiprows, nrows, na_values, keep_default_na, na_filter, verbose, skip_blank_lines, parse_dates, infer_datetime_format, keep_date_col, date_parser, dayfirst, iterator, chunksize, compression, thousands, decimal, lineterminator, quotechar, quoting, escapechar, comment, encoding, dialect, tupleize_cols, error_bad_lines, warn_bad_lines, skipfooter, skip_footer, doublequote, delim_whitespace, as_recarray, compact_ints, use_unsigned, low_memory, buffer_lines, memory_map, float_precision)\u001b[0m\n\u001b[0;32m    644\u001b[0m                     skip_blank_lines=skip_blank_lines)\n\u001b[0;32m    645\u001b[0m \u001b[1;33m\u001b[0m\u001b[0m\n\u001b[1;32m--> 646\u001b[1;33m         \u001b[1;32mreturn\u001b[0m \u001b[0m_read\u001b[0m\u001b[1;33m(\u001b[0m\u001b[0mfilepath_or_buffer\u001b[0m\u001b[1;33m,\u001b[0m \u001b[0mkwds\u001b[0m\u001b[1;33m)\u001b[0m\u001b[1;33m\u001b[0m\u001b[0m\n\u001b[0m\u001b[0;32m    647\u001b[0m \u001b[1;33m\u001b[0m\u001b[0m\n\u001b[0;32m    648\u001b[0m     \u001b[0mparser_f\u001b[0m\u001b[1;33m.\u001b[0m\u001b[0m__name__\u001b[0m \u001b[1;33m=\u001b[0m \u001b[0mname\u001b[0m\u001b[1;33m\u001b[0m\u001b[0m\n",
      "\u001b[1;32mC:\\Users\\zyousefi.ORADEV\\AppData\\Local\\Enthought\\Canopy\\User\\lib\\site-packages\\pandas\\io\\parsers.pyc\u001b[0m in \u001b[0;36m_read\u001b[1;34m(filepath_or_buffer, kwds)\u001b[0m\n\u001b[0;32m    387\u001b[0m \u001b[1;33m\u001b[0m\u001b[0m\n\u001b[0;32m    388\u001b[0m     \u001b[1;31m# Create the parser.\u001b[0m\u001b[1;33m\u001b[0m\u001b[1;33m\u001b[0m\u001b[0m\n\u001b[1;32m--> 389\u001b[1;33m     \u001b[0mparser\u001b[0m \u001b[1;33m=\u001b[0m \u001b[0mTextFileReader\u001b[0m\u001b[1;33m(\u001b[0m\u001b[0mfilepath_or_buffer\u001b[0m\u001b[1;33m,\u001b[0m \u001b[1;33m**\u001b[0m\u001b[0mkwds\u001b[0m\u001b[1;33m)\u001b[0m\u001b[1;33m\u001b[0m\u001b[0m\n\u001b[0m\u001b[0;32m    390\u001b[0m \u001b[1;33m\u001b[0m\u001b[0m\n\u001b[0;32m    391\u001b[0m     \u001b[1;32mif\u001b[0m \u001b[1;33m(\u001b[0m\u001b[0mnrows\u001b[0m \u001b[1;32mis\u001b[0m \u001b[1;32mnot\u001b[0m \u001b[0mNone\u001b[0m\u001b[1;33m)\u001b[0m \u001b[1;32mand\u001b[0m \u001b[1;33m(\u001b[0m\u001b[0mchunksize\u001b[0m \u001b[1;32mis\u001b[0m \u001b[1;32mnot\u001b[0m \u001b[0mNone\u001b[0m\u001b[1;33m)\u001b[0m\u001b[1;33m:\u001b[0m\u001b[1;33m\u001b[0m\u001b[0m\n",
      "\u001b[1;32mC:\\Users\\zyousefi.ORADEV\\AppData\\Local\\Enthought\\Canopy\\User\\lib\\site-packages\\pandas\\io\\parsers.pyc\u001b[0m in \u001b[0;36m__init__\u001b[1;34m(self, f, engine, **kwds)\u001b[0m\n\u001b[0;32m    728\u001b[0m             \u001b[0mself\u001b[0m\u001b[1;33m.\u001b[0m\u001b[0moptions\u001b[0m\u001b[1;33m[\u001b[0m\u001b[1;34m'has_index_names'\u001b[0m\u001b[1;33m]\u001b[0m \u001b[1;33m=\u001b[0m \u001b[0mkwds\u001b[0m\u001b[1;33m[\u001b[0m\u001b[1;34m'has_index_names'\u001b[0m\u001b[1;33m]\u001b[0m\u001b[1;33m\u001b[0m\u001b[0m\n\u001b[0;32m    729\u001b[0m \u001b[1;33m\u001b[0m\u001b[0m\n\u001b[1;32m--> 730\u001b[1;33m         \u001b[0mself\u001b[0m\u001b[1;33m.\u001b[0m\u001b[0m_make_engine\u001b[0m\u001b[1;33m(\u001b[0m\u001b[0mself\u001b[0m\u001b[1;33m.\u001b[0m\u001b[0mengine\u001b[0m\u001b[1;33m)\u001b[0m\u001b[1;33m\u001b[0m\u001b[0m\n\u001b[0m\u001b[0;32m    731\u001b[0m \u001b[1;33m\u001b[0m\u001b[0m\n\u001b[0;32m    732\u001b[0m     \u001b[1;32mdef\u001b[0m \u001b[0mclose\u001b[0m\u001b[1;33m(\u001b[0m\u001b[0mself\u001b[0m\u001b[1;33m)\u001b[0m\u001b[1;33m:\u001b[0m\u001b[1;33m\u001b[0m\u001b[0m\n",
      "\u001b[1;32mC:\\Users\\zyousefi.ORADEV\\AppData\\Local\\Enthought\\Canopy\\User\\lib\\site-packages\\pandas\\io\\parsers.pyc\u001b[0m in \u001b[0;36m_make_engine\u001b[1;34m(self, engine)\u001b[0m\n\u001b[0;32m    921\u001b[0m     \u001b[1;32mdef\u001b[0m \u001b[0m_make_engine\u001b[0m\u001b[1;33m(\u001b[0m\u001b[0mself\u001b[0m\u001b[1;33m,\u001b[0m \u001b[0mengine\u001b[0m\u001b[1;33m=\u001b[0m\u001b[1;34m'c'\u001b[0m\u001b[1;33m)\u001b[0m\u001b[1;33m:\u001b[0m\u001b[1;33m\u001b[0m\u001b[0m\n\u001b[0;32m    922\u001b[0m         \u001b[1;32mif\u001b[0m \u001b[0mengine\u001b[0m \u001b[1;33m==\u001b[0m \u001b[1;34m'c'\u001b[0m\u001b[1;33m:\u001b[0m\u001b[1;33m\u001b[0m\u001b[0m\n\u001b[1;32m--> 923\u001b[1;33m             \u001b[0mself\u001b[0m\u001b[1;33m.\u001b[0m\u001b[0m_engine\u001b[0m \u001b[1;33m=\u001b[0m \u001b[0mCParserWrapper\u001b[0m\u001b[1;33m(\u001b[0m\u001b[0mself\u001b[0m\u001b[1;33m.\u001b[0m\u001b[0mf\u001b[0m\u001b[1;33m,\u001b[0m \u001b[1;33m**\u001b[0m\u001b[0mself\u001b[0m\u001b[1;33m.\u001b[0m\u001b[0moptions\u001b[0m\u001b[1;33m)\u001b[0m\u001b[1;33m\u001b[0m\u001b[0m\n\u001b[0m\u001b[0;32m    924\u001b[0m         \u001b[1;32melse\u001b[0m\u001b[1;33m:\u001b[0m\u001b[1;33m\u001b[0m\u001b[0m\n\u001b[0;32m    925\u001b[0m             \u001b[1;32mif\u001b[0m \u001b[0mengine\u001b[0m \u001b[1;33m==\u001b[0m \u001b[1;34m'python'\u001b[0m\u001b[1;33m:\u001b[0m\u001b[1;33m\u001b[0m\u001b[0m\n",
      "\u001b[1;32mC:\\Users\\zyousefi.ORADEV\\AppData\\Local\\Enthought\\Canopy\\User\\lib\\site-packages\\pandas\\io\\parsers.pyc\u001b[0m in \u001b[0;36m__init__\u001b[1;34m(self, src, **kwds)\u001b[0m\n\u001b[0;32m   1388\u001b[0m         \u001b[0mkwds\u001b[0m\u001b[1;33m[\u001b[0m\u001b[1;34m'allow_leading_cols'\u001b[0m\u001b[1;33m]\u001b[0m \u001b[1;33m=\u001b[0m \u001b[0mself\u001b[0m\u001b[1;33m.\u001b[0m\u001b[0mindex_col\u001b[0m \u001b[1;32mis\u001b[0m \u001b[1;32mnot\u001b[0m \u001b[0mFalse\u001b[0m\u001b[1;33m\u001b[0m\u001b[0m\n\u001b[0;32m   1389\u001b[0m \u001b[1;33m\u001b[0m\u001b[0m\n\u001b[1;32m-> 1390\u001b[1;33m         \u001b[0mself\u001b[0m\u001b[1;33m.\u001b[0m\u001b[0m_reader\u001b[0m \u001b[1;33m=\u001b[0m \u001b[0m_parser\u001b[0m\u001b[1;33m.\u001b[0m\u001b[0mTextReader\u001b[0m\u001b[1;33m(\u001b[0m\u001b[0msrc\u001b[0m\u001b[1;33m,\u001b[0m \u001b[1;33m**\u001b[0m\u001b[0mkwds\u001b[0m\u001b[1;33m)\u001b[0m\u001b[1;33m\u001b[0m\u001b[0m\n\u001b[0m\u001b[0;32m   1391\u001b[0m \u001b[1;33m\u001b[0m\u001b[0m\n\u001b[0;32m   1392\u001b[0m         \u001b[1;31m# XXX\u001b[0m\u001b[1;33m\u001b[0m\u001b[1;33m\u001b[0m\u001b[0m\n",
      "\u001b[1;32mpandas/parser.pyx\u001b[0m in \u001b[0;36mpandas.parser.TextReader.__cinit__ (pandas\\parser.c:4025)\u001b[1;34m()\u001b[0m\n",
      "\u001b[1;32mpandas/parser.pyx\u001b[0m in \u001b[0;36mpandas.parser.TextReader._setup_parser_source (pandas\\parser.c:8031)\u001b[1;34m()\u001b[0m\n",
      "\u001b[1;31mIOError\u001b[0m: File imdb_1000.csv does not exist"
     ]
    }
   ],
   "source": [
    "# read IMDb data into a DataFrame: we want a year column!\n",
    "movies = pd.read_csv('imdb_1000.csv')\n",
    "movies.head()"
   ]
  },
  {
   "cell_type": "code",
   "execution_count": null,
   "metadata": {
    "collapsed": false
   },
   "outputs": [],
   "source": [
    "print movies.shape\n",
    "movies.describe()"
   ]
  },
  {
   "cell_type": "code",
   "execution_count": 6,
   "metadata": {
    "collapsed": false
   },
   "outputs": [],
   "source": [
    "###### exercise #######\n",
    "\n",
    "# Is the title column unique? If not, what are the non unique names?\n",
    "\n",
    "\n",
    "\n",
    "# answer below"
   ]
  },
  {
   "cell_type": "code",
   "execution_count": 8,
   "metadata": {
    "collapsed": false
   },
   "outputs": [
    {
     "name": "stdout",
     "output_type": "stream",
     "text": [
      "The Girl with the Dragon Tattoo\n",
      "Les Miserables\n",
      "True Grit\n",
      "Dracula\n"
     ]
    }
   ],
   "source": [
    "from collections import Counter\n",
    "for title, count in Counter(movies['title']).items():\n",
    "    if count > 1:\n",
    "        print title"
   ]
  },
  {
   "cell_type": "code",
   "execution_count": 12,
   "metadata": {
    "collapsed": true
   },
   "outputs": [],
   "source": [
    "# use requests library to interact with a URL http://www.omdbapi.com\n",
    "r = requests.get('http://www.omdbapi.com?t=the shawshank redemption&r=json&type=movie')"
   ]
  },
  {
   "cell_type": "code",
   "execution_count": 13,
   "metadata": {
    "collapsed": false
   },
   "outputs": [
    {
     "data": {
      "text/plain": [
       "503"
      ]
     },
     "execution_count": 13,
     "metadata": {},
     "output_type": "execute_result"
    }
   ],
   "source": [
    "# check the status: 200 means success, 4xx or 5xx means error\n",
    "r.status_code"
   ]
  },
  {
   "cell_type": "code",
   "execution_count": 14,
   "metadata": {
    "collapsed": false
   },
   "outputs": [
    {
     "data": {
      "text/plain": [
       "u'The service is unavailable.'"
      ]
     },
     "execution_count": 14,
     "metadata": {},
     "output_type": "execute_result"
    }
   ],
   "source": [
    "# view the raw response text\n",
    "r.text"
   ]
  },
  {
   "cell_type": "code",
   "execution_count": 11,
   "metadata": {
    "collapsed": false
   },
   "outputs": [
    {
     "data": {
      "text/plain": [
       "{u'Actors': u'Tim Robbins, Morgan Freeman, Bob Gunton, William Sadler',\n",
       " u'Awards': u'Nominated for 7 Oscars. Another 18 wins & 30 nominations.',\n",
       " u'Country': u'USA',\n",
       " u'Director': u'Frank Darabont',\n",
       " u'Genre': u'Crime, Drama',\n",
       " u'Language': u'English',\n",
       " u'Metascore': u'80',\n",
       " u'Plot': u'Two imprisoned men bond over a number of years, finding solace and eventual redemption through acts of common decency.',\n",
       " u'Poster': u'https://images-na.ssl-images-amazon.com/images/M/MV5BODU4MjU4NjIwNl5BMl5BanBnXkFtZTgwMDU2MjEyMDE@._V1_SX300.jpg',\n",
       " u'Rated': u'R',\n",
       " u'Released': u'14 Oct 1994',\n",
       " u'Response': u'True',\n",
       " u'Runtime': u'142 min',\n",
       " u'Title': u'The Shawshank Redemption',\n",
       " u'Type': u'movie',\n",
       " u'Writer': u'Stephen King (short story \"Rita Hayworth and Shawshank Redemption\"), Frank Darabont (screenplay)',\n",
       " u'Year': u'1994',\n",
       " u'imdbID': u'tt0111161',\n",
       " u'imdbRating': u'9.3',\n",
       " u'imdbVotes': u'1,711,064'}"
      ]
     },
     "execution_count": 11,
     "metadata": {},
     "output_type": "execute_result"
    }
   ],
   "source": [
    "# decode the JSON response body into a dictionary\n",
    "r.json()"
   ]
  },
  {
   "cell_type": "code",
   "execution_count": 12,
   "metadata": {
    "collapsed": false
   },
   "outputs": [
    {
     "data": {
      "text/plain": [
       "u'1994'"
      ]
     },
     "execution_count": 12,
     "metadata": {},
     "output_type": "execute_result"
    }
   ],
   "source": [
    "# extracting the year from the dictionary\n",
    "r.json()['Year']"
   ]
  },
  {
   "cell_type": "code",
   "execution_count": 13,
   "metadata": {
    "collapsed": false
   },
   "outputs": [
    {
     "name": "stdout",
     "output_type": "stream",
     "text": [
      "200\n"
     ]
    },
    {
     "data": {
      "text/plain": [
       "{u'Error': u'Movie not found!', u'Response': u'False'}"
      ]
     },
     "execution_count": 13,
     "metadata": {},
     "output_type": "execute_result"
    }
   ],
   "source": [
    "# what happens if the movie name is not recognized?\n",
    "r = requests.get('http://www.omdbapi.com/?t=thebestmovieevermade&r=json&type=movie')\n",
    "print r.status_code\n",
    "r.json()"
   ]
  },
  {
   "cell_type": "code",
   "execution_count": 14,
   "metadata": {
    "collapsed": false
   },
   "outputs": [
    {
     "name": "stdout",
     "output_type": "stream",
     "text": [
      "200\n"
     ]
    },
    {
     "data": {
      "text/plain": [
       "{u'Actors': u\"Ellen DeGeneres, Albert Brooks, Ed O'Neill, Kaitlin Olson\",\n",
       " u'Awards': u'2 wins.',\n",
       " u'Country': u'USA',\n",
       " u'Director': u'Andrew Stanton, Angus MacLane',\n",
       " u'Genre': u'Animation, Adventure, Comedy',\n",
       " u'Language': u'English, Indonesian',\n",
       " u'Metascore': u'77',\n",
       " u'Plot': u'The friendly but forgetful blue tang fish begins a search for her long-lost parents, and everyone learns a few things about the real meaning of family along the way.',\n",
       " u'Poster': u'https://images-na.ssl-images-amazon.com/images/M/MV5BNzg4MjM2NDQ4MV5BMl5BanBnXkFtZTgwMzk3MTgyODE@._V1_SX300.jpg',\n",
       " u'Rated': u'PG',\n",
       " u'Released': u'17 Jun 2016',\n",
       " u'Response': u'True',\n",
       " u'Runtime': u'97 min',\n",
       " u'Title': u'Finding Dory',\n",
       " u'Type': u'movie',\n",
       " u'Writer': u'Andrew Stanton (original story by), Andrew Stanton (screenplay), Victoria Strouse (screenplay), Bob Peterson (additional screenplay material by), Angus MacLane (additional story material by)',\n",
       " u'Year': u'2016',\n",
       " u'imdbID': u'tt2277860',\n",
       " u'imdbRating': u'7.7',\n",
       " u'imdbVotes': u'70,541'}"
      ]
     },
     "execution_count": 14,
     "metadata": {},
     "output_type": "execute_result"
    }
   ],
   "source": [
    "# another example\n",
    "movie_title = 'finding dory'\n",
    "r = requests.get('http://www.omdbapi.com/?t='+movie_title+'&r=json&type=movie')\n",
    "print r.status_code\n",
    "r.json()"
   ]
  },
  {
   "cell_type": "code",
   "execution_count": 15,
   "metadata": {
    "collapsed": false
   },
   "outputs": [],
   "source": [
    "##### Exercise #####\n",
    "\n",
    "# define a function to return the year of release of a given movie title, return None if no movie found\n",
    "def get_movie_year(title):\n",
    "    return -1\n",
    "\n",
    "\n",
    "\n",
    "\n",
    "\n",
    "\n",
    "\n"
   ]
  },
  {
   "cell_type": "code",
   "execution_count": 16,
   "metadata": {
    "collapsed": true
   },
   "outputs": [],
   "source": [
    "# ANSWER\n",
    "def get_movie_year(title):\n",
    "    response = requests.get('http://www.omdbapi.com/?t='+title+'&r=json&type=movie').json()\n",
    "    if 'Error' not in response: return response['Year']\n"
   ]
  },
  {
   "cell_type": "code",
   "execution_count": 17,
   "metadata": {
    "collapsed": false
   },
   "outputs": [
    {
     "name": "stdout",
     "output_type": "stream",
     "text": [
      "2016\n",
      "None\n"
     ]
    }
   ],
   "source": [
    "# test the function\n",
    "print get_movie_year('finding dory')\n",
    "print get_movie_year('blahblahblah')"
   ]
  },
  {
   "cell_type": "code",
   "execution_count": 18,
   "metadata": {
    "collapsed": true
   },
   "outputs": [],
   "source": [
    "# create a smaller DataFrame for testing\n",
    "# the copy method makes a carbon copy of the dataframe\n",
    "top_movies = movies.head().copy()"
   ]
  },
  {
   "cell_type": "code",
   "execution_count": 19,
   "metadata": {
    "collapsed": false
   },
   "outputs": [],
   "source": [
    "# write a for loop to build a list of years\n",
    "from time import sleep # timey wimey stuff\n",
    "years = []\n",
    "for title in top_movies.title:\n",
    "    years.append(get_movie_year(title))\n",
    "    sleep(1)\n",
    "    \n",
    "# the sleep is used to not over hit the API\n",
    "# this is called \"rate limiting\"\n",
    "# Most APIs don't allow you to hit it too much"
   ]
  },
  {
   "cell_type": "code",
   "execution_count": 20,
   "metadata": {
    "collapsed": false
   },
   "outputs": [
    {
     "ename": "AssertionError",
     "evalue": "",
     "output_type": "error",
     "traceback": [
      "\u001b[0;31m---------------------------------------------------------------------------\u001b[0m",
      "\u001b[0;31mAssertionError\u001b[0m                            Traceback (most recent call last)",
      "\u001b[0;32m<ipython-input-20-eda2d9072f25>\u001b[0m in \u001b[0;36m<module>\u001b[0;34m()\u001b[0m\n\u001b[1;32m      1\u001b[0m \u001b[0;31m# assert will throw an error if the value inside is NOT True\u001b[0m\u001b[0;34m\u001b[0m\u001b[0;34m\u001b[0m\u001b[0m\n\u001b[1;32m      2\u001b[0m \u001b[0;34m\u001b[0m\u001b[0m\n\u001b[0;32m----> 3\u001b[0;31m \u001b[0;32massert\u001b[0m\u001b[0;34m(\u001b[0m\u001b[0;36m3\u001b[0m\u001b[0;34m==\u001b[0m\u001b[0;36m4\u001b[0m\u001b[0;34m)\u001b[0m\u001b[0;34m\u001b[0m\u001b[0m\n\u001b[0m",
      "\u001b[0;31mAssertionError\u001b[0m: "
     ]
    }
   ],
   "source": [
    "# assert will throw an error if the value inside is NOT True\n",
    "\n",
    "assert(3==4)"
   ]
  },
  {
   "cell_type": "code",
   "execution_count": null,
   "metadata": {
    "collapsed": false
   },
   "outputs": [],
   "source": [
    "# check that the DataFrame and the list of years are the same length\n",
    "assert(len(top_movies) == len(years))"
   ]
  },
  {
   "cell_type": "code",
   "execution_count": 21,
   "metadata": {
    "collapsed": false
   },
   "outputs": [
    {
     "data": {
      "text/html": [
       "<div>\n",
       "<table border=\"1\" class=\"dataframe\">\n",
       "  <thead>\n",
       "    <tr style=\"text-align: right;\">\n",
       "      <th></th>\n",
       "      <th>star_rating</th>\n",
       "      <th>title</th>\n",
       "      <th>content_rating</th>\n",
       "      <th>genre</th>\n",
       "      <th>duration</th>\n",
       "      <th>actors_list</th>\n",
       "      <th>year</th>\n",
       "    </tr>\n",
       "  </thead>\n",
       "  <tbody>\n",
       "    <tr>\n",
       "      <th>0</th>\n",
       "      <td>9.3</td>\n",
       "      <td>The Shawshank Redemption</td>\n",
       "      <td>R</td>\n",
       "      <td>Crime</td>\n",
       "      <td>142</td>\n",
       "      <td>[u'Tim Robbins', u'Morgan Freeman', u'Bob Gunt...</td>\n",
       "      <td>1994</td>\n",
       "    </tr>\n",
       "    <tr>\n",
       "      <th>1</th>\n",
       "      <td>9.2</td>\n",
       "      <td>The Godfather</td>\n",
       "      <td>R</td>\n",
       "      <td>Crime</td>\n",
       "      <td>175</td>\n",
       "      <td>[u'Marlon Brando', u'Al Pacino', u'James Caan']</td>\n",
       "      <td>1972</td>\n",
       "    </tr>\n",
       "    <tr>\n",
       "      <th>2</th>\n",
       "      <td>9.1</td>\n",
       "      <td>The Godfather: Part II</td>\n",
       "      <td>R</td>\n",
       "      <td>Crime</td>\n",
       "      <td>200</td>\n",
       "      <td>[u'Al Pacino', u'Robert De Niro', u'Robert Duv...</td>\n",
       "      <td>1974</td>\n",
       "    </tr>\n",
       "    <tr>\n",
       "      <th>3</th>\n",
       "      <td>9.0</td>\n",
       "      <td>The Dark Knight</td>\n",
       "      <td>PG-13</td>\n",
       "      <td>Action</td>\n",
       "      <td>152</td>\n",
       "      <td>[u'Christian Bale', u'Heath Ledger', u'Aaron E...</td>\n",
       "      <td>2008</td>\n",
       "    </tr>\n",
       "    <tr>\n",
       "      <th>4</th>\n",
       "      <td>8.9</td>\n",
       "      <td>Pulp Fiction</td>\n",
       "      <td>R</td>\n",
       "      <td>Crime</td>\n",
       "      <td>154</td>\n",
       "      <td>[u'John Travolta', u'Uma Thurman', u'Samuel L....</td>\n",
       "      <td>1994</td>\n",
       "    </tr>\n",
       "  </tbody>\n",
       "</table>\n",
       "</div>"
      ],
      "text/plain": [
       "   star_rating                     title content_rating   genre  duration  \\\n",
       "0          9.3  The Shawshank Redemption              R   Crime       142   \n",
       "1          9.2             The Godfather              R   Crime       175   \n",
       "2          9.1    The Godfather: Part II              R   Crime       200   \n",
       "3          9.0           The Dark Knight          PG-13  Action       152   \n",
       "4          8.9              Pulp Fiction              R   Crime       154   \n",
       "\n",
       "                                         actors_list  year  \n",
       "0  [u'Tim Robbins', u'Morgan Freeman', u'Bob Gunt...  1994  \n",
       "1    [u'Marlon Brando', u'Al Pacino', u'James Caan']  1972  \n",
       "2  [u'Al Pacino', u'Robert De Niro', u'Robert Duv...  1974  \n",
       "3  [u'Christian Bale', u'Heath Ledger', u'Aaron E...  2008  \n",
       "4  [u'John Travolta', u'Uma Thurman', u'Samuel L....  1994  "
      ]
     },
     "execution_count": 21,
     "metadata": {},
     "output_type": "execute_result"
    }
   ],
   "source": [
    "# save that list as a new column\n",
    "top_movies['year'] = years\n",
    "top_movies"
   ]
  },
  {
   "cell_type": "code",
   "execution_count": 22,
   "metadata": {
    "collapsed": false
   },
   "outputs": [
    {
     "name": "stdout",
     "output_type": "stream",
     "text": [
      "0 a\n",
      "1 b\n",
      "2 c\n"
     ]
    }
   ],
   "source": [
    "'''\n",
    "Bonus content: Updating the DataFrame as part of a loop\n",
    "'''\n",
    "\n",
    "# enumerate allows you to access the item location while iterating\n",
    "letters = ['a', 'b', 'c']\n",
    "for index, letter in enumerate(letters):\n",
    "    print index, letter"
   ]
  },
  {
   "cell_type": "code",
   "execution_count": 23,
   "metadata": {
    "collapsed": false
   },
   "outputs": [
    {
     "name": "stdout",
     "output_type": "stream",
     "text": [
      "0 The Shawshank Redemption\n",
      "1 The Godfather\n",
      "2 The Godfather: Part II\n",
      "3 The Dark Knight\n",
      "4 Pulp Fiction\n"
     ]
    }
   ],
   "source": [
    "# iterrows method for DataFrames is similar\n",
    "for index, row in top_movies.iterrows():\n",
    "    print index, row.title"
   ]
  },
  {
   "cell_type": "code",
   "execution_count": 26,
   "metadata": {
    "collapsed": false
   },
   "outputs": [
    {
     "ename": "SyntaxError",
     "evalue": "invalid syntax (<ipython-input-26-1c8019b28424>, line 3)",
     "output_type": "error",
     "traceback": [
      "\u001b[0;36m  File \u001b[0;32m\"<ipython-input-26-1c8019b28424>\"\u001b[0;36m, line \u001b[0;32m3\u001b[0m\n\u001b[0;31m    )movies['year'] = None\u001b[0m\n\u001b[0m          ^\u001b[0m\n\u001b[0;31mSyntaxError\u001b[0m\u001b[0;31m:\u001b[0m invalid syntax\n"
     ]
    }
   ],
   "source": [
    "# create a new column and set a default value\n",
    "movies = movies.drop('yearsr', axis=1\n",
    "                    )movies['year'] = None\n",
    "movies.head()"
   ]
  },
  {
   "cell_type": "code",
   "execution_count": null,
   "metadata": {
    "collapsed": false
   },
   "outputs": [],
   "source": [
    "# loc method allows you to access a DataFrame element by 'label'\n",
    "movies.loc[0, 'year'] = 1994\n",
    "movies.head()"
   ]
  },
  {
   "cell_type": "code",
   "execution_count": null,
   "metadata": {
    "collapsed": false
   },
   "outputs": [],
   "source": [
    "# write a for loop to update the year for the first three movies\n",
    "for index, row in movies.iterrows():\n",
    "    if index < 3:\n",
    "        movies.loc[index, 'year'] = get_movie_year(row.title)\n",
    "        sleep(1)\n",
    "    else:\n",
    "        break"
   ]
  },
  {
   "cell_type": "code",
   "execution_count": 30,
   "metadata": {
    "collapsed": false
   },
   "outputs": [
    {
     "data": {
      "text/html": [
       "<div style=\"max-height:1000px;max-width:1500px;overflow:auto;\">\n",
       "<table border=\"1\" class=\"dataframe\">\n",
       "  <thead>\n",
       "    <tr style=\"text-align: right;\">\n",
       "      <th></th>\n",
       "      <th>star_rating</th>\n",
       "      <th>title</th>\n",
       "      <th>content_rating</th>\n",
       "      <th>genre</th>\n",
       "      <th>duration</th>\n",
       "      <th>actors_list</th>\n",
       "    </tr>\n",
       "  </thead>\n",
       "  <tbody>\n",
       "    <tr>\n",
       "      <th>0</th>\n",
       "      <td> 9.3</td>\n",
       "      <td> The Shawshank Redemption</td>\n",
       "      <td>     R</td>\n",
       "      <td>  Crime</td>\n",
       "      <td> 142</td>\n",
       "      <td> [u'Tim Robbins', u'Morgan Freeman', u'Bob Gunt...</td>\n",
       "    </tr>\n",
       "    <tr>\n",
       "      <th>1</th>\n",
       "      <td> 9.2</td>\n",
       "      <td>            The Godfather</td>\n",
       "      <td>     R</td>\n",
       "      <td>  Crime</td>\n",
       "      <td> 175</td>\n",
       "      <td>   [u'Marlon Brando', u'Al Pacino', u'James Caan']</td>\n",
       "    </tr>\n",
       "    <tr>\n",
       "      <th>2</th>\n",
       "      <td> 9.1</td>\n",
       "      <td>   The Godfather: Part II</td>\n",
       "      <td>     R</td>\n",
       "      <td>  Crime</td>\n",
       "      <td> 200</td>\n",
       "      <td> [u'Al Pacino', u'Robert De Niro', u'Robert Duv...</td>\n",
       "    </tr>\n",
       "    <tr>\n",
       "      <th>3</th>\n",
       "      <td> 9.0</td>\n",
       "      <td>          The Dark Knight</td>\n",
       "      <td> PG-13</td>\n",
       "      <td> Action</td>\n",
       "      <td> 152</td>\n",
       "      <td> [u'Christian Bale', u'Heath Ledger', u'Aaron E...</td>\n",
       "    </tr>\n",
       "    <tr>\n",
       "      <th>4</th>\n",
       "      <td> 8.9</td>\n",
       "      <td>             Pulp Fiction</td>\n",
       "      <td>     R</td>\n",
       "      <td>  Crime</td>\n",
       "      <td> 154</td>\n",
       "      <td> [u'John Travolta', u'Uma Thurman', u'Samuel L....</td>\n",
       "    </tr>\n",
       "  </tbody>\n",
       "</table>\n",
       "</div>"
      ],
      "text/plain": [
       "   star_rating                     title content_rating   genre  duration  \\\n",
       "0          9.3  The Shawshank Redemption              R   Crime       142   \n",
       "1          9.2             The Godfather              R   Crime       175   \n",
       "2          9.1    The Godfather: Part II              R   Crime       200   \n",
       "3          9.0           The Dark Knight          PG-13  Action       152   \n",
       "4          8.9              Pulp Fiction              R   Crime       154   \n",
       "\n",
       "                                         actors_list  \n",
       "0  [u'Tim Robbins', u'Morgan Freeman', u'Bob Gunt...  \n",
       "1    [u'Marlon Brando', u'Al Pacino', u'James Caan']  \n",
       "2  [u'Al Pacino', u'Robert De Niro', u'Robert Duv...  \n",
       "3  [u'Christian Bale', u'Heath Ledger', u'Aaron E...  \n",
       "4  [u'John Travolta', u'Uma Thurman', u'Samuel L....  "
      ]
     },
     "execution_count": 30,
     "metadata": {},
     "output_type": "execute_result"
    }
   ],
   "source": [
    "movies.head()"
   ]
  },
  {
   "cell_type": "code",
   "execution_count": null,
   "metadata": {
    "collapsed": false
   },
   "outputs": [],
   "source": []
  },
  {
   "cell_type": "code",
   "execution_count": null,
   "metadata": {
    "collapsed": true
   },
   "outputs": [],
   "source": []
  },
  {
   "cell_type": "code",
   "execution_count": 18,
   "metadata": {
    "collapsed": true
   },
   "outputs": [],
   "source": [
    "# this is my own personal twitter api information\n",
    "# if you could be so kind as to sign up yourself on both twitter and mashape that'd be great :)\n",
    "# It's FREEEEEEE\n",
    "api_key = 'g5uPIpw80nULQI1gfklv2zrh4'\n",
    "api_secret = 'cOWvNWxYvPmEZ0ArZVeeVVvJu41QYHdUS2GpqIKtSQ1isd5PJy'\n",
    "access_token = '49722956-TWl8J0aAS6KTdcbz3ppZ7NfqZEmrwmbsb9cYPNELG'\n",
    "access_secret = '3eqrVssF3ppv23qyflyAto8wLEiYRA8sXEPSghuOJWTub'\n",
    "\n",
    "# Masahpe Key\n",
    "mashape_key = '0CLvblsJOxmshWkaep4szo9CILOMp1PM3hhjsnDi4k8g8ME14o'"
   ]
  },
  {
   "cell_type": "code",
   "execution_count": 19,
   "metadata": {
    "collapsed": false
   },
   "outputs": [
    {
     "name": "stdout",
     "output_type": "stream",
     "text": [
      "{u'probability': {u'neg': 0.3347009843556792, u'neutral': 0.20573400349893747, u'pos': 0.6652990156443208}, u'label': u'pos'}\n"
     ]
    }
   ],
   "source": [
    "# more complicated request\n",
    "\n",
    "# HEADERS tell the API (or website) the type of system attempting the request\n",
    "# DATA tells the API (or website) any pertinent info needed to make the request\n",
    "# it is up to whoever wrote the API how access keys are passed in\n",
    "\n",
    "url = \"https://japerk-text-processing.p.mashape.com/sentiment/\"\n",
    "headers ={\n",
    "        \"X-Mashape-Key\": mashape_key,\n",
    "        \"Content-Type\": \"application/x-www-form-urlencoded\"\n",
    "        }\n",
    "data={\n",
    "        \"language\": \"english\",\n",
    "        \"text\": \"what an amazing failure\"\n",
    "        }\n",
    "\n",
    "print requests.post(url, headers = headers, data = data).json()"
   ]
  },
  {
   "cell_type": "code",
   "execution_count": 5,
   "metadata": {
    "collapsed": false
   },
   "outputs": [
    {
     "data": {
      "text/plain": [
       "'\\nExample of API WITH WRAPPER\\ntweepy is the python wrapper for twitter data\\n'"
      ]
     },
     "execution_count": 5,
     "metadata": {},
     "output_type": "execute_result"
    }
   ],
   "source": [
    "'''\n",
    "Example of API WITH WRAPPER\n",
    "tweepy is the python wrapper for twitter data\n",
    "'''"
   ]
  },
  {
   "cell_type": "code",
   "execution_count": 16,
   "metadata": {
    "collapsed": false
   },
   "outputs": [],
   "source": [
    "import tweepy       # python wrapper for twitter api\n",
    "import json\n",
    "import time"
   ]
  },
  {
   "cell_type": "code",
   "execution_count": 20,
   "metadata": {
    "collapsed": false
   },
   "outputs": [],
   "source": [
    "tag = 'donald trump'\n",
    "\n",
    "# Documentation is your friend! http://docs.tweepy.org/en/v3.1.0/\n",
    "auth = tweepy.OAuthHandler(api_key, api_secret)\n",
    "auth.set_access_token(access_token, access_secret)\n",
    "api = tweepy.API(auth) # returns a tweepy authorization handler object\n",
    "tweets = api.search(q=tag)"
   ]
  },
  {
   "cell_type": "code",
   "execution_count": 21,
   "metadata": {
    "collapsed": false
   },
   "outputs": [
    {
     "data": {
      "text/plain": [
       "Status(contributors=None, truncated=False, text=u'RT @aravosis: We had a tie because you helped elect Donald Trump, who saved GOP control of the senate to boot. https://t.co/Uh807zNsSz', is_quote_status=True, in_reply_to_status_id=None, id=829071262718840832, favorite_count=0, _api=<tweepy.api.API object at 0x112216f50>, source=u'Twitter for Android', quoted_status_id=829008961550553093, _json={u'contributors': None, u'truncated': False, u'text': u'RT @aravosis: We had a tie because you helped elect Donald Trump, who saved GOP control of the senate to boot. https://t.co/Uh807zNsSz', u'is_quote_status': True, u'in_reply_to_status_id': None, u'id': 829071262718840832, u'favorite_count': 0, u'entities': {u'symbols': [], u'user_mentions': [{u'id': 14146966, u'indices': [3, 12], u'id_str': u'14146966', u'screen_name': u'aravosis', u'name': u'John Aravosis'}], u'hashtags': [], u'urls': [{u'url': u'https://t.co/Uh807zNsSz', u'indices': [111, 134], u'expanded_url': u'https://twitter.com/DrJillStein/status/829008961550553093', u'display_url': u'twitter.com/DrJillStein/st\\u2026'}]}, u'quoted_status_id': 829008961550553093, u'retweeted': False, u'coordinates': None, u'source': u'<a href=\"http://twitter.com/download/android\" rel=\"nofollow\">Twitter for Android</a>', u'in_reply_to_screen_name': None, u'in_reply_to_user_id': None, u'retweet_count': 299, u'id_str': u'829071262718840832', u'favorited': False, u'retweeted_status': {u'contributors': None, u'truncated': False, u'text': u'We had a tie because you helped elect Donald Trump, who saved GOP control of the senate to boot. https://t.co/Uh807zNsSz', u'is_quote_status': True, u'in_reply_to_status_id': None, u'id': 829056634123124737, u'favorite_count': 846, u'entities': {u'symbols': [], u'user_mentions': [], u'hashtags': [], u'urls': [{u'url': u'https://t.co/Uh807zNsSz', u'indices': [97, 120], u'expanded_url': u'https://twitter.com/DrJillStein/status/829008961550553093', u'display_url': u'twitter.com/DrJillStein/st\\u2026'}]}, u'quoted_status_id': 829008961550553093, u'retweeted': False, u'coordinates': None, u'quoted_status': {u'contributors': None, u'truncated': False, u'text': u'Why would we have a tie on such an egregious nominee? Because Democrats serve corporate interests. https://t.co/66rpL1ifik', u'is_quote_status': False, u'in_reply_to_status_id': None, u'id': 829008961550553093, u'favorite_count': 294, u'entities': {u'symbols': [], u'user_mentions': [], u'hashtags': [], u'urls': [{u'url': u'https://t.co/66rpL1ifik', u'indices': [99, 122], u'expanded_url': u'https://www.washingtonpost.com/powerpost/mike-pence-a-man-of-the-house-becomes-trumps-eyes-and-ears-in-the-senate/2017/02/07/fa61d528-ed34-11e6-9973-c5efb7ccfb0d_story.html?postshare=6141486484930018&tid=ss_tw&utm_term=.9db31dceb52b', u'display_url': u'washingtonpost.com/powerpost/mike\\u2026'}]}, u'retweeted': False, u'coordinates': None, u'source': u'<a href=\"http://twitter.com/download/iphone\" rel=\"nofollow\">Twitter for iPhone</a>', u'in_reply_to_screen_name': None, u'in_reply_to_user_id': None, u'retweet_count': 173, u'id_str': u'829008961550553093', u'favorited': False, u'user': {u'follow_request_sent': False, u'has_extended_profile': False, u'profile_use_background_image': True, u'default_profile_image': False, u'id': 111216929, u'profile_background_image_url_https': u'https://pbs.twimg.com/profile_background_images/563654697848803328/4hurQZt3.jpeg', u'verified': True, u'translator_type': u'none', u'profile_text_color': u'333333', u'profile_image_url_https': u'https://pbs.twimg.com/profile_images/756593715833995264/58FJ0pQJ_normal.jpg', u'profile_sidebar_fill_color': u'DDEEF6', u'entities': {u'url': {u'urls': [{u'url': u'https://t.co/cJMqxQwvT8', u'indices': [0, 23], u'expanded_url': u'http://Jill2016.com', u'display_url': u'Jill2016.com'}]}, u'description': {u'urls': []}}, u'followers_count': 279652, u'profile_sidebar_border_color': u'FFFFFF', u'id_str': u'111216929', u'profile_background_color': u'21A764', u'listed_count': 3646, u'is_translation_enabled': False, u'utc_offset': -28800, u'statuses_count': 11595, u'description': u'Green Party 2016 candidate for President, activist, medical doctor, environmental health advocate. Account managed by staff. #ItsInOurHands', u'friends_count': 3512, u'location': u'Massachusetts', u'profile_link_color': u'FFAA22', u'profile_image_url': u'http://pbs.twimg.com/profile_images/756593715833995264/58FJ0pQJ_normal.jpg', u'following': False, u'geo_enabled': True, u'profile_banner_url': u'https://pbs.twimg.com/profile_banners/111216929/1485311797', u'profile_background_image_url': u'http://pbs.twimg.com/profile_background_images/563654697848803328/4hurQZt3.jpeg', u'screen_name': u'DrJillStein', u'lang': u'en', u'profile_background_tile': False, u'favourites_count': 14851, u'name': u'Dr. Jill Stein', u'notifications': False, u'url': u'https://t.co/cJMqxQwvT8', u'created_at': u'Thu Feb 04 04:55:27 +0000 2010', u'contributors_enabled': False, u'time_zone': u'Pacific Time (US & Canada)', u'protected': False, u'default_profile': False, u'is_translator': False}, u'geo': None, u'in_reply_to_user_id_str': None, u'possibly_sensitive': False, u'lang': u'en', u'created_at': u'Tue Feb 07 16:48:33 +0000 2017', u'in_reply_to_status_id_str': None, u'place': None, u'metadata': {u'iso_language_code': u'en', u'result_type': u'recent'}}, u'source': u'<a href=\"http://tapbots.com/tweetbot\" rel=\"nofollow\">Tweetbot for i\\u039fS</a>', u'in_reply_to_screen_name': None, u'in_reply_to_user_id': None, u'retweet_count': 299, u'id_str': u'829056634123124737', u'favorited': False, u'user': {u'follow_request_sent': False, u'has_extended_profile': True, u'profile_use_background_image': True, u'default_profile_image': False, u'id': 14146966, u'profile_background_image_url_https': u'https://pbs.twimg.com/profile_background_images/378800000097191021/64050b8370e5a4c18fd8387f55534f2e.jpeg', u'verified': True, u'translator_type': u'none', u'profile_text_color': u'333333', u'profile_image_url_https': u'https://pbs.twimg.com/profile_images/720627004261986306/2AikUElD_normal.jpg', u'profile_sidebar_fill_color': u'DDEEF6', u'entities': {u'url': {u'urls': [{u'url': u'https://t.co/MMHhA54Sfs', u'indices': [0, 23], u'expanded_url': u'http://AMERICAblog.com', u'display_url': u'AMERICAblog.com'}]}, u'description': {u'urls': [{u'url': u'https://t.co/fbiJ1YYFnu', u'indices': [137, 160], u'expanded_url': u'http://booster.com/fight-trump', u'display_url': u'booster.com/fight-trump'}]}}, u'followers_count': 43796, u'profile_sidebar_border_color': u'FFFFFF', u'id_str': u'14146966', u'profile_background_color': u'C0DEED', u'listed_count': 1454, u'is_translation_enabled': False, u'utc_offset': -18000, u'statuses_count': 84605, u'description': u'Digital strategist & Editor @AMERICAblog. LGBT advocate. Past: UN, Economist, Senate. Called \\u201cwacko\\u201d by Rush. \"Illegitimate\" Trump swag: https://t.co/fbiJ1YYFnu', u'friends_count': 1184, u'location': u'New York City, NY', u'profile_link_color': u'0084B4', u'profile_image_url': u'http://pbs.twimg.com/profile_images/720627004261986306/2AikUElD_normal.jpg', u'following': False, u'geo_enabled': True, u'profile_banner_url': u'https://pbs.twimg.com/profile_banners/14146966/1485627182', u'profile_background_image_url': u'http://pbs.twimg.com/profile_background_images/378800000097191021/64050b8370e5a4c18fd8387f55534f2e.jpeg', u'screen_name': u'aravosis', u'lang': u'en', u'profile_background_tile': False, u'favourites_count': 5708, u'name': u'John Aravosis', u'notifications': False, u'url': u'https://t.co/MMHhA54Sfs', u'created_at': u'Fri Mar 14 14:28:09 +0000 2008', u'contributors_enabled': False, u'time_zone': u'Eastern Time (US & Canada)', u'protected': False, u'default_profile': False, u'is_translator': False}, u'geo': None, u'in_reply_to_user_id_str': None, u'possibly_sensitive': False, u'lang': u'en', u'created_at': u'Tue Feb 07 19:57:59 +0000 2017', u'quoted_status_id_str': u'829008961550553093', u'in_reply_to_status_id_str': None, u'place': None, u'metadata': {u'iso_language_code': u'en', u'result_type': u'recent'}}, u'user': {u'follow_request_sent': False, u'has_extended_profile': False, u'profile_use_background_image': True, u'default_profile_image': False, u'id': 634117618, u'profile_background_image_url_https': u'https://pbs.twimg.com/profile_background_images/663987984/condwvqe3vnubnpsqo9j.jpeg', u'verified': False, u'translator_type': u'none', u'profile_text_color': u'3C3940', u'profile_image_url_https': u'https://pbs.twimg.com/profile_images/2394453081/myp8tnj5med5s82if3em_normal.jpeg', u'profile_sidebar_fill_color': u'95E8EC', u'entities': {u'description': {u'urls': []}}, u'followers_count': 89, u'profile_sidebar_border_color': u'FFFFFF', u'id_str': u'634117618', u'profile_background_color': u'0099B9', u'listed_count': 22, u'is_translation_enabled': False, u'utc_offset': -18000, u'statuses_count': 10150, u'description': u'The Walt Disney Company eCommerce at the Walt Disney World Resort. -Life is Good!   Comments and opinions are my own and not that of The Walt Disney Company', u'friends_count': 147, u'location': u'Tampa Bay, Florida', u'profile_link_color': u'0099B9', u'profile_image_url': u'http://pbs.twimg.com/profile_images/2394453081/myp8tnj5med5s82if3em_normal.jpeg', u'following': False, u'geo_enabled': False, u'profile_banner_url': u'https://pbs.twimg.com/profile_banners/634117618/1348088398', u'profile_background_image_url': u'http://pbs.twimg.com/profile_background_images/663987984/condwvqe3vnubnpsqo9j.jpeg', u'screen_name': u'ChrismPrism', u'lang': u'en', u'profile_background_tile': False, u'favourites_count': 1237, u'name': u'Chris Maggio', u'notifications': False, u'url': None, u'created_at': u'Thu Jul 12 22:57:35 +0000 2012', u'contributors_enabled': False, u'time_zone': u'Eastern Time (US & Canada)', u'protected': False, u'default_profile': False, u'is_translator': False}, u'geo': None, u'in_reply_to_user_id_str': None, u'possibly_sensitive': False, u'lang': u'en', u'created_at': u'Tue Feb 07 20:56:07 +0000 2017', u'quoted_status_id_str': u'829008961550553093', u'in_reply_to_status_id_str': None, u'place': None, u'metadata': {u'iso_language_code': u'en', u'result_type': u'recent'}}, coordinates=None, entities={u'symbols': [], u'user_mentions': [{u'id': 14146966, u'indices': [3, 12], u'id_str': u'14146966', u'screen_name': u'aravosis', u'name': u'John Aravosis'}], u'hashtags': [], u'urls': [{u'url': u'https://t.co/Uh807zNsSz', u'indices': [111, 134], u'expanded_url': u'https://twitter.com/DrJillStein/status/829008961550553093', u'display_url': u'twitter.com/DrJillStein/st\\u2026'}]}, in_reply_to_screen_name=None, id_str=u'829071262718840832', retweet_count=299, in_reply_to_user_id=None, favorited=False, retweeted_status=Status(contributors=None, truncated=False, text=u'We had a tie because you helped elect Donald Trump, who saved GOP control of the senate to boot. https://t.co/Uh807zNsSz', is_quote_status=True, in_reply_to_status_id=None, id=829056634123124737, favorite_count=846, _api=<tweepy.api.API object at 0x112216f50>, source=u'Tweetbot for i\\u039fS', quoted_status_id=829008961550553093, _json={u'contributors': None, u'truncated': False, u'text': u'We had a tie because you helped elect Donald Trump, who saved GOP control of the senate to boot. https://t.co/Uh807zNsSz', u'is_quote_status': True, u'in_reply_to_status_id': None, u'id': 829056634123124737, u'favorite_count': 846, u'entities': {u'symbols': [], u'user_mentions': [], u'hashtags': [], u'urls': [{u'url': u'https://t.co/Uh807zNsSz', u'indices': [97, 120], u'expanded_url': u'https://twitter.com/DrJillStein/status/829008961550553093', u'display_url': u'twitter.com/DrJillStein/st\\u2026'}]}, u'quoted_status_id': 829008961550553093, u'retweeted': False, u'coordinates': None, u'quoted_status': {u'contributors': None, u'truncated': False, u'text': u'Why would we have a tie on such an egregious nominee? Because Democrats serve corporate interests. https://t.co/66rpL1ifik', u'is_quote_status': False, u'in_reply_to_status_id': None, u'id': 829008961550553093, u'favorite_count': 294, u'entities': {u'symbols': [], u'user_mentions': [], u'hashtags': [], u'urls': [{u'url': u'https://t.co/66rpL1ifik', u'indices': [99, 122], u'expanded_url': u'https://www.washingtonpost.com/powerpost/mike-pence-a-man-of-the-house-becomes-trumps-eyes-and-ears-in-the-senate/2017/02/07/fa61d528-ed34-11e6-9973-c5efb7ccfb0d_story.html?postshare=6141486484930018&tid=ss_tw&utm_term=.9db31dceb52b', u'display_url': u'washingtonpost.com/powerpost/mike\\u2026'}]}, u'retweeted': False, u'coordinates': None, u'source': u'<a href=\"http://twitter.com/download/iphone\" rel=\"nofollow\">Twitter for iPhone</a>', u'in_reply_to_screen_name': None, u'in_reply_to_user_id': None, u'retweet_count': 173, u'id_str': u'829008961550553093', u'favorited': False, u'user': {u'follow_request_sent': False, u'has_extended_profile': False, u'profile_use_background_image': True, u'default_profile_image': False, u'id': 111216929, u'profile_background_image_url_https': u'https://pbs.twimg.com/profile_background_images/563654697848803328/4hurQZt3.jpeg', u'verified': True, u'translator_type': u'none', u'profile_text_color': u'333333', u'profile_image_url_https': u'https://pbs.twimg.com/profile_images/756593715833995264/58FJ0pQJ_normal.jpg', u'profile_sidebar_fill_color': u'DDEEF6', u'entities': {u'url': {u'urls': [{u'url': u'https://t.co/cJMqxQwvT8', u'indices': [0, 23], u'expanded_url': u'http://Jill2016.com', u'display_url': u'Jill2016.com'}]}, u'description': {u'urls': []}}, u'followers_count': 279652, u'profile_sidebar_border_color': u'FFFFFF', u'id_str': u'111216929', u'profile_background_color': u'21A764', u'listed_count': 3646, u'is_translation_enabled': False, u'utc_offset': -28800, u'statuses_count': 11595, u'description': u'Green Party 2016 candidate for President, activist, medical doctor, environmental health advocate. Account managed by staff. #ItsInOurHands', u'friends_count': 3512, u'location': u'Massachusetts', u'profile_link_color': u'FFAA22', u'profile_image_url': u'http://pbs.twimg.com/profile_images/756593715833995264/58FJ0pQJ_normal.jpg', u'following': False, u'geo_enabled': True, u'profile_banner_url': u'https://pbs.twimg.com/profile_banners/111216929/1485311797', u'profile_background_image_url': u'http://pbs.twimg.com/profile_background_images/563654697848803328/4hurQZt3.jpeg', u'screen_name': u'DrJillStein', u'lang': u'en', u'profile_background_tile': False, u'favourites_count': 14851, u'name': u'Dr. Jill Stein', u'notifications': False, u'url': u'https://t.co/cJMqxQwvT8', u'created_at': u'Thu Feb 04 04:55:27 +0000 2010', u'contributors_enabled': False, u'time_zone': u'Pacific Time (US & Canada)', u'protected': False, u'default_profile': False, u'is_translator': False}, u'geo': None, u'in_reply_to_user_id_str': None, u'possibly_sensitive': False, u'lang': u'en', u'created_at': u'Tue Feb 07 16:48:33 +0000 2017', u'in_reply_to_status_id_str': None, u'place': None, u'metadata': {u'iso_language_code': u'en', u'result_type': u'recent'}}, u'source': u'<a href=\"http://tapbots.com/tweetbot\" rel=\"nofollow\">Tweetbot for i\\u039fS</a>', u'in_reply_to_screen_name': None, u'in_reply_to_user_id': None, u'retweet_count': 299, u'id_str': u'829056634123124737', u'favorited': False, u'user': {u'follow_request_sent': False, u'has_extended_profile': True, u'profile_use_background_image': True, u'default_profile_image': False, u'id': 14146966, u'profile_background_image_url_https': u'https://pbs.twimg.com/profile_background_images/378800000097191021/64050b8370e5a4c18fd8387f55534f2e.jpeg', u'verified': True, u'translator_type': u'none', u'profile_text_color': u'333333', u'profile_image_url_https': u'https://pbs.twimg.com/profile_images/720627004261986306/2AikUElD_normal.jpg', u'profile_sidebar_fill_color': u'DDEEF6', u'entities': {u'url': {u'urls': [{u'url': u'https://t.co/MMHhA54Sfs', u'indices': [0, 23], u'expanded_url': u'http://AMERICAblog.com', u'display_url': u'AMERICAblog.com'}]}, u'description': {u'urls': [{u'url': u'https://t.co/fbiJ1YYFnu', u'indices': [137, 160], u'expanded_url': u'http://booster.com/fight-trump', u'display_url': u'booster.com/fight-trump'}]}}, u'followers_count': 43796, u'profile_sidebar_border_color': u'FFFFFF', u'id_str': u'14146966', u'profile_background_color': u'C0DEED', u'listed_count': 1454, u'is_translation_enabled': False, u'utc_offset': -18000, u'statuses_count': 84605, u'description': u'Digital strategist & Editor @AMERICAblog. LGBT advocate. Past: UN, Economist, Senate. Called \\u201cwacko\\u201d by Rush. \"Illegitimate\" Trump swag: https://t.co/fbiJ1YYFnu', u'friends_count': 1184, u'location': u'New York City, NY', u'profile_link_color': u'0084B4', u'profile_image_url': u'http://pbs.twimg.com/profile_images/720627004261986306/2AikUElD_normal.jpg', u'following': False, u'geo_enabled': True, u'profile_banner_url': u'https://pbs.twimg.com/profile_banners/14146966/1485627182', u'profile_background_image_url': u'http://pbs.twimg.com/profile_background_images/378800000097191021/64050b8370e5a4c18fd8387f55534f2e.jpeg', u'screen_name': u'aravosis', u'lang': u'en', u'profile_background_tile': False, u'favourites_count': 5708, u'name': u'John Aravosis', u'notifications': False, u'url': u'https://t.co/MMHhA54Sfs', u'created_at': u'Fri Mar 14 14:28:09 +0000 2008', u'contributors_enabled': False, u'time_zone': u'Eastern Time (US & Canada)', u'protected': False, u'default_profile': False, u'is_translator': False}, u'geo': None, u'in_reply_to_user_id_str': None, u'possibly_sensitive': False, u'lang': u'en', u'created_at': u'Tue Feb 07 19:57:59 +0000 2017', u'quoted_status_id_str': u'829008961550553093', u'in_reply_to_status_id_str': None, u'place': None, u'metadata': {u'iso_language_code': u'en', u'result_type': u'recent'}}, coordinates=None, quoted_status={u'contributors': None, u'truncated': False, u'text': u'Why would we have a tie on such an egregious nominee? Because Democrats serve corporate interests. https://t.co/66rpL1ifik', u'is_quote_status': False, u'in_reply_to_status_id': None, u'id': 829008961550553093, u'favorite_count': 294, u'entities': {u'symbols': [], u'user_mentions': [], u'hashtags': [], u'urls': [{u'url': u'https://t.co/66rpL1ifik', u'indices': [99, 122], u'expanded_url': u'https://www.washingtonpost.com/powerpost/mike-pence-a-man-of-the-house-becomes-trumps-eyes-and-ears-in-the-senate/2017/02/07/fa61d528-ed34-11e6-9973-c5efb7ccfb0d_story.html?postshare=6141486484930018&tid=ss_tw&utm_term=.9db31dceb52b', u'display_url': u'washingtonpost.com/powerpost/mike\\u2026'}]}, u'retweeted': False, u'coordinates': None, u'source': u'<a href=\"http://twitter.com/download/iphone\" rel=\"nofollow\">Twitter for iPhone</a>', u'in_reply_to_screen_name': None, u'in_reply_to_user_id': None, u'retweet_count': 173, u'id_str': u'829008961550553093', u'favorited': False, u'user': {u'follow_request_sent': False, u'has_extended_profile': False, u'profile_use_background_image': True, u'default_profile_image': False, u'id': 111216929, u'profile_background_image_url_https': u'https://pbs.twimg.com/profile_background_images/563654697848803328/4hurQZt3.jpeg', u'verified': True, u'translator_type': u'none', u'profile_text_color': u'333333', u'profile_image_url_https': u'https://pbs.twimg.com/profile_images/756593715833995264/58FJ0pQJ_normal.jpg', u'profile_sidebar_fill_color': u'DDEEF6', u'entities': {u'url': {u'urls': [{u'url': u'https://t.co/cJMqxQwvT8', u'indices': [0, 23], u'expanded_url': u'http://Jill2016.com', u'display_url': u'Jill2016.com'}]}, u'description': {u'urls': []}}, u'followers_count': 279652, u'profile_sidebar_border_color': u'FFFFFF', u'id_str': u'111216929', u'profile_background_color': u'21A764', u'listed_count': 3646, u'is_translation_enabled': False, u'utc_offset': -28800, u'statuses_count': 11595, u'description': u'Green Party 2016 candidate for President, activist, medical doctor, environmental health advocate. Account managed by staff. #ItsInOurHands', u'friends_count': 3512, u'location': u'Massachusetts', u'profile_link_color': u'FFAA22', u'profile_image_url': u'http://pbs.twimg.com/profile_images/756593715833995264/58FJ0pQJ_normal.jpg', u'following': False, u'geo_enabled': True, u'profile_banner_url': u'https://pbs.twimg.com/profile_banners/111216929/1485311797', u'profile_background_image_url': u'http://pbs.twimg.com/profile_background_images/563654697848803328/4hurQZt3.jpeg', u'screen_name': u'DrJillStein', u'lang': u'en', u'profile_background_tile': False, u'favourites_count': 14851, u'name': u'Dr. Jill Stein', u'notifications': False, u'url': u'https://t.co/cJMqxQwvT8', u'created_at': u'Thu Feb 04 04:55:27 +0000 2010', u'contributors_enabled': False, u'time_zone': u'Pacific Time (US & Canada)', u'protected': False, u'default_profile': False, u'is_translator': False}, u'geo': None, u'in_reply_to_user_id_str': None, u'possibly_sensitive': False, u'lang': u'en', u'created_at': u'Tue Feb 07 16:48:33 +0000 2017', u'in_reply_to_status_id_str': None, u'place': None, u'metadata': {u'iso_language_code': u'en', u'result_type': u'recent'}}, entities={u'symbols': [], u'user_mentions': [], u'hashtags': [], u'urls': [{u'url': u'https://t.co/Uh807zNsSz', u'indices': [97, 120], u'expanded_url': u'https://twitter.com/DrJillStein/status/829008961550553093', u'display_url': u'twitter.com/DrJillStein/st\\u2026'}]}, in_reply_to_screen_name=None, id_str=u'829056634123124737', retweet_count=299, in_reply_to_user_id=None, favorited=False, source_url=u'http://tapbots.com/tweetbot', user=User(follow_request_sent=False, has_extended_profile=True, profile_use_background_image=True, _json={u'follow_request_sent': False, u'has_extended_profile': True, u'profile_use_background_image': True, u'default_profile_image': False, u'id': 14146966, u'profile_background_image_url_https': u'https://pbs.twimg.com/profile_background_images/378800000097191021/64050b8370e5a4c18fd8387f55534f2e.jpeg', u'verified': True, u'translator_type': u'none', u'profile_text_color': u'333333', u'profile_image_url_https': u'https://pbs.twimg.com/profile_images/720627004261986306/2AikUElD_normal.jpg', u'profile_sidebar_fill_color': u'DDEEF6', u'entities': {u'url': {u'urls': [{u'url': u'https://t.co/MMHhA54Sfs', u'indices': [0, 23], u'expanded_url': u'http://AMERICAblog.com', u'display_url': u'AMERICAblog.com'}]}, u'description': {u'urls': [{u'url': u'https://t.co/fbiJ1YYFnu', u'indices': [137, 160], u'expanded_url': u'http://booster.com/fight-trump', u'display_url': u'booster.com/fight-trump'}]}}, u'followers_count': 43796, u'profile_sidebar_border_color': u'FFFFFF', u'id_str': u'14146966', u'profile_background_color': u'C0DEED', u'listed_count': 1454, u'is_translation_enabled': False, u'utc_offset': -18000, u'statuses_count': 84605, u'description': u'Digital strategist & Editor @AMERICAblog. LGBT advocate. Past: UN, Economist, Senate. Called \\u201cwacko\\u201d by Rush. \"Illegitimate\" Trump swag: https://t.co/fbiJ1YYFnu', u'friends_count': 1184, u'location': u'New York City, NY', u'profile_link_color': u'0084B4', u'profile_image_url': u'http://pbs.twimg.com/profile_images/720627004261986306/2AikUElD_normal.jpg', u'following': False, u'geo_enabled': True, u'profile_banner_url': u'https://pbs.twimg.com/profile_banners/14146966/1485627182', u'profile_background_image_url': u'http://pbs.twimg.com/profile_background_images/378800000097191021/64050b8370e5a4c18fd8387f55534f2e.jpeg', u'screen_name': u'aravosis', u'lang': u'en', u'profile_background_tile': False, u'favourites_count': 5708, u'name': u'John Aravosis', u'notifications': False, u'url': u'https://t.co/MMHhA54Sfs', u'created_at': u'Fri Mar 14 14:28:09 +0000 2008', u'contributors_enabled': False, u'time_zone': u'Eastern Time (US & Canada)', u'protected': False, u'default_profile': False, u'is_translator': False}, time_zone=u'Eastern Time (US & Canada)', id=14146966, description=u'Digital strategist & Editor @AMERICAblog. LGBT advocate. Past: UN, Economist, Senate. Called \\u201cwacko\\u201d by Rush. \"Illegitimate\" Trump swag: https://t.co/fbiJ1YYFnu', _api=<tweepy.api.API object at 0x112216f50>, verified=True, profile_text_color=u'333333', profile_image_url_https=u'https://pbs.twimg.com/profile_images/720627004261986306/2AikUElD_normal.jpg', profile_sidebar_fill_color=u'DDEEF6', is_translator=False, geo_enabled=True, entities={u'url': {u'urls': [{u'url': u'https://t.co/MMHhA54Sfs', u'indices': [0, 23], u'expanded_url': u'http://AMERICAblog.com', u'display_url': u'AMERICAblog.com'}]}, u'description': {u'urls': [{u'url': u'https://t.co/fbiJ1YYFnu', u'indices': [137, 160], u'expanded_url': u'http://booster.com/fight-trump', u'display_url': u'booster.com/fight-trump'}]}}, followers_count=43796, protected=False, id_str=u'14146966', default_profile_image=False, listed_count=1454, lang=u'en', utc_offset=-18000, statuses_count=84605, profile_background_color=u'C0DEED', friends_count=1184, profile_link_color=u'0084B4', profile_image_url=u'http://pbs.twimg.com/profile_images/720627004261986306/2AikUElD_normal.jpg', notifications=False, default_profile=False, profile_background_image_url_https=u'https://pbs.twimg.com/profile_background_images/378800000097191021/64050b8370e5a4c18fd8387f55534f2e.jpeg', profile_banner_url=u'https://pbs.twimg.com/profile_banners/14146966/1485627182', profile_background_image_url=u'http://pbs.twimg.com/profile_background_images/378800000097191021/64050b8370e5a4c18fd8387f55534f2e.jpeg', name=u'John Aravosis', is_translation_enabled=False, profile_background_tile=False, favourites_count=5708, screen_name=u'aravosis', url=u'https://t.co/MMHhA54Sfs', created_at=datetime.datetime(2008, 3, 14, 14, 28, 9), contributors_enabled=False, location=u'New York City, NY', profile_sidebar_border_color=u'FFFFFF', translator_type=u'none', following=False), geo=None, in_reply_to_user_id_str=None, possibly_sensitive=False, lang=u'en', created_at=datetime.datetime(2017, 2, 7, 19, 57, 59), author=User(follow_request_sent=False, has_extended_profile=True, profile_use_background_image=True, _json={u'follow_request_sent': False, u'has_extended_profile': True, u'profile_use_background_image': True, u'default_profile_image': False, u'id': 14146966, u'profile_background_image_url_https': u'https://pbs.twimg.com/profile_background_images/378800000097191021/64050b8370e5a4c18fd8387f55534f2e.jpeg', u'verified': True, u'translator_type': u'none', u'profile_text_color': u'333333', u'profile_image_url_https': u'https://pbs.twimg.com/profile_images/720627004261986306/2AikUElD_normal.jpg', u'profile_sidebar_fill_color': u'DDEEF6', u'entities': {u'url': {u'urls': [{u'url': u'https://t.co/MMHhA54Sfs', u'indices': [0, 23], u'expanded_url': u'http://AMERICAblog.com', u'display_url': u'AMERICAblog.com'}]}, u'description': {u'urls': [{u'url': u'https://t.co/fbiJ1YYFnu', u'indices': [137, 160], u'expanded_url': u'http://booster.com/fight-trump', u'display_url': u'booster.com/fight-trump'}]}}, u'followers_count': 43796, u'profile_sidebar_border_color': u'FFFFFF', u'id_str': u'14146966', u'profile_background_color': u'C0DEED', u'listed_count': 1454, u'is_translation_enabled': False, u'utc_offset': -18000, u'statuses_count': 84605, u'description': u'Digital strategist & Editor @AMERICAblog. LGBT advocate. Past: UN, Economist, Senate. Called \\u201cwacko\\u201d by Rush. \"Illegitimate\" Trump swag: https://t.co/fbiJ1YYFnu', u'friends_count': 1184, u'location': u'New York City, NY', u'profile_link_color': u'0084B4', u'profile_image_url': u'http://pbs.twimg.com/profile_images/720627004261986306/2AikUElD_normal.jpg', u'following': False, u'geo_enabled': True, u'profile_banner_url': u'https://pbs.twimg.com/profile_banners/14146966/1485627182', u'profile_background_image_url': u'http://pbs.twimg.com/profile_background_images/378800000097191021/64050b8370e5a4c18fd8387f55534f2e.jpeg', u'screen_name': u'aravosis', u'lang': u'en', u'profile_background_tile': False, u'favourites_count': 5708, u'name': u'John Aravosis', u'notifications': False, u'url': u'https://t.co/MMHhA54Sfs', u'created_at': u'Fri Mar 14 14:28:09 +0000 2008', u'contributors_enabled': False, u'time_zone': u'Eastern Time (US & Canada)', u'protected': False, u'default_profile': False, u'is_translator': False}, time_zone=u'Eastern Time (US & Canada)', id=14146966, description=u'Digital strategist & Editor @AMERICAblog. LGBT advocate. Past: UN, Economist, Senate. Called \\u201cwacko\\u201d by Rush. \"Illegitimate\" Trump swag: https://t.co/fbiJ1YYFnu', _api=<tweepy.api.API object at 0x112216f50>, verified=True, profile_text_color=u'333333', profile_image_url_https=u'https://pbs.twimg.com/profile_images/720627004261986306/2AikUElD_normal.jpg', profile_sidebar_fill_color=u'DDEEF6', is_translator=False, geo_enabled=True, entities={u'url': {u'urls': [{u'url': u'https://t.co/MMHhA54Sfs', u'indices': [0, 23], u'expanded_url': u'http://AMERICAblog.com', u'display_url': u'AMERICAblog.com'}]}, u'description': {u'urls': [{u'url': u'https://t.co/fbiJ1YYFnu', u'indices': [137, 160], u'expanded_url': u'http://booster.com/fight-trump', u'display_url': u'booster.com/fight-trump'}]}}, followers_count=43796, protected=False, id_str=u'14146966', default_profile_image=False, listed_count=1454, lang=u'en', utc_offset=-18000, statuses_count=84605, profile_background_color=u'C0DEED', friends_count=1184, profile_link_color=u'0084B4', profile_image_url=u'http://pbs.twimg.com/profile_images/720627004261986306/2AikUElD_normal.jpg', notifications=False, default_profile=False, profile_background_image_url_https=u'https://pbs.twimg.com/profile_background_images/378800000097191021/64050b8370e5a4c18fd8387f55534f2e.jpeg', profile_banner_url=u'https://pbs.twimg.com/profile_banners/14146966/1485627182', profile_background_image_url=u'http://pbs.twimg.com/profile_background_images/378800000097191021/64050b8370e5a4c18fd8387f55534f2e.jpeg', name=u'John Aravosis', is_translation_enabled=False, profile_background_tile=False, favourites_count=5708, screen_name=u'aravosis', url=u'https://t.co/MMHhA54Sfs', created_at=datetime.datetime(2008, 3, 14, 14, 28, 9), contributors_enabled=False, location=u'New York City, NY', profile_sidebar_border_color=u'FFFFFF', translator_type=u'none', following=False), quoted_status_id_str=u'829008961550553093', in_reply_to_status_id_str=None, place=None, retweeted=False, metadata={u'iso_language_code': u'en', u'result_type': u'recent'}), source_url=u'http://twitter.com/download/android', user=User(follow_request_sent=False, has_extended_profile=False, profile_use_background_image=True, _json={u'follow_request_sent': False, u'has_extended_profile': False, u'profile_use_background_image': True, u'default_profile_image': False, u'id': 634117618, u'profile_background_image_url_https': u'https://pbs.twimg.com/profile_background_images/663987984/condwvqe3vnubnpsqo9j.jpeg', u'verified': False, u'translator_type': u'none', u'profile_text_color': u'3C3940', u'profile_image_url_https': u'https://pbs.twimg.com/profile_images/2394453081/myp8tnj5med5s82if3em_normal.jpeg', u'profile_sidebar_fill_color': u'95E8EC', u'entities': {u'description': {u'urls': []}}, u'followers_count': 89, u'profile_sidebar_border_color': u'FFFFFF', u'id_str': u'634117618', u'profile_background_color': u'0099B9', u'listed_count': 22, u'is_translation_enabled': False, u'utc_offset': -18000, u'statuses_count': 10150, u'description': u'The Walt Disney Company eCommerce at the Walt Disney World Resort. -Life is Good!   Comments and opinions are my own and not that of The Walt Disney Company', u'friends_count': 147, u'location': u'Tampa Bay, Florida', u'profile_link_color': u'0099B9', u'profile_image_url': u'http://pbs.twimg.com/profile_images/2394453081/myp8tnj5med5s82if3em_normal.jpeg', u'following': False, u'geo_enabled': False, u'profile_banner_url': u'https://pbs.twimg.com/profile_banners/634117618/1348088398', u'profile_background_image_url': u'http://pbs.twimg.com/profile_background_images/663987984/condwvqe3vnubnpsqo9j.jpeg', u'screen_name': u'ChrismPrism', u'lang': u'en', u'profile_background_tile': False, u'favourites_count': 1237, u'name': u'Chris Maggio', u'notifications': False, u'url': None, u'created_at': u'Thu Jul 12 22:57:35 +0000 2012', u'contributors_enabled': False, u'time_zone': u'Eastern Time (US & Canada)', u'protected': False, u'default_profile': False, u'is_translator': False}, time_zone=u'Eastern Time (US & Canada)', id=634117618, description=u'The Walt Disney Company eCommerce at the Walt Disney World Resort. -Life is Good!   Comments and opinions are my own and not that of The Walt Disney Company', _api=<tweepy.api.API object at 0x112216f50>, verified=False, profile_text_color=u'3C3940', profile_image_url_https=u'https://pbs.twimg.com/profile_images/2394453081/myp8tnj5med5s82if3em_normal.jpeg', profile_sidebar_fill_color=u'95E8EC', is_translator=False, geo_enabled=False, entities={u'description': {u'urls': []}}, followers_count=89, protected=False, id_str=u'634117618', default_profile_image=False, listed_count=22, lang=u'en', utc_offset=-18000, statuses_count=10150, profile_background_color=u'0099B9', friends_count=147, profile_link_color=u'0099B9', profile_image_url=u'http://pbs.twimg.com/profile_images/2394453081/myp8tnj5med5s82if3em_normal.jpeg', notifications=False, default_profile=False, profile_background_image_url_https=u'https://pbs.twimg.com/profile_background_images/663987984/condwvqe3vnubnpsqo9j.jpeg', profile_banner_url=u'https://pbs.twimg.com/profile_banners/634117618/1348088398', profile_background_image_url=u'http://pbs.twimg.com/profile_background_images/663987984/condwvqe3vnubnpsqo9j.jpeg', name=u'Chris Maggio', is_translation_enabled=False, profile_background_tile=False, favourites_count=1237, screen_name=u'ChrismPrism', url=None, created_at=datetime.datetime(2012, 7, 12, 22, 57, 35), contributors_enabled=False, location=u'Tampa Bay, Florida', profile_sidebar_border_color=u'FFFFFF', translator_type=u'none', following=False), geo=None, in_reply_to_user_id_str=None, possibly_sensitive=False, lang=u'en', created_at=datetime.datetime(2017, 2, 7, 20, 56, 7), author=User(follow_request_sent=False, has_extended_profile=False, profile_use_background_image=True, _json={u'follow_request_sent': False, u'has_extended_profile': False, u'profile_use_background_image': True, u'default_profile_image': False, u'id': 634117618, u'profile_background_image_url_https': u'https://pbs.twimg.com/profile_background_images/663987984/condwvqe3vnubnpsqo9j.jpeg', u'verified': False, u'translator_type': u'none', u'profile_text_color': u'3C3940', u'profile_image_url_https': u'https://pbs.twimg.com/profile_images/2394453081/myp8tnj5med5s82if3em_normal.jpeg', u'profile_sidebar_fill_color': u'95E8EC', u'entities': {u'description': {u'urls': []}}, u'followers_count': 89, u'profile_sidebar_border_color': u'FFFFFF', u'id_str': u'634117618', u'profile_background_color': u'0099B9', u'listed_count': 22, u'is_translation_enabled': False, u'utc_offset': -18000, u'statuses_count': 10150, u'description': u'The Walt Disney Company eCommerce at the Walt Disney World Resort. -Life is Good!   Comments and opinions are my own and not that of The Walt Disney Company', u'friends_count': 147, u'location': u'Tampa Bay, Florida', u'profile_link_color': u'0099B9', u'profile_image_url': u'http://pbs.twimg.com/profile_images/2394453081/myp8tnj5med5s82if3em_normal.jpeg', u'following': False, u'geo_enabled': False, u'profile_banner_url': u'https://pbs.twimg.com/profile_banners/634117618/1348088398', u'profile_background_image_url': u'http://pbs.twimg.com/profile_background_images/663987984/condwvqe3vnubnpsqo9j.jpeg', u'screen_name': u'ChrismPrism', u'lang': u'en', u'profile_background_tile': False, u'favourites_count': 1237, u'name': u'Chris Maggio', u'notifications': False, u'url': None, u'created_at': u'Thu Jul 12 22:57:35 +0000 2012', u'contributors_enabled': False, u'time_zone': u'Eastern Time (US & Canada)', u'protected': False, u'default_profile': False, u'is_translator': False}, time_zone=u'Eastern Time (US & Canada)', id=634117618, description=u'The Walt Disney Company eCommerce at the Walt Disney World Resort. -Life is Good!   Comments and opinions are my own and not that of The Walt Disney Company', _api=<tweepy.api.API object at 0x112216f50>, verified=False, profile_text_color=u'3C3940', profile_image_url_https=u'https://pbs.twimg.com/profile_images/2394453081/myp8tnj5med5s82if3em_normal.jpeg', profile_sidebar_fill_color=u'95E8EC', is_translator=False, geo_enabled=False, entities={u'description': {u'urls': []}}, followers_count=89, protected=False, id_str=u'634117618', default_profile_image=False, listed_count=22, lang=u'en', utc_offset=-18000, statuses_count=10150, profile_background_color=u'0099B9', friends_count=147, profile_link_color=u'0099B9', profile_image_url=u'http://pbs.twimg.com/profile_images/2394453081/myp8tnj5med5s82if3em_normal.jpeg', notifications=False, default_profile=False, profile_background_image_url_https=u'https://pbs.twimg.com/profile_background_images/663987984/condwvqe3vnubnpsqo9j.jpeg', profile_banner_url=u'https://pbs.twimg.com/profile_banners/634117618/1348088398', profile_background_image_url=u'http://pbs.twimg.com/profile_background_images/663987984/condwvqe3vnubnpsqo9j.jpeg', name=u'Chris Maggio', is_translation_enabled=False, profile_background_tile=False, favourites_count=1237, screen_name=u'ChrismPrism', url=None, created_at=datetime.datetime(2012, 7, 12, 22, 57, 35), contributors_enabled=False, location=u'Tampa Bay, Florida', profile_sidebar_border_color=u'FFFFFF', translator_type=u'none', following=False), quoted_status_id_str=u'829008961550553093', in_reply_to_status_id_str=None, place=None, retweeted=False, metadata={u'iso_language_code': u'en', u'result_type': u'recent'})"
      ]
     },
     "execution_count": 21,
     "metadata": {},
     "output_type": "execute_result"
    }
   ],
   "source": [
    "# let's take a look at the first one\n",
    "tweets[0]"
   ]
  },
  {
   "cell_type": "code",
   "execution_count": 22,
   "metadata": {
    "collapsed": false
   },
   "outputs": [
    {
     "name": "stdout",
     "output_type": "stream",
     "text": [
      "2017-02-07 20:56:07\n",
      "RT @aravosis: We had a tie because you helped elect Donald Trump, who saved GOP control of the senate to boot. https://t.co/Uh807zNsSz\n"
     ]
    }
   ],
   "source": [
    "# wrappers come with built in python attributes and methods!\n",
    "print tweets[0].created_at\n",
    "print tweets[0].text"
   ]
  },
  {
   "cell_type": "code",
   "execution_count": 23,
   "metadata": {
    "collapsed": false
   },
   "outputs": [
    {
     "data": {
      "text/plain": [
       "User(follow_request_sent=False, has_extended_profile=False, profile_use_background_image=True, _json={u'follow_request_sent': False, u'has_extended_profile': False, u'profile_use_background_image': True, u'default_profile_image': False, u'id': 634117618, u'profile_background_image_url_https': u'https://pbs.twimg.com/profile_background_images/663987984/condwvqe3vnubnpsqo9j.jpeg', u'verified': False, u'translator_type': u'none', u'profile_text_color': u'3C3940', u'profile_image_url_https': u'https://pbs.twimg.com/profile_images/2394453081/myp8tnj5med5s82if3em_normal.jpeg', u'profile_sidebar_fill_color': u'95E8EC', u'entities': {u'description': {u'urls': []}}, u'followers_count': 89, u'profile_sidebar_border_color': u'FFFFFF', u'id_str': u'634117618', u'profile_background_color': u'0099B9', u'listed_count': 22, u'is_translation_enabled': False, u'utc_offset': -18000, u'statuses_count': 10150, u'description': u'The Walt Disney Company eCommerce at the Walt Disney World Resort. -Life is Good!   Comments and opinions are my own and not that of The Walt Disney Company', u'friends_count': 147, u'location': u'Tampa Bay, Florida', u'profile_link_color': u'0099B9', u'profile_image_url': u'http://pbs.twimg.com/profile_images/2394453081/myp8tnj5med5s82if3em_normal.jpeg', u'following': False, u'geo_enabled': False, u'profile_banner_url': u'https://pbs.twimg.com/profile_banners/634117618/1348088398', u'profile_background_image_url': u'http://pbs.twimg.com/profile_background_images/663987984/condwvqe3vnubnpsqo9j.jpeg', u'screen_name': u'ChrismPrism', u'lang': u'en', u'profile_background_tile': False, u'favourites_count': 1237, u'name': u'Chris Maggio', u'notifications': False, u'url': None, u'created_at': u'Thu Jul 12 22:57:35 +0000 2012', u'contributors_enabled': False, u'time_zone': u'Eastern Time (US & Canada)', u'protected': False, u'default_profile': False, u'is_translator': False}, time_zone=u'Eastern Time (US & Canada)', id=634117618, description=u'The Walt Disney Company eCommerce at the Walt Disney World Resort. -Life is Good!   Comments and opinions are my own and not that of The Walt Disney Company', _api=<tweepy.api.API object at 0x112216f50>, verified=False, profile_text_color=u'3C3940', profile_image_url_https=u'https://pbs.twimg.com/profile_images/2394453081/myp8tnj5med5s82if3em_normal.jpeg', profile_sidebar_fill_color=u'95E8EC', is_translator=False, geo_enabled=False, entities={u'description': {u'urls': []}}, followers_count=89, protected=False, id_str=u'634117618', default_profile_image=False, listed_count=22, lang=u'en', utc_offset=-18000, statuses_count=10150, profile_background_color=u'0099B9', friends_count=147, profile_link_color=u'0099B9', profile_image_url=u'http://pbs.twimg.com/profile_images/2394453081/myp8tnj5med5s82if3em_normal.jpeg', notifications=False, default_profile=False, profile_background_image_url_https=u'https://pbs.twimg.com/profile_background_images/663987984/condwvqe3vnubnpsqo9j.jpeg', profile_banner_url=u'https://pbs.twimg.com/profile_banners/634117618/1348088398', profile_background_image_url=u'http://pbs.twimg.com/profile_background_images/663987984/condwvqe3vnubnpsqo9j.jpeg', name=u'Chris Maggio', is_translation_enabled=False, profile_background_tile=False, favourites_count=1237, screen_name=u'ChrismPrism', url=None, created_at=datetime.datetime(2012, 7, 12, 22, 57, 35), contributors_enabled=False, location=u'Tampa Bay, Florida', profile_sidebar_border_color=u'FFFFFF', translator_type=u'none', following=False)"
      ]
     },
     "execution_count": 23,
     "metadata": {},
     "output_type": "execute_result"
    }
   ],
   "source": [
    "# the author is an object in and of itself\n",
    "tweets[0].author"
   ]
  },
  {
   "cell_type": "code",
   "execution_count": 24,
   "metadata": {
    "collapsed": false
   },
   "outputs": [
    {
     "name": "stdout",
     "output_type": "stream",
     "text": [
      "ChrismPrism\n",
      "http://pbs.twimg.com/profile_images/2394453081/myp8tnj5med5s82if3em_normal.jpeg\n"
     ]
    }
   ],
   "source": [
    "# the author's handle\n",
    "print tweets[0].author.screen_name\n",
    "print tweets[0].author.profile_image_url"
   ]
  },
  {
   "cell_type": "markdown",
   "metadata": {},
   "source": [
    "<img src=\"http://pbs.twimg.com/profile_images/746490546831691776/n3aQiG8f_normal.jpg\">"
   ]
  },
  {
   "cell_type": "code",
   "execution_count": 25,
   "metadata": {
    "collapsed": false
   },
   "outputs": [
    {
     "name": "stdout",
     "output_type": "stream",
     "text": [
      "beginning live feed....\n",
      "@redwoodblues at 2017-02-07 12:57:32: RT @BuzzFeed: This woman fact-checked a Donald Trump tweet and it was brilliant https://t.co/dgU53gc1B2 https://t.co/SZtx6nVqx2 with 95 followers\n",
      "\n",
      "@Enrico056 at 2017-02-07 12:57:32: RT @mcspocky: Donald Trump signs executive order while admitting he doesnt know what it says [video] https://t.co/8Hp9pqYzgp https://t.co/ with 2614 followers\n",
      "\n",
      "@WillSmirk4Food at 2017-02-07 12:57:32: The @RawStory &gt;&gt;&gt; Donald Trump has thrown Mexicos shockingly unpopular president a lifeline https://t.co/VyV5EAQ2Lr with 843 followers\n",
      "\n",
      "@worldgoneweird at 2017-02-07 12:57:32: RT @Deplorable_Dude: $30 MILLION spent on Hillary's campaign, &amp; you're non-partisan ? OK, how much did you donate to TRUMP ? How much ?  with 4156 followers\n",
      "\n",
      "@Not_A_Banker at 2017-02-07 12:57:33: #StopPresidentBannon It will be interesting to see how Bannon &amp; Donald try to provoke Iran into a holy war: https://t.co/7wVPfWe8U6 with 4 followers\n",
      "\n",
      "@MGYounce at 2017-02-07 12:57:33: RT @boyndog: The Betsy DeVos confirmation proves: bribery and corruption are alive and doing very well (thanks for asking) in Donald Trump' with 486 followers\n",
      "\n",
      "@guardianworld at 2017-02-07 12:57:33: Lords Speaker says Donald Trump could still address parliament https://t.co/H2yHb7wpKA with 530009 followers\n",
      "\n",
      "@rawanaldousarl at 2017-02-07 12:57:33: RT @CitizenSlant: WATCH: President Donald Trump: Muslim Ban is Common Sense https://t.co/hm2BD2hJxU https://t.co/6eNcUAIHCQ with 292 followers\n",
      "\n",
      "@stocktonbuzz at 2017-02-07 12:57:33: No, The US Murder Rate Is Not The Highest Its Been In 47 Years: WASHINGTON  President Donald Trump continues to https://t.co/r9mcFcnrWQ with 4213 followers\n",
      "\n",
      "@Alicia1031 at 2017-02-07 12:57:33: RT @PhilipRucker: Trump's immigration ban jeopardizes USA's hopes of getting the 2024 Olympics in Los Angeles, @cbrennansports reports http with 94 followers\n",
      "\n",
      "@Kissesfromdes at 2017-02-07 12:57:33: RT @CertifiedFool_: IM TIRED OF HEARING ABOUT DONALD TRUMP AND HIS FUCK ASS ADMINISTRATION BUT I NEED TO STAY AWARE OF WHATS HAPPENING http with 115 followers\n",
      "\n",
      "@sIict at 2017-02-07 12:57:34: RT @DailyCaller: Clinton Ally Says School Choice  Which Hillary Supported As First Lady  Means Resegregation Of Schools  with 356 followers\n",
      "\n",
      "@barbaraweed at 2017-02-07 12:57:33: RT @TIME: In his words: How Donald Trump judges the judges https://t.co/50a8GhjLVg https://t.co/611ww2Qe8N with 829 followers\n",
      "\n",
      "@Jordi_BA at 2017-02-07 12:57:33: RT @JosPastr: -Riiiing.\n",
      "-Diga?\n",
      "-Marianou Rahoy?\n",
      "-S.\n",
      "-Here Donald J. Trump, president of the United States.\n",
      "-Estoy contento con Movistar, with 293 followers\n",
      "\n",
      "@Vicky_Robshaw at 2017-02-07 12:57:34: RT @BuzzFeed: This woman fact-checked a Donald Trump tweet and it was brilliant https://t.co/dgU53gc1B2 https://t.co/SZtx6nVqx2 with 348 followers\n",
      "\n",
      "@MAnyaefena at 2017-02-07 12:57:34: RT @OrientalTimes: BREAKING NEWS: President Donald Trump Nominated For The Nobel Peace Prize https://t.co/91ldplO641 https://t.co/ggnVgKPBRP with 19 followers\n",
      "\n",
      "@matmirth at 2017-02-07 12:57:34: RT @ZaibatsuNews: Donald Trump has thrown Mexicos shockingly unpopular president a lifeline https://t.co/fGRBosQOvE #p2 #ctl https://t.co/ with 240 followers\n",
      "\n",
      "@_MikeBravo_ at 2017-02-07 12:57:34: RT @ihaveinmyhand: Sack the miniature https://t.co/BvKoC0PzDx with 824 followers\n",
      "\n",
      "@frtroin at 2017-02-07 12:57:34: RT @Nice_Matin: La Grosse tte de Donald Trump au Carnaval de Nice est sans aucun doute la plus russie du monde  with 297 followers\n",
      "\n",
      "@Shedd7Mike at 2017-02-07 12:57:34: RT @treyinla: One by one, black New England Patriots players are refusing to visit Donald Trump's White House https://t.co/mEgJoErMBz via @ with 32 followers\n",
      "\n",
      "@angie_schenkel at 2017-02-07 12:57:34: https://t.co/yMO4HvH9GD with 78 followers\n",
      "\n",
      "@dogs4lyfe_ at 2017-02-07 12:57:34: RT @TheRachelFisher: You know who's never complained that people were mean to them? Hillary fucking Clinton. with 277 followers\n",
      "\n",
      "@thesee_dimples at 2017-02-07 12:57:34: RT @CertifiedFool_: IM TIRED OF HEARING ABOUT DONALD TRUMP AND HIS FUCK ASS ADMINISTRATION BUT I NEED TO STAY AWARE OF WHATS HAPPENING http with 834 followers\n",
      "\n",
      "@splashtainment1 at 2017-02-07 12:57:34: AMAZING!  Bill Clinton and Barack Obama support Donald Trump Immigration Ban  https://t.co/u2psioj4Mn with 993 followers\n",
      "\n",
      "@itsjaguaryo at 2017-02-07 12:57:35: RT @sarahkendzior: \"This is how we can fight Donald Trump's attack on democracy\" https://t.co/XNJU1rHNRt with 2051 followers\n",
      "\n",
      "@otarunero at 2017-02-07 12:57:35: RT @AHoeStory: RT when you see Donald Trump.  https://t.co/1YgJ2CklZr with 648 followers\n",
      "\n",
      "@samlouiseeee at 2017-02-07 12:57:34: mf'ers voted him in https://t.co/HY2HGxS2mo with 263 followers\n",
      "\n",
      "@moonsnaya at 2017-02-07 12:57:35: RT @afantasticdream: I won't ever forget watching Barack Obama, Hillary Clinton, and Donald Trump react to the Pulse massacre. Neither s  with 1750 followers\n",
      "\n",
      "@itsLUNI at 2017-02-07 12:57:35: RT @TIME: In his words: How Donald Trump judges the judges https://t.co/50a8GhjLVg https://t.co/611ww2Qe8N with 1371 followers\n",
      "\n",
      "@MHanrattyChurch at 2017-02-07 12:57:35: ?? https://t.co/JU1we07HsP with 2794 followers\n",
      "\n",
      "@JD152102 at 2017-02-07 12:57:35: RT @BernieSanders: Donald Trumps goal is to protect the interests of the wealthiest and most powerful people in this country. That is exac with 19 followers\n",
      "\n",
      "@ajnos16 at 2017-02-07 12:57:35: RT @jaketapper: .@cbrennansports: Trump's immigration order a hurdle for Los Angeles' 2024 Olympic bid\n",
      "\n",
      " https://t.co/rQ7n5fygNG with 61 followers\n",
      "\n",
      "@mrshaggerty_ at 2017-02-07 12:57:35: RT @JosPastr: -Riiiing.\n",
      "-Diga?\n",
      "-Marianou Rahoy?\n",
      "-S.\n",
      "-Here Donald J. Trump, president of the United States.\n",
      "-Estoy contento con Movistar, with 372 followers\n",
      "\n",
      "@lic_santiago at 2017-02-07 12:57:36: RT @FT: The jobs Donald Trump is promising to bring back aren't what they used to be. This woman's fatal accident shows why: https://t.co/X with 1665 followers\n",
      "\n",
      "@meltortue at 2017-02-07 12:57:36: RT @AltBadlandsNPS: Yesssss #resist #espritdecorps #solidarity https://t.co/SHM0T66kRN with 25 followers\n",
      "\n",
      "@Bison73J at 2017-02-07 12:57:36: RT @boyndog: The Betsy DeVos confirmation proves: bribery and corruption are alive and doing very well (thanks for asking) in Donald Trump' with 826 followers\n",
      "\n",
      "@80samrar at 2017-02-07 12:57:36: RT @tonyposnanski: In all fairness Betsy DeVos is just as qualified for her job as Donald Trump is. with 25 followers\n",
      "\n",
      "@ShylaKallhoff at 2017-02-07 12:57:36: RT @afantasticdream: I won't ever forget watching Barack Obama, Hillary Clinton, and Donald Trump react to the Pulse massacre. Neither s  with 423 followers\n",
      "\n",
      "@cblazina at 2017-02-07 12:57:36: RT @JimZarroli: There's an American myth that the super-rich know a lot about everything. Good piece by @DeanBaker13.  https://t.co/tqsqGUV with 738 followers\n",
      "\n",
      "@AlyssaCarle at 2017-02-07 12:57:36: RT @afantasticdream: I won't ever forget watching Barack Obama, Hillary Clinton, and Donald Trump react to the Pulse massacre. Neither s  with 266 followers\n",
      "\n",
      "@POTUSIsLOVED44 at 2017-02-07 12:57:36: Russian spy linked to Donald Trumps dirty dossier found DEAD in his car in Moscow https://t.co/6SEyWuwkek @RealDonaldTrump #PUTINSWork with 9757 followers\n",
      "\n",
      "@Elicia757 at 2017-02-07 12:57:36: RT @afantasticdream: I won't ever forget watching Barack Obama, Hillary Clinton, and Donald Trump react to the Pulse massacre. Neither s  with 80 followers\n",
      "\n",
      "@jimmyhawk9 at 2017-02-07 12:57:36: RT @marvswife: Donald Trump and his family are the true welfare queens of America https://t.co/YglObqLLQe HE IS COSTING US A FORTUNE! with 4551 followers\n",
      "\n",
      "@vainsovain at 2017-02-07 12:57:36: RT @OliviaMesser: Here's my case for why that Texas sheriff was likely talking about @TxChuy today at the White House.  with 25 followers\n",
      "\n",
      "@JM_V22 at 2017-02-07 12:57:36: Dude was shook  https://t.co/jo4epvmyGj with 572 followers\n",
      "\n",
      "@YanksFan70 at 2017-02-07 12:57:37: RT @changemation: Trump falsely claims US murder rate is 'highest' in 47 years\n",
      "\n",
      "#LiarInChief\n",
      "\n",
      " #TrumpLiesMatter  \n",
      "\n",
      "#PresidentBannon \n",
      "\n",
      "https with 95 followers\n",
      "\n",
      "@vladimputin at 2017-02-07 12:57:37: Much of #USs aggression to the rest of #humanity has come from so called liberal Democratic admins such as #Obamas https://t.co/kGMUUy7WmZ with 7 followers\n",
      "\n",
      "@sorryitsgabe at 2017-02-07 12:57:37: RT @TheRachelFisher: You know who's never complained that people were mean to them? Hillary fucking Clinton. with 51 followers\n",
      "\n",
      "@uCrioz at 2017-02-07 12:57:37: RT @xxxjayglo: JUST TOLD MY MOM IM NOT VOTING FOR HILLARY CLINTON AND THIS HAPPENED  https://t.co/bUUkzgOA2E with 62 followers\n",
      "\n",
      "@gvanderloop at 2017-02-07 12:57:37: Trump falsely claims US murder rate is 'highest' in 47 years https://t.co/QrnCX0dUxo with 2264 followers\n",
      "\n",
      "@beckycornfootx at 2017-02-07 12:57:37: RT @artoopio: KRISTEN MOCKED DONALD TRUMP AND CAME OUT AS GAY IN SNL MONOLOGUE WHEN WILL YOUR FAVE https://t.co/1lj07smIld with 817 followers\n",
      "\n",
      "@StefRich22 at 2017-02-07 12:57:37: RT @peterbakernyt: .@jackshafer will give 20-year-old single malt to any WH reporter who follows up a colleagues unanswered question. http with 123 followers\n",
      "\n",
      "@dschulz20284 at 2017-02-07 12:57:38: RT @NewssTrump: THE NRA IS ENDORSING DONALD TRUMP. WOULD YOU TRUST HIM AS PRESIDENT? https://t.co/kOysnE58Br https://t.co/VnbYM0RWRM with 118 followers\n",
      "\n",
      "@MCMorgan521 at 2017-02-07 12:57:38: RT @afantasticdream: I won't ever forget watching Barack Obama, Hillary Clinton, and Donald Trump react to the Pulse massacre. Neither s  with 108 followers\n",
      "\n",
      "@_Kinnnnnggggg at 2017-02-07 12:57:38: RT @Bruce_Cares: Theres a dead Navy SEAL, an 8yr old child and 14 others because .@realDonaldTrump has the maturity of a teenager.https:// with 1168 followers\n",
      "\n",
      "@frackowiakmoss at 2017-02-07 12:57:39: RT @BernieSanders: Donald Trumps goal is to protect the interests of the wealthiest and most powerful people in this country. That is exac with 2170 followers\n",
      "\n",
      "@kals55 at 2017-02-07 12:57:39: RT @FlaDems: .@Independent: Trump only agreed to botched Yemen raid because military officials said predecessor would never do i  with 658 followers\n",
      "\n",
      "@iz_raw23 at 2017-02-07 12:57:39: RT @TopRopeTravis: So what I have gathered so far is that all of the #SuperBowl commercials will be trolling Donald Trump.  with 242 followers\n",
      "\n",
      "@texas_teasley at 2017-02-07 12:57:39: RT @BernieSanders: Donald Trumps goal is to protect the interests of the wealthiest and most powerful people in this country. That is exac with 6 followers\n",
      "\n",
      "@ChrisdeB at 2017-02-07 12:57:39: All praise to John Bercow for refusing to bow to racist, sexist Donald Trump | Owen Jones https://t.co/Nbf8URckmR with 261 followers\n",
      "\n",
      "@KeriHenare at 2017-02-07 12:57:39: RT @afantasticdream: I won't ever forget watching Barack Obama, Hillary Clinton, and Donald Trump react to the Pulse massacre. Neither s  with 1557 followers\n",
      "\n",
      "@SocialistVoice at 2017-02-07 12:57:39: Bernie Sanders calls Donald Trump a fraud for U-turn on Wall Street and billionaires inside the White House https://t.co/e5xKsUDG0r with 36643 followers\n",
      "\n",
      "@sportjames23 at 2017-02-07 12:57:39: RT @EricWolfson: The lesson learned with the Betsy DeVos confirmation is that if you give $9.5M to Donald Trump, YOU TOO CAN BE SECRETARY O with 765 followers\n",
      "\n",
      "@Faenthel at 2017-02-07 12:57:39: RT @sebroche: At the end of the day it is Women who will save us all..Teen Vogue got mad, got woke,began terrifying men like Trump https:// with 248 followers\n",
      "\n",
      "@elizsmiz at 2017-02-07 12:57:39: RT @TheRachelFisher: You know who's never complained that people were mean to them? Hillary fucking Clinton. with 315 followers\n",
      "\n",
      "@Volyrons at 2017-02-07 12:57:39: RT @rohmontgomery: Betsy DeVos got confirmed &amp; i would be surprised but Donald Trump is president. this is the upside down. we're in hell b with 307 followers\n",
      "\n",
      "@01001101011TDA1 at 2017-02-07 12:57:40: RT @B3infos:  Plusieurs pays europens s'allient pour financer des groups pro avortement aprs que #Trump ait coup les fonds  with 898 followers\n",
      "\n",
      "@MissKariBaby85 at 2017-02-07 12:57:40: RT @isaacccccccccc: Hillary Clinton should have used some of her leftover campaign cash to buy 30 seconds where she just says \"Still worrie with 419 followers\n",
      "\n",
      "@mydogskylar at 2017-02-07 12:57:40: who cares. HRC is a criminal https://t.co/2Tb7r6JdUb with 489 followers\n",
      "\n",
      "@jerrygb777 at 2017-02-07 12:57:40: RT @keithlaw: It's two players. #savedyouaclick https://t.co/JIYhXJysTw with 231 followers\n",
      "\n",
      "@Vbiii241 at 2017-02-07 12:57:40: RT @CorralesCoyote: @POTUS @BetsyDeVos MAKE SURE THE MEDIA COVERS THIS!! https://t.co/JnkXoBCoK9 . with 2918 followers\n",
      "\n",
      "@ungadjo1 at 2017-02-07 12:57:41: RT @tonyposnanski: In all fairness Betsy DeVos is just as qualified for her job as Donald Trump is. with 370 followers\n",
      "\n",
      "@JCSanjuan9 at 2017-02-07 12:57:41: RT @JosPastr: -Riiiing.\n",
      "-Diga?\n",
      "-Marianou Rahoy?\n",
      "-S.\n",
      "-Here Donald J. Trump, president of the United States.\n",
      "-Estoy contento con Movistar, with 120 followers\n",
      "\n",
      "@PHLBizJournal at 2017-02-07 12:57:41: RT @PeterLKey: If you interview with this Philadelphia tech company, it will donate $100 to ACLU https://t.co/6Wsg2iuoVf via @PHLBizJournal with 30593 followers\n",
      "\n",
      "@SEPE85 at 2017-02-07 12:57:41: RT @JosPastr: -Riiiing.\n",
      "-Diga?\n",
      "-Marianou Rahoy?\n",
      "-S.\n",
      "-Here Donald J. Trump, president of the United States.\n",
      "-Estoy contento con Movistar, with 148 followers\n",
      "\n",
      "@SheronWilkie at 2017-02-07 12:57:41: RT @AdamBienkov: \"This is the day the people become the rulers of this nation again\" says Donald Trump. https://t.co/h7kwt6Ubml with 83 followers\n",
      "\n",
      "@Taoresias at 2017-02-07 12:57:41: RT @funder: #Breaking:Trump Defends Putins Murder of Journalists on O'Reilly\n",
      "\n",
      "#trumprussia #dworkinreport #resist #theresistance https://t. with 147 followers\n",
      "\n",
      "@karlak916 at 2017-02-07 12:57:41: RT @JohnGaltReport: \"The Future is Female\" \n",
      "-- Hillary Clinton\n",
      "\n",
      "Still wondering why the 2016 election map looks like this? https://t.co/YyT with 6622 followers\n",
      "\n",
      "@LucyHorne15 at 2017-02-07 12:57:41: RT @thedailybeast: Donald Trump threatens to \"destroy\" Texas senator https://t.co/wbrJaWfi20 https://t.co/OtHA76qwyB with 10 followers\n",
      "\n",
      "@rjrich616 at 2017-02-07 12:57:42: RT @BernieSanders: Donald Trumps goal is to protect the interests of the wealthiest and most powerful people in this country. That is exac with 541 followers\n",
      "\n",
      "@Stopthefacists at 2017-02-07 12:57:42: RT @Impeach_D_Trump: @SenSanders what's an even more embarrassing thing to me is that Donald Trump is our president with 8 followers\n",
      "\n",
      "@seIenasebastian at 2017-02-07 12:57:42: RT @CertifiedFool_: IM TIRED OF HEARING ABOUT DONALD TRUMP AND HIS FUCK ASS ADMINISTRATION BUT I NEED TO STAY AWARE OF WHATS HAPPENING http with 5488 followers\n",
      "\n",
      "@delmarvawatch at 2017-02-07 12:57:42: Donald Trump Blasts Senator Schumer's 'Fake Tears' - https://t.co/OAKVHoDDIc with 18 followers\n",
      "\n",
      "@ChampStrongbow at 2017-02-07 12:57:42: RT @pollreport: NORTH CAROLINA\n",
      "The way that Donald Trump is handling his job as president:\n",
      "Approve 36%\n",
      "Disapprove 52%\n",
      "(High Point U., 1/28 with 41 followers\n",
      "\n",
      "@LadyJanice1 at 2017-02-07 12:57:42: RT @aravosis: So we had our first American deaths thanks to Trump's insecurity. https://t.co/59nuEJEUnc with 86 followers\n",
      "\n",
      "@KevinFullerdz at 2017-02-07 12:57:42: RT @YoungDems4Trump: \"I chose to believe that a people led by President Donald Trump, united under God, will never be defeated.\" -  with 755 followers\n",
      "\n",
      "@JohnSmi28986154 at 2017-02-07 12:57:42: RT @WSHHVlDS: Ellen DeGeneres' response to Donald Trump screening \"Finding Dory\" at The White House is everything: https://t.co/B5zZNlQPhQ with 18 followers\n",
      "\n",
      "@JustMeAJA at 2017-02-07 12:57:42: RT @peterbakernyt: .@jackshafer will give 20-year-old single malt to any WH reporter who follows up a colleagues unanswered question. http with 25 followers\n",
      "\n",
      "@libertydenied at 2017-02-07 12:57:42: Drake Calls Out Donald Trump By Saying F*ck That Man https://t.co/csF0J6Z1Vl with 887 followers\n",
      "\n",
      "@babeweiser at 2017-02-07 12:57:42: RT @BuzzFeed: This woman fact-checked a Donald Trump tweet and it was brilliant https://t.co/dgU53gc1B2 https://t.co/SZtx6nVqx2 with 171 followers\n",
      "\n",
      "@outtttterspace at 2017-02-07 12:57:43: RT @afantasticdream: I won't ever forget watching Barack Obama, Hillary Clinton, and Donald Trump react to the Pulse massacre. Neither s  with 546 followers\n",
      "\n",
      "@klms1104 at 2017-02-07 12:57:43: RT @tonyposnanski: In all fairness Betsy DeVos is just as qualified for her job as Donald Trump is. with 213 followers\n",
      "\n",
      "@RockPmela at 2017-02-07 12:57:43: RT @TopRopeTravis: So what I have gathered so far is that all of the #SuperBowl commercials will be trolling Donald Trump.  with 5 followers\n",
      "\n",
      "@countyparkracin at 2017-02-07 12:57:43: RT @BernieSanders: Donald Trumps goal is to protect the interests of the wealthiest and most powerful people in this country. That is exac with 14 followers\n",
      "\n",
      "@Teddylevin93 at 2017-02-07 12:57:43: RT @J_Bloodworth: 'Read: George Orwell experts on Donald Trump...'\n",
      "\n",
      "God, this is getting boring now. with 366 followers\n",
      "\n",
      "@judy_emert at 2017-02-07 12:57:43: RT @9a1e6c8a99984e2: WAKE UP AMERICA ! DONALD TRUMP HAS NOT DONE ANYTHING BUT CATER 2WALL STREET &amp;THE  RICH &amp; HIS CABINATE IS THE SWAMP.  with 160 followers\n",
      "\n",
      "@baertiger at 2017-02-07 12:57:44: RT @jimalkhalili: 'Compulsive liars shouldnt frighten you. Compulsive believers should terrify you. Believers are the liars enabler  with 35 followers\n",
      "\n",
      "@maddiesaywhat at 2017-02-07 12:57:45: Lmao yis https://t.co/Jp6oyuWLAo with 1102 followers\n",
      "\n",
      "@2Flores5 at 2017-02-07 12:57:46: RT @BernieSanders: Donald Trump is a fraud. He said during the campaign he would take on Wall Street and now he's working for Wall Street. with 388 followers\n",
      "\n",
      "@BerriBear1027 at 2017-02-07 12:57:46: RT @BuzzFeed: This woman fact-checked a Donald Trump tweet and it was brilliant https://t.co/dgU53gc1B2 https://t.co/SZtx6nVqx2 with 86 followers\n",
      "\n",
      "@CannibalMuse at 2017-02-07 12:57:45: RT @ericallenhatch: Congratulations to Donald Trump's new Education Secretary! https://t.co/1uJk2aQdNs with 120 followers\n",
      "\n",
      "@jeitoapp at 2017-02-07 12:57:46: @LKrauss1 @JackLamb1957 @BrendanSWAG Hillary Clinton popular vote comes EXCLUSIVELY from the state with more illegals immigrants (CA) with 555 followers\n",
      "\n",
      "@kekenotpalmer at 2017-02-07 12:57:46: Donald Trump? https://t.co/TVi34Wcfje with 17 followers\n",
      "\n",
      "@MillsDarryl at 2017-02-07 12:57:46: Donald Trump Threatens to Destroy Texas Senator https://t.co/B7urCNPk9H via @thedailybeast with 2761 followers\n",
      "\n",
      "@StevenMarkCase1 at 2017-02-07 12:57:46: RT @Professing_Prof: They convinced Trump to send in Troops saying 'Obama would have done it'. \n",
      "\n",
      "Oh, @docrocktex26 has been telling us t  with 462 followers\n",
      "\n",
      "@leejondiver at 2017-02-07 12:57:46: Lords Speaker says Donald Trump could still address parliament https://t.co/6nmxCurcmc with 1495 followers\n",
      "\n",
      "@MericanAnna at 2017-02-07 12:57:46: RT @YoungDems4Trump: \"I chose to believe that a people led by President Donald Trump, united under God, will never be defeated.\" -  with 54 followers\n",
      "\n",
      "@pricklyeater at 2017-02-07 12:57:46: RT @xeni: Donald Trump's disapproval rating now at 54%: Gallup https://t.co/A75QZmiJOI https://t.co/oEUqAzJWF8 with 1285 followers\n",
      "\n",
      "@WonkaStar at 2017-02-07 12:57:47: RT @BernieSanders: Donald Trumps goal is to protect the interests of the wealthiest and most powerful people in this country. That is exac with 838 followers\n",
      "\n",
      "@VKerapolku at 2017-02-07 12:57:47: RT @TIME: In his words: How Donald Trump judges the judges https://t.co/50a8GhjLVg https://t.co/611ww2Qe8N with 157 followers\n",
      "\n",
      "@badgirl_loony at 2017-02-07 12:57:47: RT @NickCohen4: \"Trump, modern fascism, and how to fight back\" - long read from me in the Observer \n",
      "https://t.co/TZr0NiHJDI with 8632 followers\n",
      "\n",
      "@perkycmami at 2017-02-07 12:57:47: RT @ramseychandler: Young boys don't need to be told they have a future, it's assumed. Young girls, however, heard their President joke  with 486 followers\n",
      "\n",
      "@Artemisa0209 at 2017-02-07 12:57:47: RT @Pulmon_de_Susan: JA JA JA JA!\n",
      "\n",
      "Segun estos imbeciles, El Chino Fujimori tiene 50% mas plata que Donald Trump.\n",
      "\n",
      "El retraso mental es  with 1723 followers\n",
      "\n",
      "@leeann809 at 2017-02-07 12:57:47: RT @peterbakernyt: .@jackshafer will give 20-year-old single malt to any WH reporter who follows up a colleagues unanswered question. http with 70 followers\n",
      "\n",
      "@susy_castrof at 2017-02-07 12:57:47: RT @BuzzFeed: This woman fact-checked a Donald Trump tweet and it was brilliant https://t.co/dgU53gc1B2 https://t.co/SZtx6nVqx2 with 209 followers\n",
      "\n",
      "@Kegger6952 at 2017-02-07 12:57:47: RT @alonsopepper: A quien intentas contradecir NO ES A DONALD TRUMP, sino a la CIENCIA MISMA, lo que l dice es un hecho, as como ex  with 38 followers\n",
      "\n",
      "@BrandonAZDB1234 at 2017-02-07 12:57:47: RT @BernieSanders: Donald Trumps goal is to protect the interests of the wealthiest and most powerful people in this country. That is exac with 81 followers\n",
      "\n",
      "@piccolauren at 2017-02-07 12:57:47: RT @BernieSanders: Donald Trumps goal is to protect the interests of the wealthiest and most powerful people in this country. That is exac with 469 followers\n",
      "\n",
      "@rsgmmom at 2017-02-07 12:57:47: RT @aravosis: We had a tie because you helped elect Donald Trump, who saved GOP control of the senate to boot. https://t.co/Uh807zNsSz with 1 followers\n",
      "\n",
      "@KingJaffeJoPHer at 2017-02-07 12:57:47: RT @CertifiedFool_: IM TIRED OF HEARING ABOUT DONALD TRUMP AND HIS FUCK ASS ADMINISTRATION BUT I NEED TO STAY AWARE OF WHATS HAPPENING http with 1322 followers\n",
      "\n",
      "@flawrence310 at 2017-02-07 12:57:48: @EUTrump @ZamesJanDerBeek donald trump doesn't know how to read and he is the president with 59 followers\n",
      "\n",
      "@ShirleyLamdan at 2017-02-07 12:57:48: RT @pollreport: NORTH CAROLINA\n",
      "The way that Donald Trump is handling his job as president:\n",
      "Approve 36%\n",
      "Disapprove 52%\n",
      "(High Point U., 1/28 with 186 followers\n",
      "\n",
      "@JeriDringenberg at 2017-02-07 12:57:48: RT @BernieSanders: Donald Trumps goal is to protect the interests of the wealthiest and most powerful people in this country. That is exac with 6 followers\n",
      "\n",
      "@MelisaCoban6 at 2017-02-07 12:57:48: RT @Eating: RT if you think this mozzarella stick would be a better president than Donald Trump. https://t.co/xwXui5MeYr with 56 followers\n",
      "\n",
      "@Desie_C at 2017-02-07 12:57:48: RT @CertifiedFool_: IM TIRED OF HEARING ABOUT DONALD TRUMP AND HIS FUCK ASS ADMINISTRATION BUT I NEED TO STAY AWARE OF WHATS HAPPENING http with 466 followers\n",
      "\n",
      "@dembigmouthdems at 2017-02-07 12:57:48: RT @blaubok: Climate of Violence\n",
      "\n",
      "That's a climate change that's actually caused by humans... https://t.co/fmIOFTmpxn with 5564 followers\n",
      "\n",
      "@NLGREY at 2017-02-07 12:57:48: RT @jaketapper: .@cbrennansports: Trump's immigration order a hurdle for Los Angeles' 2024 Olympic bid\n",
      "\n",
      " https://t.co/rQ7n5fygNG with 11 followers\n",
      "\n",
      "@manavjivan at 2017-02-07 12:57:48: The website Why Trump is Great will tell you exactly that:\n",
      "\n",
      "https://t.co/5NbfAI0ppT with 104525 followers\n",
      "\n",
      "@honeyfoxspring at 2017-02-07 12:57:48: RT @Christiana1987: Betsy DeVos and Donald Trump definitely have one thing in common - like many wealthy kids they were educated above thei with 155 followers\n",
      "\n",
      "@danixrdrgz at 2017-02-07 12:57:48: RT @afantasticdream: I won't ever forget watching Barack Obama, Hillary Clinton, and Donald Trump react to the Pulse massacre. Neither s  with 1102 followers\n",
      "\n",
      "@JankoFTenz at 2017-02-07 12:57:48: RT @TopRopeTravis: So what I have gathered so far is that all of the #SuperBowl commercials will be trolling Donald Trump.  with 3 followers\n",
      "\n",
      "@CorralesCoyote at 2017-02-07 12:57:48: RT @mcspocky: Donald Trump signs executive order while admitting he doesnt know what it says [video] https://t.co/8Hp9pqYzgp https://t.co/ with 2237 followers\n",
      "\n",
      "@ashleyHnttw at 2017-02-07 12:57:48: RT @peterbakernyt: .@jackshafer will give 20-year-old single malt to any WH reporter who follows up a colleagues unanswered question. http with 72 followers\n",
      "\n",
      "@IAMmikeW at 2017-02-07 12:57:48: RT @GlobalGrind: Kanye West has deleted all of his tweets supporting Donald Trump https://t.co/oDjiBWCNBp https://t.co/uyZsie3dLX with 1073 followers\n",
      "\n",
      "@alanlieb at 2017-02-07 12:57:48: Bernie Sanders is all washed up. His followers were looking for change, not necessarily him. He sold out &amp; couldn't https://t.co/zsUYcOvrF9 with 3110 followers\n",
      "\n",
      "@Italianmike at 2017-02-07 12:57:48: So say good-bye there is a new BOSS now ..he goes by the name of President Donald Trump... https://t.co/XadlfFu5AQ with 1829 followers\n",
      "\n",
      "@cravedmendes at 2017-02-07 12:57:49: RT @afantasticdream: I won't ever forget watching Barack Obama, Hillary Clinton, and Donald Trump react to the Pulse massacre. Neither s  with 339 followers\n",
      "\n",
      "@eye_picard at 2017-02-07 12:57:49: RT @ProgressOutlook: 72 million people voted against Donald Trump. with 572 followers\n",
      "\n",
      "@lauralopezx_ at 2017-02-07 12:57:49: RT @CertifiedFool_: IM TIRED OF HEARING ABOUT DONALD TRUMP AND HIS FUCK ASS ADMINISTRATION BUT I NEED TO STAY AWARE OF WHATS HAPPENING http with 789 followers\n",
      "\n",
      "@MFOL57 at 2017-02-07 12:57:49: RT @rohmontgomery: Betsy DeVos got confirmed &amp; i would be surprised but Donald Trump is president. this is the upside down. we're in hell b with 245 followers\n",
      "\n",
      "@Charswebs at 2017-02-07 12:57:49: Hillary stakes claim on future in name of liberal women who shouldn't have to wonder why they're not ahead 50 points\n",
      "https://t.co/AlIj33cIlL with 5688 followers\n",
      "\n",
      "@lorencad at 2017-02-07 12:57:49: RT @JosPastr: -Riiiing.\n",
      "-Diga?\n",
      "-Marianou Rahoy?\n",
      "-S.\n",
      "-Here Donald J. Trump, president of the United States.\n",
      "-Estoy contento con Movistar, with 399 followers\n",
      "\n",
      "@gBK__ at 2017-02-07 12:57:49: RT @AHoeStory: RT when you see Donald Trump.  https://t.co/1YgJ2CklZr with 1693 followers\n",
      "\n",
      "@teleskiguy at 2017-02-07 12:57:50: So many reasons why folks who didn't vote for Hillary Clinton have *no fucking right* to complain. This is very nea https://t.co/STMLenvVyK with 497 followers\n",
      "\n",
      "@SeanMBurns at 2017-02-07 12:57:50: RT @ericallenhatch: Congratulations to Donald Trump's new Education Secretary! https://t.co/1uJk2aQdNs with 2477 followers\n",
      "\n",
      "@kevthecheff at 2017-02-07 12:57:50: RT @SocialistVoice: Europe unites to fund abortion groups around world after Donald Trump's aid ban https://t.co/Sto3LFKi3y with 1361 followers\n",
      "\n",
      "@ambowie at 2017-02-07 12:57:50: RT @laurenduca: EVOLUTION OF AIR TRAVEL\n",
      "\n",
      "2016: I want ginger ale\n",
      "\n",
      "2017: I wonder how Donald Trump will impale democracy over the course of with 20 followers\n",
      "\n",
      "@jdc72748 at 2017-02-07 12:57:51: OK, F..KING SICKUNFIT/LIAR/FRAUD/TYRANT/BULLY/SEXIST/RACIST/PIECE OF SHIT https://t.co/tX19kQBzzQ with 2 followers\n",
      "\n",
      "@bartley_rita at 2017-02-07 12:57:51: RT @France4Hillary: BREAKING: Donald Trump will not be allowed to address Parliament on his state visit to the UK because of his racist &amp; s with 112 followers\n",
      "\n",
      "@sydsyd0613 at 2017-02-07 12:57:51: RT @CorralesCoyote: @POTUS @BetsyDeVos MAKE SURE THE MEDIA COVERS THIS!! https://t.co/JnkXoBCoK9 . with 189 followers\n",
      "\n",
      "@JustAskNick at 2017-02-07 12:57:51: RT @verge: Here's how easy it is to hack Donald Trump's phone https://t.co/6Htfhmop9B with 10 followers\n",
      "\n",
      "@ODutipek at 2017-02-07 12:57:51: Donald TRUMP https://t.co/NwjitFm6QW with 453 followers\n",
      "\n",
      "@vinibarbosa93 at 2017-02-07 12:57:52: Vida dura ta no Esprito Santo https://t.co/ihwaGyjEx0 with 354 followers\n",
      "\n",
      "@DONNABELLINI1 at 2017-02-07 12:57:52: RT @TIME: In his words: How Donald Trump judges the judges https://t.co/50a8GhjLVg https://t.co/611ww2Qe8N with 199 followers\n",
      "\n",
      "@Nehemia_G at 2017-02-07 12:57:52: RT @ChemiShalev: Donald Trump's staff get him to agree to policies by saying 'Obama wouldn't have done it' https://t.co/Nh2Cq1IyGj with 8347 followers\n",
      "\n",
      "@nerdanatomy at 2017-02-07 12:57:52: This is amazing. Get smart, trump. https://t.co/nPJUsrioV0 with 133 followers\n",
      "\n",
      "@TerrySerio at 2017-02-07 12:57:52: RT @peterbakernyt: .@jackshafer will give 20-year-old single malt to any WH reporter who follows up a colleagues unanswered question. http with 2498 followers\n",
      "\n",
      "@KgKathryn at 2017-02-07 12:57:53: https://t.co/tgqw5v6PGu with 4099 followers\n",
      "\n",
      "@Catarinadroque at 2017-02-07 12:57:53: RT @LifeFacts: Kristen Stewart taking down Donald Trump and the homophobes at one go.\n",
      "\n",
      "She has saved 2017. Play this at my funeral. https:/ with 89 followers\n",
      "\n",
      "@jorgeamadorr at 2017-02-07 12:57:53: RT @afantasticdream: I won't ever forget watching Barack Obama, Hillary Clinton, and Donald Trump react to the Pulse massacre. Neither s  with 712 followers\n",
      "\n",
      "@javascriptisez at 2017-02-07 12:57:53: Hillary Clinton's Alt-Reality #fakeheadlinebot #learntocode #makeatwitterbot #javascript with 491 followers\n",
      "\n",
      "@SusanMo65024790 at 2017-02-07 12:57:53: RT @JoyAnnReid: I still can't stand the Patriots, but this is an interesting development... https://t.co/tY2kHy28a7 with 1 followers\n",
      "\n",
      "@ryno0360 at 2017-02-07 12:57:53: RT @TheRachelFisher: You know who's never complained that people were mean to them? Hillary fucking Clinton. with 85 followers\n",
      "\n",
      "@c38372346 at 2017-02-07 12:57:53: RT @johnmar39324750: Yours is a jail cell! https://t.co/taTSO3Q93R with 1195 followers\n",
      "\n",
      "@Mireia_SA at 2017-02-07 12:57:53: RT @albertotjm: Donald Trump recibiendo respuesta de Mariano Rajoy. https://t.co/X9ax22NhAU with 61 followers\n",
      "\n",
      "@Singerlakshmi at 2017-02-07 12:57:53: RT @BritishAgent008: Pakistan and China - Don't trust Donald Trump - He wants to ruin CPEC #balochista #pakistan @TarekFatah #CPEC  https:/ with 6 followers\n",
      "\n",
      "@cgarcia1413 at 2017-02-07 12:57:54: @realDonaldTrump Hello Donald Trump How are you doing today It Me CJ So Mr Donald Trump What is your cellphone number with 11 followers\n",
      "\n",
      "@Shawnnntelle at 2017-02-07 12:57:54: RT @afantasticdream: I won't ever forget watching Barack Obama, Hillary Clinton, and Donald Trump react to the Pulse massacre. Neither s  with 10794 followers\n",
      "\n",
      "@marianosh_8 at 2017-02-07 12:57:54: RT @JosPastr: -Riiiing.\n",
      "-Diga?\n",
      "-Marianou Rahoy?\n",
      "-S.\n",
      "-Here Donald J. Trump, president of the United States.\n",
      "-Estoy contento con Movistar, with 251 followers\n",
      "\n",
      "@RennyStrong at 2017-02-07 12:57:54: RT @BernieSanders: Donald Trumps goal is to protect the interests of the wealthiest and most powerful people in this country. That is exac with 32 followers\n",
      "\n",
      "@wtbrown29 at 2017-02-07 12:57:54: RT @jimlibertarian: Open borders Obama is not POTUS,Donald Trump is a nationalist and believes in the rule of law,he will hold you acco  with 1118 followers\n",
      "\n",
      "@audreyasian at 2017-02-07 12:57:54: RT @BernieSanders: Donald Trumps goal is to protect the interests of the wealthiest and most powerful people in this country. That is exac with 74 followers\n",
      "\n",
      "@PunjabiPlaya at 2017-02-07 12:57:54: RT @aravosis: We had a tie because you helped elect Donald Trump, who saved GOP control of the senate to boot. https://t.co/Uh807zNsSz with 114 followers\n",
      "\n",
      "@DivinsClub at 2017-02-07 12:57:54: RT @jcartillier: \"Je comprends, mieux que personne, la malhonntet totale des mdias\"\n",
      "(Donald Trump) \n",
      "#AFP with 222 followers\n",
      "\n",
      "@sara_herpan94 at 2017-02-07 12:57:54: RT @JosPastr: -Riiiing.\n",
      "-Diga?\n",
      "-Marianou Rahoy?\n",
      "-S.\n",
      "-Here Donald J. Trump, president of the United States.\n",
      "-Estoy contento con Movistar, with 486 followers\n",
      "\n",
      "@path1124 at 2017-02-07 12:57:54: RT @SouthLoneStar: CNN has confirmed that the tornadoes hitting New Orleans are caused by Donald Trump. with 569 followers\n",
      "\n",
      "@GrupPensaCritic at 2017-02-07 12:57:54: RT @CarlosDelclos: Open letter to Donald Trump by Chingo Bling https://t.co/YITWA8HsxX with 247 followers\n",
      "\n",
      "@randomsubu at 2017-02-07 12:57:54: RT @annehelen: One by one, black New England Patriots players are refusing to visit Donald Trump's White House https://t.co/C3hO4yh22U with 3010 followers\n",
      "\n",
      "@GuardianDragon3 at 2017-02-07 12:57:54: https://t.co/UGQFnQeeje  Obama eliminated Osama bin Ladin that was a success, Trump you are an utter failure so shut up! Bad guy got away! with 392 followers\n",
      "\n",
      "@iozjrok at 2017-02-07 12:57:54: RT @BrittPettibone: \"The Future Is Female\" says Hillary Clinton...unless of course you're in support of the \"wrong\" females. https://t.co/e with 497 followers\n",
      "\n",
      "@jandroid at 2017-02-07 12:57:54: RT @PhilipRucker: Trump's immigration ban jeopardizes USA's hopes of getting the 2024 Olympics in Los Angeles, @cbrennansports reports http with 3038 followers\n",
      "\n",
      "@fantasticatt at 2017-02-07 12:57:55: RT @BernieSanders: Donald Trumps goal is to protect the interests of the wealthiest and most powerful people in this country. That is exac with 242 followers\n",
      "\n",
      "@JeanNkoranyi at 2017-02-07 12:57:55: Donald Trump should not be allowed to speak in UK parliament, says Speaker https://t.co/YGMSQEOJYJ with 1328 followers\n",
      "\n",
      "@darmagirl24 at 2017-02-07 12:57:55: RT @peterbakernyt: .@jackshafer will give 20-year-old single malt to any WH reporter who follows up a colleagues unanswered question. http with 182 followers\n",
      "\n",
      "@rbielfelt at 2017-02-07 12:57:55: RT @afantasticdream: I won't ever forget watching Barack Obama, Hillary Clinton, and Donald Trump react to the Pulse massacre. Neither s  with 93 followers\n",
      "\n",
      "@gazillionplus1 at 2017-02-07 12:57:54: She doesn't look like a bitter old hag at all https://t.co/GuoUdscTFW with 736 followers\n",
      "\n",
      "@leanlung at 2017-02-07 12:57:55: RT @nprmusic: With President Donald Trump's travel ban in limbo, artists from affected countries aren't sure what to do.  with 301 followers\n",
      "\n",
      "@N_TheLegend at 2017-02-07 12:57:55: RT @WSHHVlDS: 'Hey, Donald Trump! I wanna know why you're such a cunt!' https://t.co/uHU926QHaT with 354 followers\n",
      "\n",
      "@ChelliLynn at 2017-02-07 12:57:55: RT @TheRachelFisher: You know who's never complained that people were mean to them? Hillary fucking Clinton. with 98 followers\n",
      "\n",
      "@MorseLyA at 2017-02-07 12:57:55: RT @peterbakernyt: .@jackshafer will give 20-year-old single malt to any WH reporter who follows up a colleagues unanswered question. http with 297 followers\n",
      "\n",
      "@MidwestSolarMom at 2017-02-07 12:57:56: RT @HinaShamsi: Recommended reading https://t.co/lgXkOoENuj with 558 followers\n",
      "\n",
      "@ErikH526 at 2017-02-07 12:57:56: RT @RealTimBlack: Please, please, please Hillary go away!!!!!!!!!!!!!!!!\n",
      "https://t.co/p0lzdztElH with 921 followers\n",
      "\n",
      "@RedBloodyMary at 2017-02-07 12:57:56: RT @JosPastr: -Riiiing.\n",
      "-Diga?\n",
      "-Marianou Rahoy?\n",
      "-S.\n",
      "-Here Donald J. Trump, president of the United States.\n",
      "-Estoy contento con Movistar, with 388 followers\n",
      "\n",
      "@HRH_Sir_Loin at 2017-02-07 12:57:56: RT @SkipHatos: What Slobodan Milosevic Taught Me About Donald Trump https://t.co/FoxMJ8aNzq with 4393 followers\n",
      "\n",
      "@shift_in2_turbo at 2017-02-07 12:57:56: Donald Trump has thrown Mexicos shockingly unpopular president a lifeline https://t.co/7RcwMz1TUL with 3147 followers\n",
      "\n",
      "@TheNordicNation at 2017-02-07 12:57:56: RT @RichardBSpencer: One man's resegregation is another's freedom of association. Why don't the cucks believe in muh freedom? #devos  https with 8505 followers\n",
      "\n",
      "@marilluna10 at 2017-02-07 12:57:56: RT @TFeminista_: Y t? Vistes \"como una mujer\" en tu trabajo? Ensale a Donald Trump cmo vestimos las mujeres #DressLikeAWoman https:// with 31 followers\n",
      "\n",
      "@ChrijosTheia at 2017-02-07 12:57:56: RT @peterbakernyt: .@jackshafer will give 20-year-old single malt to any WH reporter who follows up a colleagues unanswered question. http with 1174 followers\n",
      "\n",
      "@estes_fam at 2017-02-07 12:57:56: RT @JohnFugelsang: Sean Spicer reminds you that the American people spoke decisively last November when a minority of them voted for Donald with 117 followers\n",
      "\n",
      "@_KimPika at 2017-02-07 12:57:56: RT @JosPastr: -Riiiing.\n",
      "-Diga?\n",
      "-Marianou Rahoy?\n",
      "-S.\n",
      "-Here Donald J. Trump, president of the United States.\n",
      "-Estoy contento con Movistar, with 73 followers\n",
      "\n",
      "@fatimus07 at 2017-02-07 12:57:56: RT @keithlaw: It's two players. #savedyouaclick https://t.co/JIYhXJysTw with 1400 followers\n",
      "\n",
      "@Naija_Senator at 2017-02-07 12:57:57: Beware of this handles 2019 is around the corner https://t.co/0dLxUTfB8z with 327 followers\n",
      "\n",
      "@markp_1998 at 2017-02-07 12:57:56: RT @BuzzFeed: This woman fact-checked a Donald Trump tweet and it was brilliant https://t.co/dgU53gc1B2 https://t.co/SZtx6nVqx2 with 109 followers\n",
      "\n",
      "@KgKathryn at 2017-02-07 12:57:57: RT @joepchong: Donald Trump Caught Doing THE UNTHINKABLE  Spread This Like Wildfire!  Realtime Politics https://t.co/mUGINe3CbG with 4099 followers\n",
      "\n",
      "@GaryCooperACN at 2017-02-07 12:57:57: .@MaggieJordanACN Jill Stein: The Donald Trump of the left. with 1173 followers\n",
      "\n",
      "@fanning_donald at 2017-02-07 12:57:57: RT @dreamedofdust: #HillaryForPrison ! https://t.co/6voxlL4KH2 WikiLeaks: Hillary Clinton is the central cog in the establishment and fun with 216 followers\n",
      "\n",
      "@shift_in2_turbo at 2017-02-07 12:57:57: Donald Trump has thrown Mexicos shockingly unpopular president a lifeline https://t.co/5YQmUjfAgf with 3147 followers\n",
      "\n",
      "@Glendizzle11 at 2017-02-07 12:57:57: RT @sibzxmona: V A L I D https://t.co/uiL7o18b8r with 249 followers\n",
      "\n",
      "@GlovePoetSwag at 2017-02-07 12:57:58: RT @Allys0nwondrlnd: 5 RTs and I will tweet Donald Trump all day until he blocks me with 602 followers\n",
      "\n",
      "@hippiechickflix at 2017-02-07 12:57:58: RT @MrPaulWinkler: Inspiring Message - @HillaryClinton: \"The Future is Female!\" https://t.co/TLsP9UO9iY with 415 followers\n",
      "\n",
      "@LOLGOP at 2017-02-07 12:57:58: Explains the makeup. https://t.co/P2pTg8eep5 with 320164 followers\n",
      "\n",
      "@summergulino at 2017-02-07 12:57:58: RT @CertifiedFool_: IM TIRED OF HEARING ABOUT DONALD TRUMP AND HIS FUCK ASS ADMINISTRATION BUT I NEED TO STAY AWARE OF WHATS HAPPENING http with 280 followers\n",
      "\n",
      "@DinaSchwalbach at 2017-02-07 12:57:58: RT @BernieSanders: Donald Trumps goal is to protect the interests of the wealthiest and most powerful people in this country. That is exac with 9 followers\n",
      "\n",
      "@LyndaAtchison at 2017-02-07 12:57:59: RT @BrittPettibone: \"The Future Is Female\" says Hillary Clinton...unless of course you're in support of the \"wrong\" females. https://t.co/e with 4462 followers\n",
      "\n",
      "@McBubberz at 2017-02-07 12:57:59: RT @tonyposnanski: In all fairness Betsy DeVos is just as qualified for her job as Donald Trump is. with 611 followers\n",
      "\n",
      "@peterdaou at 2017-02-07 12:57:59: RT @marcywriter: Millions of women of all colors thank you, @peterdaou so keep it up! https://t.co/xyaYCszx76 with 60202 followers\n",
      "\n",
      "@TougalooTree at 2017-02-07 12:57:59: RT @jaketapper: .@cbrennansports: Trump's immigration order a hurdle for Los Angeles' 2024 Olympic bid\n",
      "\n",
      " https://t.co/rQ7n5fygNG with 827 followers\n",
      "\n",
      "@jbgbowers at 2017-02-07 12:57:59: RT @BernieSanders: Donald Trumps goal is to protect the interests of the wealthiest and most powerful people in this country. That is exac with 790 followers\n",
      "\n",
      "@JRowan82888051 at 2017-02-07 12:58:00: RT @LindaSuhler: Sedition from the fascist Left\n",
      "Virgil: The Left Whips Up a Climate of Violence -- the Prime Target Is Donald Trump  with 87 followers\n",
      "\n",
      "@minaradman at 2017-02-07 12:58:00: We could've had this. #StillWithHer https://t.co/PxEYeo62cc with 463 followers\n",
      "\n",
      "@perezmelissaa at 2017-02-07 12:57:59: RT @BuzzFeed: This woman fact-checked a Donald Trump tweet and it was brilliant https://t.co/dgU53gc1B2 https://t.co/SZtx6nVqx2 with 321 followers\n",
      "\n",
      "@Evelyn__020 at 2017-02-07 12:58:00: RT @greg_jenner: John Bercow is right to deny Trump a Westminster speech   important and nuanced argument from @rafaelbehr  https://t.co/J with 721 followers\n",
      "\n",
      "@wtbrown29 at 2017-02-07 12:58:00: RT @BBCBreaking: US Senate confirms Betsy DeVos will be @POTUS Donald Trump's Education Secretary \n",
      "\n",
      "https://t.co/U7pTlYUp6j https://t.co/Mv with 1118 followers\n",
      "\n",
      "@lolstasia at 2017-02-07 12:58:00: RT @BernieSanders: Donald Trumps goal is to protect the interests of the wealthiest and most powerful people in this country. That is exac with 150 followers\n",
      "\n",
      "@NoBigGovDuh at 2017-02-07 12:58:00: @lhfang @EricaChenoweth @NewRepublic \n",
      "Your fooling yourself because you think there is an easy way\n",
      "https://t.co/Iz74nnBr1y with 2782 followers\n",
      "\n",
      "@Prxndxrgxst_ at 2017-02-07 12:58:00: Imagine if Donald trump and Kim Woodburn had a baby tho. with 5091 followers\n",
      "\n",
      "@DecadePlan at 2017-02-07 12:58:00: Because Donald Trump, the President of the United States, is a liar. I don't \"think\" he's a liar. His own words aga https://t.co/PhjVIZoa63 with 902 followers\n",
      "\n",
      "@Crisio4 at 2017-02-07 12:58:00: RT @JosPastr: -Riiiing.\n",
      "-Diga?\n",
      "-Marianou Rahoy?\n",
      "-S.\n",
      "-Here Donald J. Trump, president of the United States.\n",
      "-Estoy contento con Movistar, with 6 followers\n",
      "\n",
      "@monika_symone at 2017-02-07 12:58:01: RT @BaeFeeling: Kristen Stewart taking down Donald Trump and the homophobes at one go.\n",
      "\n",
      "She has saved 2017. Play this at my funeral. https: with 138 followers\n",
      "\n",
      "@Nick_gustafs0n at 2017-02-07 12:58:01: RT @CertifiedFool_: IM TIRED OF HEARING ABOUT DONALD TRUMP AND HIS FUCK ASS ADMINISTRATION BUT I NEED TO STAY AWARE OF WHATS HAPPENING http with 877 followers\n",
      "\n",
      "@WhimperSpain at 2017-02-07 12:58:01: RT @JosPastr: -Riiiing.\n",
      "-Diga?\n",
      "-Marianou Rahoy?\n",
      "-S.\n",
      "-Here Donald J. Trump, president of the United States.\n",
      "-Estoy contento con Movistar, with 274 followers\n",
      "\n",
      "@JRMRS22 at 2017-02-07 12:58:01: @MPower_Change @womensmarch I have an issue with this woman for the disrespect she has shown for Hillary Clinton. Still don't trust her. with 267 followers\n",
      "\n",
      "@DecemberStar63 at 2017-02-07 12:58:01: RT @sarahchurchwell: Yes Donald we know you're the fucking president. The worst fucking president imaginable. And we're the fucking peop  with 21 followers\n",
      "\n",
      "@cuntforaday at 2017-02-07 12:58:01: RT @CertifiedFool_: IM TIRED OF HEARING ABOUT DONALD TRUMP AND HIS FUCK ASS ADMINISTRATION BUT I NEED TO STAY AWARE OF WHATS HAPPENING http with 1406 followers\n",
      "\n",
      "@Siriusly_Funny at 2017-02-07 12:58:01: Fresh out of sympathy, used it up for #FlintWaterCrisis &amp; #NoDAPL &amp; #NoOnDeVos &amp; ppl who will lose ins with the https://t.co/8GqtYDZYPi with 19 followers\n",
      "\n",
      "@aoifecathcart at 2017-02-07 12:58:01: RT @guardian: Lords Speaker says Donald Trump could still address parliament https://t.co/Jw2ZBLyfaN with 728 followers\n",
      "\n",
      "@teenalphabro at 2017-02-07 12:58:01: RT @kashanacauley: Some heroes don't wear capes. https://t.co/lKytTW5C7q with 141 followers\n",
      "\n",
      "@cletus02430765 at 2017-02-07 12:58:01: RT @NickCohen4: \"Trump, modern fascism, and how to fight back\" - long read from me in the Observer \n",
      "https://t.co/TZr0NiHJDI with 71 followers\n",
      "\n",
      "@Newsweek at 2017-02-07 12:58:01: How is Japanese Prime Minister Shinzo Abe preparing for his meeting with President Donald Trump? https://t.co/7gNpd8JS52 with 3200067 followers\n",
      "\n",
      "@mamastarlight at 2017-02-07 12:58:01: Donald Trump and his family are the true welfare queens of America https://t.co/uQaG8uRa95 with 1761 followers\n",
      "\n",
      "@EpicMar at 2017-02-07 12:58:01: RT @BuzzFeed: This woman fact-checked a Donald Trump tweet and it was brilliant https://t.co/dgU53gc1B2 https://t.co/SZtx6nVqx2 with 2673 followers\n",
      "\n",
      "@anntzt at 2017-02-07 12:58:01: This week in TV: The Mad World of Donald Trump; The Good Wife; The Real #TheGoodWife https://t.co/n4O2Fq6ZcU #thegoodwife with 27855 followers\n",
      "\n",
      "@JudithKto at 2017-02-07 12:58:01: RT @OliviaMesser: If only someone had told Trump \"don't mess with Texas\" before he threatened to \"destroy\" one  with 1079 followers\n",
      "\n",
      "@BeachPeanuts at 2017-02-07 12:58:01: Teachers have to take time away from educating children to learn how to use a gun &amp; are understandably horrified by https://t.co/EQ4kRWT9j8 with 5126 followers\n",
      "\n",
      "@escandontere at 2017-02-07 12:58:01: US Senate confirms Betsy DeVos will be @POTUS Donald Trump's Education Secretary \n",
      "\n",
      " https://t.co/iVC7zbMIWx h... by #BBCNews via @c0nvey with 6 followers\n",
      "\n",
      "@EP_EEUU_News at 2017-02-07 12:58:02: Donald Trump y su extraa lista de 78 atentados que la prensa no divulg https://t.co/YVj8Tl0zDq https://t.co/HQ6yT018bf with 11823 followers\n",
      "\n",
      "@KalevLemus at 2017-02-07 12:58:02: RT @PrisonPlanet: The entertainment industry has intimidated Kanye into silence.\n",
      "\n",
      "Diversity of opinion will not be tolerated! https://t.co/ with 70 followers\n",
      "\n",
      "@joycefriedel at 2017-02-07 12:58:02: RT @BuzzFeed: This woman fact-checked a Donald Trump tweet and it was brilliant https://t.co/dgU53gc1B2 https://t.co/SZtx6nVqx2 with 298 followers\n",
      "\n",
      "@Sara_Gorozabel at 2017-02-07 12:58:02: Cmara de los Comunes del Reino Unido no recibira a Donald Trump https://t.co/aUsvbK1fUK with 211 followers\n",
      "\n",
      "@wesjr43 at 2017-02-07 12:58:02: RT @Darren32895836: Fake Global Warming Data Used !! President Donald Trump Correct Again!! https://t.co/C4dZktqhYi\n",
      " #PepsiHalftime#SuperB with 1918 followers\n",
      "\n",
      "@jonneypbuck at 2017-02-07 12:58:02: RT @ericallenhatch: Congratulations to Donald Trump's new Education Secretary! https://t.co/1uJk2aQdNs with 482 followers\n",
      "\n",
      "@laaribidriss1 at 2017-02-07 12:58:02: Donald #Trump rveille le nationalisme des Mexicains https://t.co/0VvJ2stEuV par @Fredsaliba #abonns by #lemondefr via @c0nvey with 61 followers\n",
      "\n",
      "@thomas31306 at 2017-02-07 12:58:02: RT @afantasticdream: I won't ever forget watching Barack Obama, Hillary Clinton, and Donald Trump react to the Pulse massacre. Neither s  with 331 followers\n",
      "\n",
      "@David_L_London at 2017-02-07 12:58:02: \"Pence....Where Are Those Chinese Finger Puzzles I asked for????\"   #BiglyInTrouble!!! https://t.co/lqZOUIexIH with 882 followers\n",
      "\n",
      "@eliannalo at 2017-02-07 12:58:02: RT @JosPastr: -Riiiing.\n",
      "-Diga?\n",
      "-Marianou Rahoy?\n",
      "-S.\n",
      "-Here Donald J. Trump, president of the United States.\n",
      "-Estoy contento con Movistar, with 183 followers\n",
      "\n",
      "@TheAngel42 at 2017-02-07 12:58:03: RT @DavidJo52951945: The UK should be working with Trump, pursuing a trade deal &amp; talking about our mutual interests not attacking Trump ht with 1020 followers\n",
      "\n",
      "@Melanie_x_idris at 2017-02-07 12:58:03: RT @BuzzFeed: This woman fact-checked a Donald Trump tweet and it was brilliant https://t.co/dgU53gc1B2 https://t.co/SZtx6nVqx2 with 334 followers\n",
      "\n",
      "@lauriecrosswell at 2017-02-07 12:58:02: RT @aravosis: So we had our first American deaths thanks to Trump's insecurity. https://t.co/59nuEJEUnc with 10439 followers\n",
      "\n",
      "@raffstr at 2017-02-07 12:58:03: RT @BuzzFeed: This woman fact-checked a Donald Trump tweet and it was brilliant https://t.co/dgU53gc1B2 https://t.co/SZtx6nVqx2 with 619 followers\n",
      "\n",
      "@HaveNotOf1 at 2017-02-07 12:58:03: RT @Christiana1987: Betsy DeVos and Donald Trump definitely have one thing in common - like many wealthy kids they were educated above thei with 17 followers\n",
      "\n",
      "@GrassFairy06 at 2017-02-07 12:58:02: RT @afantasticdream: I won't ever forget watching Barack Obama, Hillary Clinton, and Donald Trump react to the Pulse massacre. Neither s  with 186 followers\n",
      "\n",
      "@crimsonrain210 at 2017-02-07 12:58:03: RT @JohnGaltReport: \"The Future is Female\" \n",
      "-- Hillary Clinton\n",
      "\n",
      "Still wondering why the 2016 election map looks like this? https://t.co/YyT with 8613 followers\n",
      "\n",
      "@laurapoulter at 2017-02-07 12:58:03: RT @TIME: In his words: How Donald Trump judges the judges https://t.co/50a8GhjLVg https://t.co/611ww2Qe8N with 798 followers\n",
      "\n",
      "@asshatry at 2017-02-07 12:58:03: RT @BernieSanders: Donald Trumps goal is to protect the interests of the wealthiest and most powerful people in this country. That is exac with 49 followers\n",
      "\n",
      "@austin0216 at 2017-02-07 12:58:03: RT @BuzzFeed: This woman fact-checked a Donald Trump tweet and it was brilliant https://t.co/dgU53gc1B2 https://t.co/SZtx6nVqx2 with 318 followers\n",
      "\n",
      "@EP_EEUU_24Horas at 2017-02-07 12:58:03: Donald Trump y su extraa lista de 78 atentados que la prensa no divulg https://t.co/HZLwaqz7OW https://t.co/JnJb7DbJ8x with 17319 followers\n",
      "\n",
      "@NewmanErminda at 2017-02-07 12:58:03: RT @maperezpirela: EE.UU.: Conozca el legado que dej Barack Obama a su sucesor Donald Trump (+INFRANGANTI) https://t.co/pJdT56avbm @la_igu with 43 followers\n",
      "\n",
      "@Dario46Young at 2017-02-07 12:58:03: RT @JosPastr: -Riiiing.\n",
      "-Diga?\n",
      "-Marianou Rahoy?\n",
      "-S.\n",
      "-Here Donald J. Trump, president of the United States.\n",
      "-Estoy contento con Movistar, with 805 followers\n",
      "\n",
      "@MildlyAmused at 2017-02-07 12:58:03: Obama's official White House photographer is trolling Donald Trump on Instagram https://t.co/3OXKp53MJM https://t.co/WXMQJEOLf9 with 12340 followers\n",
      "\n",
      "@CYNJONES at 2017-02-07 12:58:03: RT @KerryLauerman: One by one, black New England Patriots players are refusing to visit Donald Trump's White House https://t.co/xLK6tmvCm8 with 125 followers\n",
      "\n",
      "@copone1dak at 2017-02-07 12:58:03: \"Po angielsku wszyscy jestemy na you\" Ryszard Petru.\n",
      "\n",
      "\"Youre a Dumb\" Donald Trump\n",
      "#cytaty https://t.co/WZl4dV2xKY with 951 followers\n",
      "\n",
      "@AudreyOS_ at 2017-02-07 12:58:04: RT @BernieSanders: Donald Trumps goal is to protect the interests of the wealthiest and most powerful people in this country. That is exac with 18 followers\n",
      "\n",
      "@JStahovec at 2017-02-07 12:58:04: RT @BuzzFeed: This woman fact-checked a Donald Trump tweet and it was brilliant https://t.co/dgU53gc1B2 https://t.co/SZtx6nVqx2 with 137 followers\n",
      "\n",
      "@darias_sanchez at 2017-02-07 12:58:04: RT @BuzzFeed: This woman fact-checked a Donald Trump tweet and it was brilliant https://t.co/dgU53gc1B2 https://t.co/SZtx6nVqx2 with 188 followers\n",
      "\n",
      "@UofIPackWSFan at 2017-02-07 12:58:04: RT @Zac_Petkanas: NEW: Trump only agreed to botched Yemen raid b/c officials said Obama would never do it, intelligence sources say https:/ with 415 followers\n",
      "\n",
      "@jaade_ftn at 2017-02-07 12:58:04: RT @7freeHaz: Si Marine le pen l'achte et passe un coup de fil A Donald Trump cava ouvrir une faille spatio temporelle https://t.co/dSZmfp with 585 followers\n",
      "\n",
      "@willbrown2510 at 2017-02-07 12:58:04: RT @african_rain: Lose the Super Bowl so that you don't have to go to the White House and pose with Donald Trump https://t.co/hEpzUFzP4j with 234 followers\n",
      "\n",
      "@hansay_ at 2017-02-07 12:58:04: RT @afantasticdream: I won't ever forget watching Barack Obama, Hillary Clinton, and Donald Trump react to the Pulse massacre. Neither s  with 894 followers\n",
      "\n",
      "@jacquejovic at 2017-02-07 12:58:04: RT @PolitiFact: Trump says media isn't reporting on terrorism any more. Pants on Fire! https://t.co/8a1ax9X3oA https://t.co/jIT4wT0eFn with 765 followers\n",
      "\n",
      "@Apocrifos at 2017-02-07 12:58:05: Lords Speaker says Donald Trump could still address parliament https://t.co/Lg5G4Zr7r3 #breakingnews #news with 687 followers\n",
      "\n",
      "@EP_EEUU at 2017-02-07 12:58:05: Donald Trump y su extraa lista de 78 atentados que la prensa no divulg https://t.co/kMJWv6OjeR https://t.co/D0irf3q6Ja with 67080 followers\n",
      "\n",
      "@sarahbs4 at 2017-02-07 12:58:05: RT @JamesMelville: Donald Trump signs Executive Order 666.\n",
      "https://t.co/93sHO02mxm with 143 followers\n",
      "\n",
      "@george_coppy at 2017-02-07 12:58:05: Honestly maybe but honourably ...no way https://t.co/luqTHLsGXz with 65 followers\n",
      "\n",
      "@nimashan at 2017-02-07 12:58:05: RT @afantasticdream: I won't ever forget watching Barack Obama, Hillary Clinton, and Donald Trump react to the Pulse massacre. Neither s  with 213 followers\n",
      "\n",
      "@_MyRhiality at 2017-02-07 12:58:05: RT @afantasticdream: I won't ever forget watching Barack Obama, Hillary Clinton, and Donald Trump react to the Pulse massacre. Neither s  with 692 followers\n",
      "\n",
      "@Majuro23 at 2017-02-07 12:58:05: So called president Donald Trump Invites Sheriffs Who Love Him And His Immigration Views To The White House. https://t.co/CrWArgCEBq with 1032 followers\n",
      "\n",
      "@WendyChavarriaF at 2017-02-07 12:58:06: RT @Lmao: Ellen DeGeneres' response to Donald Trump screening \"Finding Dory\" at The White House is everything: https://t.co/6C8kEIRh2K with 227 followers\n",
      "\n",
      "@johnnyrsj at 2017-02-07 12:58:06: RT @LOLGOP: They fact checked Donald Trump and there were none. https://t.co/eEBxcWTX8C with 182 followers\n",
      "\n",
      "@imalicewhite at 2017-02-07 12:58:06: RT @TheRachelFisher: You know who's never complained that people were mean to them? Hillary fucking Clinton. with 210 followers\n",
      "\n",
      "@icewolf610 at 2017-02-07 12:58:06: RT @TheDemCoalition: Donald Trump's latest attack on the media is very, very dangerous https://t.co/kBduWtxWJO via @TheFix with 112 followers\n",
      "\n",
      "@_taayy16 at 2017-02-07 12:58:06: RT @TMZ: Did Kanye West delete all tweets about Donald Trump?! https://t.co/AFmw0EGprw with 55 followers\n",
      "\n",
      "@Christiana1987 at 2017-02-07 12:58:06: RT @davequast: Really good thread about #Trump, #DeVos and (other) thoroughly mediocre people born into great wealth.  https://t.co/OBX0e with 18179 followers\n",
      "\n",
      "@FoundArtist at 2017-02-07 12:58:06: RT @TheRachelFisher: You know who's never complained that people were mean to them? Hillary fucking Clinton. with 198 followers\n",
      "\n",
      "@jjessejohnson_ at 2017-02-07 12:58:06: RT @BernieSanders: Donald Trump is a fraud. He said during the campaign he would take on Wall Street and now he's working for Wall Street. with 18 followers\n",
      "\n",
      "@NayadeTor at 2017-02-07 12:58:06: RT @fermont1965: #ltimaHora\n",
      " \"Trump y Rajoy\" hablaran por telfono esta noche despus de que Donald hable con Erdogan. Hoy tocan democraci with 2205 followers\n",
      "\n",
      "@joycefriedel at 2017-02-07 12:58:02: RT @BuzzFeed: This woman fact-checked a Donald Trump tweet and it was brilliant https://t.co/dgU53gc1B2 https://t.co/SZtx6nVqx2 with 298 followers\n",
      "\n",
      "@LindaLovelacee at 2017-02-07 12:58:06: RT @BernieSanders: Donald Trump is a fraud. He said during the campaign he would take on Wall Street and now he's working for Wall Street. with 1010 followers\n",
      "\n",
      "@JordanUhl at 2017-02-07 12:58:07: RT @tonyposnanski: In all fairness Betsy DeVos is just as qualified for her job as Donald Trump is. with 24665 followers\n",
      "\n",
      "@MahatmaRaphuti at 2017-02-07 12:58:07: RT @SiyandaWrites: Donald J. Trump is everything that America is the world. with 796 followers\n",
      "\n",
      "@jordisanuy at 2017-02-07 12:58:07: RT @JosPastr: -Riiiing.\n",
      "-Diga?\n",
      "-Marianou Rahoy?\n",
      "-S.\n",
      "-Here Donald J. Trump, president of the United States.\n",
      "-Estoy contento con Movistar, with 271 followers\n",
      "\n",
      "@RockTrumpsBoat at 2017-02-07 12:58:07: RT @ronfein: Nice @BenKentish piece: Donald Trump has violated the Constitution and should be impeached, legal experts say https://t.co/aJN with 141 followers\n",
      "\n",
      "@DerekCrumb at 2017-02-07 12:58:07: RT @BernieSanders: Donald Trumps goal is to protect the interests of the wealthiest and most powerful people in this country. That is exac with 18 followers\n",
      "\n",
      "@Witelite101 at 2017-02-07 12:58:07: RT @BrittPettibone: \"The Future Is Female\" says Hillary Clinton...unless of course you're in support of the \"wrong\" females. https://t.co/e with 7 followers\n",
      "\n",
      "@stevgole at 2017-02-07 12:58:07: RT @joshgreenman: And Donald Trump has the gall to rebuke the media for allegedly spreading lies. https://t.co/P8PKY5x7lq https://t.co/2POa with 1714 followers\n",
      "\n",
      "@adshimck at 2017-02-07 12:58:07: RT @Independent: Wife leaves husband of 22 years because he voted for Donald Trump https://t.co/3YZZ20vFU3 with 1260 followers\n",
      "\n",
      "@MisterHooch at 2017-02-07 12:58:07: Donald Trump is Martin Shkreli's Sith Master... #DonaldTrump with 170 followers\n",
      "\n",
      "@DanielPCarroll2 at 2017-02-07 12:58:07: RT @katiecouric: In Oct, Justice Ginsburg said she didn't want to discuss ban because it had a real possibility of hitting her desk.  with 53 followers\n",
      "\n",
      "@virginiakimba at 2017-02-07 12:58:07: What Bob Marley Can Teach Us about Donald Trump ##BobMarley #BobMarley https://t.co/rKktBsejEm with 30951 followers\n",
      "\n",
      "@teenalphabro at 2017-02-07 12:58:01: RT @kashanacauley: Some heroes don't wear capes. https://t.co/lKytTW5C7q with 141 followers\n",
      "\n",
      "@b_faureal at 2017-02-07 12:58:08: RT @mcspocky: Donald Trump signs executive order while admitting he doesnt know what it says [video] https://t.co/8Hp9pqYzgp https://t.co/ with 263 followers\n",
      "\n",
      "@mentis_imperium at 2017-02-07 12:58:08: RT @afantasticdream: I won't ever forget watching Barack Obama, Hillary Clinton, and Donald Trump react to the Pulse massacre. Neither s  with 138 followers\n",
      "\n",
      "@manathief at 2017-02-07 12:58:08: RT @BuzzFeed: This woman fact-checked a Donald Trump tweet and it was brilliant https://t.co/dgU53gc1B2 https://t.co/SZtx6nVqx2 with 441 followers\n",
      "\n",
      "@SocialMediaSuxx at 2017-02-07 12:58:08: RT @briciosegovia: If you google \"Mexican actors\", Donald #Trump shows up along with Gael Garcia Bernal and Diego Luna. Is #Google tro  with 157 followers\n",
      "\n",
      "@Markarie at 2017-02-07 12:58:08: RT @keithlaw: It's two players. #savedyouaclick https://t.co/JIYhXJysTw with 411 followers\n",
      "\n",
      "@KylaScientist at 2017-02-07 12:58:08: RT @ericawriter: Something to aspire to. https://t.co/6I5eqgoatw with 215 followers\n",
      "\n",
      "@AliAmtiger at 2017-02-07 12:58:09: RT @BernieSanders: Donald Trumps goal is to protect the interests of the wealthiest and most powerful people in this country. That is exac with 184 followers\n",
      "\n",
      "@jamil5155 at 2017-02-07 12:58:09: RT @BernieSanders: Donald Trump is a fraud. He said during the campaign he would take on Wall Street and now he's working for Wall Street. with 89 followers\n",
      "\n",
      "@kyleibright at 2017-02-07 12:58:09: RT @afantasticdream: I won't ever forget watching Barack Obama, Hillary Clinton, and Donald Trump react to the Pulse massacre. Neither s  with 149 followers\n",
      "\n",
      "@SoheilNY at 2017-02-07 12:58:09: RT @ericallenhatch: Congratulations to Donald Trump's new Education Secretary! https://t.co/1uJk2aQdNs with 449 followers\n",
      "\n",
      "@Heather__V at 2017-02-07 12:58:09: why does this look exactly like something donald trump would tweet https://t.co/4bjuMr8UH8 with 855 followers\n",
      "\n",
      "@emilyrosejane_ at 2017-02-07 12:58:09: RT @BernieSanders: Donald Trumps goal is to protect the interests of the wealthiest and most powerful people in this country. That is exac with 1133 followers\n",
      "\n",
      "@matwg at 2017-02-07 12:58:09: More fractures do not a whole bone make. https://t.co/3W1qs1JjnU with 3709 followers\n",
      "\n",
      "@Bernardotbm at 2017-02-07 12:58:09: Obamas Official White House Photographer Is Trolling Donald Trump On Instagram https://t.co/cTyr6VTYMD https://t.co/1haxkYEIfL with 52 followers\n",
      "\n",
      "@MayaBugli at 2017-02-07 12:58:09: RT @EiProfeta: Donald Trump desvela su secreto. https://t.co/2Yh54IK9dh with 349 followers\n",
      "\n",
      "@wtvrtwatter at 2017-02-07 12:58:10: RT @BernieSanders: Donald Trumps goal is to protect the interests of the wealthiest and most powerful people in this country. That is exac with 3 followers\n",
      "\n",
      "@cletus02430765 at 2017-02-07 12:58:10: RT @xeni: Donald Trump's disapproval rating now at 54%: Gallup https://t.co/A75QZmiJOI https://t.co/oEUqAzJWF8 with 71 followers\n",
      "\n",
      "@lyndnns at 2017-02-07 12:58:10: #Google Chrome Filter Blocks Donald Trump From Your Internet #Google https://t.co/5sAB2QNd2n with 23654 followers\n",
      "\n",
      "@francyglow at 2017-02-07 12:58:10: Donald Trump: #LenaDunham and Whoopi Goldberg Should Leave the Country If I'm Elected #LenaDunham https://t.co/imEUEz1aZr with 21806 followers\n",
      "\n",
      "@ajbadiali at 2017-02-07 12:58:10: This breaks my heart https://t.co/5GYI323GN0 with 2593 followers\n",
      "\n",
      "@jeffjarvis at 2017-02-07 12:58:10: RT @jaketapper: .@cbrennansports: Trump's immigration order a hurdle for Los Angeles' 2024 Olympic bid\n",
      "\n",
      " https://t.co/rQ7n5fygNG with 167905 followers\n",
      "\n",
      "@Cschreck22 at 2017-02-07 12:58:10: RT @darren_dazmav: Donald Trump admits there were bombs in the buildings!!!!\n",
      "\n",
      "#9 /11\n",
      "#InsideJob\n",
      "#WakeUp https://t.co/7Tkfzco6vv with 226 followers\n",
      "\n",
      "@JacobLemieux_ at 2017-02-07 12:58:10: RT @BernieSanders: Donald Trumps goal is to protect the interests of the wealthiest and most powerful people in this country. That is exac with 253 followers\n",
      "\n",
      "@JeSuisDog at 2017-02-07 12:58:10: RT @MikkiL: BBC News - Speaker John Bercow defends his comments on Donald Trump https://t.co/04ilarjGXt he is supposed to be impartial RESI with 1634 followers\n",
      "\n",
      "@eeb_rumores at 2017-02-07 12:58:10: #Famosos Escchala! Eminem Insulta A Donald Trump En Su Nueva Cancin https://t.co/4vccJJAXBC https://t.co/7cJ1btLh3n with 857 followers\n",
      "\n",
      "@La_Stephniee at 2017-02-07 12:58:10: RT @BernieSanders: Donald Trump is a fraud. He said during the campaign he would take on Wall Street and now he's working for Wall Street. with 383 followers\n",
      "\n",
      "@NoFactsOrReason at 2017-02-07 12:58:11: https://t.co/p52fjNFJ0t @realDonaldTrump health in question as its revealed he takes drugs with awful side effects. with 0 followers\n",
      "\n",
      "@tamjjon at 2017-02-07 12:58:11: What Bob Marley Can Teach Us about Donald Trump #BobMarley #BobMarley https://t.co/FL9JhKDkDi #BobMarley with 17943 followers\n",
      "\n",
      "@rickburin at 2017-02-07 12:58:11: Donald Trump has asked Facebook to remove this photo of him. Don't RT it! :) :) https://t.co/O3iQGMnwH9 with 5040 followers\n",
      "\n",
      "@P078138928 at 2017-02-07 12:58:11: RT @CICArsa: @realDonaldTrump @TheresaMay_MP \n",
      "\n",
      "Why do u allow corrupt despots like Mugabe to visit ur countries when his people  with 84 followers\n",
      "\n",
      "@yourlocaloser at 2017-02-07 12:58:11: RT @rohmontgomery: Betsy DeVos got confirmed &amp; i would be surprised but Donald Trump is president. this is the upside down. we're in hell b with 1053 followers\n",
      "\n",
      "@Watchdogsniffer at 2017-02-07 12:58:11: Fact-checking isnt enough. To fight the far right, the media must spread the truth | Martin Belam | Opinion | https://t.co/mh8psZfXqs with 11502 followers\n",
      "\n",
      "@JaiJai0209 at 2017-02-07 12:58:11: RT @MrTommyCampbell: Offensive that Donald Trump CLAIMS terror attacks WEREN'T REPORTED when journalists actually DIED reporting some of th with 10 followers\n",
      "\n",
      "@hbdoucette2919 at 2017-02-07 12:58:11: RT @aravosis: We had a tie because you helped elect Donald Trump, who saved GOP control of the senate to boot. https://t.co/Uh807zNsSz with 94 followers\n",
      "\n",
      "@dorylmcdonald1 at 2017-02-07 12:58:11: RT @DrakeBible_: Drake on Donald Trump https://t.co/Q3MjLhNdpI with 34 followers\n",
      "\n",
      "@Trevor_Vos at 2017-02-07 12:58:11: RT @DLoesch: \"The future is female?\" What an incredibly tone deaf and sexist remark, not to mention awful message to send to boys https://t with 227 followers\n",
      "\n"
     ]
    },
    {
     "ename": "KeyboardInterrupt",
     "evalue": "",
     "output_type": "error",
     "traceback": [
      "\u001b[0;31m---------------------------------------------------------------------------\u001b[0m",
      "\u001b[0;31mKeyboardInterrupt\u001b[0m                         Traceback (most recent call last)",
      "\u001b[0;32m<ipython-input-25-f8bfe48d003b>\u001b[0m in \u001b[0;36m<module>\u001b[0;34m()\u001b[0m\n\u001b[1;32m     29\u001b[0m     \u001b[0mstream\u001b[0m\u001b[0;34m.\u001b[0m\u001b[0mfilter\u001b[0m\u001b[0;34m(\u001b[0m\u001b[0mtrack\u001b[0m\u001b[0;34m=\u001b[0m\u001b[0mtags_to_follow\u001b[0m\u001b[0;34m)\u001b[0m\u001b[0;34m\u001b[0m\u001b[0m\n\u001b[1;32m     30\u001b[0m \u001b[0;34m\u001b[0m\u001b[0m\n\u001b[0;32m---> 31\u001b[0;31m \u001b[0mbegin_live_feed\u001b[0m\u001b[0;34m(\u001b[0m\u001b[0;34m[\u001b[0m\u001b[0;34m'donald trump'\u001b[0m\u001b[0;34m,\u001b[0m \u001b[0;34m'hillary clinton'\u001b[0m\u001b[0;34m]\u001b[0m\u001b[0;34m)\u001b[0m\u001b[0;34m\u001b[0m\u001b[0m\n\u001b[0m\u001b[1;32m     32\u001b[0m \u001b[0;31m# this is an example use, if you create a list of words and phrases,\u001b[0m\u001b[0;34m\u001b[0m\u001b[0;34m\u001b[0m\u001b[0m\n\u001b[1;32m     33\u001b[0m \u001b[0;31m# a live stream of tweets about them will show up\u001b[0m\u001b[0;34m\u001b[0m\u001b[0;34m\u001b[0m\u001b[0m\n",
      "\u001b[0;32m<ipython-input-25-f8bfe48d003b>\u001b[0m in \u001b[0;36mbegin_live_feed\u001b[0;34m(tags_to_follow)\u001b[0m\n\u001b[1;32m     27\u001b[0m     \u001b[0mauth\u001b[0m\u001b[0;34m.\u001b[0m\u001b[0mset_access_token\u001b[0m\u001b[0;34m(\u001b[0m\u001b[0maccess_token\u001b[0m\u001b[0;34m,\u001b[0m \u001b[0maccess_secret\u001b[0m\u001b[0;34m)\u001b[0m\u001b[0;34m\u001b[0m\u001b[0m\n\u001b[1;32m     28\u001b[0m     \u001b[0mstream\u001b[0m \u001b[0;34m=\u001b[0m \u001b[0mtweepy\u001b[0m\u001b[0;34m.\u001b[0m\u001b[0mStream\u001b[0m\u001b[0;34m(\u001b[0m\u001b[0mauth\u001b[0m\u001b[0;34m,\u001b[0m \u001b[0ml\u001b[0m\u001b[0;34m)\u001b[0m\u001b[0;34m\u001b[0m\u001b[0m\n\u001b[0;32m---> 29\u001b[0;31m     \u001b[0mstream\u001b[0m\u001b[0;34m.\u001b[0m\u001b[0mfilter\u001b[0m\u001b[0;34m(\u001b[0m\u001b[0mtrack\u001b[0m\u001b[0;34m=\u001b[0m\u001b[0mtags_to_follow\u001b[0m\u001b[0;34m)\u001b[0m\u001b[0;34m\u001b[0m\u001b[0m\n\u001b[0m\u001b[1;32m     30\u001b[0m \u001b[0;34m\u001b[0m\u001b[0m\n\u001b[1;32m     31\u001b[0m \u001b[0mbegin_live_feed\u001b[0m\u001b[0;34m(\u001b[0m\u001b[0;34m[\u001b[0m\u001b[0;34m'donald trump'\u001b[0m\u001b[0;34m,\u001b[0m \u001b[0;34m'hillary clinton'\u001b[0m\u001b[0;34m]\u001b[0m\u001b[0;34m)\u001b[0m\u001b[0;34m\u001b[0m\u001b[0m\n",
      "\u001b[0;32m/Users/Guest/anaconda/lib/python2.7/site-packages/tweepy/streaming.pyc\u001b[0m in \u001b[0;36mfilter\u001b[0;34m(self, follow, track, async, locations, stall_warnings, languages, encoding, filter_level)\u001b[0m\n\u001b[1;32m    443\u001b[0m         \u001b[0mself\u001b[0m\u001b[0;34m.\u001b[0m\u001b[0msession\u001b[0m\u001b[0;34m.\u001b[0m\u001b[0mparams\u001b[0m \u001b[0;34m=\u001b[0m \u001b[0;34m{\u001b[0m\u001b[0;34m'delimited'\u001b[0m\u001b[0;34m:\u001b[0m \u001b[0;34m'length'\u001b[0m\u001b[0;34m}\u001b[0m\u001b[0;34m\u001b[0m\u001b[0m\n\u001b[1;32m    444\u001b[0m         \u001b[0mself\u001b[0m\u001b[0;34m.\u001b[0m\u001b[0mhost\u001b[0m \u001b[0;34m=\u001b[0m \u001b[0;34m'stream.twitter.com'\u001b[0m\u001b[0;34m\u001b[0m\u001b[0m\n\u001b[0;32m--> 445\u001b[0;31m         \u001b[0mself\u001b[0m\u001b[0;34m.\u001b[0m\u001b[0m_start\u001b[0m\u001b[0;34m(\u001b[0m\u001b[0masync\u001b[0m\u001b[0;34m)\u001b[0m\u001b[0;34m\u001b[0m\u001b[0m\n\u001b[0m\u001b[1;32m    446\u001b[0m \u001b[0;34m\u001b[0m\u001b[0m\n\u001b[1;32m    447\u001b[0m     def sitestream(self, follow, stall_warnings=False,\n",
      "\u001b[0;32m/Users/Guest/anaconda/lib/python2.7/site-packages/tweepy/streaming.pyc\u001b[0m in \u001b[0;36m_start\u001b[0;34m(self, async)\u001b[0m\n\u001b[1;32m    359\u001b[0m             \u001b[0mself\u001b[0m\u001b[0;34m.\u001b[0m\u001b[0m_thread\u001b[0m\u001b[0;34m.\u001b[0m\u001b[0mstart\u001b[0m\u001b[0;34m(\u001b[0m\u001b[0;34m)\u001b[0m\u001b[0;34m\u001b[0m\u001b[0m\n\u001b[1;32m    360\u001b[0m         \u001b[0;32melse\u001b[0m\u001b[0;34m:\u001b[0m\u001b[0;34m\u001b[0m\u001b[0m\n\u001b[0;32m--> 361\u001b[0;31m             \u001b[0mself\u001b[0m\u001b[0;34m.\u001b[0m\u001b[0m_run\u001b[0m\u001b[0;34m(\u001b[0m\u001b[0;34m)\u001b[0m\u001b[0;34m\u001b[0m\u001b[0m\n\u001b[0m\u001b[1;32m    362\u001b[0m \u001b[0;34m\u001b[0m\u001b[0m\n\u001b[1;32m    363\u001b[0m     \u001b[0;32mdef\u001b[0m \u001b[0mon_closed\u001b[0m\u001b[0;34m(\u001b[0m\u001b[0mself\u001b[0m\u001b[0;34m,\u001b[0m \u001b[0mresp\u001b[0m\u001b[0;34m)\u001b[0m\u001b[0;34m:\u001b[0m\u001b[0;34m\u001b[0m\u001b[0m\n",
      "\u001b[0;32m/Users/Guest/anaconda/lib/python2.7/site-packages/tweepy/streaming.pyc\u001b[0m in \u001b[0;36m_run\u001b[0;34m(self)\u001b[0m\n\u001b[1;32m    261\u001b[0m                     \u001b[0mself\u001b[0m\u001b[0;34m.\u001b[0m\u001b[0msnooze_time\u001b[0m \u001b[0;34m=\u001b[0m \u001b[0mself\u001b[0m\u001b[0;34m.\u001b[0m\u001b[0msnooze_time_step\u001b[0m\u001b[0;34m\u001b[0m\u001b[0m\n\u001b[1;32m    262\u001b[0m                     \u001b[0mself\u001b[0m\u001b[0;34m.\u001b[0m\u001b[0mlistener\u001b[0m\u001b[0;34m.\u001b[0m\u001b[0mon_connect\u001b[0m\u001b[0;34m(\u001b[0m\u001b[0;34m)\u001b[0m\u001b[0;34m\u001b[0m\u001b[0m\n\u001b[0;32m--> 263\u001b[0;31m                     \u001b[0mself\u001b[0m\u001b[0;34m.\u001b[0m\u001b[0m_read_loop\u001b[0m\u001b[0;34m(\u001b[0m\u001b[0mresp\u001b[0m\u001b[0;34m)\u001b[0m\u001b[0;34m\u001b[0m\u001b[0m\n\u001b[0m\u001b[1;32m    264\u001b[0m             \u001b[0;32mexcept\u001b[0m \u001b[0;34m(\u001b[0m\u001b[0mTimeout\u001b[0m\u001b[0;34m,\u001b[0m \u001b[0mssl\u001b[0m\u001b[0;34m.\u001b[0m\u001b[0mSSLError\u001b[0m\u001b[0;34m)\u001b[0m \u001b[0;32mas\u001b[0m \u001b[0mexc\u001b[0m\u001b[0;34m:\u001b[0m\u001b[0;34m\u001b[0m\u001b[0m\n\u001b[1;32m    265\u001b[0m                 \u001b[0;31m# This is still necessary, as a SSLError can actually be\u001b[0m\u001b[0;34m\u001b[0m\u001b[0;34m\u001b[0m\u001b[0m\n",
      "\u001b[0;32m/Users/Guest/anaconda/lib/python2.7/site-packages/tweepy/streaming.pyc\u001b[0m in \u001b[0;36m_read_loop\u001b[0;34m(self, resp)\u001b[0m\n\u001b[1;32m    311\u001b[0m             \u001b[0mlength\u001b[0m \u001b[0;34m=\u001b[0m \u001b[0;36m0\u001b[0m\u001b[0;34m\u001b[0m\u001b[0m\n\u001b[1;32m    312\u001b[0m             \u001b[0;32mwhile\u001b[0m \u001b[0;32mnot\u001b[0m \u001b[0mresp\u001b[0m\u001b[0;34m.\u001b[0m\u001b[0mraw\u001b[0m\u001b[0;34m.\u001b[0m\u001b[0mclosed\u001b[0m\u001b[0;34m:\u001b[0m\u001b[0;34m\u001b[0m\u001b[0m\n\u001b[0;32m--> 313\u001b[0;31m                 \u001b[0mline\u001b[0m \u001b[0;34m=\u001b[0m \u001b[0mbuf\u001b[0m\u001b[0;34m.\u001b[0m\u001b[0mread_line\u001b[0m\u001b[0;34m(\u001b[0m\u001b[0;34m)\u001b[0m\u001b[0;34m.\u001b[0m\u001b[0mstrip\u001b[0m\u001b[0;34m(\u001b[0m\u001b[0;34m)\u001b[0m\u001b[0;34m\u001b[0m\u001b[0m\n\u001b[0m\u001b[1;32m    314\u001b[0m                 \u001b[0;32mif\u001b[0m \u001b[0;32mnot\u001b[0m \u001b[0mline\u001b[0m\u001b[0;34m:\u001b[0m\u001b[0;34m\u001b[0m\u001b[0m\n\u001b[1;32m    315\u001b[0m                     \u001b[0mself\u001b[0m\u001b[0;34m.\u001b[0m\u001b[0mlistener\u001b[0m\u001b[0;34m.\u001b[0m\u001b[0mkeep_alive\u001b[0m\u001b[0;34m(\u001b[0m\u001b[0;34m)\u001b[0m  \u001b[0;31m# keep-alive new lines are expected\u001b[0m\u001b[0;34m\u001b[0m\u001b[0m\n",
      "\u001b[0;32m/Users/Guest/anaconda/lib/python2.7/site-packages/tweepy/streaming.pyc\u001b[0m in \u001b[0;36mread_line\u001b[0;34m(self, sep)\u001b[0m\n\u001b[1;32m    177\u001b[0m             \u001b[0;32melse\u001b[0m\u001b[0;34m:\u001b[0m\u001b[0;34m\u001b[0m\u001b[0m\n\u001b[1;32m    178\u001b[0m                 \u001b[0mstart\u001b[0m \u001b[0;34m=\u001b[0m \u001b[0mlen\u001b[0m\u001b[0;34m(\u001b[0m\u001b[0mself\u001b[0m\u001b[0;34m.\u001b[0m\u001b[0m_buffer\u001b[0m\u001b[0;34m)\u001b[0m\u001b[0;34m\u001b[0m\u001b[0m\n\u001b[0;32m--> 179\u001b[0;31m             \u001b[0mself\u001b[0m\u001b[0;34m.\u001b[0m\u001b[0m_buffer\u001b[0m \u001b[0;34m+=\u001b[0m \u001b[0mself\u001b[0m\u001b[0;34m.\u001b[0m\u001b[0m_stream\u001b[0m\u001b[0;34m.\u001b[0m\u001b[0mread\u001b[0m\u001b[0;34m(\u001b[0m\u001b[0mself\u001b[0m\u001b[0;34m.\u001b[0m\u001b[0m_chunk_size\u001b[0m\u001b[0;34m)\u001b[0m\u001b[0;34m\u001b[0m\u001b[0m\n\u001b[0m\u001b[1;32m    180\u001b[0m \u001b[0;34m\u001b[0m\u001b[0m\n\u001b[1;32m    181\u001b[0m     \u001b[0;32mdef\u001b[0m \u001b[0m_pop\u001b[0m\u001b[0;34m(\u001b[0m\u001b[0mself\u001b[0m\u001b[0;34m,\u001b[0m \u001b[0mlength\u001b[0m\u001b[0;34m)\u001b[0m\u001b[0;34m:\u001b[0m\u001b[0;34m\u001b[0m\u001b[0m\n",
      "\u001b[0;32m/Users/Guest/anaconda/lib/python2.7/site-packages/requests/packages/urllib3/response.pyc\u001b[0m in \u001b[0;36mread\u001b[0;34m(self, amt, decode_content, cache_content)\u001b[0m\n\u001b[1;32m    312\u001b[0m             \u001b[0;32melse\u001b[0m\u001b[0;34m:\u001b[0m\u001b[0;34m\u001b[0m\u001b[0m\n\u001b[1;32m    313\u001b[0m                 \u001b[0mcache_content\u001b[0m \u001b[0;34m=\u001b[0m \u001b[0mFalse\u001b[0m\u001b[0;34m\u001b[0m\u001b[0m\n\u001b[0;32m--> 314\u001b[0;31m                 \u001b[0mdata\u001b[0m \u001b[0;34m=\u001b[0m \u001b[0mself\u001b[0m\u001b[0;34m.\u001b[0m\u001b[0m_fp\u001b[0m\u001b[0;34m.\u001b[0m\u001b[0mread\u001b[0m\u001b[0;34m(\u001b[0m\u001b[0mamt\u001b[0m\u001b[0;34m)\u001b[0m\u001b[0;34m\u001b[0m\u001b[0m\n\u001b[0m\u001b[1;32m    315\u001b[0m                 \u001b[0;32mif\u001b[0m \u001b[0mamt\u001b[0m \u001b[0;34m!=\u001b[0m \u001b[0;36m0\u001b[0m \u001b[0;32mand\u001b[0m \u001b[0;32mnot\u001b[0m \u001b[0mdata\u001b[0m\u001b[0;34m:\u001b[0m  \u001b[0;31m# Platform-specific: Buggy versions of Python.\u001b[0m\u001b[0;34m\u001b[0m\u001b[0m\n\u001b[1;32m    316\u001b[0m                     \u001b[0;31m# Close the connection when no data is returned\u001b[0m\u001b[0;34m\u001b[0m\u001b[0;34m\u001b[0m\u001b[0m\n",
      "\u001b[0;32m/Users/Guest/anaconda/lib/python2.7/httplib.pyc\u001b[0m in \u001b[0;36mread\u001b[0;34m(self, amt)\u001b[0m\n\u001b[1;32m    586\u001b[0m \u001b[0;34m\u001b[0m\u001b[0m\n\u001b[1;32m    587\u001b[0m         \u001b[0;32mif\u001b[0m \u001b[0mself\u001b[0m\u001b[0;34m.\u001b[0m\u001b[0mchunked\u001b[0m\u001b[0;34m:\u001b[0m\u001b[0;34m\u001b[0m\u001b[0m\n\u001b[0;32m--> 588\u001b[0;31m             \u001b[0;32mreturn\u001b[0m \u001b[0mself\u001b[0m\u001b[0;34m.\u001b[0m\u001b[0m_read_chunked\u001b[0m\u001b[0;34m(\u001b[0m\u001b[0mamt\u001b[0m\u001b[0;34m)\u001b[0m\u001b[0;34m\u001b[0m\u001b[0m\n\u001b[0m\u001b[1;32m    589\u001b[0m \u001b[0;34m\u001b[0m\u001b[0m\n\u001b[1;32m    590\u001b[0m         \u001b[0;32mif\u001b[0m \u001b[0mamt\u001b[0m \u001b[0;32mis\u001b[0m \u001b[0mNone\u001b[0m\u001b[0;34m:\u001b[0m\u001b[0;34m\u001b[0m\u001b[0m\n",
      "\u001b[0;32m/Users/Guest/anaconda/lib/python2.7/httplib.pyc\u001b[0m in \u001b[0;36m_read_chunked\u001b[0;34m(self, amt)\u001b[0m\n\u001b[1;32m    628\u001b[0m         \u001b[0;32mwhile\u001b[0m \u001b[0mTrue\u001b[0m\u001b[0;34m:\u001b[0m\u001b[0;34m\u001b[0m\u001b[0m\n\u001b[1;32m    629\u001b[0m             \u001b[0;32mif\u001b[0m \u001b[0mchunk_left\u001b[0m \u001b[0;32mis\u001b[0m \u001b[0mNone\u001b[0m\u001b[0;34m:\u001b[0m\u001b[0;34m\u001b[0m\u001b[0m\n\u001b[0;32m--> 630\u001b[0;31m                 \u001b[0mline\u001b[0m \u001b[0;34m=\u001b[0m \u001b[0mself\u001b[0m\u001b[0;34m.\u001b[0m\u001b[0mfp\u001b[0m\u001b[0;34m.\u001b[0m\u001b[0mreadline\u001b[0m\u001b[0;34m(\u001b[0m\u001b[0m_MAXLINE\u001b[0m \u001b[0;34m+\u001b[0m \u001b[0;36m1\u001b[0m\u001b[0;34m)\u001b[0m\u001b[0;34m\u001b[0m\u001b[0m\n\u001b[0m\u001b[1;32m    631\u001b[0m                 \u001b[0;32mif\u001b[0m \u001b[0mlen\u001b[0m\u001b[0;34m(\u001b[0m\u001b[0mline\u001b[0m\u001b[0;34m)\u001b[0m \u001b[0;34m>\u001b[0m \u001b[0m_MAXLINE\u001b[0m\u001b[0;34m:\u001b[0m\u001b[0;34m\u001b[0m\u001b[0m\n\u001b[1;32m    632\u001b[0m                     \u001b[0;32mraise\u001b[0m \u001b[0mLineTooLong\u001b[0m\u001b[0;34m(\u001b[0m\u001b[0;34m\"chunk size\"\u001b[0m\u001b[0;34m)\u001b[0m\u001b[0;34m\u001b[0m\u001b[0m\n",
      "\u001b[0;32m/Users/Guest/anaconda/lib/python2.7/socket.pyc\u001b[0m in \u001b[0;36mreadline\u001b[0;34m(self, size)\u001b[0m\n\u001b[1;32m    478\u001b[0m             \u001b[0;32mwhile\u001b[0m \u001b[0mTrue\u001b[0m\u001b[0;34m:\u001b[0m\u001b[0;34m\u001b[0m\u001b[0m\n\u001b[1;32m    479\u001b[0m                 \u001b[0;32mtry\u001b[0m\u001b[0;34m:\u001b[0m\u001b[0;34m\u001b[0m\u001b[0m\n\u001b[0;32m--> 480\u001b[0;31m                     \u001b[0mdata\u001b[0m \u001b[0;34m=\u001b[0m \u001b[0mself\u001b[0m\u001b[0;34m.\u001b[0m\u001b[0m_sock\u001b[0m\u001b[0;34m.\u001b[0m\u001b[0mrecv\u001b[0m\u001b[0;34m(\u001b[0m\u001b[0mself\u001b[0m\u001b[0;34m.\u001b[0m\u001b[0m_rbufsize\u001b[0m\u001b[0;34m)\u001b[0m\u001b[0;34m\u001b[0m\u001b[0m\n\u001b[0m\u001b[1;32m    481\u001b[0m                 \u001b[0;32mexcept\u001b[0m \u001b[0merror\u001b[0m\u001b[0;34m,\u001b[0m \u001b[0me\u001b[0m\u001b[0;34m:\u001b[0m\u001b[0;34m\u001b[0m\u001b[0m\n\u001b[1;32m    482\u001b[0m                     \u001b[0;32mif\u001b[0m \u001b[0me\u001b[0m\u001b[0;34m.\u001b[0m\u001b[0margs\u001b[0m\u001b[0;34m[\u001b[0m\u001b[0;36m0\u001b[0m\u001b[0;34m]\u001b[0m \u001b[0;34m==\u001b[0m \u001b[0mEINTR\u001b[0m\u001b[0;34m:\u001b[0m\u001b[0;34m\u001b[0m\u001b[0m\n",
      "\u001b[0;32m/Users/Guest/anaconda/lib/python2.7/ssl.pyc\u001b[0m in \u001b[0;36mrecv\u001b[0;34m(self, buflen, flags)\u001b[0m\n\u001b[1;32m    754\u001b[0m                     \u001b[0;34m\"non-zero flags not allowed in calls to recv() on %s\"\u001b[0m \u001b[0;34m%\u001b[0m\u001b[0;34m\u001b[0m\u001b[0m\n\u001b[1;32m    755\u001b[0m                     self.__class__)\n\u001b[0;32m--> 756\u001b[0;31m             \u001b[0;32mreturn\u001b[0m \u001b[0mself\u001b[0m\u001b[0;34m.\u001b[0m\u001b[0mread\u001b[0m\u001b[0;34m(\u001b[0m\u001b[0mbuflen\u001b[0m\u001b[0;34m)\u001b[0m\u001b[0;34m\u001b[0m\u001b[0m\n\u001b[0m\u001b[1;32m    757\u001b[0m         \u001b[0;32melse\u001b[0m\u001b[0;34m:\u001b[0m\u001b[0;34m\u001b[0m\u001b[0m\n\u001b[1;32m    758\u001b[0m             \u001b[0;32mreturn\u001b[0m \u001b[0mself\u001b[0m\u001b[0;34m.\u001b[0m\u001b[0m_sock\u001b[0m\u001b[0;34m.\u001b[0m\u001b[0mrecv\u001b[0m\u001b[0;34m(\u001b[0m\u001b[0mbuflen\u001b[0m\u001b[0;34m,\u001b[0m \u001b[0mflags\u001b[0m\u001b[0;34m)\u001b[0m\u001b[0;34m\u001b[0m\u001b[0m\n",
      "\u001b[0;32m/Users/Guest/anaconda/lib/python2.7/ssl.pyc\u001b[0m in \u001b[0;36mread\u001b[0;34m(self, len, buffer)\u001b[0m\n\u001b[1;32m    641\u001b[0m                 \u001b[0mv\u001b[0m \u001b[0;34m=\u001b[0m \u001b[0mself\u001b[0m\u001b[0;34m.\u001b[0m\u001b[0m_sslobj\u001b[0m\u001b[0;34m.\u001b[0m\u001b[0mread\u001b[0m\u001b[0;34m(\u001b[0m\u001b[0mlen\u001b[0m\u001b[0;34m,\u001b[0m \u001b[0mbuffer\u001b[0m\u001b[0;34m)\u001b[0m\u001b[0;34m\u001b[0m\u001b[0m\n\u001b[1;32m    642\u001b[0m             \u001b[0;32melse\u001b[0m\u001b[0;34m:\u001b[0m\u001b[0;34m\u001b[0m\u001b[0m\n\u001b[0;32m--> 643\u001b[0;31m                 \u001b[0mv\u001b[0m \u001b[0;34m=\u001b[0m \u001b[0mself\u001b[0m\u001b[0;34m.\u001b[0m\u001b[0m_sslobj\u001b[0m\u001b[0;34m.\u001b[0m\u001b[0mread\u001b[0m\u001b[0;34m(\u001b[0m\u001b[0mlen\u001b[0m\u001b[0;34m)\u001b[0m\u001b[0;34m\u001b[0m\u001b[0m\n\u001b[0m\u001b[1;32m    644\u001b[0m             \u001b[0;32mreturn\u001b[0m \u001b[0mv\u001b[0m\u001b[0;34m\u001b[0m\u001b[0m\n\u001b[1;32m    645\u001b[0m         \u001b[0;32mexcept\u001b[0m \u001b[0mSSLError\u001b[0m \u001b[0;32mas\u001b[0m \u001b[0mx\u001b[0m\u001b[0;34m:\u001b[0m\u001b[0;34m\u001b[0m\u001b[0m\n",
      "\u001b[0;31mKeyboardInterrupt\u001b[0m: "
     ]
    }
   ],
   "source": [
    "'''\n",
    "THE BELOW CODE IS OPTIONAl\n",
    "It creates a stream of a given tag!\n",
    "'''\n",
    "\n",
    "# This is the listener, resposible for receiving data\n",
    "# I will not be covering this in class\n",
    "class StdOutListener(tweepy.StreamListener):\n",
    "    def on_data(self, data):\n",
    "        # Twitter returns data in JSON format - we need to decode it first\n",
    "        decoded = json.loads(data)\n",
    "        #print decoded\n",
    "        time_ =  time.strftime('%Y-%m-%d %H:%M:%S', time.localtime(int(decoded['timestamp_ms']) / 1000))\n",
    "        handle = decoded['user']['screen_name']\n",
    "        tweet_text = decoded['text'].encode('ascii', 'ignore')\n",
    "        num_followers = int(decoded['user']['followers_count'])\n",
    "        # Also, we convert UTF-8 to ASCII ignoring all bad characters sent by users\n",
    "        print '@%s at %s: %s with %d followers' % (handle, time_, tweet_text, num_followers)\n",
    "        print ''\n",
    "        return True\n",
    "    def on_error(self, status):\n",
    "        print status\n",
    "def begin_live_feed(tags_to_follow):\n",
    "    print \"beginning live feed....\"\n",
    "    l = StdOutListener()\n",
    "    auth = tweepy.OAuthHandler(api_key, api_secret)\n",
    "    auth.set_access_token(access_token, access_secret)\n",
    "    stream = tweepy.Stream(auth, l)\n",
    "    stream.filter(track=tags_to_follow)\n",
    "\n",
    "begin_live_feed(['donald trump', 'hillary clinton'])\n",
    "# this is an example use, if you create a list of words and phrases, \n",
    "# a live stream of tweets about them will show up\n",
    "\n",
    "# INTERUPT THE KERNEL TO STOP THE MADNESS"
   ]
  },
  {
   "cell_type": "code",
   "execution_count": 40,
   "metadata": {
    "collapsed": false
   },
   "outputs": [
    {
     "data": {
      "text/plain": [
       "'\\nOther considerations when accessing APIs:\\n- Most APIs require you to have an access key (which you should store outside your code)\\n- Most APIs limit the number of API calls you can make (per day, hour, minute, etc.)\\n- Not all APIs are free\\n- Not all APIs are well-documented\\n- Pay attention to the API version\\n\\nPython wrapper is another option for accessing an API:\\n- Set of functions that \"wrap\" the API code for ease of use\\n- Potentially simplifies your code\\n- But, wrapper could have bugs or be out-of-date or poorly documented\\n'"
      ]
     },
     "execution_count": 40,
     "metadata": {},
     "output_type": "execute_result"
    }
   ],
   "source": [
    "'''\n",
    "Other considerations when accessing APIs:\n",
    "- Most APIs require you to have an access key (which you should store outside your code)\n",
    "- Most APIs limit the number of API calls you can make (per day, hour, minute, etc.)\n",
    "- Not all APIs are free\n",
    "- Not all APIs are well-documented\n",
    "- Pay attention to the API version\n",
    "\n",
    "Python wrapper is another option for accessing an API:\n",
    "- Set of functions that \"wrap\" the API code for ease of use\n",
    "- Potentially simplifies your code\n",
    "- But, wrapper could have bugs or be out-of-date or poorly documented\n",
    "'''"
   ]
  },
  {
   "cell_type": "code",
   "execution_count": null,
   "metadata": {
    "collapsed": false
   },
   "outputs": [],
   "source": []
  },
  {
   "cell_type": "code",
   "execution_count": null,
   "metadata": {
    "collapsed": false
   },
   "outputs": [],
   "source": []
  },
  {
   "cell_type": "code",
   "execution_count": null,
   "metadata": {
    "collapsed": true
   },
   "outputs": [],
   "source": []
  },
  {
   "cell_type": "code",
   "execution_count": null,
   "metadata": {
    "collapsed": true
   },
   "outputs": [],
   "source": []
  },
  {
   "cell_type": "code",
   "execution_count": null,
   "metadata": {
    "collapsed": true
   },
   "outputs": [],
   "source": []
  },
  {
   "cell_type": "code",
   "execution_count": null,
   "metadata": {
    "collapsed": false
   },
   "outputs": [],
   "source": []
  },
  {
   "cell_type": "code",
   "execution_count": null,
   "metadata": {
    "collapsed": false
   },
   "outputs": [],
   "source": []
  },
  {
   "cell_type": "code",
   "execution_count": null,
   "metadata": {
    "collapsed": true
   },
   "outputs": [],
   "source": []
  },
  {
   "cell_type": "code",
   "execution_count": null,
   "metadata": {
    "collapsed": false
   },
   "outputs": [],
   "source": []
  },
  {
   "cell_type": "code",
   "execution_count": null,
   "metadata": {
    "collapsed": false
   },
   "outputs": [],
   "source": []
  },
  {
   "cell_type": "code",
   "execution_count": null,
   "metadata": {
    "collapsed": false
   },
   "outputs": [],
   "source": []
  },
  {
   "cell_type": "code",
   "execution_count": null,
   "metadata": {
    "collapsed": true
   },
   "outputs": [],
   "source": []
  }
 ],
 "metadata": {
  "anaconda-cloud": {},
  "kernelspec": {
   "display_name": "Python 2",
   "language": "python",
   "name": "python2"
  },
  "language_info": {
   "codemirror_mode": {
    "name": "ipython",
    "version": 2
   },
   "file_extension": ".py",
   "mimetype": "text/x-python",
   "name": "python",
   "nbconvert_exporter": "python",
   "pygments_lexer": "ipython2",
   "version": "2.7.11"
  }
 },
 "nbformat": 4,
 "nbformat_minor": 0
}
