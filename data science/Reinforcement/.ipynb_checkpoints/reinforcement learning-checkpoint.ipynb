{
 "cells": [
  {
   "cell_type": "code",
   "execution_count": 1,
   "metadata": {
    "collapsed": true
   },
   "outputs": [],
   "source": [
    "import gym\n",
    "import numpy as np"
   ]
  },
  {
   "cell_type": "code",
   "execution_count": 2,
   "metadata": {
    "collapsed": false
   },
   "outputs": [
    {
     "name": "stderr",
     "output_type": "stream",
     "text": [
      "[2017-03-19 09:07:52,159] Making new env: FrozenLake-v0\n"
     ]
    }
   ],
   "source": [
    "env = gym.make('FrozenLake-v0')"
   ]
  },
  {
   "cell_type": "code",
   "execution_count": 3,
   "metadata": {
    "collapsed": true
   },
   "outputs": [],
   "source": [
    "#Initialize table with all zeros results in table = likelihood\n",
    "Q = np.zeros([env.observation_space.n,env.action_space.n])\n",
    "# Set learning parameters\n",
    "lr = .9 # learning rate\n",
    "y = .99 # gama\n",
    "num_episodes = 5000 # how many time reset to first home\n",
    "#create lists to contain total rewards and steps per episode\n",
    "#jList = []\n",
    "rList = []\n",
    "for i in range(num_episodes):\n",
    "    #Reset environment and get first new observation\n",
    "    s = env.reset()\n",
    "    rAll = 0\n",
    "    d = False\n",
    "    j = 0\n",
    "    #The Q-Table learning algorithm\n",
    "    while j < 99:\n",
    "        j+=1\n",
    "        #Choose an action by greedily (with noise) picking from Q table\n",
    "        a = np.argmax(Q[s,:] + np.random.randn(1,env.action_space.n)*(1./(i+1)))\n",
    "        #Get new state and reward from environment\n",
    "        s1,r,d,_ = env.step(a)\n",
    "        #Update Q-Table with new knowledge\n",
    "        Q[s,a] = Q[s,a] + lr*(r + y*np.max(Q[s1,:]) - Q[s,a])\n",
    "        rAll += r\n",
    "        s = s1\n",
    "        if d == True:\n",
    "            break\n",
    "    #jList.append(j)\n",
    "    rList.append(rAll)        \n"
   ]
  },
  {
   "cell_type": "code",
   "execution_count": 4,
   "metadata": {
    "collapsed": false
   },
   "outputs": [
    {
     "name": "stdout",
     "output_type": "stream",
     "text": [
      "Score over time: 0.5362\n"
     ]
    }
   ],
   "source": [
    "print \"Score over time: \" +  str(sum(rList)/num_episodes)"
   ]
  },
  {
   "cell_type": "code",
   "execution_count": 5,
   "metadata": {
    "collapsed": false
   },
   "outputs": [
    {
     "name": "stdout",
     "output_type": "stream",
     "text": [
      "Final Q-Table Values\n",
      "[[  3.71399432e-01   3.69992171e-03   0.00000000e+00   0.00000000e+00]\n",
      " [  0.00000000e+00   1.15456922e-03   1.58801880e-03   2.38145540e-01]\n",
      " [  1.54505987e-03   4.86991663e-03   1.36996504e-03   5.07118441e-01]\n",
      " [  5.26903115e-04   1.20783218e-03   9.13134121e-03   4.30936503e-01]\n",
      " [  5.81054946e-01   2.91722209e-04   5.26178178e-04   0.00000000e+00]\n",
      " [  0.00000000e+00   0.00000000e+00   0.00000000e+00   0.00000000e+00]\n",
      " [  6.00045333e-03   1.42194942e-05   2.06593289e-06   2.13854433e-08]\n",
      " [  0.00000000e+00   0.00000000e+00   0.00000000e+00   0.00000000e+00]\n",
      " [  4.77106636e-04   3.13946806e-04   7.45759563e-04   8.89225270e-01]\n",
      " [  6.47059659e-04   7.51281928e-01   0.00000000e+00   4.92180662e-05]\n",
      " [  9.27794968e-01   6.87528820e-05   1.36749517e-04   1.65984471e-05]\n",
      " [  0.00000000e+00   0.00000000e+00   0.00000000e+00   0.00000000e+00]\n",
      " [  0.00000000e+00   0.00000000e+00   0.00000000e+00   0.00000000e+00]\n",
      " [  0.00000000e+00   0.00000000e+00   9.41189174e-01   2.39017297e-03]\n",
      " [  0.00000000e+00   9.96541636e-01   0.00000000e+00   0.00000000e+00]\n",
      " [  0.00000000e+00   0.00000000e+00   0.00000000e+00   0.00000000e+00]]\n"
     ]
    }
   ],
   "source": [
    "print \"Final Q-Table Values\"\n",
    "print Q"
   ]
  },
  {
   "cell_type": "code",
   "execution_count": null,
   "metadata": {
    "collapsed": true
   },
   "outputs": [],
   "source": []
  },
  {
   "cell_type": "code",
   "execution_count": null,
   "metadata": {
    "collapsed": true
   },
   "outputs": [],
   "source": []
  },
  {
   "cell_type": "code",
   "execution_count": 1,
   "metadata": {
    "collapsed": true
   },
   "outputs": [],
   "source": [
    "import gym\n",
    "import numpy as np\n",
    "import random\n",
    "import tensorflow as tf\n",
    "import matplotlib.pyplot as plt\n",
    "%matplotlib inline"
   ]
  },
  {
   "cell_type": "code",
   "execution_count": 2,
   "metadata": {
    "collapsed": false
   },
   "outputs": [
    {
     "name": "stderr",
     "output_type": "stream",
     "text": [
      "[2017-03-19 09:19:16,788] Making new env: FrozenLake-v0\n"
     ]
    }
   ],
   "source": [
    "env = gym.make('FrozenLake-v0')"
   ]
  },
  {
   "cell_type": "code",
   "execution_count": 3,
   "metadata": {
    "collapsed": true
   },
   "outputs": [],
   "source": [
    "tf.reset_default_graph()"
   ]
  },
  {
   "cell_type": "code",
   "execution_count": 4,
   "metadata": {
    "collapsed": true
   },
   "outputs": [],
   "source": [
    "#These lines establish the feed-forward part of the network used to choose actions\n",
    "inputs1 = tf.placeholder(shape=[1,16],dtype=tf.float32)\n",
    "W = tf.Variable(tf.random_uniform([16,4],0,0.01))\n",
    "Qout = tf.matmul(inputs1,W)\n",
    "predict = tf.argmax(Qout,1)\n",
    "\n",
    "#Below we obtain the loss by taking the sum of squares difference between the target and prediction Q values.\n",
    "nextQ = tf.placeholder(shape=[1,4],dtype=tf.float32)\n",
    "loss = tf.reduce_sum(tf.square(nextQ - Qout))\n",
    "trainer = tf.train.GradientDescentOptimizer(learning_rate=0.1)\n",
    "updateModel = trainer.minimize(loss)\n"
   ]
  },
  {
   "cell_type": "code",
   "execution_count": 5,
   "metadata": {
    "collapsed": false
   },
   "outputs": [
    {
     "name": "stdout",
     "output_type": "stream",
     "text": [
      "WARNING:tensorflow:From <ipython-input-5-d370bb19644a>:1: initialize_all_variables (from tensorflow.python.ops.variables) is deprecated and will be removed after 2017-03-02.\n",
      "Instructions for updating:\n",
      "Use `tf.global_variables_initializer` instead.\n"
     ]
    },
    {
     "name": "stderr",
     "output_type": "stream",
     "text": [
      "[2017-03-19 09:19:20,690] From <ipython-input-5-d370bb19644a>:1: initialize_all_variables (from tensorflow.python.ops.variables) is deprecated and will be removed after 2017-03-02.\n",
      "Instructions for updating:\n",
      "Use `tf.global_variables_initializer` instead.\n"
     ]
    },
    {
     "name": "stdout",
     "output_type": "stream",
     "text": [
      "Percent of succesful episodes: 0.4845%\n"
     ]
    }
   ],
   "source": [
    "init = tf.initialize_all_variables()\n",
    "\n",
    "# Set learning parameters\n",
    "y = .99\n",
    "e = 0.1\n",
    "num_episodes = 2000\n",
    "#create lists to contain total rewards and steps per episode\n",
    "jList = []\n",
    "rList = []\n",
    "with tf.Session() as sess:\n",
    "    sess.run(init)\n",
    "    for i in range(num_episodes):\n",
    "        #Reset environment and get first new observation\n",
    "        s = env.reset()\n",
    "        rAll = 0\n",
    "        d = False\n",
    "        j = 0\n",
    "        #The Q-Network\n",
    "        while j < 99:\n",
    "            j+=1\n",
    "            #Choose an action by greedily (with e chance of random action) from the Q-network\n",
    "            a,allQ = sess.run([predict,Qout],feed_dict={inputs1:np.identity(16)[s:s+1]})\n",
    "            if np.random.rand(1) < e:\n",
    "                a[0] = env.action_space.sample()\n",
    "            #Get new state and reward from environment\n",
    "            s1,r,d,_ = env.step(a[0])\n",
    "            #Obtain the Q' values by feeding the new state through our network\n",
    "            Q1 = sess.run(Qout,feed_dict={inputs1:np.identity(16)[s1:s1+1]})\n",
    "            #Obtain maxQ' and set our target value for chosen action.\n",
    "            maxQ1 = np.max(Q1)\n",
    "            targetQ = allQ\n",
    "            targetQ[0,a[0]] = r + y*maxQ1\n",
    "            #Train our network using target and predicted Q values\n",
    "            _,W1 = sess.run([updateModel,W],feed_dict={inputs1:np.identity(16)[s:s+1],nextQ:targetQ})\n",
    "            rAll += r\n",
    "            s = s1\n",
    "            if d == True:\n",
    "                #Reduce chance of random action as we train the model.\n",
    "                e = 1./((i/50) + 10)\n",
    "                break\n",
    "        jList.append(j)\n",
    "        rList.append(rAll)\n",
    "print \"Percent of succesful episodes: \" + str(sum(rList)/num_episodes) + \"%\""
   ]
  },
  {
   "cell_type": "code",
   "execution_count": 6,
   "metadata": {
    "collapsed": false
   },
   "outputs": [
    {
     "data": {
      "text/plain": [
       "[<matplotlib.lines.Line2D at 0x1171283d0>]"
      ]
     },
     "execution_count": 6,
     "metadata": {},
     "output_type": "execute_result"
    },
    {
     "data": {
      "image/png": "[encoded data removed]",
      "text/plain": [
       "<matplotlib.figure.Figure at 0x114b32ed0>"
      ]
     },
     "metadata": {},
     "output_type": "display_data"
    }
   ],
   "source": [
    "plt.plot(rList)"
   ]
  },
  {
   "cell_type": "code",
   "execution_count": 7,
   "metadata": {
    "collapsed": false
   },
   "outputs": [
    {
     "data": {
      "text/plain": [
       "[<matplotlib.lines.Line2D at 0x1178705d0>]"
      ]
     },
     "execution_count": 7,
     "metadata": {},
     "output_type": "execute_result"
    },
    {
     "data": {
      "image/png": "[encoded data removed]",
      "text/plain": [
       "<matplotlib.figure.Figure at 0x117213990>"
      ]
     },
     "metadata": {},
     "output_type": "display_data"
    }
   ],
   "source": [
    "plt.plot(jList)"
   ]
  },
  {
   "cell_type": "code",
   "execution_count": null,
   "metadata": {
    "collapsed": true
   },
   "outputs": [],
   "source": []
  },
  {
   "cell_type": "code",
   "execution_count": null,
   "metadata": {
    "collapsed": true
   },
   "outputs": [],
   "source": []
  },
  {
   "cell_type": "code",
   "execution_count": 9,
   "metadata": {
    "collapsed": false
   },
   "outputs": [],
   "source": [
    "import tensorflow as tf\n",
    "import numpy as np\n",
    "import random\n",
    "from collections import deque\n",
    "\n",
    "from yahoo_finance import Share\n",
    "import datetime"
   ]
  },
  {
   "cell_type": "code",
   "execution_count": 10,
   "metadata": {
    "collapsed": true
   },
   "outputs": [],
   "source": [
    "day_len = 15"
   ]
  },
  {
   "cell_type": "code",
   "execution_count": 24,
   "metadata": {
    "collapsed": false
   },
   "outputs": [
    {
     "name": "stdout",
     "output_type": "stream",
     "text": [
      "314\n"
     ]
    }
   ],
   "source": [
    "stock = Share('2330.TW')\n",
    "today = datetime.date.today()\n",
    "stock_data = stock.get_historical('2016-01-01', str(today))\n",
    "print len(stock_data)\n",
    "stock_data.reverse() "
   ]
  },
  {
   "cell_type": "code",
   "execution_count": 25,
   "metadata": {
    "collapsed": false
   },
   "outputs": [
    {
     "name": "stdout",
     "output_type": "stream",
     "text": [
      "288\n"
     ]
    }
   ],
   "source": [
    "i = 0\n",
    "while( i < len(stock_data)):\n",
    "    if (int(stock_data[i].get('Volume')) <= 0):\n",
    "        stock_data.remove(stock_data[i])\n",
    "        i = -1\n",
    "    i += 1\n",
    "print len(stock_data)"
   ]
  },
  {
   "cell_type": "code",
   "execution_count": 26,
   "metadata": {
    "collapsed": false
   },
   "outputs": [
    {
     "data": {
      "text/plain": [
       "array([[ 0.,  0.,  0., ...,  0.,  0.,  0.],\n",
       "       [ 0.,  0.,  0., ...,  0.,  0.,  0.],\n",
       "       [ 0.,  0.,  0., ...,  0.,  0.,  0.],\n",
       "       ..., \n",
       "       [ 0.,  0.,  0., ...,  0.,  0.,  0.],\n",
       "       [ 0.,  0.,  0., ...,  0.,  0.,  0.],\n",
       "       [ 0.,  0.,  0., ...,  0.,  0.,  0.]])"
      ]
     },
     "execution_count": 26,
     "metadata": {},
     "output_type": "execute_result"
    }
   ],
   "source": [
    "my_train = np.zeros((len(stock_data)-day_len, day_len), dtype=np.float)\n",
    "my_train"
   ]
  },
  {
   "cell_type": "code",
   "execution_count": 27,
   "metadata": {
    "collapsed": false
   },
   "outputs": [
    {
     "name": "stdout",
     "output_type": "stream",
     "text": [
      "[[ 139.5  138.   135.5 ...,  134.5  135.   138.5]\n",
      " [ 138.   135.5  133.  ...,  135.   138.5  139.5]\n",
      " [ 135.5  133.   134.  ...,  138.5  139.5  137.5]\n",
      " ..., \n",
      " [ 190.   190.   188.5 ...,  183.5  186.5  186. ]\n",
      " [ 190.   188.5  188.5 ...,  186.5  186.   186.5]\n",
      " [ 188.5  188.5  189.  ...,  186.   186.5  190. ]]\n"
     ]
    }
   ],
   "source": [
    "for i in range(0, len(my_train)):\n",
    "    for j in range(0, day_len):\n",
    "        my_train[i,j] = float(stock_data[i+j].get('Close'))\n",
    "        #my_train[i,j] = data_rsi[i+j]\n",
    "print my_train"
   ]
  },
  {
   "cell_type": "code",
   "execution_count": 15,
   "metadata": {
    "collapsed": true
   },
   "outputs": [],
   "source": [
    "class TWStock():\n",
    "    def __init__(self, stock_data):\n",
    "        self.stock_data = stock_data\n",
    "        self.stock_index = 0\n",
    "    \n",
    "    def render(self):\n",
    "        \n",
    "        return \n",
    "    \n",
    "    def reset(self):\n",
    "        self.stock_index = 0\n",
    "        return self.stock_data[self.stock_index]\n",
    "    \n",
    "    def step(self, action): \n",
    "        self.stock_index += 1\n",
    "        action_reward = self.stock_data[self.stock_index][day_len-1] - self.stock_data[self.stock_index][day_len-2] \n",
    "        if (action == 0):\n",
    "            action_reward = 0\n",
    "        if (action == 2):\n",
    "            action_reward = -1 * action_reward\n",
    "\n",
    "        stock_done = False\n",
    "        if self.stock_index >= len(self.stock_data)-1:\n",
    "            stock_done = True\n",
    "        else:\n",
    "            stock_done = False\n",
    "        return self.stock_data[self.stock_index], action_reward, stock_done, 0"
   ]
  },
  {
   "cell_type": "code",
   "execution_count": 41,
   "metadata": {
    "collapsed": false
   },
   "outputs": [
    {
     "name": "stdout",
     "output_type": "stream",
     "text": [
      "WARNING:tensorflow:From <ipython-input-41-cc90cc46b589>:30: initialize_all_variables (from tensorflow.python.ops.variables) is deprecated and will be removed after 2017-03-02.\n",
      "Instructions for updating:\n",
      "Use `tf.global_variables_initializer` instead.\n"
     ]
    },
    {
     "name": "stderr",
     "output_type": "stream",
     "text": [
      "[2017-03-21 11:40:36,442] From <ipython-input-41-cc90cc46b589>:30: initialize_all_variables (from tensorflow.python.ops.variables) is deprecated and will be removed after 2017-03-02.\n",
      "Instructions for updating:\n",
      "Use `tf.global_variables_initializer` instead.\n"
     ]
    },
    {
     "name": "stdout",
     "output_type": "stream",
     "text": [
      "\n",
      "episode:  0 Evaluation Average Reward: -25.5\n",
      "episode:  100 Evaluation Average Reward: 17.5\n",
      "episode:  200 Evaluation Average Reward: -23.5\n",
      "episode:  300 Evaluation Average Reward: 51.5\n",
      "episode:  400 Evaluation Average Reward: -2.5\n",
      "episode:  500 Evaluation Average Reward: 9.0\n",
      "episode:  600 Evaluation Average Reward: 53.0\n",
      "episode:  700 Evaluation Average Reward: 56.5\n",
      "episode:  800 Evaluation Average Reward: 0.0\n",
      "episode:  900 Evaluation Average Reward: 62.0\n",
      "episode:  1000 Evaluation Average Reward: 96.5\n",
      "episode:  1100 Evaluation Average Reward: 90.0\n",
      "episode:  1200 Evaluation Average Reward: 87.5\n",
      "episode:  1300 Evaluation Average Reward: 58.5\n",
      "episode:  1400 Evaluation Average Reward: 76.0\n",
      "episode:  1500 Evaluation Average Reward: 127.5\n",
      "episode:  1600 Evaluation Average Reward: 92.0\n",
      "episode:  1700 Evaluation Average Reward: 122.5\n",
      "episode:  1800 Evaluation Average Reward: 55.0\n",
      "episode:  1900 Evaluation Average Reward: 66.5\n",
      "episode:  2000 Evaluation Average Reward: 67.0\n",
      "episode:  2100 Evaluation Average Reward: 109.0\n",
      "episode:  2200 Evaluation Average Reward: 103.5\n",
      "episode:  2300 Evaluation Average Reward: 119.5\n",
      "episode:  2400 Evaluation Average Reward: -13.0\n",
      "episode:  2500 Evaluation Average Reward: 122.5\n",
      "episode:  2600 Evaluation Average Reward: 141.5\n",
      "episode:  2700 Evaluation Average Reward: 81.5\n",
      "episode:  2800 Evaluation Average Reward: 82.0\n",
      "episode:  2900 Evaluation Average Reward: 53.5\n",
      "episode:  3000 Evaluation Average Reward: 144.0\n",
      "episode:  3100 Evaluation Average Reward: 106.5\n",
      "episode:  3200 Evaluation Average Reward: 81.5\n",
      "episode:  3300 Evaluation Average Reward: 141.5\n",
      "episode:  3400 Evaluation Average Reward: 4.5\n",
      "episode:  3500 Evaluation Average Reward: 131.0\n",
      "episode:  3600 Evaluation Average Reward: 57.0\n",
      "episode:  3700 Evaluation Average Reward: 138.5\n",
      "episode:  3800 Evaluation Average Reward: 144.0\n",
      "episode:  3900 Evaluation Average Reward: 95.0\n",
      "episode:  4000 Evaluation Average Reward: 59.5\n",
      "episode:  4100 Evaluation Average Reward: 98.5\n",
      "episode:  4200 Evaluation Average Reward: 108.5\n",
      "episode:  4300 Evaluation Average Reward: 122.5\n",
      "episode:  4400 Evaluation Average Reward: 80.5\n",
      "episode:  4500 Evaluation Average Reward: 150.0\n",
      "episode:  4600 Evaluation Average Reward: 116.0\n",
      "episode:  4700 Evaluation Average Reward: 136.0\n",
      "episode:  4800 Evaluation Average Reward: 95.5\n",
      "episode:  4900 Evaluation Average Reward: 34.0\n",
      "episode:  5000 Evaluation Average Reward: 37.5\n",
      "episode:  5100 Evaluation Average Reward: 151.0\n",
      "episode:  5200 Evaluation Average Reward: 69.0\n",
      "episode:  5300 Evaluation Average Reward: 134.0\n",
      "episode:  5400 Evaluation Average Reward: 147.0\n",
      "episode:  5500 Evaluation Average Reward: 78.0\n",
      "episode:  5600 Evaluation Average Reward: 146.5\n",
      "episode:  5700 Evaluation Average Reward: 134.0\n",
      "episode:  5800 Evaluation Average Reward: 72.0\n",
      "episode:  5900 Evaluation Average Reward: 132.5\n",
      "episode:  6000 Evaluation Average Reward: 132.0\n",
      "episode:  6100 Evaluation Average Reward: 131.5\n",
      "episode:  6200 Evaluation Average Reward: 79.0\n",
      "episode:  6300 Evaluation Average Reward: 130.5\n",
      "episode:  6400 Evaluation Average Reward: 128.5\n",
      "episode:  6500 Evaluation Average Reward: 148.0\n",
      "episode:  6600 Evaluation Average Reward: 53.5\n",
      "episode:  6700 Evaluation Average Reward: 31.5\n",
      "episode:  6800 Evaluation Average Reward: 36.0\n",
      "episode:  6900 Evaluation Average Reward: 105.0\n",
      "episode:  7000 Evaluation Average Reward: 120.5\n",
      "episode:  7100 Evaluation Average Reward: 145.5\n",
      "episode:  7200 Evaluation Average Reward: 149.0\n",
      "episode:  7300 Evaluation Average Reward: 131.5\n",
      "episode:  7400 Evaluation Average Reward: 141.0\n",
      "episode:  7500 Evaluation Average Reward: 120.0\n",
      "episode:  7600 Evaluation Average Reward: 147.0\n",
      "episode:  7700 Evaluation Average Reward: 149.5\n",
      "episode:  7800 Evaluation Average Reward: 137.0\n",
      "episode:  7900 Evaluation Average Reward: 146.5\n",
      "episode:  8000 Evaluation Average Reward: 119.5\n",
      "episode:  8100 Evaluation Average Reward: 164.5\n",
      "episode:  8200 Evaluation Average Reward: 163.5\n",
      "episode:  8300 Evaluation Average Reward: 152.5\n",
      "episode:  8400 Evaluation Average Reward: 158.5\n",
      "episode:  8500 Evaluation Average Reward: 184.0\n",
      "episode:  8600 Evaluation Average Reward: 74.5\n",
      "episode:  8700 Evaluation Average Reward: 186.5\n",
      "episode:  8800 Evaluation Average Reward: 108.5\n",
      "episode:  8900 Evaluation Average Reward: 149.0\n",
      "episode:  9000 Evaluation Average Reward: 143.5\n",
      "episode:  9100 Evaluation Average Reward: 203.5\n",
      "\n"
     ]
    }
   ],
   "source": [
    "# Hyper Parameters for DQN\n",
    "GAMMA = 0.9 # discount factor for target Q\n",
    "INITIAL_EPSILON = 0.5 # starting value of epsilon\n",
    "FINAL_EPSILON = 0.01 # final value of epsilon\n",
    "REPLAY_SIZE = 10000 # experience replay buffer size\n",
    "BATCH_SIZE = 32 # size of minibatch\n",
    "\n",
    "class DQN():\n",
    "  \n",
    "    def __init__(self, env):\n",
    "        # init experience replay\n",
    "        self.replay_buffer = deque()\n",
    "\n",
    "        # init some parameters\n",
    "        self.time_step = 0\n",
    "        self.epsilon = INITIAL_EPSILON\n",
    "    \n",
    "        #self.state_dim = env.observation_space.shape[0]\n",
    "        #self.action_dim = env.action_space.n\n",
    "    \n",
    "        self.state_dim = day_len\n",
    "        self.action_dim = 3\n",
    "\n",
    "\n",
    "        self.create_Q_network()\n",
    "        self.create_training_method()\n",
    "\n",
    "        # Init session\n",
    "        self.session = tf.InteractiveSession()\n",
    "        self.session.run(tf.initialize_all_variables())\n",
    "\n",
    "    def create_Q_network(self):\n",
    "        # network weights\n",
    "        W1 = self.weight_variable([self.state_dim, 20])\n",
    "        b1 = self.bias_variable([20])\n",
    "        W2 = self.weight_variable([20, self.action_dim])\n",
    "        b2 = self.bias_variable([self.action_dim])\n",
    "        # input layer\n",
    "        self.state_input = tf.placeholder(\"float\",[None,self.state_dim])\n",
    "        # hidden layers activation function\n",
    "        h_layer = tf.nn.relu(tf.matmul(self.state_input,W1) + b1)\n",
    "        # Q Value layer\n",
    "        self.Q_value = tf.matmul(h_layer,W2) + b2\n",
    "    \n",
    "    def create_training_method(self):\n",
    "        self.action_input = tf.placeholder(\"float\",[None,self.action_dim])\n",
    "        \n",
    "        self.y_input = tf.placeholder(\"float\",[None])\n",
    "        Q_action = tf.reduce_sum(tf.multiply(self.Q_value,self.action_input),reduction_indices = 1)\n",
    "        self.cost = tf.reduce_mean(tf.square(self.y_input - Q_action))\n",
    "        #self.optimizer = tf.train.AdamOptimizer(0.0001).minimize(self.cost)\n",
    "        self.optimizer = tf.train.RMSPropOptimizer(0.001,0.1).minimize(self.cost)\n",
    "    \n",
    "    def perceive(self,state,action,reward,next_state,done):\n",
    "        one_hot_action = np.zeros(self.action_dim)\n",
    "        one_hot_action[action] = 1\n",
    "        self.replay_buffer.append((state,one_hot_action,reward,next_state,done))\n",
    "\n",
    "        if len(self.replay_buffer) > REPLAY_SIZE:\n",
    "            self.replay_buffer.popleft()\n",
    "\n",
    "        if len(self.replay_buffer) > BATCH_SIZE:\n",
    "            self.train_Q_network()\n",
    "        \n",
    "    def train_Q_network(self):\n",
    "        self.time_step += 1\n",
    "\n",
    "        # Step 1: obtain random minibatch from replay memory\n",
    "        minibatch = random.sample(self.replay_buffer,BATCH_SIZE)\n",
    "        state_batch = [data[0] for data in minibatch]\n",
    "        action_batch = [data[1] for data in minibatch]\n",
    "        reward_batch = [data[2] for data in minibatch]\n",
    "        next_state_batch = [data[3] for data in minibatch]\n",
    "\n",
    "        # Step 2: calculate y\n",
    "        y_batch = []\n",
    "        Q_value_batch = self.Q_value.eval(feed_dict={self.state_input:next_state_batch})\n",
    "\n",
    "        for i in range(0,BATCH_SIZE):\n",
    "            done = minibatch[i][4]\n",
    "            if done:\n",
    "                y_batch.append(reward_batch[i])\n",
    "            else :\n",
    "                y_batch.append(reward_batch[i] + GAMMA * np.max(Q_value_batch[i]))\n",
    "\n",
    "        self.optimizer.run(feed_dict={\n",
    "          self.y_input:y_batch,\n",
    "          self.action_input:action_batch,\n",
    "          self.state_input:state_batch\n",
    "          })\n",
    "    \n",
    "    def egreedy_action(self,state):\n",
    "        Q_value = self.Q_value.eval(feed_dict = {\n",
    "          self.state_input:[state]})[0]\n",
    "        if random.random() <= self.epsilon:\n",
    "            return random.randint(0,self.action_dim - 1)\n",
    "        else:\n",
    "            return np.argmax(Q_value)\n",
    "\n",
    "        self.epsilon -= (INITIAL_EPSILON - FINAL_EPSILON)/10000\n",
    "\n",
    "\n",
    "    def action(self,state):\n",
    "        return np.argmax(self.Q_value.eval(feed_dict = {\n",
    "          self.state_input:[state]})[0])\n",
    "\n",
    "\n",
    "    def weight_variable(self,shape):\n",
    "        initial = tf.truncated_normal(shape)\n",
    "        return tf.Variable(initial)\n",
    "\n",
    "    def bias_variable(self,shape):\n",
    "        initial = tf.constant(0.01, shape = shape)\n",
    "        return tf.Variable(initial)\n",
    "    \n",
    "    \n",
    "# ---------------------------------------------------------\n",
    " # Hyper Parameters\n",
    "ENV_NAME = 'CartPole-v0'\n",
    "EPISODE = 10000 # Episode limitation\n",
    "STEP = 1000   #300 # Step limitation in an episode\n",
    "TEST = 100 # The number of experiment test every 100 episode\n",
    "\n",
    "\n",
    "def main():\n",
    "\n",
    "    # initialize OpenAI Gym env and dqn agent\n",
    "    #env = gym.make(ENV_NAME)\n",
    "    env = TWStock(my_train) \n",
    "    agent = DQN(env)\n",
    "\n",
    "    print ''\n",
    "    for episode in xrange(EPISODE):\n",
    "    \n",
    "        # initialize task\n",
    "        state = env.reset()\n",
    "\n",
    "        # Train\n",
    "        for step in xrange(STEP):\n",
    "            action = agent.egreedy_action(state) # e-greedy action for trai\n",
    "        \n",
    "            next_state,reward,done,_ = env.step(action)\n",
    "    \n",
    "          # Define reward for agent\n",
    "            reward_agent = -1 if done else 0.1\n",
    "            agent.perceive(state,action,reward,next_state,done)\n",
    "            state = next_state\n",
    "            if done:\n",
    "                break\n",
    " \n",
    "        # Test every 100 episodes\n",
    "        if episode % 100 == 0:\n",
    "            total_reward = 0\n",
    "\n",
    "            for i in xrange(TEST):\n",
    "                state = env.reset()\n",
    "\n",
    "                for j in xrange(STEP):\n",
    "                    env.render()\n",
    "                    action = agent.action(state)   # direct action for test\n",
    "                    state,reward,done,_ = env.step(action)\n",
    "                    total_reward += reward\n",
    "                    if done:\n",
    "                        break\n",
    "\n",
    "            ave_reward = total_reward/TEST\n",
    "            print 'episode: ',episode,'Evaluation Average Reward:',ave_reward\n",
    "            if ave_reward >= 200:\n",
    "                print '' \n",
    "                break\n",
    "    \n",
    "\n",
    "if __name__ == '__main__':\n",
    "    main()\n"
   ]
  },
  {
   "cell_type": "code",
   "execution_count": 38,
   "metadata": {
    "collapsed": false
   },
   "outputs": [
    {
     "name": "stdout",
     "output_type": "stream",
     "text": [
      "1.0.0\n"
     ]
    }
   ],
   "source": [
    "print(tf.__version__)"
   ]
  },
  {
   "cell_type": "code",
   "execution_count": null,
   "metadata": {
    "collapsed": true
   },
   "outputs": [],
   "source": []
  }
 ],
 "metadata": {
  "kernelspec": {
   "display_name": "Python 2",
   "language": "python",
   "name": "python2"
  },
  "language_info": {
   "codemirror_mode": {
    "name": "ipython",
    "version": 2
   },
   "file_extension": ".py",
   "mimetype": "text/x-python",
   "name": "python",
   "nbconvert_exporter": "python",
   "pygments_lexer": "ipython2",
   "version": "2.7.11"
  }
 },
 "nbformat": 4,
 "nbformat_minor": 2
}
