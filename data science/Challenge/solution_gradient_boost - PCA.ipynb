{
 "cells": [
  {
   "cell_type": "code",
   "execution_count": 113,
   "metadata": {
    "collapsed": true
   },
   "outputs": [],
   "source": [
    "import pandas as pd\n",
    "import numpy as np\n",
    "import matplotlib.pyplot as plt\n",
    "%matplotlib inline\n",
    "import seaborn as sb\n",
    "pd.set_option(\"max.columns\", 100)\n",
    "pd.set_option(\"max.colwidth\", 100)"
   ]
  },
  {
   "cell_type": "code",
   "execution_count": 114,
   "metadata": {
    "collapsed": true
   },
   "outputs": [],
   "source": [
    "df = pd.read_csv(\"loan_training_data.csv\")"
   ]
  },
  {
   "cell_type": "code",
   "execution_count": 115,
   "metadata": {
    "collapsed": false
   },
   "outputs": [
    {
     "data": {
      "text/html": [
       "<div>\n",
       "<table border=\"1\" class=\"dataframe\">\n",
       "  <thead>\n",
       "    <tr style=\"text-align: right;\">\n",
       "      <th></th>\n",
       "      <th>dtypes</th>\n",
       "      <th>name</th>\n",
       "      <th>description</th>\n",
       "    </tr>\n",
       "  </thead>\n",
       "  <tbody>\n",
       "    <tr>\n",
       "      <th>0</th>\n",
       "      <td>float64</td>\n",
       "      <td>loan_amnt</td>\n",
       "      <td>The listed amount of the loan applied for by the borrower. If at some point in time, the credit ...</td>\n",
       "    </tr>\n",
       "    <tr>\n",
       "      <th>1</th>\n",
       "      <td>object</td>\n",
       "      <td>term</td>\n",
       "      <td>The number of payments on the loan. Values are in months and can be either 36 or 60.</td>\n",
       "    </tr>\n",
       "    <tr>\n",
       "      <th>2</th>\n",
       "      <td>float64</td>\n",
       "      <td>installment</td>\n",
       "      <td>The monthly payment owed by the borrower if the loan originates.</td>\n",
       "    </tr>\n",
       "    <tr>\n",
       "      <th>3</th>\n",
       "      <td>object</td>\n",
       "      <td>grade</td>\n",
       "      <td>LC assigned loan grade</td>\n",
       "    </tr>\n",
       "    <tr>\n",
       "      <th>4</th>\n",
       "      <td>object</td>\n",
       "      <td>emp_length</td>\n",
       "      <td>Employment length in years. Possible values are between 0 and 10 where 0 means less than one yea...</td>\n",
       "    </tr>\n",
       "    <tr>\n",
       "      <th>5</th>\n",
       "      <td>object</td>\n",
       "      <td>home_ownership</td>\n",
       "      <td>The home ownership status provided by the borrower during registration or obtained from the cred...</td>\n",
       "    </tr>\n",
       "    <tr>\n",
       "      <th>6</th>\n",
       "      <td>float64</td>\n",
       "      <td>annual_inc</td>\n",
       "      <td>The self-reported annual income provided by the borrower during registration.</td>\n",
       "    </tr>\n",
       "    <tr>\n",
       "      <th>7</th>\n",
       "      <td>object</td>\n",
       "      <td>verification_status</td>\n",
       "      <td>Indicates if income was verified by LC, not verified, or if the income source was verified</td>\n",
       "    </tr>\n",
       "    <tr>\n",
       "      <th>8</th>\n",
       "      <td>object</td>\n",
       "      <td>loan_status</td>\n",
       "      <td>Current status of the loan</td>\n",
       "    </tr>\n",
       "    <tr>\n",
       "      <th>9</th>\n",
       "      <td>object</td>\n",
       "      <td>purpose</td>\n",
       "      <td>A category provided by the borrower for the loan request.</td>\n",
       "    </tr>\n",
       "    <tr>\n",
       "      <th>10</th>\n",
       "      <td>float64</td>\n",
       "      <td>dti</td>\n",
       "      <td>A ratio calculated using the borrower’s total monthly debt payments on the total debt obligation...</td>\n",
       "    </tr>\n",
       "    <tr>\n",
       "      <th>11</th>\n",
       "      <td>float64</td>\n",
       "      <td>delinq_2yrs</td>\n",
       "      <td>The number of 30+ days past-due incidences of delinquency in the borrower's credit file for the ...</td>\n",
       "    </tr>\n",
       "    <tr>\n",
       "      <th>12</th>\n",
       "      <td>float64</td>\n",
       "      <td>open_acc</td>\n",
       "      <td>The number of open credit lines in the borrower's credit file.</td>\n",
       "    </tr>\n",
       "    <tr>\n",
       "      <th>13</th>\n",
       "      <td>float64</td>\n",
       "      <td>revol_bal</td>\n",
       "      <td>Total credit revolving balance</td>\n",
       "    </tr>\n",
       "    <tr>\n",
       "      <th>14</th>\n",
       "      <td>float64</td>\n",
       "      <td>total_acc</td>\n",
       "      <td>The total number of credit lines currently in the borrower's credit file</td>\n",
       "    </tr>\n",
       "    <tr>\n",
       "      <th>15</th>\n",
       "      <td>float64</td>\n",
       "      <td>tot_coll_amt</td>\n",
       "      <td>Total collection amounts ever owed</td>\n",
       "    </tr>\n",
       "    <tr>\n",
       "      <th>16</th>\n",
       "      <td>float64</td>\n",
       "      <td>tot_cur_bal</td>\n",
       "      <td>Total current balance of all accounts</td>\n",
       "    </tr>\n",
       "    <tr>\n",
       "      <th>17</th>\n",
       "      <td>float64</td>\n",
       "      <td>total_rev_hi_lim</td>\n",
       "      <td>Total revolving high credit/credit limit</td>\n",
       "    </tr>\n",
       "    <tr>\n",
       "      <th>18</th>\n",
       "      <td>float64</td>\n",
       "      <td>avg_cur_bal</td>\n",
       "      <td>Average current balance of all accounts</td>\n",
       "    </tr>\n",
       "    <tr>\n",
       "      <th>19</th>\n",
       "      <td>float64</td>\n",
       "      <td>bc_util</td>\n",
       "      <td>Ratio of total current balance to high credit/credit limit for all bankcard accounts.</td>\n",
       "    </tr>\n",
       "    <tr>\n",
       "      <th>20</th>\n",
       "      <td>float64</td>\n",
       "      <td>mort_acc</td>\n",
       "      <td>Number of mortgage accounts.</td>\n",
       "    </tr>\n",
       "    <tr>\n",
       "      <th>21</th>\n",
       "      <td>float64</td>\n",
       "      <td>num_accts_ever_120_pd</td>\n",
       "      <td>Number of accounts ever 120 or more days past due</td>\n",
       "    </tr>\n",
       "    <tr>\n",
       "      <th>22</th>\n",
       "      <td>float64</td>\n",
       "      <td>num_actv_bc_tl</td>\n",
       "      <td>Number of currently active bankcard accounts</td>\n",
       "    </tr>\n",
       "    <tr>\n",
       "      <th>23</th>\n",
       "      <td>float64</td>\n",
       "      <td>num_actv_rev_tl</td>\n",
       "      <td>Number of currently active revolving trades</td>\n",
       "    </tr>\n",
       "    <tr>\n",
       "      <th>24</th>\n",
       "      <td>float64</td>\n",
       "      <td>num_bc_sats</td>\n",
       "      <td>Number of satisfactory bankcard accounts</td>\n",
       "    </tr>\n",
       "    <tr>\n",
       "      <th>25</th>\n",
       "      <td>float64</td>\n",
       "      <td>num_bc_tl</td>\n",
       "      <td>Number of bankcard accounts</td>\n",
       "    </tr>\n",
       "    <tr>\n",
       "      <th>26</th>\n",
       "      <td>float64</td>\n",
       "      <td>num_rev_tl_bal_gt_0</td>\n",
       "      <td>Number of revolving trades with balance &gt;0</td>\n",
       "    </tr>\n",
       "    <tr>\n",
       "      <th>27</th>\n",
       "      <td>float64</td>\n",
       "      <td>num_tl_90g_dpd_24m</td>\n",
       "      <td>Number of accounts 90 or more days past due in last 24 months</td>\n",
       "    </tr>\n",
       "    <tr>\n",
       "      <th>28</th>\n",
       "      <td>float64</td>\n",
       "      <td>num_tl_op_past_12m</td>\n",
       "      <td>Number of accounts opened in past 12 months</td>\n",
       "    </tr>\n",
       "    <tr>\n",
       "      <th>29</th>\n",
       "      <td>float64</td>\n",
       "      <td>total_bal_ex_mort</td>\n",
       "      <td>Total credit balance excluding mortgage</td>\n",
       "    </tr>\n",
       "    <tr>\n",
       "      <th>30</th>\n",
       "      <td>float64</td>\n",
       "      <td>total_bc_limit</td>\n",
       "      <td>Total bankcard high credit/credit limit</td>\n",
       "    </tr>\n",
       "    <tr>\n",
       "      <th>31</th>\n",
       "      <td>float64</td>\n",
       "      <td>total_il_high_credit_limit</td>\n",
       "      <td>Total installment high credit/credit limit</td>\n",
       "    </tr>\n",
       "    <tr>\n",
       "      <th>32</th>\n",
       "      <td>floa64</td>\n",
       "      <td>fico_average</td>\n",
       "      <td>The average of the fico high and low range scores</td>\n",
       "    </tr>\n",
       "  </tbody>\n",
       "</table>\n",
       "</div>"
      ],
      "text/plain": [
       "     dtypes                        name  \\\n",
       "0   float64                   loan_amnt   \n",
       "1    object                        term   \n",
       "2   float64                 installment   \n",
       "3    object                       grade   \n",
       "4    object                  emp_length   \n",
       "5    object              home_ownership   \n",
       "6   float64                  annual_inc   \n",
       "7    object         verification_status   \n",
       "8    object                 loan_status   \n",
       "9    object                     purpose   \n",
       "10  float64                         dti   \n",
       "11  float64                 delinq_2yrs   \n",
       "12  float64                    open_acc   \n",
       "13  float64                   revol_bal   \n",
       "14  float64                   total_acc   \n",
       "15  float64                tot_coll_amt   \n",
       "16  float64                 tot_cur_bal   \n",
       "17  float64            total_rev_hi_lim   \n",
       "18  float64                 avg_cur_bal   \n",
       "19  float64                     bc_util   \n",
       "20  float64                    mort_acc   \n",
       "21  float64       num_accts_ever_120_pd   \n",
       "22  float64              num_actv_bc_tl   \n",
       "23  float64             num_actv_rev_tl   \n",
       "24  float64                 num_bc_sats   \n",
       "25  float64                   num_bc_tl   \n",
       "26  float64         num_rev_tl_bal_gt_0   \n",
       "27  float64          num_tl_90g_dpd_24m   \n",
       "28  float64          num_tl_op_past_12m   \n",
       "29  float64           total_bal_ex_mort   \n",
       "30  float64              total_bc_limit   \n",
       "31  float64  total_il_high_credit_limit   \n",
       "32   floa64                fico_average   \n",
       "\n",
       "                                                                                            description  \n",
       "0   The listed amount of the loan applied for by the borrower. If at some point in time, the credit ...  \n",
       "1                  The number of payments on the loan. Values are in months and can be either 36 or 60.  \n",
       "2                                      The monthly payment owed by the borrower if the loan originates.  \n",
       "3                                                                                LC assigned loan grade  \n",
       "4   Employment length in years. Possible values are between 0 and 10 where 0 means less than one yea...  \n",
       "5   The home ownership status provided by the borrower during registration or obtained from the cred...  \n",
       "6                         The self-reported annual income provided by the borrower during registration.  \n",
       "7            Indicates if income was verified by LC, not verified, or if the income source was verified  \n",
       "8                                                                            Current status of the loan  \n",
       "9                                            A category provided by the borrower for the loan request.   \n",
       "10  A ratio calculated using the borrower’s total monthly debt payments on the total debt obligation...  \n",
       "11  The number of 30+ days past-due incidences of delinquency in the borrower's credit file for the ...  \n",
       "12                                       The number of open credit lines in the borrower's credit file.  \n",
       "13                                                                       Total credit revolving balance  \n",
       "14                             The total number of credit lines currently in the borrower's credit file  \n",
       "15                                                                   Total collection amounts ever owed  \n",
       "16                                                                Total current balance of all accounts  \n",
       "17                                                             Total revolving high credit/credit limit  \n",
       "18                                                              Average current balance of all accounts  \n",
       "19                Ratio of total current balance to high credit/credit limit for all bankcard accounts.  \n",
       "20                                                                         Number of mortgage accounts.  \n",
       "21                                                    Number of accounts ever 120 or more days past due  \n",
       "22                                                         Number of currently active bankcard accounts  \n",
       "23                                                          Number of currently active revolving trades  \n",
       "24                                                             Number of satisfactory bankcard accounts  \n",
       "25                                                                          Number of bankcard accounts  \n",
       "26                                                           Number of revolving trades with balance >0  \n",
       "27                                        Number of accounts 90 or more days past due in last 24 months  \n",
       "28                                                          Number of accounts opened in past 12 months  \n",
       "29                                                              Total credit balance excluding mortgage  \n",
       "30                                                              Total bankcard high credit/credit limit  \n",
       "31                                                           Total installment high credit/credit limit  \n",
       "32                                                    The average of the fico high and low range scores  "
      ]
     },
     "execution_count": 115,
     "metadata": {},
     "output_type": "execute_result"
    }
   ],
   "source": [
    "data_dict = pd.read_csv(\"the_data_dictionary.csv\")\n",
    "data_dict"
   ]
  },
  {
   "cell_type": "code",
   "execution_count": 116,
   "metadata": {
    "collapsed": false
   },
   "outputs": [
    {
     "data": {
      "text/html": [
       "<div>\n",
       "<table border=\"1\" class=\"dataframe\">\n",
       "  <thead>\n",
       "    <tr style=\"text-align: right;\">\n",
       "      <th></th>\n",
       "      <th>loan_amnt</th>\n",
       "      <th>term</th>\n",
       "      <th>installment</th>\n",
       "      <th>grade</th>\n",
       "      <th>emp_length</th>\n",
       "      <th>home_ownership</th>\n",
       "      <th>annual_inc</th>\n",
       "      <th>verification_status</th>\n",
       "      <th>loan_status</th>\n",
       "      <th>purpose</th>\n",
       "      <th>dti</th>\n",
       "      <th>delinq_2yrs</th>\n",
       "      <th>open_acc</th>\n",
       "      <th>revol_bal</th>\n",
       "      <th>total_acc</th>\n",
       "      <th>tot_coll_amt</th>\n",
       "      <th>tot_cur_bal</th>\n",
       "      <th>total_rev_hi_lim</th>\n",
       "      <th>avg_cur_bal</th>\n",
       "      <th>bc_util</th>\n",
       "      <th>mort_acc</th>\n",
       "      <th>num_accts_ever_120_pd</th>\n",
       "      <th>num_actv_bc_tl</th>\n",
       "      <th>num_actv_rev_tl</th>\n",
       "      <th>num_bc_sats</th>\n",
       "      <th>num_bc_tl</th>\n",
       "      <th>num_rev_tl_bal_gt_0</th>\n",
       "      <th>num_tl_90g_dpd_24m</th>\n",
       "      <th>num_tl_op_past_12m</th>\n",
       "      <th>total_bal_ex_mort</th>\n",
       "      <th>total_bc_limit</th>\n",
       "      <th>total_il_high_credit_limit</th>\n",
       "      <th>fico_average</th>\n",
       "    </tr>\n",
       "  </thead>\n",
       "  <tbody>\n",
       "    <tr>\n",
       "      <th>0</th>\n",
       "      <td>15000.0</td>\n",
       "      <td>36 months</td>\n",
       "      <td>485.14</td>\n",
       "      <td>B</td>\n",
       "      <td>9 years</td>\n",
       "      <td>MORTGAGE</td>\n",
       "      <td>125000.0</td>\n",
       "      <td>Not Verified</td>\n",
       "      <td>1</td>\n",
       "      <td>debt_consolidation</td>\n",
       "      <td>17.22</td>\n",
       "      <td>0.0</td>\n",
       "      <td>11.0</td>\n",
       "      <td>37651.0</td>\n",
       "      <td>24.0</td>\n",
       "      <td>0.0</td>\n",
       "      <td>87483.0</td>\n",
       "      <td>58300.0</td>\n",
       "      <td>7953.0</td>\n",
       "      <td>53.6</td>\n",
       "      <td>2.0</td>\n",
       "      <td>0.0</td>\n",
       "      <td>2.0</td>\n",
       "      <td>7.0</td>\n",
       "      <td>2.0</td>\n",
       "      <td>8.0</td>\n",
       "      <td>7.0</td>\n",
       "      <td>0.0</td>\n",
       "      <td>1.0</td>\n",
       "      <td>87483.0</td>\n",
       "      <td>8500.0</td>\n",
       "      <td>45764.0</td>\n",
       "      <td>687.0</td>\n",
       "    </tr>\n",
       "    <tr>\n",
       "      <th>1</th>\n",
       "      <td>12250.0</td>\n",
       "      <td>60 months</td>\n",
       "      <td>295.37</td>\n",
       "      <td>C</td>\n",
       "      <td>7 years</td>\n",
       "      <td>RENT</td>\n",
       "      <td>35000.0</td>\n",
       "      <td>Source Verified</td>\n",
       "      <td>0</td>\n",
       "      <td>credit_card</td>\n",
       "      <td>19.51</td>\n",
       "      <td>0.0</td>\n",
       "      <td>9.0</td>\n",
       "      <td>12681.0</td>\n",
       "      <td>19.0</td>\n",
       "      <td>0.0</td>\n",
       "      <td>13938.0</td>\n",
       "      <td>19345.0</td>\n",
       "      <td>1742.0</td>\n",
       "      <td>69.1</td>\n",
       "      <td>0.0</td>\n",
       "      <td>0.0</td>\n",
       "      <td>5.0</td>\n",
       "      <td>5.0</td>\n",
       "      <td>7.0</td>\n",
       "      <td>16.0</td>\n",
       "      <td>5.0</td>\n",
       "      <td>0.0</td>\n",
       "      <td>1.0</td>\n",
       "      <td>13938.0</td>\n",
       "      <td>18345.0</td>\n",
       "      <td>14793.0</td>\n",
       "      <td>722.0</td>\n",
       "    </tr>\n",
       "    <tr>\n",
       "      <th>2</th>\n",
       "      <td>17000.0</td>\n",
       "      <td>36 months</td>\n",
       "      <td>556.48</td>\n",
       "      <td>B</td>\n",
       "      <td>10+ years</td>\n",
       "      <td>MORTGAGE</td>\n",
       "      <td>67000.0</td>\n",
       "      <td>Source Verified</td>\n",
       "      <td>1</td>\n",
       "      <td>debt_consolidation</td>\n",
       "      <td>21.26</td>\n",
       "      <td>0.0</td>\n",
       "      <td>14.0</td>\n",
       "      <td>27320.0</td>\n",
       "      <td>33.0</td>\n",
       "      <td>0.0</td>\n",
       "      <td>43035.0</td>\n",
       "      <td>43500.0</td>\n",
       "      <td>3074.0</td>\n",
       "      <td>66.2</td>\n",
       "      <td>1.0</td>\n",
       "      <td>0.0</td>\n",
       "      <td>4.0</td>\n",
       "      <td>6.0</td>\n",
       "      <td>6.0</td>\n",
       "      <td>12.0</td>\n",
       "      <td>6.0</td>\n",
       "      <td>0.0</td>\n",
       "      <td>0.0</td>\n",
       "      <td>43035.0</td>\n",
       "      <td>31800.0</td>\n",
       "      <td>27657.0</td>\n",
       "      <td>747.0</td>\n",
       "    </tr>\n",
       "    <tr>\n",
       "      <th>3</th>\n",
       "      <td>8250.0</td>\n",
       "      <td>36 months</td>\n",
       "      <td>263.01</td>\n",
       "      <td>B</td>\n",
       "      <td>9 years</td>\n",
       "      <td>OWN</td>\n",
       "      <td>29000.0</td>\n",
       "      <td>Not Verified</td>\n",
       "      <td>1</td>\n",
       "      <td>debt_consolidation</td>\n",
       "      <td>24.34</td>\n",
       "      <td>0.0</td>\n",
       "      <td>14.0</td>\n",
       "      <td>8253.0</td>\n",
       "      <td>22.0</td>\n",
       "      <td>0.0</td>\n",
       "      <td>46863.0</td>\n",
       "      <td>13600.0</td>\n",
       "      <td>3347.0</td>\n",
       "      <td>71.8</td>\n",
       "      <td>0.0</td>\n",
       "      <td>0.0</td>\n",
       "      <td>4.0</td>\n",
       "      <td>5.0</td>\n",
       "      <td>4.0</td>\n",
       "      <td>4.0</td>\n",
       "      <td>5.0</td>\n",
       "      <td>0.0</td>\n",
       "      <td>0.0</td>\n",
       "      <td>46863.0</td>\n",
       "      <td>11400.0</td>\n",
       "      <td>40279.0</td>\n",
       "      <td>702.0</td>\n",
       "    </tr>\n",
       "    <tr>\n",
       "      <th>4</th>\n",
       "      <td>7125.0</td>\n",
       "      <td>36 months</td>\n",
       "      <td>256.06</td>\n",
       "      <td>D</td>\n",
       "      <td>9 years</td>\n",
       "      <td>RENT</td>\n",
       "      <td>87000.0</td>\n",
       "      <td>Source Verified</td>\n",
       "      <td>0</td>\n",
       "      <td>house</td>\n",
       "      <td>13.92</td>\n",
       "      <td>2.0</td>\n",
       "      <td>12.0</td>\n",
       "      <td>2426.0</td>\n",
       "      <td>19.0</td>\n",
       "      <td>1215.0</td>\n",
       "      <td>22318.0</td>\n",
       "      <td>5400.0</td>\n",
       "      <td>1860.0</td>\n",
       "      <td>47.2</td>\n",
       "      <td>0.0</td>\n",
       "      <td>0.0</td>\n",
       "      <td>5.0</td>\n",
       "      <td>7.0</td>\n",
       "      <td>7.0</td>\n",
       "      <td>8.0</td>\n",
       "      <td>8.0</td>\n",
       "      <td>0.0</td>\n",
       "      <td>2.0</td>\n",
       "      <td>22318.0</td>\n",
       "      <td>4700.0</td>\n",
       "      <td>26334.0</td>\n",
       "      <td>677.0</td>\n",
       "    </tr>\n",
       "  </tbody>\n",
       "</table>\n",
       "</div>"
      ],
      "text/plain": [
       "   loan_amnt        term  installment grade emp_length home_ownership  \\\n",
       "0    15000.0   36 months       485.14     B    9 years       MORTGAGE   \n",
       "1    12250.0   60 months       295.37     C    7 years           RENT   \n",
       "2    17000.0   36 months       556.48     B  10+ years       MORTGAGE   \n",
       "3     8250.0   36 months       263.01     B    9 years            OWN   \n",
       "4     7125.0   36 months       256.06     D    9 years           RENT   \n",
       "\n",
       "   annual_inc verification_status  loan_status             purpose    dti  \\\n",
       "0    125000.0        Not Verified            1  debt_consolidation  17.22   \n",
       "1     35000.0     Source Verified            0         credit_card  19.51   \n",
       "2     67000.0     Source Verified            1  debt_consolidation  21.26   \n",
       "3     29000.0        Not Verified            1  debt_consolidation  24.34   \n",
       "4     87000.0     Source Verified            0               house  13.92   \n",
       "\n",
       "   delinq_2yrs  open_acc  revol_bal  total_acc  tot_coll_amt  tot_cur_bal  \\\n",
       "0          0.0      11.0    37651.0       24.0           0.0      87483.0   \n",
       "1          0.0       9.0    12681.0       19.0           0.0      13938.0   \n",
       "2          0.0      14.0    27320.0       33.0           0.0      43035.0   \n",
       "3          0.0      14.0     8253.0       22.0           0.0      46863.0   \n",
       "4          2.0      12.0     2426.0       19.0        1215.0      22318.0   \n",
       "\n",
       "   total_rev_hi_lim  avg_cur_bal  bc_util  mort_acc  num_accts_ever_120_pd  \\\n",
       "0           58300.0       7953.0     53.6       2.0                    0.0   \n",
       "1           19345.0       1742.0     69.1       0.0                    0.0   \n",
       "2           43500.0       3074.0     66.2       1.0                    0.0   \n",
       "3           13600.0       3347.0     71.8       0.0                    0.0   \n",
       "4            5400.0       1860.0     47.2       0.0                    0.0   \n",
       "\n",
       "   num_actv_bc_tl  num_actv_rev_tl  num_bc_sats  num_bc_tl  \\\n",
       "0             2.0              7.0          2.0        8.0   \n",
       "1             5.0              5.0          7.0       16.0   \n",
       "2             4.0              6.0          6.0       12.0   \n",
       "3             4.0              5.0          4.0        4.0   \n",
       "4             5.0              7.0          7.0        8.0   \n",
       "\n",
       "   num_rev_tl_bal_gt_0  num_tl_90g_dpd_24m  num_tl_op_past_12m  \\\n",
       "0                  7.0                 0.0                 1.0   \n",
       "1                  5.0                 0.0                 1.0   \n",
       "2                  6.0                 0.0                 0.0   \n",
       "3                  5.0                 0.0                 0.0   \n",
       "4                  8.0                 0.0                 2.0   \n",
       "\n",
       "   total_bal_ex_mort  total_bc_limit  total_il_high_credit_limit  fico_average  \n",
       "0            87483.0          8500.0                     45764.0         687.0  \n",
       "1            13938.0         18345.0                     14793.0         722.0  \n",
       "2            43035.0         31800.0                     27657.0         747.0  \n",
       "3            46863.0         11400.0                     40279.0         702.0  \n",
       "4            22318.0          4700.0                     26334.0         677.0  "
      ]
     },
     "execution_count": 116,
     "metadata": {},
     "output_type": "execute_result"
    }
   ],
   "source": [
    "df.head()"
   ]
  },
  {
   "cell_type": "code",
   "execution_count": 119,
   "metadata": {
    "collapsed": false
   },
   "outputs": [
    {
     "data": {
      "text/plain": [
       "(100000L,)"
      ]
     },
     "execution_count": 119,
     "metadata": {},
     "output_type": "execute_result"
    }
   ],
   "source": [
    "X = df.drop(\"loan_status\", axis=1)\n",
    "y = df.loan_status\n",
    "y.shape"
   ]
  },
  {
   "cell_type": "code",
   "execution_count": 120,
   "metadata": {
    "collapsed": true
   },
   "outputs": [],
   "source": [
    "term_dummies = pd.get_dummies(X.term, prefix=\"term:\")\n",
    "grade_dummies = pd.get_dummies(X.grade, prefix=\"grade:\")\n",
    "home_dummies = pd.get_dummies(X.home_ownership, prefix=\"home:\")\n",
    "verified_dummies = pd.get_dummies(X.verification_status, prefix=\"verify:\")\n",
    "purpose_dummies = pd.get_dummies(X.purpose, prefix=\"purpose\")\n",
    "dummies = pd.concat([grade_dummies,home_dummies,purpose_dummies, term_dummies, verified_dummies], axis=1)\n",
    "X.drop([\"term\", \"grade\", \"home_ownership\", \"verification_status\", \"purpose\"], axis=1, inplace=True)\n",
    "X = pd.concat([X,dummies], axis=1)\n",
    "X[\"emp_length\"] = X.emp_length.str.replace(\" years\", \"\").str.replace(\" year\", \"\").str.replace(\"< 1\", \"0\").str.replace(\"+\", \"\").str.replace(\"n/a\", \"0\")\n",
    "X[\"emp_length\"] = X.emp_length.astype(float)"
   ]
  },
  {
   "cell_type": "code",
   "execution_count": 121,
   "metadata": {
    "collapsed": false
   },
   "outputs": [
    {
     "data": {
      "text/html": [
       "<div>\n",
       "<table border=\"1\" class=\"dataframe\">\n",
       "  <thead>\n",
       "    <tr style=\"text-align: right;\">\n",
       "      <th></th>\n",
       "      <th>loan_amnt</th>\n",
       "      <th>installment</th>\n",
       "      <th>emp_length</th>\n",
       "      <th>annual_inc</th>\n",
       "      <th>dti</th>\n",
       "      <th>delinq_2yrs</th>\n",
       "      <th>open_acc</th>\n",
       "      <th>revol_bal</th>\n",
       "      <th>total_acc</th>\n",
       "      <th>tot_coll_amt</th>\n",
       "      <th>tot_cur_bal</th>\n",
       "      <th>total_rev_hi_lim</th>\n",
       "      <th>avg_cur_bal</th>\n",
       "      <th>bc_util</th>\n",
       "      <th>mort_acc</th>\n",
       "      <th>num_accts_ever_120_pd</th>\n",
       "      <th>num_actv_bc_tl</th>\n",
       "      <th>num_actv_rev_tl</th>\n",
       "      <th>num_bc_sats</th>\n",
       "      <th>num_bc_tl</th>\n",
       "      <th>num_rev_tl_bal_gt_0</th>\n",
       "      <th>num_tl_90g_dpd_24m</th>\n",
       "      <th>num_tl_op_past_12m</th>\n",
       "      <th>total_bal_ex_mort</th>\n",
       "      <th>total_bc_limit</th>\n",
       "      <th>total_il_high_credit_limit</th>\n",
       "      <th>fico_average</th>\n",
       "      <th>grade:_A</th>\n",
       "      <th>grade:_B</th>\n",
       "      <th>grade:_C</th>\n",
       "      <th>grade:_D</th>\n",
       "      <th>grade:_E</th>\n",
       "      <th>grade:_F</th>\n",
       "      <th>grade:_G</th>\n",
       "      <th>home:_MORTGAGE</th>\n",
       "      <th>home:_NONE</th>\n",
       "      <th>home:_OTHER</th>\n",
       "      <th>home:_OWN</th>\n",
       "      <th>home:_RENT</th>\n",
       "      <th>purpose_car</th>\n",
       "      <th>purpose_credit_card</th>\n",
       "      <th>purpose_debt_consolidation</th>\n",
       "      <th>purpose_home_improvement</th>\n",
       "      <th>purpose_house</th>\n",
       "      <th>purpose_major_purchase</th>\n",
       "      <th>purpose_medical</th>\n",
       "      <th>purpose_moving</th>\n",
       "      <th>purpose_other</th>\n",
       "      <th>purpose_renewable_energy</th>\n",
       "      <th>purpose_small_business</th>\n",
       "      <th>purpose_vacation</th>\n",
       "      <th>purpose_wedding</th>\n",
       "      <th>term:_ 36 months</th>\n",
       "      <th>term:_ 60 months</th>\n",
       "      <th>verify:_Not Verified</th>\n",
       "      <th>verify:_Source Verified</th>\n",
       "      <th>verify:_Verified</th>\n",
       "    </tr>\n",
       "  </thead>\n",
       "  <tbody>\n",
       "    <tr>\n",
       "      <th>0</th>\n",
       "      <td>15000.0</td>\n",
       "      <td>485.14</td>\n",
       "      <td>9.0</td>\n",
       "      <td>125000.0</td>\n",
       "      <td>17.22</td>\n",
       "      <td>0.0</td>\n",
       "      <td>11.0</td>\n",
       "      <td>37651.0</td>\n",
       "      <td>24.0</td>\n",
       "      <td>0.0</td>\n",
       "      <td>87483.0</td>\n",
       "      <td>58300.0</td>\n",
       "      <td>7953.0</td>\n",
       "      <td>53.6</td>\n",
       "      <td>2.0</td>\n",
       "      <td>0.0</td>\n",
       "      <td>2.0</td>\n",
       "      <td>7.0</td>\n",
       "      <td>2.0</td>\n",
       "      <td>8.0</td>\n",
       "      <td>7.0</td>\n",
       "      <td>0.0</td>\n",
       "      <td>1.0</td>\n",
       "      <td>87483.0</td>\n",
       "      <td>8500.0</td>\n",
       "      <td>45764.0</td>\n",
       "      <td>687.0</td>\n",
       "      <td>0</td>\n",
       "      <td>1</td>\n",
       "      <td>0</td>\n",
       "      <td>0</td>\n",
       "      <td>0</td>\n",
       "      <td>0</td>\n",
       "      <td>0</td>\n",
       "      <td>1</td>\n",
       "      <td>0</td>\n",
       "      <td>0</td>\n",
       "      <td>0</td>\n",
       "      <td>0</td>\n",
       "      <td>0</td>\n",
       "      <td>0</td>\n",
       "      <td>1</td>\n",
       "      <td>0</td>\n",
       "      <td>0</td>\n",
       "      <td>0</td>\n",
       "      <td>0</td>\n",
       "      <td>0</td>\n",
       "      <td>0</td>\n",
       "      <td>0</td>\n",
       "      <td>0</td>\n",
       "      <td>0</td>\n",
       "      <td>0</td>\n",
       "      <td>1</td>\n",
       "      <td>0</td>\n",
       "      <td>1</td>\n",
       "      <td>0</td>\n",
       "      <td>0</td>\n",
       "    </tr>\n",
       "    <tr>\n",
       "      <th>1</th>\n",
       "      <td>12250.0</td>\n",
       "      <td>295.37</td>\n",
       "      <td>7.0</td>\n",
       "      <td>35000.0</td>\n",
       "      <td>19.51</td>\n",
       "      <td>0.0</td>\n",
       "      <td>9.0</td>\n",
       "      <td>12681.0</td>\n",
       "      <td>19.0</td>\n",
       "      <td>0.0</td>\n",
       "      <td>13938.0</td>\n",
       "      <td>19345.0</td>\n",
       "      <td>1742.0</td>\n",
       "      <td>69.1</td>\n",
       "      <td>0.0</td>\n",
       "      <td>0.0</td>\n",
       "      <td>5.0</td>\n",
       "      <td>5.0</td>\n",
       "      <td>7.0</td>\n",
       "      <td>16.0</td>\n",
       "      <td>5.0</td>\n",
       "      <td>0.0</td>\n",
       "      <td>1.0</td>\n",
       "      <td>13938.0</td>\n",
       "      <td>18345.0</td>\n",
       "      <td>14793.0</td>\n",
       "      <td>722.0</td>\n",
       "      <td>0</td>\n",
       "      <td>0</td>\n",
       "      <td>1</td>\n",
       "      <td>0</td>\n",
       "      <td>0</td>\n",
       "      <td>0</td>\n",
       "      <td>0</td>\n",
       "      <td>0</td>\n",
       "      <td>0</td>\n",
       "      <td>0</td>\n",
       "      <td>0</td>\n",
       "      <td>1</td>\n",
       "      <td>0</td>\n",
       "      <td>1</td>\n",
       "      <td>0</td>\n",
       "      <td>0</td>\n",
       "      <td>0</td>\n",
       "      <td>0</td>\n",
       "      <td>0</td>\n",
       "      <td>0</td>\n",
       "      <td>0</td>\n",
       "      <td>0</td>\n",
       "      <td>0</td>\n",
       "      <td>0</td>\n",
       "      <td>0</td>\n",
       "      <td>0</td>\n",
       "      <td>1</td>\n",
       "      <td>0</td>\n",
       "      <td>1</td>\n",
       "      <td>0</td>\n",
       "    </tr>\n",
       "    <tr>\n",
       "      <th>2</th>\n",
       "      <td>17000.0</td>\n",
       "      <td>556.48</td>\n",
       "      <td>10.0</td>\n",
       "      <td>67000.0</td>\n",
       "      <td>21.26</td>\n",
       "      <td>0.0</td>\n",
       "      <td>14.0</td>\n",
       "      <td>27320.0</td>\n",
       "      <td>33.0</td>\n",
       "      <td>0.0</td>\n",
       "      <td>43035.0</td>\n",
       "      <td>43500.0</td>\n",
       "      <td>3074.0</td>\n",
       "      <td>66.2</td>\n",
       "      <td>1.0</td>\n",
       "      <td>0.0</td>\n",
       "      <td>4.0</td>\n",
       "      <td>6.0</td>\n",
       "      <td>6.0</td>\n",
       "      <td>12.0</td>\n",
       "      <td>6.0</td>\n",
       "      <td>0.0</td>\n",
       "      <td>0.0</td>\n",
       "      <td>43035.0</td>\n",
       "      <td>31800.0</td>\n",
       "      <td>27657.0</td>\n",
       "      <td>747.0</td>\n",
       "      <td>0</td>\n",
       "      <td>1</td>\n",
       "      <td>0</td>\n",
       "      <td>0</td>\n",
       "      <td>0</td>\n",
       "      <td>0</td>\n",
       "      <td>0</td>\n",
       "      <td>1</td>\n",
       "      <td>0</td>\n",
       "      <td>0</td>\n",
       "      <td>0</td>\n",
       "      <td>0</td>\n",
       "      <td>0</td>\n",
       "      <td>0</td>\n",
       "      <td>1</td>\n",
       "      <td>0</td>\n",
       "      <td>0</td>\n",
       "      <td>0</td>\n",
       "      <td>0</td>\n",
       "      <td>0</td>\n",
       "      <td>0</td>\n",
       "      <td>0</td>\n",
       "      <td>0</td>\n",
       "      <td>0</td>\n",
       "      <td>0</td>\n",
       "      <td>1</td>\n",
       "      <td>0</td>\n",
       "      <td>0</td>\n",
       "      <td>1</td>\n",
       "      <td>0</td>\n",
       "    </tr>\n",
       "    <tr>\n",
       "      <th>3</th>\n",
       "      <td>8250.0</td>\n",
       "      <td>263.01</td>\n",
       "      <td>9.0</td>\n",
       "      <td>29000.0</td>\n",
       "      <td>24.34</td>\n",
       "      <td>0.0</td>\n",
       "      <td>14.0</td>\n",
       "      <td>8253.0</td>\n",
       "      <td>22.0</td>\n",
       "      <td>0.0</td>\n",
       "      <td>46863.0</td>\n",
       "      <td>13600.0</td>\n",
       "      <td>3347.0</td>\n",
       "      <td>71.8</td>\n",
       "      <td>0.0</td>\n",
       "      <td>0.0</td>\n",
       "      <td>4.0</td>\n",
       "      <td>5.0</td>\n",
       "      <td>4.0</td>\n",
       "      <td>4.0</td>\n",
       "      <td>5.0</td>\n",
       "      <td>0.0</td>\n",
       "      <td>0.0</td>\n",
       "      <td>46863.0</td>\n",
       "      <td>11400.0</td>\n",
       "      <td>40279.0</td>\n",
       "      <td>702.0</td>\n",
       "      <td>0</td>\n",
       "      <td>1</td>\n",
       "      <td>0</td>\n",
       "      <td>0</td>\n",
       "      <td>0</td>\n",
       "      <td>0</td>\n",
       "      <td>0</td>\n",
       "      <td>0</td>\n",
       "      <td>0</td>\n",
       "      <td>0</td>\n",
       "      <td>1</td>\n",
       "      <td>0</td>\n",
       "      <td>0</td>\n",
       "      <td>0</td>\n",
       "      <td>1</td>\n",
       "      <td>0</td>\n",
       "      <td>0</td>\n",
       "      <td>0</td>\n",
       "      <td>0</td>\n",
       "      <td>0</td>\n",
       "      <td>0</td>\n",
       "      <td>0</td>\n",
       "      <td>0</td>\n",
       "      <td>0</td>\n",
       "      <td>0</td>\n",
       "      <td>1</td>\n",
       "      <td>0</td>\n",
       "      <td>1</td>\n",
       "      <td>0</td>\n",
       "      <td>0</td>\n",
       "    </tr>\n",
       "    <tr>\n",
       "      <th>4</th>\n",
       "      <td>7125.0</td>\n",
       "      <td>256.06</td>\n",
       "      <td>9.0</td>\n",
       "      <td>87000.0</td>\n",
       "      <td>13.92</td>\n",
       "      <td>2.0</td>\n",
       "      <td>12.0</td>\n",
       "      <td>2426.0</td>\n",
       "      <td>19.0</td>\n",
       "      <td>1215.0</td>\n",
       "      <td>22318.0</td>\n",
       "      <td>5400.0</td>\n",
       "      <td>1860.0</td>\n",
       "      <td>47.2</td>\n",
       "      <td>0.0</td>\n",
       "      <td>0.0</td>\n",
       "      <td>5.0</td>\n",
       "      <td>7.0</td>\n",
       "      <td>7.0</td>\n",
       "      <td>8.0</td>\n",
       "      <td>8.0</td>\n",
       "      <td>0.0</td>\n",
       "      <td>2.0</td>\n",
       "      <td>22318.0</td>\n",
       "      <td>4700.0</td>\n",
       "      <td>26334.0</td>\n",
       "      <td>677.0</td>\n",
       "      <td>0</td>\n",
       "      <td>0</td>\n",
       "      <td>0</td>\n",
       "      <td>1</td>\n",
       "      <td>0</td>\n",
       "      <td>0</td>\n",
       "      <td>0</td>\n",
       "      <td>0</td>\n",
       "      <td>0</td>\n",
       "      <td>0</td>\n",
       "      <td>0</td>\n",
       "      <td>1</td>\n",
       "      <td>0</td>\n",
       "      <td>0</td>\n",
       "      <td>0</td>\n",
       "      <td>0</td>\n",
       "      <td>1</td>\n",
       "      <td>0</td>\n",
       "      <td>0</td>\n",
       "      <td>0</td>\n",
       "      <td>0</td>\n",
       "      <td>0</td>\n",
       "      <td>0</td>\n",
       "      <td>0</td>\n",
       "      <td>0</td>\n",
       "      <td>1</td>\n",
       "      <td>0</td>\n",
       "      <td>0</td>\n",
       "      <td>1</td>\n",
       "      <td>0</td>\n",
       "    </tr>\n",
       "  </tbody>\n",
       "</table>\n",
       "</div>"
      ],
      "text/plain": [
       "   loan_amnt  installment  emp_length  annual_inc    dti  delinq_2yrs  \\\n",
       "0    15000.0       485.14         9.0    125000.0  17.22          0.0   \n",
       "1    12250.0       295.37         7.0     35000.0  19.51          0.0   \n",
       "2    17000.0       556.48        10.0     67000.0  21.26          0.0   \n",
       "3     8250.0       263.01         9.0     29000.0  24.34          0.0   \n",
       "4     7125.0       256.06         9.0     87000.0  13.92          2.0   \n",
       "\n",
       "   open_acc  revol_bal  total_acc  tot_coll_amt  tot_cur_bal  \\\n",
       "0      11.0    37651.0       24.0           0.0      87483.0   \n",
       "1       9.0    12681.0       19.0           0.0      13938.0   \n",
       "2      14.0    27320.0       33.0           0.0      43035.0   \n",
       "3      14.0     8253.0       22.0           0.0      46863.0   \n",
       "4      12.0     2426.0       19.0        1215.0      22318.0   \n",
       "\n",
       "   total_rev_hi_lim  avg_cur_bal  bc_util  mort_acc  num_accts_ever_120_pd  \\\n",
       "0           58300.0       7953.0     53.6       2.0                    0.0   \n",
       "1           19345.0       1742.0     69.1       0.0                    0.0   \n",
       "2           43500.0       3074.0     66.2       1.0                    0.0   \n",
       "3           13600.0       3347.0     71.8       0.0                    0.0   \n",
       "4            5400.0       1860.0     47.2       0.0                    0.0   \n",
       "\n",
       "   num_actv_bc_tl  num_actv_rev_tl  num_bc_sats  num_bc_tl  \\\n",
       "0             2.0              7.0          2.0        8.0   \n",
       "1             5.0              5.0          7.0       16.0   \n",
       "2             4.0              6.0          6.0       12.0   \n",
       "3             4.0              5.0          4.0        4.0   \n",
       "4             5.0              7.0          7.0        8.0   \n",
       "\n",
       "   num_rev_tl_bal_gt_0  num_tl_90g_dpd_24m  num_tl_op_past_12m  \\\n",
       "0                  7.0                 0.0                 1.0   \n",
       "1                  5.0                 0.0                 1.0   \n",
       "2                  6.0                 0.0                 0.0   \n",
       "3                  5.0                 0.0                 0.0   \n",
       "4                  8.0                 0.0                 2.0   \n",
       "\n",
       "   total_bal_ex_mort  total_bc_limit  total_il_high_credit_limit  \\\n",
       "0            87483.0          8500.0                     45764.0   \n",
       "1            13938.0         18345.0                     14793.0   \n",
       "2            43035.0         31800.0                     27657.0   \n",
       "3            46863.0         11400.0                     40279.0   \n",
       "4            22318.0          4700.0                     26334.0   \n",
       "\n",
       "   fico_average  grade:_A  grade:_B  grade:_C  grade:_D  grade:_E  grade:_F  \\\n",
       "0         687.0         0         1         0         0         0         0   \n",
       "1         722.0         0         0         1         0         0         0   \n",
       "2         747.0         0         1         0         0         0         0   \n",
       "3         702.0         0         1         0         0         0         0   \n",
       "4         677.0         0         0         0         1         0         0   \n",
       "\n",
       "   grade:_G  home:_MORTGAGE  home:_NONE  home:_OTHER  home:_OWN  home:_RENT  \\\n",
       "0         0               1           0            0          0           0   \n",
       "1         0               0           0            0          0           1   \n",
       "2         0               1           0            0          0           0   \n",
       "3         0               0           0            0          1           0   \n",
       "4         0               0           0            0          0           1   \n",
       "\n",
       "   purpose_car  purpose_credit_card  purpose_debt_consolidation  \\\n",
       "0            0                    0                           1   \n",
       "1            0                    1                           0   \n",
       "2            0                    0                           1   \n",
       "3            0                    0                           1   \n",
       "4            0                    0                           0   \n",
       "\n",
       "   purpose_home_improvement  purpose_house  purpose_major_purchase  \\\n",
       "0                         0              0                       0   \n",
       "1                         0              0                       0   \n",
       "2                         0              0                       0   \n",
       "3                         0              0                       0   \n",
       "4                         0              1                       0   \n",
       "\n",
       "   purpose_medical  purpose_moving  purpose_other  purpose_renewable_energy  \\\n",
       "0                0               0              0                         0   \n",
       "1                0               0              0                         0   \n",
       "2                0               0              0                         0   \n",
       "3                0               0              0                         0   \n",
       "4                0               0              0                         0   \n",
       "\n",
       "   purpose_small_business  purpose_vacation  purpose_wedding  \\\n",
       "0                       0                 0                0   \n",
       "1                       0                 0                0   \n",
       "2                       0                 0                0   \n",
       "3                       0                 0                0   \n",
       "4                       0                 0                0   \n",
       "\n",
       "   term:_ 36 months  term:_ 60 months  verify:_Not Verified  \\\n",
       "0                 1                 0                     1   \n",
       "1                 0                 1                     0   \n",
       "2                 1                 0                     0   \n",
       "3                 1                 0                     1   \n",
       "4                 1                 0                     0   \n",
       "\n",
       "   verify:_Source Verified  verify:_Verified  \n",
       "0                        0                 0  \n",
       "1                        1                 0  \n",
       "2                        1                 0  \n",
       "3                        0                 0  \n",
       "4                        1                 0  "
      ]
     },
     "execution_count": 121,
     "metadata": {},
     "output_type": "execute_result"
    }
   ],
   "source": [
    "X.head()"
   ]
  },
  {
   "cell_type": "code",
   "execution_count": 122,
   "metadata": {
    "collapsed": false
   },
   "outputs": [
    {
     "data": {
      "text/plain": [
       "5700000"
      ]
     },
     "execution_count": 122,
     "metadata": {},
     "output_type": "execute_result"
    }
   ],
   "source": [
    "np.size(X)"
   ]
  },
  {
   "cell_type": "code",
   "execution_count": 123,
   "metadata": {
    "collapsed": false
   },
   "outputs": [],
   "source": [
    "Xs_corr = X.corr()"
   ]
  },
  {
   "cell_type": "code",
   "execution_count": 124,
   "metadata": {
    "collapsed": true
   },
   "outputs": [],
   "source": [
    "from sklearn.preprocessing import StandardScaler\n",
    "scale = StandardScaler()\n",
    "Xs = scale.fit_transform(Xs_corr)"
   ]
  },
  {
   "cell_type": "code",
   "execution_count": 125,
   "metadata": {
    "collapsed": false
   },
   "outputs": [
    {
     "name": "stdout",
     "output_type": "stream",
     "text": [
      "Number of PCA components is: \n",
      "57\n",
      "\n",
      "======\n",
      "\n",
      "List of PCA components is:\n",
      "[[ -2.36176710e-01  -2.29989278e-01  -1.02350685e-01 ...,   1.56376386e-01\n",
      "   -2.62413719e-02  -1.34216016e-01]\n",
      " [ -5.75856460e-02  -4.90152800e-02  -3.31559034e-02 ...,   1.26254576e-04\n",
      "   -6.58775171e-03   5.53687601e-03]\n",
      " [ -1.44193560e-01  -1.04639970e-01  -3.95621939e-02 ...,   2.40750060e-01\n",
      "   -1.10777237e-01  -1.46130070e-01]\n",
      " ..., \n",
      " [  1.22698538e-12  -1.01399096e-12  -2.70009806e-14 ...,  -5.02927630e-01\n",
      "   -4.31263132e-01  -5.01647051e-01]\n",
      " [ -7.95857368e-12   6.44867337e-12  -6.01970611e-14 ...,   3.34228870e-01\n",
      "    2.86603043e-01   3.33377840e-01]\n",
      " [ -0.00000000e+00   1.70691461e-17   2.59770949e-16 ...,  -9.69345722e-05\n",
      "   -8.31219140e-05  -9.66877526e-05]]\n"
     ]
    }
   ],
   "source": [
    "## Fit the PCA and print the components\n",
    "from sklearn.decomposition import PCA\n",
    "Xs_pca = PCA().fit(Xs)\n",
    "print \"Number of PCA components is: \\n\", Xs_pca.n_components_\n",
    "print \"\\n======\\n\"\n",
    "print \"List of PCA components is:\\n\", Xs_pca.components_"
   ]
  },
  {
   "cell_type": "code",
   "execution_count": 126,
   "metadata": {
    "collapsed": false
   },
   "outputs": [
    {
     "data": {
      "text/plain": [
       "57"
      ]
     },
     "execution_count": 126,
     "metadata": {},
     "output_type": "execute_result"
    }
   ],
   "source": [
    "Xs_pcs = Xs_pca.transform(Xs)\n",
    "Xs_pcs\n",
    "np.size(Xs_pcs[1])"
   ]
  },
  {
   "cell_type": "code",
   "execution_count": 132,
   "metadata": {
    "collapsed": false
   },
   "outputs": [
    {
     "data": {
      "text/plain": [
       "(57, 58)"
      ]
     },
     "execution_count": 132,
     "metadata": {},
     "output_type": "execute_result"
    }
   ],
   "source": [
    "Xs_pcs_df = pd.DataFrame(Xs_pcs, columns=['PC'+str(i) for i in range(1, Xs_pcs.shape[1]+1)])\n",
    "Xs_pcs_df['loan_status'] = y\n",
    "Xs_pcs_df.head()\n",
    "Xs_pcs_df['loan_status']\n",
    "Xs_pcs_df.shape"
   ]
  },
  {
   "cell_type": "code",
   "execution_count": 21,
   "metadata": {
    "collapsed": false
   },
   "outputs": [
    {
     "data": {
      "image/png": "[encoded data removed]",
      "text/plain": [
       "<matplotlib.figure.Figure at 0x10743710>"
      ]
     },
     "metadata": {},
     "output_type": "display_data"
    }
   ],
   "source": [
    "fig, ax = plt.subplots(figsize=(8,6))\n",
    "ax.plot(range(1, Xs.shape[1]+1), Xs_pca.explained_variance_ratio_, lw=2)\n",
    "ax.scatter(range(1, Xs.shape[1]+1), Xs_pca.explained_variance_ratio_, s=100)\n",
    "ax.set_title('wine data: explained variance of components')\n",
    "ax.set_xlabel('principal component')\n",
    "ax.set_ylabel('explained variance')\n",
    "plt.show()"
   ]
  },
  {
   "cell_type": "code",
   "execution_count": 22,
   "metadata": {
    "collapsed": true
   },
   "outputs": [],
   "source": [
    "def horn_parallel_analysis(shape, iters=1000, percentile=95):\n",
    "    pca = PCA(n_components=shape[1])\n",
    "    eigenvals = []\n",
    "    for i in range(iters):\n",
    "        rdata = np.random.normal(0,1,size=shape)\n",
    "        pca.fit(rdata)\n",
    "        eigenvals.append(pca.explained_variance_)\n",
    "    eigenvals = np.array(eigenvals)\n",
    "    return np.percentile(eigenvals, percentile, axis=0)"
   ]
  },
  {
   "cell_type": "code",
   "execution_count": 23,
   "metadata": {
    "collapsed": false
   },
   "outputs": [
    {
     "data": {
      "text/plain": [
       "array([  4.09381639e+00,   3.66872607e+00,   3.37319356e+00,\n",
       "         3.14354164e+00,   2.95998603e+00,   2.77440932e+00,\n",
       "         2.62775418e+00,   2.47552783e+00,   2.33834453e+00,\n",
       "         2.21421991e+00,   2.09058517e+00,   1.97850432e+00,\n",
       "         1.87012606e+00,   1.77186649e+00,   1.67355182e+00,\n",
       "         1.57656057e+00,   1.49043404e+00,   1.40565676e+00,\n",
       "         1.32240507e+00,   1.24803408e+00,   1.17342199e+00,\n",
       "         1.10634844e+00,   1.03598904e+00,   9.75541519e-01,\n",
       "         9.07819560e-01,   8.45853214e-01,   7.87503091e-01,\n",
       "         7.36312920e-01,   6.83847239e-01,   6.36466981e-01,\n",
       "         5.91224841e-01,   5.45834411e-01,   5.03315911e-01,\n",
       "         4.62419818e-01,   4.20968570e-01,   3.82385478e-01,\n",
       "         3.48463031e-01,   3.11952459e-01,   2.80293689e-01,\n",
       "         2.50738538e-01,   2.24408153e-01,   1.97574467e-01,\n",
       "         1.72700957e-01,   1.49761850e-01,   1.29790286e-01,\n",
       "         1.08131574e-01,   9.15378830e-02,   7.65520572e-02,\n",
       "         6.11381916e-02,   4.76744483e-02,   3.64313657e-02,\n",
       "         2.61550301e-02,   1.73084748e-02,   1.08209505e-02,\n",
       "         5.18904476e-03,   1.85469899e-03,   7.49403593e-31])"
      ]
     },
     "execution_count": 23,
     "metadata": {},
     "output_type": "execute_result"
    }
   ],
   "source": [
    "Xs_pa = horn_parallel_analysis(Xs.shape, percentile=95)\n",
    "Xs_pa"
   ]
  },
  {
   "cell_type": "code",
   "execution_count": 24,
   "metadata": {
    "collapsed": false
   },
   "outputs": [
    {
     "data": {
      "image/png": "[encoded data removed]",
      "text/plain": [
       "<matplotlib.figure.Figure at 0x10887a90>"
      ]
     },
     "metadata": {},
     "output_type": "display_data"
    }
   ],
   "source": [
    "fig, ax = plt.subplots(figsize=(8,6))\n",
    "\n",
    "ax.plot(range(1, Xs.shape[1]+1), Xs_pca.explained_variance_, lw=2)\n",
    "ax.scatter(range(1, Xs.shape[1]+1), Xs_pca.explained_variance_, s=50)\n",
    "\n",
    "ax.plot(range(1, len(Xs_pa)+1), Xs_pa, lw=2, color='darkred')\n",
    "ax.scatter(range(1, len(Xs_pa)+1), Xs_pa, s=40, color='darkred')\n",
    "\n",
    "\n",
    "ax.set_title('Horns parallel analysis on wine data components')\n",
    "ax.set_xlabel('principal component')\n",
    "ax.set_ylabel('eigenvalue')\n",
    "plt.show()"
   ]
  },
  {
   "cell_type": "code",
   "execution_count": 38,
   "metadata": {
    "collapsed": false
   },
   "outputs": [
    {
     "data": {
      "text/plain": [
       "30"
      ]
     },
     "execution_count": 38,
     "metadata": {},
     "output_type": "execute_result"
    }
   ],
   "source": [
    "columns_ = Xs_pcs_df.columns.tolist()\n",
    "ypc = Xs_pcs_df.loan_status.values\n",
    "Xpc = Xs_pcs_df[[i for i in columns_ if i<'PC37']]\n",
    "Xpc = Xpc.values\n",
    "np.size(Xpc[0])"
   ]
  },
  {
   "cell_type": "code",
   "execution_count": 39,
   "metadata": {
    "collapsed": true
   },
   "outputs": [],
   "source": [
    "from sklearn.ensemble import GradientBoostingClassifier"
   ]
  },
  {
   "cell_type": "code",
   "execution_count": 40,
   "metadata": {
    "collapsed": true
   },
   "outputs": [],
   "source": [
    "model = GradientBoostingClassifier(random_state=42)"
   ]
  },
  {
   "cell_type": "code",
   "execution_count": 41,
   "metadata": {
    "collapsed": false
   },
   "outputs": [
    {
     "data": {
      "text/plain": [
       "GradientBoostingClassifier(criterion='friedman_mse', init=None,\n",
       "              learning_rate=0.1, loss='deviance', max_depth=3,\n",
       "              max_features=None, max_leaf_nodes=None,\n",
       "              min_impurity_split=1e-07, min_samples_leaf=1,\n",
       "              min_samples_split=2, min_weight_fraction_leaf=0.0,\n",
       "              n_estimators=100, presort='auto', random_state=42,\n",
       "              subsample=1.0, verbose=0, warm_start=False)"
      ]
     },
     "execution_count": 41,
     "metadata": {},
     "output_type": "execute_result"
    }
   ],
   "source": [
    "model.fit(Xpc, ypc)"
   ]
  },
  {
   "cell_type": "code",
   "execution_count": 53,
   "metadata": {
    "collapsed": true
   },
   "outputs": [],
   "source": [
    "ypc_prob_pred = model.predict_proba(Xpc)"
   ]
  },
  {
   "cell_type": "code",
   "execution_count": 60,
   "metadata": {
    "collapsed": false
   },
   "outputs": [],
   "source": [
    "#ypc_prob_pred"
   ]
  },
  {
   "cell_type": "code",
   "execution_count": 55,
   "metadata": {
    "collapsed": true
   },
   "outputs": [],
   "source": [
    "threshold_adjusted_preds = np.where(ypc_prob_pred>=0.5, 1, 0)"
   ]
  },
  {
   "cell_type": "code",
   "execution_count": 56,
   "metadata": {
    "collapsed": false
   },
   "outputs": [
    {
     "data": {
      "text/plain": [
       "array([1, 0, 1, 1, 0, 0, 1, 1, 1, 1, 0, 1, 1, 1, 1, 0, 0, 1, 1, 0, 1, 0, 1,\n",
       "       1, 1, 1, 0, 1, 1, 1, 1, 1, 1, 1, 1, 1, 0, 1, 0, 1, 0, 1, 1, 1, 1, 1,\n",
       "       1, 1, 1, 1, 1, 1, 1, 1, 1, 0, 1])"
      ]
     },
     "execution_count": 56,
     "metadata": {},
     "output_type": "execute_result"
    }
   ],
   "source": [
    "predictions = threshold_adjusted_preds[:,1]\n",
    "predictions"
   ]
  },
  {
   "cell_type": "code",
   "execution_count": 57,
   "metadata": {
    "collapsed": false
   },
   "outputs": [],
   "source": [
    "from sklearn.metrics import confusion_matrix\n",
    "#Profit calculator\n",
    "def profit_calculator(y_test, y_pred):\n",
    "    cm = confusion_matrix(y_test, y_pred)\n",
    "    tp = cm[1,1]\n",
    "    fp = cm[0,1]\n",
    "    return 100*tp - 1000*fp\n"
   ]
  },
  {
   "cell_type": "code",
   "execution_count": 58,
   "metadata": {
    "collapsed": false
   },
   "outputs": [
    {
     "data": {
      "text/plain": [
       "4400"
      ]
     },
     "execution_count": 58,
     "metadata": {},
     "output_type": "execute_result"
    }
   ],
   "source": [
    "profit_calculator(ypc, predictions)"
   ]
  },
  {
   "cell_type": "code",
   "execution_count": 59,
   "metadata": {
    "collapsed": true
   },
   "outputs": [],
   "source": [
    "#WITH TEST DATA"
   ]
  },
  {
   "cell_type": "code",
   "execution_count": 96,
   "metadata": {
    "collapsed": false
   },
   "outputs": [
    {
     "data": {
      "text/plain": [
       "(10000, 33)"
      ]
     },
     "execution_count": 96,
     "metadata": {},
     "output_type": "execute_result"
    }
   ],
   "source": [
    "dft = pd.read_csv(\"loan_testing_data.csv\").sample(frac=.2, random_state=1234)\n",
    "dft.shape"
   ]
  },
  {
   "cell_type": "code",
   "execution_count": 101,
   "metadata": {
    "collapsed": false
   },
   "outputs": [
    {
     "data": {
      "text/plain": [
       "(10000L,)"
      ]
     },
     "execution_count": 101,
     "metadata": {},
     "output_type": "execute_result"
    }
   ],
   "source": [
    "Xt = dft.drop(\"loan_status\", axis=1)\n",
    "yt = dft.loan_status\n",
    "\n",
    "Xt.shape\n",
    "yt.shape"
   ]
  },
  {
   "cell_type": "code",
   "execution_count": 102,
   "metadata": {
    "collapsed": true
   },
   "outputs": [],
   "source": [
    "term_dummies_t = pd.get_dummies(Xt.term, prefix=\"term:\")\n",
    "grade_dummies_t = pd.get_dummies(Xt.grade, prefix=\"grade:\")\n",
    "home_dummies_t = pd.get_dummies(Xt.home_ownership, prefix=\"home:\")\n",
    "verified_dummies_t = pd.get_dummies(Xt.verification_status, prefix=\"verify:\")\n",
    "purpose_dummies_t = pd.get_dummies(Xt.purpose, prefix=\"purpose\")\n",
    "dummies_t = pd.concat([grade_dummies_t,home_dummies_t,purpose_dummies_t, term_dummies_t, verified_dummies_t], axis=1)\n",
    "Xt.drop([\"term\", \"grade\", \"home_ownership\", \"verification_status\", \"purpose\"], axis=1, inplace=True)\n",
    "Xt = pd.concat([Xt,dummies_t], axis=1)\n",
    "Xt[\"emp_length\"] = Xt.emp_length.str.replace(\" years\", \"\").str.replace(\" year\", \"\").str.replace(\"< 1\", \"0\").str.replace(\"+\", \"\").str.replace(\"n/a\", \"0\")\n",
    "Xt[\"emp_length\"] = Xt.emp_length.astype(float)"
   ]
  },
  {
   "cell_type": "code",
   "execution_count": 103,
   "metadata": {
    "collapsed": false
   },
   "outputs": [],
   "source": [
    "for i in X.columns:\n",
    "    if i not in Xt.columns:\n",
    "        print i\n",
    "for i in X.columns:\n",
    "    if i not in Xt.columns:\n",
    "        X.drop(i, axis=1, inplace=True)"
   ]
  },
  {
   "cell_type": "code",
   "execution_count": 104,
   "metadata": {
    "collapsed": false
   },
   "outputs": [
    {
     "data": {
      "text/plain": [
       "56"
      ]
     },
     "execution_count": 104,
     "metadata": {},
     "output_type": "execute_result"
    }
   ],
   "source": [
    "import numpy as np\n",
    "np.size(X.columns)"
   ]
  },
  {
   "cell_type": "code",
   "execution_count": 105,
   "metadata": {
    "collapsed": false
   },
   "outputs": [
    {
     "data": {
      "text/plain": [
       "56"
      ]
     },
     "execution_count": 105,
     "metadata": {},
     "output_type": "execute_result"
    }
   ],
   "source": [
    "np.size(Xt.columns)"
   ]
  },
  {
   "cell_type": "code",
   "execution_count": 106,
   "metadata": {
    "collapsed": true
   },
   "outputs": [],
   "source": [
    "Xt_corr = Xt.corr()"
   ]
  },
  {
   "cell_type": "code",
   "execution_count": 107,
   "metadata": {
    "collapsed": false
   },
   "outputs": [],
   "source": [
    "from sklearn.preprocessing import StandardScaler\n",
    "scale = StandardScaler()\n",
    "Xs = scale.fit_transform(Xt_corr)\n",
    "Xts = scale.transform(Xt_corr)"
   ]
  },
  {
   "cell_type": "code",
   "execution_count": 108,
   "metadata": {
    "collapsed": false
   },
   "outputs": [
    {
     "name": "stdout",
     "output_type": "stream",
     "text": [
      "Number of PCA components is: \n",
      "56\n",
      "\n",
      "======\n",
      "\n",
      "List of PCA components is:\n",
      "[[ -2.36393041e-01  -2.31074047e-01  -1.04191560e-01 ...,   1.56923158e-01\n",
      "   -3.99366643e-02  -1.24442280e-01]\n",
      " [ -5.91395517e-02  -5.05707214e-02  -4.20973597e-02 ...,   8.37795576e-03\n",
      "   -1.08980931e-02   1.16167541e-03]\n",
      " [ -1.19978867e-01  -8.05951844e-02  -3.63977460e-02 ...,   2.25681329e-01\n",
      "   -1.09978589e-01  -1.32182078e-01]\n",
      " ..., \n",
      " [ -4.22903387e-13   3.52939433e-13  -5.73472139e-15 ...,   2.09101202e-01\n",
      "    1.82607364e-01   2.05075735e-01]\n",
      " [ -3.09892386e-13   2.58033153e-13  -2.43336996e-15 ...,   1.04211095e-01\n",
      "    9.10071929e-02   1.02204898e-01]\n",
      " [  0.00000000e+00  -2.81749186e-16  -1.69590228e-16 ...,   2.82232205e-03\n",
      "    2.46472418e-03   2.76798873e-03]]\n"
     ]
    }
   ],
   "source": [
    "## Fit the PCA and print the components\n",
    "from sklearn.decomposition import PCA\n",
    "Xs_pca = PCA().fit(Xts)\n",
    "print \"Number of PCA components is: \\n\", Xs_pca.n_components_\n",
    "print \"\\n======\\n\"\n",
    "print \"List of PCA components is:\\n\", Xs_pca.components_"
   ]
  },
  {
   "cell_type": "code",
   "execution_count": 109,
   "metadata": {
    "collapsed": false
   },
   "outputs": [
    {
     "data": {
      "text/plain": [
       "56"
      ]
     },
     "execution_count": 109,
     "metadata": {},
     "output_type": "execute_result"
    }
   ],
   "source": [
    "Xs_pcs = Xs_pca.transform(Xs)\n",
    "Xs_pcs\n",
    "np.size(Xs_pcs[1])"
   ]
  },
  {
   "cell_type": "code",
   "execution_count": 112,
   "metadata": {
    "collapsed": false
   },
   "outputs": [
    {
     "data": {
      "text/html": [
       "<div>\n",
       "<table border=\"1\" class=\"dataframe\">\n",
       "  <thead>\n",
       "    <tr style=\"text-align: right;\">\n",
       "      <th></th>\n",
       "      <th>PC1</th>\n",
       "      <th>PC2</th>\n",
       "      <th>PC3</th>\n",
       "      <th>PC4</th>\n",
       "      <th>PC5</th>\n",
       "      <th>PC6</th>\n",
       "      <th>PC7</th>\n",
       "      <th>PC8</th>\n",
       "      <th>PC9</th>\n",
       "      <th>PC10</th>\n",
       "      <th>PC11</th>\n",
       "      <th>PC12</th>\n",
       "      <th>PC13</th>\n",
       "      <th>PC14</th>\n",
       "      <th>PC15</th>\n",
       "      <th>PC16</th>\n",
       "      <th>PC17</th>\n",
       "      <th>PC18</th>\n",
       "      <th>PC19</th>\n",
       "      <th>PC20</th>\n",
       "      <th>PC21</th>\n",
       "      <th>PC22</th>\n",
       "      <th>PC23</th>\n",
       "      <th>PC24</th>\n",
       "      <th>PC25</th>\n",
       "      <th>PC26</th>\n",
       "      <th>PC27</th>\n",
       "      <th>PC28</th>\n",
       "      <th>PC29</th>\n",
       "      <th>PC30</th>\n",
       "      <th>PC31</th>\n",
       "      <th>PC32</th>\n",
       "      <th>PC33</th>\n",
       "      <th>PC34</th>\n",
       "      <th>PC35</th>\n",
       "      <th>PC36</th>\n",
       "      <th>PC37</th>\n",
       "      <th>PC38</th>\n",
       "      <th>PC39</th>\n",
       "      <th>PC40</th>\n",
       "      <th>PC41</th>\n",
       "      <th>PC42</th>\n",
       "      <th>PC43</th>\n",
       "      <th>PC44</th>\n",
       "      <th>PC45</th>\n",
       "      <th>PC46</th>\n",
       "      <th>PC47</th>\n",
       "      <th>PC48</th>\n",
       "      <th>PC49</th>\n",
       "      <th>PC50</th>\n",
       "      <th>PC51</th>\n",
       "      <th>PC52</th>\n",
       "      <th>PC53</th>\n",
       "      <th>PC54</th>\n",
       "      <th>PC55</th>\n",
       "      <th>PC56</th>\n",
       "      <th>loan_status</th>\n",
       "    </tr>\n",
       "  </thead>\n",
       "  <tbody>\n",
       "    <tr>\n",
       "      <th>0</th>\n",
       "      <td>-5.499907</td>\n",
       "      <td>-1.205715</td>\n",
       "      <td>-2.182376</td>\n",
       "      <td>-2.218342</td>\n",
       "      <td>-0.586312</td>\n",
       "      <td>0.313792</td>\n",
       "      <td>1.416580</td>\n",
       "      <td>1.932987</td>\n",
       "      <td>-0.370080</td>\n",
       "      <td>-0.080455</td>\n",
       "      <td>-0.267672</td>\n",
       "      <td>-0.340905</td>\n",
       "      <td>0.513647</td>\n",
       "      <td>-0.270288</td>\n",
       "      <td>0.266673</td>\n",
       "      <td>-0.179253</td>\n",
       "      <td>0.053509</td>\n",
       "      <td>0.052550</td>\n",
       "      <td>0.270944</td>\n",
       "      <td>0.330958</td>\n",
       "      <td>-0.356417</td>\n",
       "      <td>-0.136500</td>\n",
       "      <td>-0.265705</td>\n",
       "      <td>-0.281402</td>\n",
       "      <td>0.205723</td>\n",
       "      <td>-0.279214</td>\n",
       "      <td>0.370793</td>\n",
       "      <td>0.352084</td>\n",
       "      <td>0.369530</td>\n",
       "      <td>0.785531</td>\n",
       "      <td>0.064746</td>\n",
       "      <td>-0.463218</td>\n",
       "      <td>-0.622708</td>\n",
       "      <td>1.582306</td>\n",
       "      <td>0.244606</td>\n",
       "      <td>-0.219467</td>\n",
       "      <td>0.142816</td>\n",
       "      <td>0.097025</td>\n",
       "      <td>-0.133984</td>\n",
       "      <td>-0.101086</td>\n",
       "      <td>-0.252681</td>\n",
       "      <td>-0.040431</td>\n",
       "      <td>-0.043049</td>\n",
       "      <td>-0.022120</td>\n",
       "      <td>-0.004085</td>\n",
       "      <td>0.000029</td>\n",
       "      <td>0.006602</td>\n",
       "      <td>0.001458</td>\n",
       "      <td>0.002912</td>\n",
       "      <td>-0.003861</td>\n",
       "      <td>0.020244</td>\n",
       "      <td>-1.682214e-16</td>\n",
       "      <td>8.575692e-16</td>\n",
       "      <td>4.450163e-16</td>\n",
       "      <td>-1.451871e-16</td>\n",
       "      <td>-1.257411e-15</td>\n",
       "      <td>NaN</td>\n",
       "    </tr>\n",
       "    <tr>\n",
       "      <th>1</th>\n",
       "      <td>-4.874413</td>\n",
       "      <td>-0.968740</td>\n",
       "      <td>-1.420227</td>\n",
       "      <td>-1.666877</td>\n",
       "      <td>-0.227952</td>\n",
       "      <td>0.617173</td>\n",
       "      <td>1.500371</td>\n",
       "      <td>1.996034</td>\n",
       "      <td>-0.649757</td>\n",
       "      <td>-0.193963</td>\n",
       "      <td>-0.086786</td>\n",
       "      <td>-0.380528</td>\n",
       "      <td>0.831702</td>\n",
       "      <td>-0.295770</td>\n",
       "      <td>0.310005</td>\n",
       "      <td>-0.194942</td>\n",
       "      <td>-0.174153</td>\n",
       "      <td>0.073314</td>\n",
       "      <td>0.254298</td>\n",
       "      <td>0.187490</td>\n",
       "      <td>-0.259245</td>\n",
       "      <td>-0.166303</td>\n",
       "      <td>-0.207455</td>\n",
       "      <td>-0.287294</td>\n",
       "      <td>0.428864</td>\n",
       "      <td>0.061022</td>\n",
       "      <td>0.480420</td>\n",
       "      <td>0.466008</td>\n",
       "      <td>0.290025</td>\n",
       "      <td>1.111207</td>\n",
       "      <td>-0.624971</td>\n",
       "      <td>-0.650226</td>\n",
       "      <td>-0.604372</td>\n",
       "      <td>1.872107</td>\n",
       "      <td>0.375887</td>\n",
       "      <td>-0.154055</td>\n",
       "      <td>0.266090</td>\n",
       "      <td>0.030434</td>\n",
       "      <td>-0.038495</td>\n",
       "      <td>-0.190720</td>\n",
       "      <td>-0.128761</td>\n",
       "      <td>0.001411</td>\n",
       "      <td>-0.058237</td>\n",
       "      <td>-0.027227</td>\n",
       "      <td>-0.002220</td>\n",
       "      <td>-0.000238</td>\n",
       "      <td>0.000893</td>\n",
       "      <td>0.002109</td>\n",
       "      <td>0.000518</td>\n",
       "      <td>0.003542</td>\n",
       "      <td>-0.018584</td>\n",
       "      <td>6.812522e-16</td>\n",
       "      <td>-1.115757e-15</td>\n",
       "      <td>2.813015e-17</td>\n",
       "      <td>-1.665879e-17</td>\n",
       "      <td>-7.182774e-16</td>\n",
       "      <td>NaN</td>\n",
       "    </tr>\n",
       "    <tr>\n",
       "      <th>2</th>\n",
       "      <td>-0.474615</td>\n",
       "      <td>-0.741009</td>\n",
       "      <td>-0.455139</td>\n",
       "      <td>0.431153</td>\n",
       "      <td>-1.668758</td>\n",
       "      <td>1.293682</td>\n",
       "      <td>2.314187</td>\n",
       "      <td>-1.771169</td>\n",
       "      <td>1.629423</td>\n",
       "      <td>-0.007530</td>\n",
       "      <td>0.405114</td>\n",
       "      <td>1.014868</td>\n",
       "      <td>-0.480224</td>\n",
       "      <td>0.510836</td>\n",
       "      <td>-0.596934</td>\n",
       "      <td>-0.220994</td>\n",
       "      <td>-0.156613</td>\n",
       "      <td>-0.268649</td>\n",
       "      <td>0.254540</td>\n",
       "      <td>0.343654</td>\n",
       "      <td>0.209378</td>\n",
       "      <td>0.923085</td>\n",
       "      <td>0.918147</td>\n",
       "      <td>0.556957</td>\n",
       "      <td>-0.282098</td>\n",
       "      <td>-1.901848</td>\n",
       "      <td>0.159438</td>\n",
       "      <td>-1.709892</td>\n",
       "      <td>4.065223</td>\n",
       "      <td>0.152695</td>\n",
       "      <td>-1.664147</td>\n",
       "      <td>-0.416149</td>\n",
       "      <td>0.181406</td>\n",
       "      <td>-0.344572</td>\n",
       "      <td>-0.159117</td>\n",
       "      <td>0.159005</td>\n",
       "      <td>0.055661</td>\n",
       "      <td>0.016846</td>\n",
       "      <td>0.051481</td>\n",
       "      <td>-0.113042</td>\n",
       "      <td>-0.030116</td>\n",
       "      <td>0.056820</td>\n",
       "      <td>0.061152</td>\n",
       "      <td>-0.006439</td>\n",
       "      <td>0.002421</td>\n",
       "      <td>-0.004980</td>\n",
       "      <td>-0.000547</td>\n",
       "      <td>-0.001825</td>\n",
       "      <td>0.000617</td>\n",
       "      <td>-0.000024</td>\n",
       "      <td>0.000019</td>\n",
       "      <td>-1.092406e-15</td>\n",
       "      <td>6.922664e-15</td>\n",
       "      <td>5.985188e-16</td>\n",
       "      <td>4.227415e-18</td>\n",
       "      <td>-2.973743e-16</td>\n",
       "      <td>NaN</td>\n",
       "    </tr>\n",
       "    <tr>\n",
       "      <th>3</th>\n",
       "      <td>-4.115365</td>\n",
       "      <td>-3.459696</td>\n",
       "      <td>-0.068382</td>\n",
       "      <td>0.357822</td>\n",
       "      <td>0.276933</td>\n",
       "      <td>-0.149120</td>\n",
       "      <td>0.012762</td>\n",
       "      <td>1.196528</td>\n",
       "      <td>0.117792</td>\n",
       "      <td>-0.332970</td>\n",
       "      <td>0.684689</td>\n",
       "      <td>-0.722445</td>\n",
       "      <td>0.529834</td>\n",
       "      <td>-0.008887</td>\n",
       "      <td>0.498351</td>\n",
       "      <td>0.002349</td>\n",
       "      <td>0.008101</td>\n",
       "      <td>-0.131801</td>\n",
       "      <td>0.049082</td>\n",
       "      <td>-0.154004</td>\n",
       "      <td>-0.273191</td>\n",
       "      <td>0.349494</td>\n",
       "      <td>-0.252403</td>\n",
       "      <td>-0.201905</td>\n",
       "      <td>0.830858</td>\n",
       "      <td>0.948162</td>\n",
       "      <td>-0.459111</td>\n",
       "      <td>1.251145</td>\n",
       "      <td>1.205946</td>\n",
       "      <td>1.072906</td>\n",
       "      <td>-0.013543</td>\n",
       "      <td>-0.549362</td>\n",
       "      <td>-0.587070</td>\n",
       "      <td>-0.666658</td>\n",
       "      <td>-0.409837</td>\n",
       "      <td>-0.144214</td>\n",
       "      <td>-0.372014</td>\n",
       "      <td>0.020244</td>\n",
       "      <td>-0.059728</td>\n",
       "      <td>1.101119</td>\n",
       "      <td>0.716901</td>\n",
       "      <td>-0.499768</td>\n",
       "      <td>0.204819</td>\n",
       "      <td>-0.075164</td>\n",
       "      <td>0.021337</td>\n",
       "      <td>0.000885</td>\n",
       "      <td>-0.012588</td>\n",
       "      <td>-0.000647</td>\n",
       "      <td>0.006155</td>\n",
       "      <td>-0.000015</td>\n",
       "      <td>-0.000158</td>\n",
       "      <td>1.707160e-16</td>\n",
       "      <td>1.582921e-15</td>\n",
       "      <td>7.851221e-17</td>\n",
       "      <td>-1.970128e-16</td>\n",
       "      <td>-1.337433e-16</td>\n",
       "      <td>NaN</td>\n",
       "    </tr>\n",
       "    <tr>\n",
       "      <th>4</th>\n",
       "      <td>-0.175045</td>\n",
       "      <td>3.329023</td>\n",
       "      <td>-1.790197</td>\n",
       "      <td>-0.235126</td>\n",
       "      <td>3.659601</td>\n",
       "      <td>0.157209</td>\n",
       "      <td>-0.579365</td>\n",
       "      <td>-0.469615</td>\n",
       "      <td>-0.395806</td>\n",
       "      <td>0.232965</td>\n",
       "      <td>-0.879758</td>\n",
       "      <td>1.213520</td>\n",
       "      <td>-0.293554</td>\n",
       "      <td>-0.214495</td>\n",
       "      <td>-0.540461</td>\n",
       "      <td>0.003216</td>\n",
       "      <td>-0.140359</td>\n",
       "      <td>0.001932</td>\n",
       "      <td>-0.124877</td>\n",
       "      <td>0.133851</td>\n",
       "      <td>-0.142855</td>\n",
       "      <td>-0.569182</td>\n",
       "      <td>0.584616</td>\n",
       "      <td>0.260694</td>\n",
       "      <td>-0.845588</td>\n",
       "      <td>-1.412163</td>\n",
       "      <td>0.767463</td>\n",
       "      <td>-1.346244</td>\n",
       "      <td>-0.744377</td>\n",
       "      <td>-1.733424</td>\n",
       "      <td>-0.845924</td>\n",
       "      <td>0.570100</td>\n",
       "      <td>0.943585</td>\n",
       "      <td>0.951988</td>\n",
       "      <td>0.252298</td>\n",
       "      <td>-0.227369</td>\n",
       "      <td>0.948041</td>\n",
       "      <td>0.107471</td>\n",
       "      <td>-0.291372</td>\n",
       "      <td>0.703441</td>\n",
       "      <td>0.201111</td>\n",
       "      <td>-0.381943</td>\n",
       "      <td>0.150372</td>\n",
       "      <td>-0.076084</td>\n",
       "      <td>0.009976</td>\n",
       "      <td>-0.002251</td>\n",
       "      <td>0.001007</td>\n",
       "      <td>-0.002732</td>\n",
       "      <td>0.009365</td>\n",
       "      <td>0.000010</td>\n",
       "      <td>-0.000007</td>\n",
       "      <td>5.640808e-16</td>\n",
       "      <td>6.436078e-16</td>\n",
       "      <td>8.883929e-16</td>\n",
       "      <td>1.026442e-16</td>\n",
       "      <td>-5.191863e-17</td>\n",
       "      <td>NaN</td>\n",
       "    </tr>\n",
       "  </tbody>\n",
       "</table>\n",
       "</div>"
      ],
      "text/plain": [
       "        PC1       PC2       PC3       PC4       PC5       PC6       PC7  \\\n",
       "0 -5.499907 -1.205715 -2.182376 -2.218342 -0.586312  0.313792  1.416580   \n",
       "1 -4.874413 -0.968740 -1.420227 -1.666877 -0.227952  0.617173  1.500371   \n",
       "2 -0.474615 -0.741009 -0.455139  0.431153 -1.668758  1.293682  2.314187   \n",
       "3 -4.115365 -3.459696 -0.068382  0.357822  0.276933 -0.149120  0.012762   \n",
       "4 -0.175045  3.329023 -1.790197 -0.235126  3.659601  0.157209 -0.579365   \n",
       "\n",
       "        PC8       PC9      PC10      PC11      PC12      PC13      PC14  \\\n",
       "0  1.932987 -0.370080 -0.080455 -0.267672 -0.340905  0.513647 -0.270288   \n",
       "1  1.996034 -0.649757 -0.193963 -0.086786 -0.380528  0.831702 -0.295770   \n",
       "2 -1.771169  1.629423 -0.007530  0.405114  1.014868 -0.480224  0.510836   \n",
       "3  1.196528  0.117792 -0.332970  0.684689 -0.722445  0.529834 -0.008887   \n",
       "4 -0.469615 -0.395806  0.232965 -0.879758  1.213520 -0.293554 -0.214495   \n",
       "\n",
       "       PC15      PC16      PC17      PC18      PC19      PC20      PC21  \\\n",
       "0  0.266673 -0.179253  0.053509  0.052550  0.270944  0.330958 -0.356417   \n",
       "1  0.310005 -0.194942 -0.174153  0.073314  0.254298  0.187490 -0.259245   \n",
       "2 -0.596934 -0.220994 -0.156613 -0.268649  0.254540  0.343654  0.209378   \n",
       "3  0.498351  0.002349  0.008101 -0.131801  0.049082 -0.154004 -0.273191   \n",
       "4 -0.540461  0.003216 -0.140359  0.001932 -0.124877  0.133851 -0.142855   \n",
       "\n",
       "       PC22      PC23      PC24      PC25      PC26      PC27      PC28  \\\n",
       "0 -0.136500 -0.265705 -0.281402  0.205723 -0.279214  0.370793  0.352084   \n",
       "1 -0.166303 -0.207455 -0.287294  0.428864  0.061022  0.480420  0.466008   \n",
       "2  0.923085  0.918147  0.556957 -0.282098 -1.901848  0.159438 -1.709892   \n",
       "3  0.349494 -0.252403 -0.201905  0.830858  0.948162 -0.459111  1.251145   \n",
       "4 -0.569182  0.584616  0.260694 -0.845588 -1.412163  0.767463 -1.346244   \n",
       "\n",
       "       PC29      PC30      PC31      PC32      PC33      PC34      PC35  \\\n",
       "0  0.369530  0.785531  0.064746 -0.463218 -0.622708  1.582306  0.244606   \n",
       "1  0.290025  1.111207 -0.624971 -0.650226 -0.604372  1.872107  0.375887   \n",
       "2  4.065223  0.152695 -1.664147 -0.416149  0.181406 -0.344572 -0.159117   \n",
       "3  1.205946  1.072906 -0.013543 -0.549362 -0.587070 -0.666658 -0.409837   \n",
       "4 -0.744377 -1.733424 -0.845924  0.570100  0.943585  0.951988  0.252298   \n",
       "\n",
       "       PC36      PC37      PC38      PC39      PC40      PC41      PC42  \\\n",
       "0 -0.219467  0.142816  0.097025 -0.133984 -0.101086 -0.252681 -0.040431   \n",
       "1 -0.154055  0.266090  0.030434 -0.038495 -0.190720 -0.128761  0.001411   \n",
       "2  0.159005  0.055661  0.016846  0.051481 -0.113042 -0.030116  0.056820   \n",
       "3 -0.144214 -0.372014  0.020244 -0.059728  1.101119  0.716901 -0.499768   \n",
       "4 -0.227369  0.948041  0.107471 -0.291372  0.703441  0.201111 -0.381943   \n",
       "\n",
       "       PC43      PC44      PC45      PC46      PC47      PC48      PC49  \\\n",
       "0 -0.043049 -0.022120 -0.004085  0.000029  0.006602  0.001458  0.002912   \n",
       "1 -0.058237 -0.027227 -0.002220 -0.000238  0.000893  0.002109  0.000518   \n",
       "2  0.061152 -0.006439  0.002421 -0.004980 -0.000547 -0.001825  0.000617   \n",
       "3  0.204819 -0.075164  0.021337  0.000885 -0.012588 -0.000647  0.006155   \n",
       "4  0.150372 -0.076084  0.009976 -0.002251  0.001007 -0.002732  0.009365   \n",
       "\n",
       "       PC50      PC51          PC52          PC53          PC54          PC55  \\\n",
       "0 -0.003861  0.020244 -1.682214e-16  8.575692e-16  4.450163e-16 -1.451871e-16   \n",
       "1  0.003542 -0.018584  6.812522e-16 -1.115757e-15  2.813015e-17 -1.665879e-17   \n",
       "2 -0.000024  0.000019 -1.092406e-15  6.922664e-15  5.985188e-16  4.227415e-18   \n",
       "3 -0.000015 -0.000158  1.707160e-16  1.582921e-15  7.851221e-17 -1.970128e-16   \n",
       "4  0.000010 -0.000007  5.640808e-16  6.436078e-16  8.883929e-16  1.026442e-16   \n",
       "\n",
       "           PC56  loan_status  \n",
       "0 -1.257411e-15          NaN  \n",
       "1 -7.182774e-16          NaN  \n",
       "2 -2.973743e-16          NaN  \n",
       "3 -1.337433e-16          NaN  \n",
       "4 -5.191863e-17          NaN  "
      ]
     },
     "execution_count": 112,
     "metadata": {},
     "output_type": "execute_result"
    }
   ],
   "source": [
    "Xs_pcs_df = pd.DataFrame(Xs_pcs, columns=['PC'+str(i) for i in range(1, Xs_pcs.shape[1]+1)])\n",
    "Xs_pcs_df.head()\n",
    "Xs_pcs_df['loan_status'] = yt\n",
    "Xs_pcs_df.head()\n",
    "#Xs_pcs_df['loan_status']\n",
    "#yt"
   ]
  },
  {
   "cell_type": "code",
   "execution_count": 88,
   "metadata": {
    "collapsed": false
   },
   "outputs": [
    {
     "data": {
      "image/png": "[encoded data removed]",
      "text/plain": [
       "<matplotlib.figure.Figure at 0x1133fdd8>"
      ]
     },
     "metadata": {},
     "output_type": "display_data"
    }
   ],
   "source": [
    "fig, ax = plt.subplots(figsize=(8,6))\n",
    "ax.plot(range(1, Xs.shape[1]+1), Xs_pca.explained_variance_ratio_, lw=2)\n",
    "ax.scatter(range(1, Xs.shape[1]+1), Xs_pca.explained_variance_ratio_, s=100)\n",
    "ax.set_title('wine data: explained variance of components')\n",
    "ax.set_xlabel('principal component')\n",
    "ax.set_ylabel('explained variance')\n",
    "plt.show()"
   ]
  },
  {
   "cell_type": "code",
   "execution_count": 89,
   "metadata": {
    "collapsed": true
   },
   "outputs": [],
   "source": [
    "def horn_parallel_analysis(shape, iters=1000, percentile=95):\n",
    "    pca = PCA(n_components=shape[1])\n",
    "    eigenvals = []\n",
    "    for i in range(iters):\n",
    "        rdata = np.random.normal(0,1,size=shape)\n",
    "        pca.fit(rdata)\n",
    "        eigenvals.append(pca.explained_variance_)\n",
    "    eigenvals = np.array(eigenvals)\n",
    "    return np.percentile(eigenvals, percentile, axis=0)"
   ]
  },
  {
   "cell_type": "code",
   "execution_count": 90,
   "metadata": {
    "collapsed": false
   },
   "outputs": [
    {
     "data": {
      "text/plain": [
       "array([  4.08888355e+00,   3.68568242e+00,   3.36330069e+00,\n",
       "         3.15604359e+00,   2.94053629e+00,   2.74623565e+00,\n",
       "         2.60246184e+00,   2.45759610e+00,   2.31749636e+00,\n",
       "         2.18662798e+00,   2.05411342e+00,   1.94779363e+00,\n",
       "         1.84129970e+00,   1.74480708e+00,   1.64324344e+00,\n",
       "         1.54667083e+00,   1.45423715e+00,   1.37767243e+00,\n",
       "         1.29871949e+00,   1.21774340e+00,   1.14840531e+00,\n",
       "         1.08129123e+00,   1.00686204e+00,   9.46611511e-01,\n",
       "         8.85480625e-01,   8.23813889e-01,   7.71460552e-01,\n",
       "         7.13519806e-01,   6.64253567e-01,   6.11614791e-01,\n",
       "         5.63139990e-01,   5.21191437e-01,   4.81975450e-01,\n",
       "         4.35225772e-01,   3.96810621e-01,   3.60992013e-01,\n",
       "         3.28026748e-01,   2.93438239e-01,   2.63254890e-01,\n",
       "         2.32870159e-01,   2.04460565e-01,   1.80786976e-01,\n",
       "         1.56961318e-01,   1.33609889e-01,   1.14277517e-01,\n",
       "         9.48105324e-02,   7.65397482e-02,   6.20290120e-02,\n",
       "         4.77758747e-02,   3.68102855e-02,   2.61511884e-02,\n",
       "         1.76293778e-02,   1.07708175e-02,   5.63600871e-03,\n",
       "         1.96745888e-03,   7.48495580e-31])"
      ]
     },
     "execution_count": 90,
     "metadata": {},
     "output_type": "execute_result"
    }
   ],
   "source": [
    "Xs_pa = horn_parallel_analysis(Xs.shape, percentile=95)\n",
    "Xs_pa"
   ]
  },
  {
   "cell_type": "code",
   "execution_count": 91,
   "metadata": {
    "collapsed": false
   },
   "outputs": [
    {
     "data": {
      "image/png": "[encoded data removed]",
      "text/plain": [
       "<matplotlib.figure.Figure at 0x1134f898>"
      ]
     },
     "metadata": {},
     "output_type": "display_data"
    }
   ],
   "source": [
    "fig, ax = plt.subplots(figsize=(8,6))\n",
    "\n",
    "ax.plot(range(1, Xs.shape[1]+1), Xs_pca.explained_variance_, lw=2)\n",
    "ax.scatter(range(1, Xs.shape[1]+1), Xs_pca.explained_variance_, s=50)\n",
    "\n",
    "ax.plot(range(1, len(Xs_pa)+1), Xs_pa, lw=2, color='darkred')\n",
    "ax.scatter(range(1, len(Xs_pa)+1), Xs_pa, s=40, color='darkred')\n",
    "\n",
    "\n",
    "ax.set_title('Horns parallel analysis on wine data components')\n",
    "ax.set_xlabel('principal component')\n",
    "ax.set_ylabel('eigenvalue')\n",
    "plt.show()"
   ]
  },
  {
   "cell_type": "code",
   "execution_count": 92,
   "metadata": {
    "collapsed": false
   },
   "outputs": [
    {
     "data": {
      "text/plain": [
       "30"
      ]
     },
     "execution_count": 92,
     "metadata": {},
     "output_type": "execute_result"
    }
   ],
   "source": [
    "columns_ = Xs_pcs_df.columns.tolist()\n",
    "ypc = Xs_pcs_df.loan_status.values\n",
    "Xpc = Xs_pcs_df[[i for i in columns_ if i<'PC37']]\n",
    "Xpc = Xpc.values\n",
    "np.size(Xpc[0])"
   ]
  },
  {
   "cell_type": "code",
   "execution_count": 93,
   "metadata": {
    "collapsed": false
   },
   "outputs": [
    {
     "ename": "ValueError",
     "evalue": "Input contains NaN, infinity or a value too large for dtype('float64').",
     "output_type": "error",
     "traceback": [
      "\u001b[1;31m---------------------------------------------------------------------------\u001b[0m",
      "\u001b[1;31mValueError\u001b[0m                                Traceback (most recent call last)",
      "\u001b[1;32m<ipython-input-93-9759086cd763>\u001b[0m in \u001b[0;36m<module>\u001b[1;34m()\u001b[0m\n\u001b[1;32m----> 1\u001b[1;33m \u001b[0mmodel\u001b[0m\u001b[1;33m.\u001b[0m\u001b[0mfit\u001b[0m\u001b[1;33m(\u001b[0m\u001b[0mXpc\u001b[0m\u001b[1;33m,\u001b[0m \u001b[0mypc\u001b[0m\u001b[1;33m)\u001b[0m\u001b[1;33m\u001b[0m\u001b[0m\n\u001b[0m",
      "\u001b[1;32mC:\\Users\\zyousefi.ORADEV\\AppData\\Local\\Enthought\\Canopy\\User\\lib\\site-packages\\sklearn\\ensemble\\gradient_boosting.pyc\u001b[0m in \u001b[0;36mfit\u001b[1;34m(self, X, y, sample_weight, monitor)\u001b[0m\n\u001b[0;32m    971\u001b[0m \u001b[1;33m\u001b[0m\u001b[0m\n\u001b[0;32m    972\u001b[0m         \u001b[1;31m# Check input\u001b[0m\u001b[1;33m\u001b[0m\u001b[1;33m\u001b[0m\u001b[0m\n\u001b[1;32m--> 973\u001b[1;33m         \u001b[0mX\u001b[0m\u001b[1;33m,\u001b[0m \u001b[0my\u001b[0m \u001b[1;33m=\u001b[0m \u001b[0mcheck_X_y\u001b[0m\u001b[1;33m(\u001b[0m\u001b[0mX\u001b[0m\u001b[1;33m,\u001b[0m \u001b[0my\u001b[0m\u001b[1;33m,\u001b[0m \u001b[0maccept_sparse\u001b[0m\u001b[1;33m=\u001b[0m\u001b[1;33m[\u001b[0m\u001b[1;34m'csr'\u001b[0m\u001b[1;33m,\u001b[0m \u001b[1;34m'csc'\u001b[0m\u001b[1;33m,\u001b[0m \u001b[1;34m'coo'\u001b[0m\u001b[1;33m]\u001b[0m\u001b[1;33m,\u001b[0m \u001b[0mdtype\u001b[0m\u001b[1;33m=\u001b[0m\u001b[0mDTYPE\u001b[0m\u001b[1;33m)\u001b[0m\u001b[1;33m\u001b[0m\u001b[0m\n\u001b[0m\u001b[0;32m    974\u001b[0m         \u001b[0mn_samples\u001b[0m\u001b[1;33m,\u001b[0m \u001b[0mself\u001b[0m\u001b[1;33m.\u001b[0m\u001b[0mn_features\u001b[0m \u001b[1;33m=\u001b[0m \u001b[0mX\u001b[0m\u001b[1;33m.\u001b[0m\u001b[0mshape\u001b[0m\u001b[1;33m\u001b[0m\u001b[0m\n\u001b[0;32m    975\u001b[0m         \u001b[1;32mif\u001b[0m \u001b[0msample_weight\u001b[0m \u001b[1;32mis\u001b[0m \u001b[0mNone\u001b[0m\u001b[1;33m:\u001b[0m\u001b[1;33m\u001b[0m\u001b[0m\n",
      "\u001b[1;32mC:\\Users\\zyousefi.ORADEV\\AppData\\Local\\Enthought\\Canopy\\User\\lib\\site-packages\\sklearn\\utils\\validation.pyc\u001b[0m in \u001b[0;36mcheck_X_y\u001b[1;34m(X, y, accept_sparse, dtype, order, copy, force_all_finite, ensure_2d, allow_nd, multi_output, ensure_min_samples, ensure_min_features, y_numeric, warn_on_dtype, estimator)\u001b[0m\n\u001b[0;32m    525\u001b[0m     \u001b[1;32melse\u001b[0m\u001b[1;33m:\u001b[0m\u001b[1;33m\u001b[0m\u001b[0m\n\u001b[0;32m    526\u001b[0m         \u001b[0my\u001b[0m \u001b[1;33m=\u001b[0m \u001b[0mcolumn_or_1d\u001b[0m\u001b[1;33m(\u001b[0m\u001b[0my\u001b[0m\u001b[1;33m,\u001b[0m \u001b[0mwarn\u001b[0m\u001b[1;33m=\u001b[0m\u001b[0mTrue\u001b[0m\u001b[1;33m)\u001b[0m\u001b[1;33m\u001b[0m\u001b[0m\n\u001b[1;32m--> 527\u001b[1;33m         \u001b[0m_assert_all_finite\u001b[0m\u001b[1;33m(\u001b[0m\u001b[0my\u001b[0m\u001b[1;33m)\u001b[0m\u001b[1;33m\u001b[0m\u001b[0m\n\u001b[0m\u001b[0;32m    528\u001b[0m     \u001b[1;32mif\u001b[0m \u001b[0my_numeric\u001b[0m \u001b[1;32mand\u001b[0m \u001b[0my\u001b[0m\u001b[1;33m.\u001b[0m\u001b[0mdtype\u001b[0m\u001b[1;33m.\u001b[0m\u001b[0mkind\u001b[0m \u001b[1;33m==\u001b[0m \u001b[1;34m'O'\u001b[0m\u001b[1;33m:\u001b[0m\u001b[1;33m\u001b[0m\u001b[0m\n\u001b[0;32m    529\u001b[0m         \u001b[0my\u001b[0m \u001b[1;33m=\u001b[0m \u001b[0my\u001b[0m\u001b[1;33m.\u001b[0m\u001b[0mastype\u001b[0m\u001b[1;33m(\u001b[0m\u001b[0mnp\u001b[0m\u001b[1;33m.\u001b[0m\u001b[0mfloat64\u001b[0m\u001b[1;33m)\u001b[0m\u001b[1;33m\u001b[0m\u001b[0m\n",
      "\u001b[1;32mC:\\Users\\zyousefi.ORADEV\\AppData\\Local\\Enthought\\Canopy\\User\\lib\\site-packages\\sklearn\\utils\\validation.pyc\u001b[0m in \u001b[0;36m_assert_all_finite\u001b[1;34m(X)\u001b[0m\n\u001b[0;32m     56\u001b[0m             and not np.isfinite(X).all()):\n\u001b[0;32m     57\u001b[0m         raise ValueError(\"Input contains NaN, infinity\"\n\u001b[1;32m---> 58\u001b[1;33m                          \" or a value too large for %r.\" % X.dtype)\n\u001b[0m\u001b[0;32m     59\u001b[0m \u001b[1;33m\u001b[0m\u001b[0m\n\u001b[0;32m     60\u001b[0m \u001b[1;33m\u001b[0m\u001b[0m\n",
      "\u001b[1;31mValueError\u001b[0m: Input contains NaN, infinity or a value too large for dtype('float64')."
     ]
    }
   ],
   "source": [
    "model.fit(Xpc, ypc)"
   ]
  },
  {
   "cell_type": "code",
   "execution_count": 47,
   "metadata": {
    "collapsed": true
   },
   "outputs": [],
   "source": [
    "yt_prob_pred = model.predict_proba(Xpc)"
   ]
  },
  {
   "cell_type": "code",
   "execution_count": 50,
   "metadata": {
    "collapsed": true
   },
   "outputs": [],
   "source": [
    "threshold_adjusted_test_preds = np.where(yt_prob_pred>=0.9, 1, 0)"
   ]
  },
  {
   "cell_type": "code",
   "execution_count": 51,
   "metadata": {
    "collapsed": true
   },
   "outputs": [],
   "source": [
    "test_predictions = threshold_adjusted_test_preds[:,1]"
   ]
  },
  {
   "cell_type": "code",
   "execution_count": null,
   "metadata": {
    "collapsed": true
   },
   "outputs": [],
   "source": []
  }
 ],
 "metadata": {
  "kernelspec": {
   "display_name": "Python 2",
   "language": "python",
   "name": "python2"
  },
  "language_info": {
   "codemirror_mode": {
    "name": "ipython",
    "version": 2
   },
   "file_extension": ".py",
   "mimetype": "text/x-python",
   "name": "python",
   "nbconvert_exporter": "python",
   "pygments_lexer": "ipython2",
   "version": "2.7.11"
  }
 },
 "nbformat": 4,
 "nbformat_minor": 0
}
