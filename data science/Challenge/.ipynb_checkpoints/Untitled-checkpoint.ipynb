{
 "cells": [
  {
   "cell_type": "code",
   "execution_count": null,
   "metadata": {
    "collapsed": true
   },
   "outputs": [],
   "source": [
    "dft = pd.read_csv(\"loan_testing_data.csv\").sample(frac=.2, random_state=1234)\n",
    "dft.shape\n",
    "\n",
    "X = df.drop(\"loan_status\", axis=1)\n",
    "y = df.loan_status\n",
    "\n",
    "term_dummies = pd.get_dummies(X.term, prefix=\"term:\")\n",
    "grade_dummies = pd.get_dummies(X.grade, prefix=\"grade:\")\n",
    "home_dummies = pd.get_dummies(X.home_ownership, prefix=\"home:\")\n",
    "verified_dummies = pd.get_dummies(X.verification_status, prefix=\"verify:\")\n",
    "purpose_dummies = pd.get_dummies(X.purpose, prefix=\"purpose\")\n",
    "dummies = pd.concat([grade_dummies,home_dummies,purpose_dummies, term_dummies, verified_dummies], axis=1)\n",
    "X.drop([\"term\", \"grade\", \"home_ownership\", \"verification_status\", \"purpose\"], axis=1, inplace=True)\n",
    "X = pd.concat([X,dummies], axis=1)\n",
    "X[\"emp_length\"] = X.emp_length.str.replace(\" years\", \"\").str.replace(\" year\", \"\").str.replace(\"< 1\", \"0\").str.replace(\"+\", \"\").str.replace(\"n/a\", \"0\")\n",
    "X[\"emp_length\"] = X.emp_length.astype(float)\n",
    "\n",
    "#test data\n",
    "Xt = dft.drop(\"loan_status\", axis=1)\n",
    "yt = dft.loan_status\n",
    "\n",
    "Xt.shape\n",
    "\n",
    "term_dummies_t = pd.get_dummies(Xt.term, prefix=\"term:\")\n",
    "grade_dummies_t = pd.get_dummies(Xt.grade, prefix=\"grade:\")\n",
    "home_dummies_t = pd.get_dummies(Xt.home_ownership, prefix=\"home:\")\n",
    "verified_dummies_t = pd.get_dummies(Xt.verification_status, prefix=\"verify:\")\n",
    "purpose_dummies_t = pd.get_dummies(Xt.purpose, prefix=\"purpose\")\n",
    "dummies_t = pd.concat([grade_dummies_t,home_dummies_t,purpose_dummies_t, term_dummies_t, verified_dummies_t], axis=1)\n",
    "Xt.drop([\"term\", \"grade\", \"home_ownership\", \"verification_status\", \"purpose\"], axis=1, inplace=True)\n",
    "Xt = pd.concat([Xt,dummies_t], axis=1)\n",
    "Xt[\"emp_length\"] = Xt.emp_length.str.replace(\" years\", \"\").str.replace(\" year\", \"\").str.replace(\"< 1\", \"0\").str.replace(\"+\", \"\").str.replace(\"n/a\", \"0\")\n",
    "Xt[\"emp_length\"] = Xt.emp_length.astype(float)\n",
    "for i in X.columns:\n",
    "    if i not in Xt.columns:\n",
    "        print i\n",
    "for i in X.columns:\n",
    "    if i not in Xt.columns:\n",
    "        X.drop(i, axis=1, inplace=True)\n",
    "from sklearn.preprocessing import StandardScaler\n",
    "scale = StandardScaler()\n",
    "Xs = scale.fit_transform(X)\n",
    "\n",
    "Xts = scale.transform(Xt)\n",
    "\n",
    "from sklearn.linear_model import LogisticRegression\n",
    "logreg = LogisticRegression()\n",
    "logreg.fit(Xs, y)\n",
    "\n",
    "logreg.score(Xts, yt)\n",
    "\n",
    "logreg.predict_proba(Xts)\t"
   ]
  }
 ],
 "metadata": {
  "kernelspec": {
   "display_name": "Python 2",
   "language": "python",
   "name": "python2"
  },
  "language_info": {
   "codemirror_mode": {
    "name": "ipython",
    "version": 2
   },
   "file_extension": ".py",
   "mimetype": "text/x-python",
   "name": "python",
   "nbconvert_exporter": "python",
   "pygments_lexer": "ipython2",
   "version": "2.7.11"
  }
 },
 "nbformat": 4,
 "nbformat_minor": 0
}
