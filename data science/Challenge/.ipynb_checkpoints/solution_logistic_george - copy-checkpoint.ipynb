{
 "cells": [
  {
   "cell_type": "code",
   "execution_count": 1,
   "metadata": {
    "collapsed": true
   },
   "outputs": [],
   "source": [
    "import pandas as pd\n",
    "import numpy as np\n",
    "import matplotlib.pyplot as plt\n",
    "%matplotlib inline\n",
    "import seaborn as sb\n",
    "pd.set_option(\"max.columns\", 100)\n",
    "pd.set_option(\"max.colwidth\", 100)"
   ]
  },
  {
   "cell_type": "code",
   "execution_count": 5,
   "metadata": {
    "collapsed": false
   },
   "outputs": [
    {
     "name": "stdout",
     "output_type": "stream",
     "text": [
      "home:_NONE\n"
     ]
    }
   ],
   "source": [
    "df = pd.read_csv(\"loan_training_data.csv\")\n",
    "df.shape\n",
    "\n",
    "X = df.drop(\"loan_status\", axis=1)\n",
    "y = df.loan_status\n",
    "\n",
    "term_dummies = pd.get_dummies(X.term, prefix=\"term:\")\n",
    "grade_dummies = pd.get_dummies(X.grade, prefix=\"grade:\")\n",
    "home_dummies = pd.get_dummies(X.home_ownership, prefix=\"home:\")\n",
    "verified_dummies = pd.get_dummies(X.verification_status, prefix=\"verify:\")\n",
    "purpose_dummies = pd.get_dummies(X.purpose, prefix=\"purpose\")\n",
    "dummies = pd.concat([grade_dummies,home_dummies,purpose_dummies, term_dummies, verified_dummies], axis=1)\n",
    "X.drop([\"term\", \"grade\", \"home_ownership\", \"verification_status\", \"purpose\"], axis=1, inplace=True)\n",
    "X = pd.concat([X,dummies], axis=1)\n",
    "X[\"emp_length\"] = X.emp_length.str.replace(\" years\", \"\").str.replace(\" year\", \"\").str.replace(\"< 1\", \"0\").str.replace(\"+\", \"\").str.replace(\"n/a\", \"0\")\n",
    "X[\"emp_length\"] = X.emp_length.astype(float)\n",
    "\n",
    "#test data\n",
    "\n",
    "dft = pd.read_csv(\"loan_testing_data.csv\").sample(frac=.2, random_state=1234)\n",
    "dft.shape\n",
    "\n",
    "Xt = dft.drop(\"loan_status\", axis=1)\n",
    "yt = dft.loan_status\n",
    "\n",
    "Xt.shape\n",
    "\n",
    "term_dummies_t = pd.get_dummies(Xt.term, prefix=\"term:\")\n",
    "grade_dummies_t = pd.get_dummies(Xt.grade, prefix=\"grade:\")\n",
    "home_dummies_t = pd.get_dummies(Xt.home_ownership, prefix=\"home:\")\n",
    "verified_dummies_t = pd.get_dummies(Xt.verification_status, prefix=\"verify:\")\n",
    "purpose_dummies_t = pd.get_dummies(Xt.purpose, prefix=\"purpose\")\n",
    "dummies_t = pd.concat([grade_dummies_t,home_dummies_t,purpose_dummies_t, term_dummies_t, verified_dummies_t], axis=1)\n",
    "Xt.drop([\"term\", \"grade\", \"home_ownership\", \"verification_status\", \"purpose\"], axis=1, inplace=True)\n",
    "Xt = pd.concat([Xt,dummies_t], axis=1)\n",
    "Xt[\"emp_length\"] = Xt.emp_length.str.replace(\" years\", \"\").str.replace(\" year\", \"\").str.replace(\"< 1\", \"0\").str.replace(\"+\", \"\").str.replace(\"n/a\", \"0\")\n",
    "Xt[\"emp_length\"] = Xt.emp_length.astype(float)\n",
    "\n",
    "for i in X.columns:\n",
    "    if i not in Xt.columns:\n",
    "        print i\n",
    "for i in X.columns:\n",
    "    if i not in Xt.columns:\n",
    "        X.drop(i, axis=1, inplace=True)\n",
    "        \n",
    "from sklearn.preprocessing import StandardScaler\n",
    "scale = StandardScaler()\n",
    "Xs = scale.fit_transform(X)\n",
    "\n",
    "Xts = scale.transform(Xt)\n",
    "\n",
    "from sklearn.linear_model import LogisticRegression\n",
    "logreg = LogisticRegression()\n",
    "logreg.fit(Xs, y)\n",
    "\n",
    "logreg.score(Xts, yt)\n",
    "\n",
    "yt_prob_pred=logreg.predict_proba(Xts)\t"
   ]
  },
  {
   "cell_type": "code",
   "execution_count": null,
   "metadata": {
    "collapsed": true
   },
   "outputs": [],
   "source": [
    "from sklearn.metrics import confusion_matrix\n",
    "#Profit calculator\n",
    "def profit_calculator(y_test, y_pred):\n",
    "    cm = confusion_matrix(y_test, y_pred)\n",
    "    tp = cm[1,1]\n",
    "    fp = cm[0,1]\n",
    "    return 100*tp - 1000*fp"
   ]
  },
  {
   "cell_type": "code",
   "execution_count": 6,
   "metadata": {
    "collapsed": false
   },
   "outputs": [
    {
     "ename": "NameError",
     "evalue": "name 'profit_calculator' is not defined",
     "output_type": "error",
     "traceback": [
      "\u001b[1;31m---------------------------------------------------------------------------\u001b[0m",
      "\u001b[1;31mNameError\u001b[0m                                 Traceback (most recent call last)",
      "\u001b[1;32m<ipython-input-6-0966c3cb0c4e>\u001b[0m in \u001b[0;36m<module>\u001b[1;34m()\u001b[0m\n\u001b[0;32m      1\u001b[0m \u001b[0mthreshold_adjusted_test_preds\u001b[0m \u001b[1;33m=\u001b[0m \u001b[0mnp\u001b[0m\u001b[1;33m.\u001b[0m\u001b[0mwhere\u001b[0m\u001b[1;33m(\u001b[0m\u001b[0myt_prob_pred\u001b[0m\u001b[1;33m>=\u001b[0m\u001b[1;36m0.9\u001b[0m\u001b[1;33m,\u001b[0m \u001b[1;36m1\u001b[0m\u001b[1;33m,\u001b[0m \u001b[1;36m0\u001b[0m\u001b[1;33m)\u001b[0m\u001b[1;33m\u001b[0m\u001b[0m\n\u001b[0;32m      2\u001b[0m \u001b[0mtest_predictions\u001b[0m \u001b[1;33m=\u001b[0m \u001b[0mthreshold_adjusted_test_preds\u001b[0m\u001b[1;33m[\u001b[0m\u001b[1;33m:\u001b[0m\u001b[1;33m,\u001b[0m\u001b[1;36m1\u001b[0m\u001b[1;33m]\u001b[0m\u001b[1;33m\u001b[0m\u001b[0m\n\u001b[1;32m----> 3\u001b[1;33m \u001b[0mprofit_calculator\u001b[0m\u001b[1;33m(\u001b[0m\u001b[0myt\u001b[0m\u001b[1;33m,\u001b[0m \u001b[0mtest_predictions\u001b[0m\u001b[1;33m)\u001b[0m\u001b[1;33m\u001b[0m\u001b[0m\n\u001b[0m",
      "\u001b[1;31mNameError\u001b[0m: name 'profit_calculator' is not defined"
     ]
    }
   ],
   "source": [
    "threshold_adjusted_test_preds = np.where(yt_prob_pred>=0.9, 1, 0)\n",
    "test_predictions = threshold_adjusted_test_preds[:,1]\n",
    "profit_calculator(yt, test_predictions)"
   ]
  },
  {
   "cell_type": "code",
   "execution_count": null,
   "metadata": {
    "collapsed": true
   },
   "outputs": [],
   "source": []
  }
 ],
 "metadata": {
  "kernelspec": {
   "display_name": "Python 2",
   "language": "python",
   "name": "python2"
  },
  "language_info": {
   "codemirror_mode": {
    "name": "ipython",
    "version": 2
   },
   "file_extension": ".py",
   "mimetype": "text/x-python",
   "name": "python",
   "nbconvert_exporter": "python",
   "pygments_lexer": "ipython2",
   "version": "2.7.11"
  }
 },
 "nbformat": 4,
 "nbformat_minor": 0
}
